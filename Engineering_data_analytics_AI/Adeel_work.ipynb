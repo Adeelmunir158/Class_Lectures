{
 "cells": [
  {
   "cell_type": "code",
   "execution_count": 1,
   "metadata": {},
   "outputs": [],
   "source": [
    "import pandas as pd\n",
    "import numpy as np"
   ]
  },
  {
   "cell_type": "code",
   "execution_count": 2,
   "metadata": {},
   "outputs": [
    {
     "name": "stdout",
     "output_type": "stream",
     "text": [
      "Cronbach's alpha: (0.9146132562429197, array([0.846, 0.962]))\n"
     ]
    }
   ],
   "source": [
    "import pandas as pd\n",
    "from pingouin import reliability\n",
    "responses_df1 = pd.read_csv('Employer_Survey.CSV')\n",
    "# Calculate Cronbach's alpha\n",
    "alpha = reliability.cronbach_alpha(data=responses_df1)\n",
    "print(\"Cronbach's alpha:\", alpha)"
   ]
  },
  {
   "cell_type": "code",
   "execution_count": 3,
   "metadata": {},
   "outputs": [
    {
     "name": "stdout",
     "output_type": "stream",
     "text": [
      "Cronbach's alpha: (0.8376586191455032, array([0.776, 0.889]))\n"
     ]
    }
   ],
   "source": [
    "import pandas as pd\n",
    "from pingouin import reliability\n",
    "responses_df2 = pd.read_csv('Alumni_Survey.CSV')\n",
    "# Calculate Cronbach's alpha\n",
    "alpha = reliability.cronbach_alpha(data=responses_df2)\n",
    "print(\"Cronbach's alpha:\", alpha)"
   ]
  },
  {
   "cell_type": "code",
   "execution_count": 4,
   "metadata": {},
   "outputs": [
    {
     "name": "stdout",
     "output_type": "stream",
     "text": [
      "Requirement already satisfied: numpy_financial in c:\\users\\adeel\\miniconda3\\lib\\site-packages (1.0.0)Note: you may need to restart the kernel to use updated packages.\n",
      "\n",
      "Requirement already satisfied: numpy>=1.15 in c:\\users\\adeel\\miniconda3\\lib\\site-packages (from numpy_financial) (1.24.4)\n"
     ]
    }
   ],
   "source": [
    "# %pip install numpy_financial"
   ]
  },
  {
   "cell_type": "markdown",
   "metadata": {},
   "source": [
    "# Future value using present value, rate and periods"
   ]
  },
  {
   "cell_type": "code",
   "execution_count": 8,
   "metadata": {},
   "outputs": [
    {
     "name": "stdout",
     "output_type": "stream",
     "text": [
      "Future Value (after 5 years): Rs. 603407.16\n"
     ]
    }
   ],
   "source": [
    "# Function to calculate Future Value\n",
    "def future_value(present_value, rate, periods):\n",
    "    return present_value * (1 + rate) ** periods\n",
    "\n",
    "# Example Inputs\n",
    "pv = 300000       # Present Value (e.g., Rs. 1000)\n",
    "rate = 0.15     # Annual interest rate (5%)\n",
    "periods = 5     # Number of years\n",
    "\n",
    "# Calculations\n",
    "fv = future_value(pv, rate, periods)\n",
    "print(f\"Future Value (after {periods} years): Rs. {fv:.2f}\")\n",
    "\n",
    "\n"
   ]
  },
  {
   "cell_type": "markdown",
   "metadata": {},
   "source": [
    "# Present value calculation using future value, number of years and interest rate"
   ]
  },
  {
   "cell_type": "code",
   "execution_count": 9,
   "metadata": {},
   "outputs": [
    {
     "name": "stdout",
     "output_type": "stream",
     "text": [
      "Present Value required for target Rs. 300000: Rs. 149153.02\n"
     ]
    }
   ],
   "source": [
    "# Function to calculate Present Value\n",
    "def present_value(future_value, rate, periods):\n",
    "    return future_value / (1 + rate) ** periods\n",
    "\n",
    "# Example Inputs\n",
    "fv = 300000       # Future Value \n",
    "rate = 0.15     # Annual interest rate (15%)\n",
    "periods = 5     # Number of years\n",
    "\n",
    "pv= present_value(fv, rate, periods)\n",
    "print(f\"Present Value required for target Rs. {fv}: Rs. {pv:.2f}\")"
   ]
  },
  {
   "cell_type": "markdown",
   "metadata": {},
   "source": [
    "# Rate of return"
   ]
  },
  {
   "cell_type": "code",
   "execution_count": 5,
   "metadata": {},
   "outputs": [
    {
     "name": "stdout",
     "output_type": "stream",
     "text": [
      "Internal Rate of Return (IRR): 19.90%\n"
     ]
    }
   ],
   "source": [
    "import numpy_financial as npf\n",
    "\n",
    "# Cash flows\n",
    "cash_flows = [-1.2, 0.36, 0.36, 0.36, 0.36, 0.66]\n",
    "\n",
    "# Calculate IRR\n",
    "irr = npf.irr(cash_flows)\n",
    "\n",
    "# Display IRR as a percentage\n",
    "print(f\"Internal Rate of Return (IRR): {irr * 100:.2f}%\")\n"
   ]
  },
  {
   "cell_type": "code",
   "execution_count": 1,
   "metadata": {},
   "outputs": [
    {
     "name": "stdout",
     "output_type": "stream",
     "text": [
      "Collecting python-pptx\n",
      "  Downloading python_pptx-1.0.2-py3-none-any.whl.metadata (2.5 kB)\n",
      "Requirement already satisfied: Pillow>=3.3.2 in c:\\users\\adeel\\miniconda3\\lib\\site-packages (from python-pptx) (10.0.1)\n",
      "Collecting XlsxWriter>=0.5.7 (from python-pptx)\n",
      "  Downloading XlsxWriter-3.2.0-py3-none-any.whl.metadata (2.6 kB)\n",
      "Requirement already satisfied: lxml>=3.1.0 in c:\\users\\adeel\\miniconda3\\lib\\site-packages (from python-pptx) (5.2.2)\n",
      "Requirement already satisfied: typing-extensions>=4.9.0 in c:\\users\\adeel\\miniconda3\\lib\\site-packages (from python-pptx) (4.12.2)\n",
      "Downloading python_pptx-1.0.2-py3-none-any.whl (472 kB)\n",
      "Downloading XlsxWriter-3.2.0-py3-none-any.whl (159 kB)\n",
      "Installing collected packages: XlsxWriter, python-pptx\n",
      "Successfully installed XlsxWriter-3.2.0 python-pptx-1.0.2\n",
      "Note: you may need to restart the kernel to use updated packages.\n"
     ]
    }
   ],
   "source": [
    "pip install python-pptx"
   ]
  },
  {
   "cell_type": "code",
   "execution_count": null,
   "metadata": {},
   "outputs": [
    {
     "data": {
      "text/plain": [
       "'Research_Presentation.pptx'"
      ]
     },
     "execution_count": 3,
     "metadata": {},
     "output_type": "execute_result"
    }
   ],
   "source": [
    "# # Attempting to save the presentation again with a different method\n",
    "# from pptx import Presentation\n",
    "# from pptx.util import Pt\n",
    "\n",
    "# # Create a new presentation object\n",
    "# prs = Presentation()\n",
    "\n",
    "# # Slide content\n",
    "# slides_content = [\n",
    "#     (\"Introduction\", [\n",
    "#         \"Dr. Muhammad Adeel Munir\",\n",
    "#         \"Ph.D. in Engineering Management\",\n",
    "#         \"Lecturer, University of Engineering & Technology, Lahore\",\n",
    "#         \"Research Focus: Supply Chain Resilience, Data Science, Machine Learning\"\n",
    "#     ]),\n",
    "#     (\"Research Areas\", [\n",
    "#         \"Supply Chain & Operations Management\",\n",
    "#         \"Lean, Resilient, Sustainable Supply Chains\",\n",
    "#         \"Data-Driven Innovation\",\n",
    "#         \"Published in high-impact journals (Cumulative IF: 49.2)\"\n",
    "#     ]),\n",
    "#     (\"Data Science Expertise\", [\n",
    "#         \"Proficient in Python, R Studio, Power BI, Tableau\",\n",
    "#         \"Certified in Google Data Analytics, IBM Data Science\",\n",
    "#         \"Experienced in Machine Learning models: ARIMA, LSTM\",\n",
    "#         \"Hands-on in AI, IoT, Predictive Analytics\"\n",
    "#     ]),\n",
    "#     (\"Current Projects\", [\n",
    "#         \"Supply Chain Networks Optimization for Renewable Energy\",\n",
    "#         \"Productivity Enhancement via Quality Assurance\",\n",
    "#         \"Predictive Analytics in Environmental & Industrial Domains\"\n",
    "#     ]),\n",
    "#     (\"Future Directions\", [\n",
    "#         \"Building Resilient Agri-Food Supply Chains\",\n",
    "#         \"Advancing ML & DL for Supply Chain Optimization\",\n",
    "#         \"Leveraging Digital Twins for Real-Time Monitoring\",\n",
    "#         \"Policy Development for Sustainable Supply Chains\"\n",
    "#     ])\n",
    "# ]\n",
    "\n",
    "# # Add slides\n",
    "# for title, content in slides_content:\n",
    "#     slide = prs.slides.add_slide(prs.slide_layouts[1])  # Title and Content layout\n",
    "#     slide.shapes.title.text = title\n",
    "#     text_box = slide.shapes.add_textbox(Pt(50), Pt(150), Pt(600), Pt(400))\n",
    "#     text_frame = text_box.text_frame\n",
    "#     for line in content:\n",
    "#         p = text_frame.add_paragraph()\n",
    "#         p.text = line\n",
    "#         p.font.size = Pt(24)\n",
    "\n",
    "# # Save the presentation\n",
    "# presentation_file_path = \"Research_Presentation.pptx\"\n",
    "# prs.save(presentation_file_path)\n",
    "\n",
    "# presentation_file_path\n"
   ]
  },
  {
   "cell_type": "code",
   "execution_count": null,
   "metadata": {},
   "outputs": [],
   "source": [
    "import pandas as pd\n",
    "from semopy import Model, calc_stats\n",
    "\n",
    "# Load your data\n",
    "file_path = \"updated with corelations.xlsx\"\n",
    "data = pd.read_excel(file_path)\n",
    "\n",
    "# Define constructs\n",
    "constructs = {\n",
    "    \"Resilience\": [f\"Resilience_{i}\" for i in range(1, 23)],\n",
    "    \"Analytics\": [f\"Analytical_{i}\" for i in range(1, 10)],\n",
    "    \"Sustainability\": [\n",
    "        f\"Sustainabilit_eco_{i}\" for i in range(1, 5)\n",
    "    ] + [f\"Sustainabilit_envi_{i}\" for i in range(5, 9)] + [f\"Sustainabilit_soc_{i}\" for i in range(9, 14)],\n",
    "    \"Ambidexterity\": [f\"Ambidexterity_{i}\" for i in range(1, 8)],\n",
    "}\n",
    "\n",
    "# Filter the dataset based on constructs\n",
    "filtered_data = data[[col for cols in constructs.values() for col in cols]].dropna()\n",
    "\n",
    "# Define the SEM model\n",
    "model_desc = \"\"\"\n",
    "# Measurement model\n",
    "Resilience =~ Resilience_1 + Resilience_2 + Resilience_3 + Resilience_4 + Resilience_5 + Resilience_6 + Resilience_7 + Resilience_8 + Resilience_9 + Resilience_10 + Resilience_11 + Resilience_12 + Resilience_13 + Resilience_14 + Resilience_15 + Resilience_16 + Resilience_17 + Resilience_18 + Resilience_19 + Resilience_20 + Resilience_21 + Resilience_22\n",
    "Analytics =~ Analytical_1 + Analytical_2 + Analytical_3 + Analytical_4 + Analytical_5 + Analytical_6 + Analytical_7 + Analytical_8 + Analytical_9\n",
    "Sustainability =~ Sustainabilit_eco_1 + Sustainabilit_eco_2 + Sustainabilit_eco_3 + Sustainabilit_eco_4 + Sustainabilit_envi_5 + Sustainabilit_envi_6 + Sustainabilit_envi_7 + Sustainabilit_envi_8 + Sustainabilit_soc_9 + Sustainabilit_soc_10 + Sustainabilit_soc_11 + Sustainabilit_soc_12 + Sustainabilit_soc_13\n",
    "Ambidexterity =~ Ambidexterity_1 + Ambidexterity_2 + Ambidexterity_3 + Ambidexterity_4 + Ambidexterity_5 + Ambidexterity_6 + Ambidexterity_7\n",
    "\n",
    "# Structural model\n",
    "Sustainability ~ Resilience + Analytics\n",
    "Ambidexterity ~ Resilience + Analytics + Sustainability\n",
    "\"\"\"\n",
    "\n",
    "# Load the model and fit the data\n",
    "model = Model(model_desc)\n",
    "model.fit(filtered_data)\n",
    "\n",
    "# Inspect the results using the model's inspect method\n",
    "parameters = model.inspect(std_est=True)  # Use model.inspect() instead of standalone inspect\n",
    "reliability_stats = calc_stats(model)\n",
    "# Output results\n",
    "# Convert results to DataFrames\n",
    "parameters_df = pd.DataFrame(parameters)\n",
    "reliability_df = pd.DataFrame(reliability_stats.items(), columns=['Metric', 'Value'])\n",
    "\n",
    "# Save results to an Excel file\n",
    "# output_file = \"SEM_Results.xlsx\"\n",
    "# with pd.ExcelWriter(output_file, engine=\"xlsxwriter\") as writer:\n",
    "#     parameters_df.to_excel(writer, sheet_name=\"Model Parameters\", index=False)\n",
    "#     reliability_df.to_excel(writer, sheet_name=\"Reliability Stats\", index=False)\n",
    "\n",
    "# print(f\"Results saved to {output_file}\")"
   ]
  }
 ],
 "metadata": {
  "kernelspec": {
   "display_name": "base",
   "language": "python",
   "name": "python3"
  },
  "language_info": {
   "codemirror_mode": {
    "name": "ipython",
    "version": 3
   },
   "file_extension": ".py",
   "mimetype": "text/x-python",
   "name": "python",
   "nbconvert_exporter": "python",
   "pygments_lexer": "ipython3",
   "version": "3.11.5"
  }
 },
 "nbformat": 4,
 "nbformat_minor": 2
}
