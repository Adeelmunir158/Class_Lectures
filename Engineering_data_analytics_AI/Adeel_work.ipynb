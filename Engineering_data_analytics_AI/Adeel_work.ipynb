{
 "cells": [
  {
   "cell_type": "code",
   "execution_count": 1,
   "metadata": {},
   "outputs": [],
   "source": [
    "import pandas as pd\n",
    "import numpy as np"
   ]
  },
  {
   "cell_type": "code",
   "execution_count": 2,
   "metadata": {},
   "outputs": [
    {
     "name": "stdout",
     "output_type": "stream",
     "text": [
      "Cronbach's alpha: (0.9146132562429197, array([0.846, 0.962]))\n"
     ]
    }
   ],
   "source": [
    "import pandas as pd\n",
    "from pingouin import reliability\n",
    "responses_df1 = pd.read_csv('Employer_Survey.CSV')\n",
    "# Calculate Cronbach's alpha\n",
    "alpha = reliability.cronbach_alpha(data=responses_df1)\n",
    "print(\"Cronbach's alpha:\", alpha)"
   ]
  },
  {
   "cell_type": "code",
   "execution_count": 3,
   "metadata": {},
   "outputs": [
    {
     "name": "stdout",
     "output_type": "stream",
     "text": [
      "Cronbach's alpha: (0.8376586191455032, array([0.776, 0.889]))\n"
     ]
    }
   ],
   "source": [
    "import pandas as pd\n",
    "from pingouin import reliability\n",
    "responses_df2 = pd.read_csv('Alumni_Survey.CSV')\n",
    "# Calculate Cronbach's alpha\n",
    "alpha = reliability.cronbach_alpha(data=responses_df2)\n",
    "print(\"Cronbach's alpha:\", alpha)"
   ]
  },
  {
   "cell_type": "code",
   "execution_count": 4,
   "metadata": {},
   "outputs": [
    {
     "name": "stdout",
     "output_type": "stream",
     "text": [
      "Requirement already satisfied: numpy_financial in c:\\users\\adeel\\miniconda3\\lib\\site-packages (1.0.0)Note: you may need to restart the kernel to use updated packages.\n",
      "\n",
      "Requirement already satisfied: numpy>=1.15 in c:\\users\\adeel\\miniconda3\\lib\\site-packages (from numpy_financial) (1.24.4)\n"
     ]
    }
   ],
   "source": [
    "# %pip install numpy_financial"
   ]
  },
  {
   "cell_type": "markdown",
   "metadata": {},
   "source": [
    "# Future value using present value, rate and periods"
   ]
  },
  {
   "cell_type": "code",
   "execution_count": 8,
   "metadata": {},
   "outputs": [
    {
     "name": "stdout",
     "output_type": "stream",
     "text": [
      "Future Value (after 5 years): Rs. 603407.16\n"
     ]
    }
   ],
   "source": [
    "# Function to calculate Future Value\n",
    "def future_value(present_value, rate, periods):\n",
    "    return present_value * (1 + rate) ** periods\n",
    "\n",
    "# Example Inputs\n",
    "pv = 300000       # Present Value (e.g., Rs. 1000)\n",
    "rate = 0.15     # Annual interest rate (5%)\n",
    "periods = 5     # Number of years\n",
    "\n",
    "# Calculations\n",
    "fv = future_value(pv, rate, periods)\n",
    "print(f\"Future Value (after {periods} years): Rs. {fv:.2f}\")\n",
    "\n",
    "\n"
   ]
  },
  {
   "cell_type": "markdown",
   "metadata": {},
   "source": [
    "# Present value calculation using future value, number of years and interest rate"
   ]
  },
  {
   "cell_type": "code",
   "execution_count": 9,
   "metadata": {},
   "outputs": [
    {
     "name": "stdout",
     "output_type": "stream",
     "text": [
      "Present Value required for target Rs. 300000: Rs. 149153.02\n"
     ]
    }
   ],
   "source": [
    "# Function to calculate Present Value\n",
    "def present_value(future_value, rate, periods):\n",
    "    return future_value / (1 + rate) ** periods\n",
    "\n",
    "# Example Inputs\n",
    "fv = 300000       # Future Value \n",
    "rate = 0.15     # Annual interest rate (15%)\n",
    "periods = 5     # Number of years\n",
    "\n",
    "pv= present_value(fv, rate, periods)\n",
    "print(f\"Present Value required for target Rs. {fv}: Rs. {pv:.2f}\")"
   ]
  },
  {
   "cell_type": "markdown",
   "metadata": {},
   "source": [
    "# Rate of return"
   ]
  },
  {
   "cell_type": "code",
   "execution_count": 5,
   "metadata": {},
   "outputs": [
    {
     "name": "stdout",
     "output_type": "stream",
     "text": [
      "Internal Rate of Return (IRR): 19.90%\n"
     ]
    }
   ],
   "source": [
    "import numpy_financial as npf\n",
    "\n",
    "# Cash flows\n",
    "cash_flows = [-1.2, 0.36, 0.36, 0.36, 0.36, 0.66]\n",
    "\n",
    "# Calculate IRR\n",
    "irr = npf.irr(cash_flows)\n",
    "\n",
    "# Display IRR as a percentage\n",
    "print(f\"Internal Rate of Return (IRR): {irr * 100:.2f}%\")\n"
   ]
  }
 ],
 "metadata": {
  "kernelspec": {
   "display_name": "base",
   "language": "python",
   "name": "python3"
  },
  "language_info": {
   "codemirror_mode": {
    "name": "ipython",
    "version": 3
   },
   "file_extension": ".py",
   "mimetype": "text/x-python",
   "name": "python",
   "nbconvert_exporter": "python",
   "pygments_lexer": "ipython3",
   "version": "3.11.5"
  }
 },
 "nbformat": 4,
 "nbformat_minor": 2
}
