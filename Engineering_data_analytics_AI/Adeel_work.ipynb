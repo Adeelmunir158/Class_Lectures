{
 "cells": [
  {
   "cell_type": "code",
   "execution_count": 1,
   "metadata": {},
   "outputs": [],
   "source": [
    "import pandas as pd\n",
    "import numpy as np"
   ]
  },
  {
   "cell_type": "code",
   "execution_count": 2,
   "metadata": {},
   "outputs": [
    {
     "name": "stdout",
     "output_type": "stream",
     "text": [
      "Cronbach's alpha: (0.9146132562429197, array([0.846, 0.962]))\n"
     ]
    }
   ],
   "source": [
    "import pandas as pd\n",
    "from pingouin import reliability\n",
    "responses_df1 = pd.read_csv('Employer_Survey.CSV')\n",
    "# Calculate Cronbach's alpha\n",
    "alpha = reliability.cronbach_alpha(data=responses_df1)\n",
    "print(\"Cronbach's alpha:\", alpha)"
   ]
  },
  {
   "cell_type": "code",
   "execution_count": 3,
   "metadata": {},
   "outputs": [
    {
     "name": "stdout",
     "output_type": "stream",
     "text": [
      "Cronbach's alpha: (0.8376586191455032, array([0.776, 0.889]))\n"
     ]
    }
   ],
   "source": [
    "import pandas as pd\n",
    "from pingouin import reliability\n",
    "responses_df2 = pd.read_csv('Alumni_Survey.CSV')\n",
    "# Calculate Cronbach's alpha\n",
    "alpha = reliability.cronbach_alpha(data=responses_df2)\n",
    "print(\"Cronbach's alpha:\", alpha)"
   ]
  },
  {
   "cell_type": "code",
   "execution_count": 4,
   "metadata": {},
   "outputs": [
    {
     "name": "stdout",
     "output_type": "stream",
     "text": [
      "Requirement already satisfied: numpy_financial in c:\\users\\adeel\\miniconda3\\lib\\site-packages (1.0.0)Note: you may need to restart the kernel to use updated packages.\n",
      "\n",
      "Requirement already satisfied: numpy>=1.15 in c:\\users\\adeel\\miniconda3\\lib\\site-packages (from numpy_financial) (1.24.4)\n"
     ]
    }
   ],
   "source": [
    "# %pip install numpy_financial"
   ]
  },
  {
   "cell_type": "markdown",
   "metadata": {},
   "source": [
    "# Future value using present value, rate and periods"
   ]
  },
  {
   "cell_type": "code",
   "execution_count": 8,
   "metadata": {},
   "outputs": [
    {
     "name": "stdout",
     "output_type": "stream",
     "text": [
      "Future Value (after 5 years): Rs. 603407.16\n"
     ]
    }
   ],
   "source": [
    "# Function to calculate Future Value\n",
    "def future_value(present_value, rate, periods):\n",
    "    return present_value * (1 + rate) ** periods\n",
    "\n",
    "# Example Inputs\n",
    "pv = 300000       # Present Value (e.g., Rs. 1000)\n",
    "rate = 0.15     # Annual interest rate (5%)\n",
    "periods = 5     # Number of years\n",
    "\n",
    "# Calculations\n",
    "fv = future_value(pv, rate, periods)\n",
    "print(f\"Future Value (after {periods} years): Rs. {fv:.2f}\")\n",
    "\n",
    "\n"
   ]
  },
  {
   "cell_type": "markdown",
   "metadata": {},
   "source": [
    "# Present value calculation using future value, number of years and interest rate"
   ]
  },
  {
   "cell_type": "code",
   "execution_count": 9,
   "metadata": {},
   "outputs": [
    {
     "name": "stdout",
     "output_type": "stream",
     "text": [
      "Present Value required for target Rs. 300000: Rs. 149153.02\n"
     ]
    }
   ],
   "source": [
    "# Function to calculate Present Value\n",
    "def present_value(future_value, rate, periods):\n",
    "    return future_value / (1 + rate) ** periods\n",
    "\n",
    "# Example Inputs\n",
    "fv = 300000       # Future Value \n",
    "rate = 0.15     # Annual interest rate (15%)\n",
    "periods = 5     # Number of years\n",
    "\n",
    "pv= present_value(fv, rate, periods)\n",
    "print(f\"Present Value required for target Rs. {fv}: Rs. {pv:.2f}\")"
   ]
  },
  {
   "cell_type": "markdown",
   "metadata": {},
   "source": [
    "# Rate of return"
   ]
  },
  {
   "cell_type": "code",
   "execution_count": 5,
   "metadata": {},
   "outputs": [
    {
     "name": "stdout",
     "output_type": "stream",
     "text": [
      "Internal Rate of Return (IRR): 19.90%\n"
     ]
    }
   ],
   "source": [
    "import numpy_financial as npf\n",
    "\n",
    "# Cash flows\n",
    "cash_flows = [-1.2, 0.36, 0.36, 0.36, 0.36, 0.66]\n",
    "\n",
    "# Calculate IRR\n",
    "irr = npf.irr(cash_flows)\n",
    "\n",
    "# Display IRR as a percentage\n",
    "print(f\"Internal Rate of Return (IRR): {irr * 100:.2f}%\")\n"
   ]
  },
  {
   "cell_type": "code",
   "execution_count": 1,
   "metadata": {},
   "outputs": [
    {
     "name": "stdout",
     "output_type": "stream",
     "text": [
      "Collecting python-pptx\n",
      "  Downloading python_pptx-1.0.2-py3-none-any.whl.metadata (2.5 kB)\n",
      "Requirement already satisfied: Pillow>=3.3.2 in c:\\users\\adeel\\miniconda3\\lib\\site-packages (from python-pptx) (10.0.1)\n",
      "Collecting XlsxWriter>=0.5.7 (from python-pptx)\n",
      "  Downloading XlsxWriter-3.2.0-py3-none-any.whl.metadata (2.6 kB)\n",
      "Requirement already satisfied: lxml>=3.1.0 in c:\\users\\adeel\\miniconda3\\lib\\site-packages (from python-pptx) (5.2.2)\n",
      "Requirement already satisfied: typing-extensions>=4.9.0 in c:\\users\\adeel\\miniconda3\\lib\\site-packages (from python-pptx) (4.12.2)\n",
      "Downloading python_pptx-1.0.2-py3-none-any.whl (472 kB)\n",
      "Downloading XlsxWriter-3.2.0-py3-none-any.whl (159 kB)\n",
      "Installing collected packages: XlsxWriter, python-pptx\n",
      "Successfully installed XlsxWriter-3.2.0 python-pptx-1.0.2\n",
      "Note: you may need to restart the kernel to use updated packages.\n"
     ]
    }
   ],
   "source": [
    "pip install python-pptx"
   ]
  },
  {
   "cell_type": "code",
   "execution_count": null,
   "metadata": {},
   "outputs": [
    {
     "data": {
      "text/plain": [
       "'Research_Presentation.pptx'"
      ]
     },
     "execution_count": 3,
     "metadata": {},
     "output_type": "execute_result"
    }
   ],
   "source": [
    "# # Attempting to save the presentation again with a different method\n",
    "# from pptx import Presentation\n",
    "# from pptx.util import Pt\n",
    "\n",
    "# # Create a new presentation object\n",
    "# prs = Presentation()\n",
    "\n",
    "# # Slide content\n",
    "# slides_content = [\n",
    "#     (\"Introduction\", [\n",
    "#         \"Dr. Muhammad Adeel Munir\",\n",
    "#         \"Ph.D. in Engineering Management\",\n",
    "#         \"Lecturer, University of Engineering & Technology, Lahore\",\n",
    "#         \"Research Focus: Supply Chain Resilience, Data Science, Machine Learning\"\n",
    "#     ]),\n",
    "#     (\"Research Areas\", [\n",
    "#         \"Supply Chain & Operations Management\",\n",
    "#         \"Lean, Resilient, Sustainable Supply Chains\",\n",
    "#         \"Data-Driven Innovation\",\n",
    "#         \"Published in high-impact journals (Cumulative IF: 49.2)\"\n",
    "#     ]),\n",
    "#     (\"Data Science Expertise\", [\n",
    "#         \"Proficient in Python, R Studio, Power BI, Tableau\",\n",
    "#         \"Certified in Google Data Analytics, IBM Data Science\",\n",
    "#         \"Experienced in Machine Learning models: ARIMA, LSTM\",\n",
    "#         \"Hands-on in AI, IoT, Predictive Analytics\"\n",
    "#     ]),\n",
    "#     (\"Current Projects\", [\n",
    "#         \"Supply Chain Networks Optimization for Renewable Energy\",\n",
    "#         \"Productivity Enhancement via Quality Assurance\",\n",
    "#         \"Predictive Analytics in Environmental & Industrial Domains\"\n",
    "#     ]),\n",
    "#     (\"Future Directions\", [\n",
    "#         \"Building Resilient Agri-Food Supply Chains\",\n",
    "#         \"Advancing ML & DL for Supply Chain Optimization\",\n",
    "#         \"Leveraging Digital Twins for Real-Time Monitoring\",\n",
    "#         \"Policy Development for Sustainable Supply Chains\"\n",
    "#     ])\n",
    "# ]\n",
    "\n",
    "# # Add slides\n",
    "# for title, content in slides_content:\n",
    "#     slide = prs.slides.add_slide(prs.slide_layouts[1])  # Title and Content layout\n",
    "#     slide.shapes.title.text = title\n",
    "#     text_box = slide.shapes.add_textbox(Pt(50), Pt(150), Pt(600), Pt(400))\n",
    "#     text_frame = text_box.text_frame\n",
    "#     for line in content:\n",
    "#         p = text_frame.add_paragraph()\n",
    "#         p.text = line\n",
    "#         p.font.size = Pt(24)\n",
    "\n",
    "# # Save the presentation\n",
    "# presentation_file_path = \"Research_Presentation.pptx\"\n",
    "# prs.save(presentation_file_path)\n",
    "\n",
    "# presentation_file_path\n"
   ]
  }
 ],
 "metadata": {
  "kernelspec": {
   "display_name": "base",
   "language": "python",
   "name": "python3"
  },
  "language_info": {
   "codemirror_mode": {
    "name": "ipython",
    "version": 3
   },
   "file_extension": ".py",
   "mimetype": "text/x-python",
   "name": "python",
   "nbconvert_exporter": "python",
   "pygments_lexer": "ipython3",
   "version": "3.11.5"
  }
 },
 "nbformat": 4,
 "nbformat_minor": 2
}
