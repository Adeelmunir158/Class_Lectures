{
 "cells": [
  {
   "cell_type": "markdown",
   "metadata": {},
   "source": [
    "# Import data from world bank"
   ]
  },
  {
   "cell_type": "code",
   "execution_count": 56,
   "metadata": {},
   "outputs": [],
   "source": [
    "import wbdata\n",
    "import pandas as pd"
   ]
  },
  {
   "cell_type": "code",
   "execution_count": 57,
   "metadata": {},
   "outputs": [
    {
     "data": {
      "text/plain": [
       "id    name\n",
       "----  --------------------------------------------------------------------------------\n",
       "ABW   Aruba\n",
       "AFE   Africa Eastern and Southern\n",
       "AFG   Afghanistan\n",
       "AFR   Africa\n",
       "AFW   Africa Western and Central\n",
       "AGO   Angola\n",
       "ALB   Albania\n",
       "AND   Andorra\n",
       "ARB   Arab World\n",
       "ARE   United Arab Emirates\n",
       "ARG   Argentina\n",
       "ARM   Armenia\n",
       "ASM   American Samoa\n",
       "ATG   Antigua and Barbuda\n",
       "AUS   Australia\n",
       "AUT   Austria\n",
       "AZE   Azerbaijan\n",
       "BDI   Burundi\n",
       "BEA   East Asia & Pacific (IBRD-only countries)\n",
       "BEC   Europe & Central Asia (IBRD-only countries)\n",
       "BEL   Belgium\n",
       "BEN   Benin\n",
       "BFA   Burkina Faso\n",
       "BGD   Bangladesh\n",
       "BGR   Bulgaria\n",
       "BHI   IBRD countries classified as high income\n",
       "BHR   Bahrain\n",
       "BHS   Bahamas, The\n",
       "BIH   Bosnia and Herzegovina\n",
       "BLA   Latin America & the Caribbean (IBRD-only countries)\n",
       "BLR   Belarus\n",
       "BLZ   Belize\n",
       "BMN   Middle East & North Africa (IBRD-only countries)\n",
       "BMU   Bermuda\n",
       "BOL   Bolivia\n",
       "BRA   Brazil\n",
       "BRB   Barbados\n",
       "BRN   Brunei Darussalam\n",
       "BSS   Sub-Saharan Africa (IBRD-only countries)\n",
       "BTN   Bhutan\n",
       "BWA   Botswana\n",
       "CAA   Sub-Saharan Africa (IFC classification)\n",
       "CAF   Central African Republic\n",
       "CAN   Canada\n",
       "CEA   East Asia and the Pacific (IFC classification)\n",
       "CEB   Central Europe and the Baltics\n",
       "CEU   Europe and Central Asia (IFC classification)\n",
       "CHE   Switzerland\n",
       "CHI   Channel Islands\n",
       "CHL   Chile\n",
       "CHN   China\n",
       "CIV   Cote d'Ivoire\n",
       "CLA   Latin America and the Caribbean (IFC classification)\n",
       "CME   Middle East and North Africa (IFC classification)\n",
       "CMR   Cameroon\n",
       "COD   Congo, Dem. Rep.\n",
       "COG   Congo, Rep.\n",
       "COL   Colombia\n",
       "COM   Comoros\n",
       "CPV   Cabo Verde\n",
       "CRI   Costa Rica\n",
       "CSA   South Asia (IFC classification)\n",
       "CSS   Caribbean small states\n",
       "CUB   Cuba\n",
       "CUW   Curacao\n",
       "CYM   Cayman Islands\n",
       "CYP   Cyprus\n",
       "CZE   Czechia\n",
       "DEA   East Asia & Pacific (IDA-eligible countries)\n",
       "DEC   Europe & Central Asia (IDA-eligible countries)\n",
       "DEU   Germany\n",
       "DJI   Djibouti\n",
       "DLA   Latin America & the Caribbean (IDA-eligible countries)\n",
       "DMA   Dominica\n",
       "DMN   Middle East & North Africa (IDA-eligible countries)\n",
       "DNK   Denmark\n",
       "DNS   IDA countries in Sub-Saharan Africa not classified as fragile situations\n",
       "DOM   Dominican Republic\n",
       "DSA   South Asia (IDA-eligible countries)\n",
       "DSF   IDA countries in Sub-Saharan Africa classified as fragile situations\n",
       "DSS   Sub-Saharan Africa (IDA-eligible countries)\n",
       "DZA   Algeria\n",
       "EAP   East Asia & Pacific (excluding high income)\n",
       "EAR   Early-demographic dividend\n",
       "EAS   East Asia & Pacific\n",
       "ECA   Europe & Central Asia (excluding high income)\n",
       "ECS   Europe & Central Asia\n",
       "ECU   Ecuador\n",
       "EGY   Egypt, Arab Rep.\n",
       "EMU   Euro area\n",
       "ERI   Eritrea\n",
       "ESP   Spain\n",
       "EST   Estonia\n",
       "ETH   Ethiopia\n",
       "EUU   European Union\n",
       "FCS   Fragile and conflict affected situations\n",
       "FIN   Finland\n",
       "FJI   Fiji\n",
       "FRA   France\n",
       "FRO   Faroe Islands\n",
       "FSM   Micronesia, Fed. Sts.\n",
       "FXS   IDA countries classified as fragile situations, excluding Sub-Saharan Africa\n",
       "GAB   Gabon\n",
       "GBR   United Kingdom\n",
       "GEO   Georgia\n",
       "GHA   Ghana\n",
       "GIB   Gibraltar\n",
       "GIN   Guinea\n",
       "GMB   Gambia, The\n",
       "GNB   Guinea-Bissau\n",
       "GNQ   Equatorial Guinea\n",
       "GRC   Greece\n",
       "GRD   Grenada\n",
       "GRL   Greenland\n",
       "GTM   Guatemala\n",
       "GUM   Guam\n",
       "GUY   Guyana\n",
       "HIC   High income\n",
       "HKG   Hong Kong SAR, China\n",
       "HND   Honduras\n",
       "HPC   Heavily indebted poor countries (HIPC)\n",
       "HRV   Croatia\n",
       "HTI   Haiti\n",
       "HUN   Hungary\n",
       "IBB   IBRD, including blend\n",
       "IBD   IBRD only\n",
       "IBT   IDA & IBRD total\n",
       "IDA   IDA total\n",
       "IDB   IDA blend\n",
       "IDN   Indonesia\n",
       "IDX   IDA only\n",
       "IMN   Isle of Man\n",
       "IND   India\n",
       "INX   Not classified\n",
       "IRL   Ireland\n",
       "IRN   Iran, Islamic Rep.\n",
       "IRQ   Iraq\n",
       "ISL   Iceland\n",
       "ISR   Israel\n",
       "ITA   Italy\n",
       "JAM   Jamaica\n",
       "JOR   Jordan\n",
       "JPN   Japan\n",
       "KAZ   Kazakhstan\n",
       "KEN   Kenya\n",
       "KGZ   Kyrgyz Republic\n",
       "KHM   Cambodia\n",
       "KIR   Kiribati\n",
       "KNA   St. Kitts and Nevis\n",
       "KOR   Korea, Rep.\n",
       "KWT   Kuwait\n",
       "LAC   Latin America & Caribbean (excluding high income)\n",
       "LAO   Lao PDR\n",
       "LBN   Lebanon\n",
       "LBR   Liberia\n",
       "LBY   Libya\n",
       "LCA   St. Lucia\n",
       "LCN   Latin America & Caribbean\n",
       "LDC   Least developed countries: UN classification\n",
       "LIC   Low income\n",
       "LIE   Liechtenstein\n",
       "LKA   Sri Lanka\n",
       "LMC   Lower middle income\n",
       "LMY   Low & middle income\n",
       "LSO   Lesotho\n",
       "LTE   Late-demographic dividend\n",
       "LTU   Lithuania\n",
       "LUX   Luxembourg\n",
       "LVA   Latvia\n",
       "MAC   Macao SAR, China\n",
       "MAF   St. Martin (French part)\n",
       "MAR   Morocco\n",
       "MCO   Monaco\n",
       "MDA   Moldova\n",
       "MDE   Middle East (developing only)\n",
       "MDG   Madagascar\n",
       "MDV   Maldives\n",
       "MEA   Middle East & North Africa\n",
       "MEX   Mexico\n",
       "MHL   Marshall Islands\n",
       "MIC   Middle income\n",
       "MKD   North Macedonia\n",
       "MLI   Mali\n",
       "MLT   Malta\n",
       "MMR   Myanmar\n",
       "MNA   Middle East & North Africa (excluding high income)\n",
       "MNE   Montenegro\n",
       "MNG   Mongolia\n",
       "MNP   Northern Mariana Islands\n",
       "MOZ   Mozambique\n",
       "MRT   Mauritania\n",
       "MUS   Mauritius\n",
       "MWI   Malawi\n",
       "MYS   Malaysia\n",
       "NAC   North America\n",
       "NAF   North Africa\n",
       "NAM   Namibia\n",
       "NCL   New Caledonia\n",
       "NER   Niger\n",
       "NGA   Nigeria\n",
       "NIC   Nicaragua\n",
       "NLD   Netherlands\n",
       "NOR   Norway\n",
       "NPL   Nepal\n",
       "NRS   Non-resource rich Sub-Saharan Africa countries\n",
       "NRU   Nauru\n",
       "NXS   IDA countries not classified as fragile situations, excluding Sub-Saharan Africa\n",
       "NZL   New Zealand\n",
       "OED   OECD members\n",
       "OMN   Oman\n",
       "OSS   Other small states\n",
       "PAK   Pakistan\n",
       "PAN   Panama\n",
       "PER   Peru\n",
       "PHL   Philippines\n",
       "PLW   Palau\n",
       "PNG   Papua New Guinea\n",
       "POL   Poland\n",
       "PRE   Pre-demographic dividend\n",
       "PRI   Puerto Rico\n",
       "PRK   Korea, Dem. People's Rep.\n",
       "PRT   Portugal\n",
       "PRY   Paraguay\n",
       "PSE   West Bank and Gaza\n",
       "PSS   Pacific island small states\n",
       "PST   Post-demographic dividend\n",
       "PYF   French Polynesia\n",
       "QAT   Qatar\n",
       "ROU   Romania\n",
       "RRS   Resource rich Sub-Saharan Africa countries\n",
       "RUS   Russian Federation\n",
       "RWA   Rwanda\n",
       "SAS   South Asia\n",
       "SAU   Saudi Arabia\n",
       "SDN   Sudan\n",
       "SEN   Senegal\n",
       "SGP   Singapore\n",
       "SLB   Solomon Islands\n",
       "SLE   Sierra Leone\n",
       "SLV   El Salvador\n",
       "SMR   San Marino\n",
       "SOM   Somalia\n",
       "SRB   Serbia\n",
       "SSA   Sub-Saharan Africa (excluding high income)\n",
       "SSD   South Sudan\n",
       "SSF   Sub-Saharan Africa\n",
       "SST   Small states\n",
       "STP   Sao Tome and Principe\n",
       "SUR   Suriname\n",
       "SVK   Slovak Republic\n",
       "SVN   Slovenia\n",
       "SWE   Sweden\n",
       "SWZ   Eswatini\n",
       "SXM   Sint Maarten (Dutch part)\n",
       "SXZ   Sub-Saharan Africa excluding South Africa\n",
       "SYC   Seychelles\n",
       "SYR   Syrian Arab Republic\n",
       "TCA   Turks and Caicos Islands\n",
       "TCD   Chad\n",
       "TEA   East Asia & Pacific (IDA & IBRD countries)\n",
       "TEC   Europe & Central Asia (IDA & IBRD countries)\n",
       "TGO   Togo\n",
       "THA   Thailand\n",
       "TJK   Tajikistan\n",
       "TKM   Turkmenistan\n",
       "TLA   Latin America & the Caribbean (IDA & IBRD countries)\n",
       "TLS   Timor-Leste\n",
       "TMN   Middle East & North Africa (IDA & IBRD countries)\n",
       "TON   Tonga\n",
       "TSA   South Asia (IDA & IBRD)\n",
       "TSS   Sub-Saharan Africa (IDA & IBRD countries)\n",
       "TTO   Trinidad and Tobago\n",
       "TUN   Tunisia\n",
       "TUR   Turkiye\n",
       "TUV   Tuvalu\n",
       "TZA   Tanzania\n",
       "UGA   Uganda\n",
       "UKR   Ukraine\n",
       "UMC   Upper middle income\n",
       "URY   Uruguay\n",
       "USA   United States\n",
       "UZB   Uzbekistan\n",
       "VCT   St. Vincent and the Grenadines\n",
       "VEN   Venezuela, RB\n",
       "VGB   British Virgin Islands\n",
       "VIR   Virgin Islands (U.S.)\n",
       "VNM   Viet Nam\n",
       "VUT   Vanuatu\n",
       "WLD   World\n",
       "WSM   Samoa\n",
       "XKX   Kosovo\n",
       "XZN   Sub-Saharan Africa excluding South Africa and Nigeria\n",
       "YEM   Yemen, Rep.\n",
       "ZAF   South Africa\n",
       "ZMB   Zambia\n",
       "ZWE   Zimbabwe"
      ]
     },
     "execution_count": 57,
     "metadata": {},
     "output_type": "execute_result"
    }
   ],
   "source": [
    "wbdata.get_countries()"
   ]
  },
  {
   "cell_type": "code",
   "execution_count": 58,
   "metadata": {},
   "outputs": [
    {
     "data": {
      "text/plain": [
       "  id  name\n",
       "----  --------------------------------------------------------------------\n",
       "   1  Doing Business\n",
       "   2  World Development Indicators\n",
       "   3  Worldwide Governance Indicators\n",
       "   5  Subnational Malnutrition Database\n",
       "   6  International Debt Statistics\n",
       "  11  Africa Development Indicators\n",
       "  12  Education Statistics\n",
       "  13  Enterprise Surveys\n",
       "  14  Gender Statistics\n",
       "  15  Global Economic Monitor\n",
       "  16  Health Nutrition and Population Statistics\n",
       "  18  IDA Results Measurement System\n",
       "  19  Millennium Development Goals\n",
       "  20  Quarterly Public Sector Debt\n",
       "  22  Quarterly External Debt Statistics SDDS\n",
       "  23  Quarterly External Debt Statistics GDDS\n",
       "  25  Jobs\n",
       "  27  Global Economic Prospects\n",
       "  28  Global Financial Inclusion\n",
       "  29  The Atlas of Social Protection: Indicators of Resilience and Equity\n",
       "  30  Exporter Dynamics Database – Indicators at Country-Year Level\n",
       "  31  Country Policy and Institutional Assessment\n",
       "  32  Global Financial Development\n",
       "  33  G20 Financial Inclusion Indicators\n",
       "  34  Global Partnership for Education\n",
       "  35  Sustainable Energy for All\n",
       "  37  LAC Equity Lab\n",
       "  38  Subnational Poverty\n",
       "  39  Health Nutrition and Population Statistics by Wealth Quintile\n",
       "  40  Population estimates and projections\n",
       "  41  Country Partnership Strategy for India (FY2013 - 17)\n",
       "  43  Adjusted Net Savings\n",
       "  45  Indonesia Database for Policy and Economic Research\n",
       "  46  Sustainable Development Goals\n",
       "  50  Subnational Population\n",
       "  54  Joint External Debt Hub\n",
       "  57  WDI Database Archives\n",
       "  58  Universal Health Coverage\n",
       "  59  Wealth Accounts\n",
       "  60  Economic Fitness\n",
       "  61  PPPs Regulatory Quality\n",
       "  62  International Comparison Program (ICP) 2011\n",
       "  63  Human Capital Index\n",
       "  64  Worldwide Bureaucracy Indicators\n",
       "  65  Health Equity and Financial Protection Indicators\n",
       "  66  Logistics Performance Index\n",
       "  67  PEFA 2011\n",
       "  68  PEFA 2016\n",
       "  69  Global Financial Inclusion and Consumer Protection Survey\n",
       "  70  Economic Fitness 2\n",
       "  71  International Comparison Program (ICP) 2005\n",
       "  73  Global Financial Inclusion and Consumer Protection Survey (Internal)\n",
       "  75  Environment, Social and Governance (ESG) Data\n",
       "  76  Remittance Prices Worldwide (Sending Countries)\n",
       "  77  Remittance Prices Worldwide (Receiving Countries)\n",
       "  78  ICP 2017\n",
       "  79  PEFA_GRPFM\n",
       "  80  Gender Disaggregated Labor Database (GDLD)\n",
       "  81  International Debt Statistics: DSSI\n",
       "  82  Global Public Procurement\n",
       "  83  Statistical Performance Indicators (SPI)\n",
       "  84  Education Policy\n",
       "  85  PEFA_2021_SNG\n",
       "  86  Global Jobs Indicators Database (JOIN)\n",
       "  87  Country Climate and Development Report (CCDR)\n",
       "  88  Food Prices for Nutrition\n",
       "  89  Identification for Development (ID4D) Data\n",
       "  90  ICP 2021\n",
       "  91  PEFA_CRPFM"
      ]
     },
     "execution_count": 58,
     "metadata": {},
     "output_type": "execute_result"
    }
   ],
   "source": [
    "wbdata.get_sources()"
   ]
  },
  {
   "cell_type": "code",
   "execution_count": 59,
   "metadata": {},
   "outputs": [
    {
     "data": {
      "text/plain": [
       "id                          name\n",
       "--------------------------  ---------------------------------------------------------------------------------------------------------------------------------------------\n",
       "AG.CON.FERT.PT.ZS           Fertilizer consumption (% of fertilizer production)\n",
       "AG.CON.FERT.ZS              Fertilizer consumption (kilograms per hectare of arable land)\n",
       "AG.LND.AGRI.K2              Agricultural land (sq. km)\n",
       "AG.LND.AGRI.ZS              Agricultural land (% of land area)\n",
       "AG.LND.ARBL.HA              Arable land (hectares)\n",
       "AG.LND.ARBL.HA.PC           Arable land (hectares per person)\n",
       "AG.LND.ARBL.ZS              Arable land (% of land area)\n",
       "AG.LND.CREL.HA              Land under cereal production (hectares)\n",
       "AG.LND.CROP.ZS              Permanent cropland (% of land area)\n",
       "AG.LND.EL5M.RU.K2           Rural land area where elevation is below 5 meters (sq. km)\n",
       "AG.LND.EL5M.RU.ZS           Rural land area where elevation is below 5 meters (% of total land area)\n",
       "AG.LND.EL5M.UR.K2           Urban land area where elevation is below 5 meters (sq. km)\n",
       "AG.LND.EL5M.UR.ZS           Urban land area where elevation is below 5 meters (% of total land area)\n",
       "AG.LND.EL5M.ZS              Land area where elevation is below 5 meters (% of total land area)\n",
       "AG.LND.FRST.K2              Forest area (sq. km)\n",
       "AG.LND.FRST.ZS              Forest area (% of land area)\n",
       "AG.LND.IRIG.AG.ZS           Agricultural irrigated land (% of total agricultural land)\n",
       "AG.LND.PRCP.MM              Average precipitation in depth (mm per year)\n",
       "AG.LND.TOTL.K2              Land area (sq. km)\n",
       "AG.LND.TOTL.RU.K2           Rural land area (sq. km)\n",
       "AG.LND.TOTL.UR.K2           Urban land area (sq. km)\n",
       "AG.PRD.CREL.MT              Cereal production (metric tons)\n",
       "AG.PRD.CROP.XD              Crop production index (2014-2016 = 100)\n",
       "AG.PRD.FOOD.XD              Food production index (2014-2016 = 100)\n",
       "AG.PRD.LVSK.XD              Livestock production index (2014-2016 = 100)\n",
       "AG.SRF.TOTL.K2              Surface area (sq. km)\n",
       "AG.YLD.CREL.KG              Cereal yield (kg per hectare)\n",
       "BG.GSR.NFSV.GD.ZS           Trade in services (% of GDP)\n",
       "BM.GSR.CMCP.ZS              Communications, computer, etc. (% of service imports, BoP)\n",
       "BM.GSR.FCTY.CD              Primary income payments (BoP, current US$)\n",
       "BM.GSR.GNFS.CD              Imports of goods and services (BoP, current US$)\n",
       "BM.GSR.INSF.ZS              Insurance and financial services (% of service imports, BoP)\n",
       "BM.GSR.MRCH.CD              Goods imports (BoP, current US$)\n",
       "BM.GSR.NFSV.CD              Service imports (BoP, current US$)\n",
       "BM.GSR.ROYL.CD              Charges for the use of intellectual property, payments (BoP, current US$)\n",
       "BM.GSR.TOTL.CD              Imports of goods, services and primary income (BoP, current US$)\n",
       "BM.GSR.TRAN.ZS              Transport services (% of service imports, BoP)\n",
       "BM.GSR.TRVL.ZS              Travel services (% of service imports, BoP)\n",
       "BM.KLT.DINV.CD.WD           Foreign direct investment, net outflows (BoP, current US$)\n",
       "BM.KLT.DINV.WD.GD.ZS        Foreign direct investment, net outflows (% of GDP)\n",
       "BM.TRF.PRVT.CD              Secondary income, other sectors, payments (BoP, current US$)\n",
       "BM.TRF.PWKR.CD.DT           Personal remittances, paid (current US$)\n",
       "BN.CAB.XOKA.CD              Current account balance (BoP, current US$)\n",
       "BN.CAB.XOKA.GD.ZS           Current account balance (% of GDP)\n",
       "BN.FIN.TOTL.CD              Net financial account (BoP, current US$)\n",
       "BN.GSR.FCTY.CD              Net primary income (BoP, current US$)\n",
       "BN.GSR.GNFS.CD              Net trade in goods and services (BoP, current US$)\n",
       "BN.GSR.MRCH.CD              Net trade in goods (BoP, current US$)\n",
       "BN.KAC.EOMS.CD              Net errors and omissions (BoP, current US$)\n",
       "BN.KLT.DINV.CD              Foreign direct investment, net (BoP, current US$)\n",
       "BN.KLT.PTXL.CD              Portfolio Investment, net (BoP, current US$)\n",
       "BN.RES.INCL.CD              Reserves and related items (BoP, current US$)\n",
       "BN.TRF.CURR.CD              Net secondary income (BoP, current US$)\n",
       "BN.TRF.KOGT.CD              Net capital account (BoP, current US$)\n",
       "BX.GRT.EXTA.CD.WD           Grants, excluding technical cooperation (BoP, current US$)\n",
       "BX.GRT.TECH.CD.WD           Technical cooperation grants (BoP, current US$)\n",
       "BX.GSR.CCIS.CD              ICT service exports (BoP, current US$)\n",
       "BX.GSR.CCIS.ZS              ICT service exports (% of service exports, BoP)\n",
       "BX.GSR.CMCP.ZS              Communications, computer, etc. (% of service exports, BoP)\n",
       "BX.GSR.FCTY.CD              Primary income receipts (BoP, current US$)\n",
       "BX.GSR.GNFS.CD              Exports of goods and services (BoP, current US$)\n",
       "BX.GSR.INSF.ZS              Insurance and financial services (% of service exports, BoP)\n",
       "BX.GSR.MRCH.CD              Goods exports (BoP, current US$)\n",
       "BX.GSR.NFSV.CD              Service exports (BoP, current US$)\n",
       "BX.GSR.ROYL.CD              Charges for the use of intellectual property, receipts (BoP, current US$)\n",
       "BX.GSR.TOTL.CD              Exports of goods, services and primary income (BoP, current US$)\n",
       "BX.GSR.TRAN.ZS              Transport services (% of service exports, BoP)\n",
       "BX.GSR.TRVL.ZS              Travel services (% of service exports, BoP)\n",
       "BX.KLT.DINV.CD.WD           Foreign direct investment, net inflows (BoP, current US$)\n",
       "BX.KLT.DINV.WD.GD.ZS        Foreign direct investment, net inflows (% of GDP)\n",
       "BX.PEF.TOTL.CD.WD           Portfolio equity, net inflows (BoP, current US$)\n",
       "BX.TRF.CURR.CD              Secondary income receipts (BoP, current US$)\n",
       "BX.TRF.PWKR.CD              Personal transfers, receipts (BoP, current US$)\n",
       "BX.TRF.PWKR.CD.DT           Personal remittances, received (current US$)\n",
       "BX.TRF.PWKR.DT.GD.ZS        Personal remittances, received (% of GDP)\n",
       "CC.EST                      Control of Corruption: Estimate\n",
       "CC.NO.SRC                   Control of Corruption: Number of Sources\n",
       "CC.PER.RNK                  Control of Corruption: Percentile Rank\n",
       "CC.PER.RNK.LOWER            Control of Corruption: Percentile Rank, Lower Bound of 90% Confidence Interval\n",
       "CC.PER.RNK.UPPER            Control of Corruption: Percentile Rank, Upper Bound of 90% Confidence Interval\n",
       "CC.STD.ERR                  Control of Corruption: Standard Error\n",
       "CM.MKT.INDX.ZG              S&P Global Equity Indices (annual % change)\n",
       "CM.MKT.LCAP.CD              Market capitalization of listed domestic companies (current US$)\n",
       "CM.MKT.LCAP.GD.ZS           Market capitalization of listed domestic companies (% of GDP)\n",
       "CM.MKT.LDOM.NO              Listed domestic companies, total\n",
       "CM.MKT.TRAD.CD              Stocks traded, total value (current US$)\n",
       "CM.MKT.TRAD.GD.ZS           Stocks traded, total value (% of GDP)\n",
       "CM.MKT.TRNR                 Stocks traded, turnover ratio of domestic shares (%)\n",
       "DC.DAC.AUSL.CD              Net bilateral aid flows from DAC donors, Australia (current US$)\n",
       "DC.DAC.AUTL.CD              Net bilateral aid flows from DAC donors, Austria (current US$)\n",
       "DC.DAC.BELL.CD              Net bilateral aid flows from DAC donors, Belgium (current US$)\n",
       "DC.DAC.CANL.CD              Net bilateral aid flows from DAC donors, Canada (current US$)\n",
       "DC.DAC.CECL.CD              Net bilateral aid flows from DAC donors, European Union institutions (current US$)\n",
       "DC.DAC.CHEL.CD              Net bilateral aid flows from DAC donors, Switzerland (current US$)\n",
       "DC.DAC.CZEL.CD              Net bilateral aid flows from DAC donors, Czechia (current US$)\n",
       "DC.DAC.DEUL.CD              Net bilateral aid flows from DAC donors, Germany (current US$)\n",
       "DC.DAC.DNKL.CD              Net bilateral aid flows from DAC donors, Denmark (current US$)\n",
       "DC.DAC.ESPL.CD              Net bilateral aid flows from DAC donors, Spain (current US$)\n",
       "DC.DAC.ESTL.CD              Net bilateral aid flows from DAC donors, Estonia (current US$)\n",
       "DC.DAC.FINL.CD              Net bilateral aid flows from DAC donors, Finland (current US$)\n",
       "DC.DAC.FRAL.CD              Net bilateral aid flows from DAC donors, France (current US$)\n",
       "DC.DAC.GBRL.CD              Net bilateral aid flows from DAC donors, United Kingdom (current US$)\n",
       "DC.DAC.GRCL.CD              Net bilateral aid flows from DAC donors, Greece (current US$)\n",
       "DC.DAC.HUNL.CD              Net bilateral aid flows from DAC donors, Hungary (current US$)\n",
       "DC.DAC.IRLL.CD              Net bilateral aid flows from DAC donors, Ireland (current US$)\n",
       "DC.DAC.ISLL.CD              Net bilateral aid flows from DAC donors, Iceland (current US$)\n",
       "DC.DAC.ITAL.CD              Net bilateral aid flows from DAC donors, Italy (current US$)\n",
       "DC.DAC.JPNL.CD              Net bilateral aid flows from DAC donors, Japan (current US$)\n",
       "DC.DAC.KORL.CD              Net bilateral aid flows from DAC donors, Korea, Rep. (current US$)\n",
       "DC.DAC.LTUL.CD              Net bilateral aid flows from DAC donors, Lithuania (current US$)\n",
       "DC.DAC.LUXL.CD              Net bilateral aid flows from DAC donors, Luxembourg (current US$)\n",
       "DC.DAC.NLDL.CD              Net bilateral aid flows from DAC donors, Netherlands (current US$)\n",
       "DC.DAC.NORL.CD              Net bilateral aid flows from DAC donors, Norway (current US$)\n",
       "DC.DAC.NZLL.CD              Net bilateral aid flows from DAC donors, New Zealand (current US$)\n",
       "DC.DAC.POLL.CD              Net bilateral aid flows from DAC donors, Poland (current US$)\n",
       "DC.DAC.PRTL.CD              Net bilateral aid flows from DAC donors, Portugal (current US$)\n",
       "DC.DAC.SVKL.CD              Net bilateral aid flows from DAC donors, Slovak Republic (current US$)\n",
       "DC.DAC.SVNL.CD              Net bilateral aid flows from DAC donors, Slovenia (current US$)\n",
       "DC.DAC.SWEL.CD              Net bilateral aid flows from DAC donors, Sweden (current US$)\n",
       "DC.DAC.TOTL.CD              Net bilateral aid flows from DAC donors, Total (current US$)\n",
       "DC.DAC.USAL.CD              Net bilateral aid flows from DAC donors, United States (current US$)\n",
       "DC.ODA.TLDC.CD              Net ODA provided, to the least developed countries (current US$)\n",
       "DC.ODA.TLDC.GN.ZS           Net ODA provided to the least developed countries (% of GNI)\n",
       "DC.ODA.TOTL.CD              Net ODA provided, total (current US$)\n",
       "DC.ODA.TOTL.GN.ZS           Net ODA provided, total (% of GNI)\n",
       "DC.ODA.TOTL.KD              Net ODA provided, total (constant 2021 US$)\n",
       "DT.DOD.DECT.CD              External debt stocks, total (DOD, current US$)\n",
       "DT.DOD.DECT.GN.ZS           External debt stocks (% of GNI)\n",
       "DT.DOD.DIMF.CD              Use of IMF credit (DOD, current US$)\n",
       "DT.DOD.DLXF.CD              External debt stocks, long-term (DOD, current US$)\n",
       "DT.DOD.DPNG.CD              External debt stocks, private nonguaranteed (PNG) (DOD, current US$)\n",
       "DT.DOD.DPPG.CD              External debt stocks, public and publicly guaranteed (PPG) (DOD, current US$)\n",
       "DT.DOD.DSTC.CD              External debt stocks, short-term (DOD, current US$)\n",
       "DT.DOD.DSTC.IR.ZS           Short-term debt (% of total reserves)\n",
       "DT.DOD.DSTC.XP.ZS           Short-term debt (% of exports of goods, services and primary income)\n",
       "DT.DOD.DSTC.ZS              Short-term debt (% of total external debt)\n",
       "DT.DOD.MIBR.CD              PPG, IBRD (DOD, current US$)\n",
       "DT.DOD.MIDA.CD              PPG, IDA (DOD, current US$)\n",
       "DT.DOD.MWBG.CD              IBRD loans and IDA credits (DOD, current US$)\n",
       "DT.DOD.PVLX.CD              Present value of external debt (current US$)\n",
       "DT.DOD.PVLX.EX.ZS           Present value of external debt (% of exports of goods, services and primary income)\n",
       "DT.DOD.PVLX.GN.ZS           Present value of external debt (% of GNI)\n",
       "DT.NFL.BLAT.CD              Net financial flows, bilateral (NFL, current US$)\n",
       "DT.NFL.BOND.CD              Portfolio investment, bonds (PPG + PNG) (NFL, current US$)\n",
       "DT.NFL.CERF.CD              Net official flows from UN agencies, CERF (current US$)\n",
       "DT.NFL.DPNG.CD              Net flows on external debt, private nonguaranteed (PNG) (NFL, current US$)\n",
       "DT.NFL.FAOG.CD              Net official flows from UN agencies, FAO (current US$)\n",
       "DT.NFL.IAEA.CD              Net official flows from UN agencies, IAEA (current US$)\n",
       "DT.NFL.IFAD.CD              Net official flows from UN agencies, IFAD (current US$)\n",
       "DT.NFL.ILOG.CD              Net official flows from UN agencies, ILO (current US$)\n",
       "DT.NFL.IMFC.CD              Net financial flows, IMF concessional (NFL, current US$)\n",
       "DT.NFL.IMFN.CD              Net financial flows, IMF nonconcessional (NFL, current US$)\n",
       "DT.NFL.MIBR.CD              Net financial flows, IBRD (NFL, current US$)\n",
       "DT.NFL.MIDA.CD              Net financial flows, IDA (NFL, current US$)\n",
       "DT.NFL.MLAT.CD              Net financial flows, multilateral (NFL, current US$)\n",
       "DT.NFL.MOTH.CD              Net financial flows, others (NFL, current US$)\n",
       "DT.NFL.NIFC.CD              IFC, private nonguaranteed (NFL, US$)\n",
       "DT.NFL.OFFT.CD              PPG, official creditors (NFL, US$)\n",
       "DT.NFL.PBND.CD              PPG, bonds (NFL, current US$)\n",
       "DT.NFL.PCBK.CD              PPG, commercial banks (NFL, current US$)\n",
       "DT.NFL.PCBO.CD              Commercial banks and other lending (PPG + PNG) (NFL, current US$)\n",
       "DT.NFL.PNGB.CD              PNG, bonds (NFL, current US$)\n",
       "DT.NFL.PNGC.CD              PNG, commercial banks and other creditors (NFL, current US$)\n",
       "DT.NFL.PROP.CD              PPG, other private creditors (NFL, current US$)\n",
       "DT.NFL.PRVT.CD              PPG, private creditors (NFL, US$)\n",
       "DT.NFL.RDBC.CD              Net financial flows, RDB concessional (NFL, current US$)\n",
       "DT.NFL.RDBN.CD              Net financial flows, RDB nonconcessional (NFL, current US$)\n",
       "DT.NFL.SDGF.CD              Net official flows from UN agencies, SDGFUND (current US$)\n",
       "DT.NFL.SPRP.CD              Net official flows from UN agencies, SPRP (current US$)\n",
       "DT.NFL.UNAI.CD              Net official flows from UN agencies, UNAIDS (current US$)\n",
       "DT.NFL.UNCD.CD              Net official flows from UN agencies, UNCDF (current US$)\n",
       "DT.NFL.UNCF.CD              Net official flows from UN agencies, UNICEF (current US$)\n",
       "DT.NFL.UNCR.CD              Net official flows from UN agencies, UNHCR (current US$)\n",
       "DT.NFL.UNCTAD.CD            Net official flows from UN agencies, UNCTAD (current US$)\n",
       "DT.NFL.UNCV.CD              Net official flows from UN agencies, UNCOVID (current US$)\n",
       "DT.NFL.UNDP.CD              Net official flows from UN agencies, UNDP (current US$)\n",
       "DT.NFL.UNEC.CD              Net official flows from UN agencies, UNECE (current US$)\n",
       "DT.NFL.UNEP.CD              Net official flows from UN agencies, UNEP (current US$)\n",
       "DT.NFL.UNFP.CD              Net official flows from UN agencies, UNFPA (current US$)\n",
       "DT.NFL.UNID.CD              Net official flows from UN agencies, UNIDIR (current US$)\n",
       "DT.NFL.UNIDO.CD             Net official flows from UN agencies, UNIDO (current US$)\n",
       "DT.NFL.UNPB.CD              Net official flows from UN agencies, UNPBF (current US$)\n",
       "DT.NFL.UNRW.CD              Net official flows from UN agencies, UNRWA (current US$)\n",
       "DT.NFL.UNTA.CD              Net official flows from UN agencies, UNTA (current US$)\n",
       "DT.NFL.UNWN.CD              Net official flows from UN agencies, UNWOMEN (current US$)\n",
       "DT.NFL.UNWT.CD              Net official flows from UN agencies, UNWTO (current US$)\n",
       "DT.NFL.WFPG.CD              Net official flows from UN agencies, WFP (current US$)\n",
       "DT.NFL.WHOL.CD              Net official flows from UN agencies, WHO (current US$)\n",
       "DT.NFL.WITC.CD              Net official flows from UN agencies, WTO-ITC (current US$)\n",
       "DT.ODA.ALLD.CD              Net official development assistance and official aid received (current US$)\n",
       "DT.ODA.ALLD.KD              Net official development assistance and official aid received (constant 2021 US$)\n",
       "DT.ODA.OATL.CD              Net official aid received (current US$)\n",
       "DT.ODA.OATL.KD              Net official aid received (constant 2021 US$)\n",
       "DT.ODA.ODAT.CD              Net official development assistance received (current US$)\n",
       "DT.ODA.ODAT.GI.ZS           Net ODA received (% of gross capital formation)\n",
       "DT.ODA.ODAT.GN.ZS           Net ODA received (% of GNI)\n",
       "DT.ODA.ODAT.KD              Net official development assistance received (constant 2021 US$)\n",
       "DT.ODA.ODAT.MP.ZS           Net ODA received (% of imports of goods, services and primary income)\n",
       "DT.ODA.ODAT.PC.ZS           Net ODA received per capita (current US$)\n",
       "DT.ODA.ODAT.XP.ZS           Net ODA received (% of central government expense)\n",
       "DT.TDS.DECT.CD              Debt service on external debt, total (TDS, current US$)\n",
       "DT.TDS.DECT.EX.ZS           Total debt service (% of exports of goods, services and primary income)\n",
       "DT.TDS.DECT.GN.ZS           Total debt service (% of GNI)\n",
       "DT.TDS.DIMF.CD              IMF repurchases and charges (TDS, current US$)\n",
       "DT.TDS.DPPF.XP.ZS           Debt service (PPG and IMF only, % of exports of goods, services and primary income)\n",
       "DT.TDS.DPPG.CD              Debt service on external debt, public and publicly guaranteed (PPG) (TDS, current US$)\n",
       "DT.TDS.DPPG.GN.ZS           Public and publicly guaranteed debt service (% of GNI)\n",
       "DT.TDS.DPPG.XP.ZS           Public and publicly guaranteed debt service (% of exports of goods, services and primary income)\n",
       "DT.TDS.MLAT.CD              Multilateral debt service (TDS, current US$)\n",
       "DT.TDS.MLAT.PG.ZS           Multilateral debt service (% of public and publicly guaranteed debt service)\n",
       "EG.CFT.ACCS.RU.ZS           Access to clean fuels and technologies for cooking, rural (% of rural population)\n",
       "EG.CFT.ACCS.UR.ZS           Access to clean fuels and technologies for cooking, urban (% of urban population)\n",
       "EG.CFT.ACCS.ZS              Access to clean fuels and technologies for cooking (% of population)\n",
       "EG.EGY.PRIM.PP.KD           Energy intensity level of primary energy (MJ/$2017 PPP GDP)\n",
       "EG.ELC.ACCS.RU.ZS           Access to electricity, rural (% of rural population)\n",
       "EG.ELC.ACCS.UR.ZS           Access to electricity, urban (% of urban population)\n",
       "EG.ELC.ACCS.ZS              Access to electricity (% of population)\n",
       "EG.ELC.COAL.ZS              Electricity production from coal sources (% of total)\n",
       "EG.ELC.FOSL.ZS              Electricity production from oil, gas and coal sources (% of total)\n",
       "EG.ELC.HYRO.ZS              Electricity production from hydroelectric sources (% of total)\n",
       "EG.ELC.LOSS.ZS              Electric power transmission and distribution losses (% of output)\n",
       "EG.ELC.NGAS.ZS              Electricity production from natural gas sources (% of total)\n",
       "EG.ELC.NUCL.ZS              Electricity production from nuclear sources (% of total)\n",
       "EG.ELC.PETR.ZS              Electricity production from oil sources (% of total)\n",
       "EG.ELC.RNEW.ZS              Renewable electricity output (% of total electricity output)\n",
       "EG.ELC.RNWX.KH              Electricity production from renewable sources, excluding hydroelectric (kWh)\n",
       "EG.ELC.RNWX.ZS              Electricity production from renewable sources, excluding hydroelectric (% of total)\n",
       "EG.FEC.RNEW.ZS              Renewable energy consumption (% of total final energy consumption)\n",
       "EG.GDP.PUSE.KO.PP           GDP per unit of energy use (PPP $ per kg of oil equivalent)\n",
       "EG.GDP.PUSE.KO.PP.KD        GDP per unit of energy use (constant 2021 PPP $ per kg of oil equivalent)\n",
       "EG.IMP.CONS.ZS              Energy imports, net (% of energy use)\n",
       "EG.USE.COMM.CL.ZS           Alternative and nuclear energy (% of total energy use)\n",
       "EG.USE.COMM.FO.ZS           Fossil fuel energy consumption (% of total)\n",
       "EG.USE.COMM.GD.PP.KD        Energy use (kg of oil equivalent) per $1,000 GDP (constant 2021 PPP)\n",
       "EG.USE.CRNW.ZS              Combustible renewables and waste (% of total energy)\n",
       "EG.USE.ELEC.KH.PC           Electric power consumption (kWh per capita)\n",
       "EG.USE.PCAP.KG.OE           Energy use (kg of oil equivalent per capita)\n",
       "EN.ATM.PM25.MC.M3           PM2.5 air pollution, mean annual exposure (micrograms per cubic meter)\n",
       "EN.ATM.PM25.MC.T1.ZS        PM2.5 pollution, population exposed to levels exceeding WHO Interim Target-1 value (% of total)\n",
       "EN.ATM.PM25.MC.T2.ZS        PM2.5 pollution, population exposed to levels exceeding WHO Interim Target-2 value (% of total)\n",
       "EN.ATM.PM25.MC.T3.ZS        PM2.5 pollution, population exposed to levels exceeding WHO Interim Target-3 value (% of total)\n",
       "EN.ATM.PM25.MC.ZS           PM2.5 air pollution, population exposed to levels exceeding WHO guideline value (% of total)\n",
       "EN.BIR.THRD.NO              Bird species, threatened\n",
       "EN.CLC.DRSK.XQ              Disaster risk reduction progress score (1-5 scale; 5=best)\n",
       "EN.CLC.MDAT.ZS              Droughts, floods, extreme temperatures (% of population, average 1990-2009)\n",
       "EN.FSH.THRD.NO              Fish species, threatened\n",
       "EN.GHG.ALL.LU.MT.CE.AR5     Total greenhouse gas emissions including LULUCF (Mt CO2e)\n",
       "EN.GHG.ALL.MT.CE.AR5        Total greenhouse gas emissions excluding LULUCF (Mt CO2e)\n",
       "EN.GHG.ALL.PC.CE.AR5        Total greenhouse gas emissions excluding LULUCF per capita (t CO2e/capita)\n",
       "EN.GHG.CH4.AG.MT.CE.AR5     Methane (CH4) emissions from Agriculture (Mt CO2e)\n",
       "EN.GHG.CH4.BU.MT.CE.AR5     Methane (CH4) emissions from Building (Energy) (Mt CO2e)\n",
       "EN.GHG.CH4.FE.MT.CE.AR5     Methane (CH4) emissions from Fugitive Emissions (Energy) (Mt CO2e)\n",
       "EN.GHG.CH4.IC.MT.CE.AR5     Methane (CH4) emissions from Industrial Combustion (Energy) (Mt CO2e)\n",
       "EN.GHG.CH4.IP.MT.CE.AR5     Methane (CH4) emissions from Industrial Processes (Mt CO2e)\n",
       "EN.GHG.CH4.MT.CE.AR5        Methane (CH4) emissions (total) excluding LULUCF (Mt CO2e)\n",
       "EN.GHG.CH4.PI.MT.CE.AR5     Methane (CH4) emissions from Power Industry (Energy) (Mt CO2e)\n",
       "EN.GHG.CH4.TR.MT.CE.AR5     Methane (CH4) emissions from Transport (Energy) (Mt CO2e)\n",
       "EN.GHG.CH4.WA.MT.CE.AR5     Methane (CH4) emissions from Waste (Mt CO2e)\n",
       "EN.GHG.CH4.ZG.AR5           Methane (CH4) emissions (total) excluding LULUCF (% change from 1990)\n",
       "EN.GHG.CO2.AG.MT.CE.AR5     Carbon dioxide (CO2) emissions from Agriculture (Mt CO2e)\n",
       "EN.GHG.CO2.BU.MT.CE.AR5     Carbon dioxide (CO2) emissions from Building (Energy) (Mt CO2e)\n",
       "EN.GHG.CO2.FE.MT.CE.AR5     Carbon dioxide (CO2) emissions from Fugitive Emissions (Energy) (Mt CO2e)\n",
       "EN.GHG.CO2.IC.MT.CE.AR5     Carbon dioxide (CO2) emissions from Industrial Combustion (Energy) (Mt CO2e)\n",
       "EN.GHG.CO2.IP.MT.CE.AR5     Carbon dioxide (CO2) emissions from Industrial Processes (Mt CO2e)\n",
       "EN.GHG.CO2.LU.DF.MT.CE.AR5  Carbon dioxide (CO2) net fluxes from LULUCF - Deforestation (Mt CO2e)\n",
       "EN.GHG.CO2.LU.FL.MT.CE.AR5  Carbon dioxide (CO2) net fluxes from LULUCF - Forest Land (Mt CO2e)\n",
       "EN.GHG.CO2.LU.MT.CE.AR5     Carbon dioxide (CO2) net fluxes from LULUCF - Total excluding non-tropical fires (Mt CO2e)\n",
       "EN.GHG.CO2.LU.OL.MT.CE.AR5  Carbon dioxide (CO2) net fluxes from LULUCF - Other Land (Mt CO2e)\n",
       "EN.GHG.CO2.LU.OS.MT.CE.AR5  Carbon dioxide (CO2) net fluxes from LULUCF - Organic Soil (Mt CO2e)\n",
       "EN.GHG.CO2.MT.CE.AR5        Carbon dioxide (CO2) emissions (total) excluding LULUCF (Mt CO2e)\n",
       "EN.GHG.CO2.PC.CE.AR5        Carbon dioxide (CO2) emissions excluding LULUCF per capita (t CO2e/capita)\n",
       "EN.GHG.CO2.PI.MT.CE.AR5     Carbon dioxide (CO2) emissions from Power Industry (Energy) (Mt CO2e)\n",
       "EN.GHG.CO2.RT.GDP.KD        Carbon intensity of GDP (kg CO2e per constant 2015 US$ of GDP)\n",
       "EN.GHG.CO2.RT.GDP.PP.KD     Carbon intensity of GDP (kg CO2e per 2021 PPP $ of GDP)\n",
       "EN.GHG.CO2.TR.MT.CE.AR5     Carbon dioxide (CO2) emissions from Transport (Energy) (Mt CO2e)\n",
       "EN.GHG.CO2.WA.MT.CE.AR5     Carbon dioxide (CO2) emissions from Waste (Mt CO2e)\n",
       "EN.GHG.CO2.ZG.AR5           Carbon dioxide (CO2) emissions (total) excluding LULUCF (% change from 1990)\n",
       "EN.GHG.FGAS.IP.MT.CE.AR5    F-gases emissions from Industrial Processes (Mt CO2e)\n",
       "EN.GHG.N2O.AG.MT.CE.AR5     Nitrous oxide (N2O) emissions from Agriculture (Mt CO2e)\n",
       "EN.GHG.N2O.BU.MT.CE.AR5     Nitrous oxide (N2O) emissions from Building (Energy) (Mt CO2e)\n",
       "EN.GHG.N2O.FE.MT.CE.AR5     Nitrous oxide (N2O) emissions from Fugitive Emissions (Energy) (Mt CO2e)\n",
       "EN.GHG.N2O.IC.MT.CE.AR5     Nitrous oxide (N2O) emissions from Industrial Combustion (Energy) (Mt CO2e)\n",
       "EN.GHG.N2O.IP.MT.CE.AR5     Nitrous oxide (N2O) emissions from Industrial Processes (Mt CO2e)\n",
       "EN.GHG.N2O.MT.CE.AR5        Nitrous oxide (N2O) emissions (total) excluding LULUCF (Mt CO2e)\n",
       "EN.GHG.N2O.PI.MT.CE.AR5     Nitrous oxide (N2O) emissions from Power Industry (Energy) (Mt CO2e)\n",
       "EN.GHG.N2O.TR.MT.CE.AR5     Nitrous oxide (N2O) emissions from Transport (Energy) (Mt CO2e)\n",
       "EN.GHG.N2O.WA.MT.CE.AR5     Nitrous oxide (N2O) emissions from Waste (Mt CO2e)\n",
       "EN.GHG.N2O.ZG.AR5           Nitrous oxide (N2O) emissions (total) excluding LULUCF (% change from 1990)\n",
       "EN.GHG.TOT.ZG.AR5           Total greenhouse gas emissions excluding LULUCF (% change from 1990)\n",
       "EN.HPT.THRD.NO              Plant species (higher), threatened\n",
       "EN.MAM.THRD.NO              Mammal species, threatened\n",
       "EN.POP.DNST                 Population density (people per sq. km of land area)\n",
       "EN.POP.EL5M.RU.ZS           Rural population living in areas where elevation is below 5 meters (% of total population)\n",
       "EN.POP.EL5M.UR.ZS           Urban population living in areas where elevation is below 5 meters (% of total population)\n",
       "EN.POP.EL5M.ZS              Population living in areas where elevation is below 5 meters (% of total population)\n",
       "EN.POP.SLUM.UR.ZS           Population living in slums (% of urban population)\n",
       "EN.URB.LCTY                 Population in largest city\n",
       "EN.URB.LCTY.UR.ZS           Population in the largest city (% of urban population)\n",
       "EN.URB.MCTY                 Population in urban agglomerations of more than 1 million\n",
       "EN.URB.MCTY.TL.ZS           Population in urban agglomerations of more than 1 million (% of total population)\n",
       "ER.FSH.AQUA.MT              Aquaculture production (metric tons)\n",
       "ER.FSH.CAPT.MT              Capture fisheries production (metric tons)\n",
       "ER.FSH.PROD.MT              Total fisheries production (metric tons)\n",
       "ER.GDP.FWTL.M3.KD           Water productivity, total (constant 2015 US$ GDP per cubic meter of total freshwater withdrawal)\n",
       "ER.H2O.FWAG.ZS              Annual freshwater withdrawals, agriculture (% of total freshwater withdrawal)\n",
       "ER.H2O.FWDM.ZS              Annual freshwater withdrawals, domestic (% of total freshwater withdrawal)\n",
       "ER.H2O.FWIN.ZS              Annual freshwater withdrawals, industry (% of total freshwater withdrawal)\n",
       "ER.H2O.FWST.ZS              Level of water stress: freshwater withdrawal as a proportion of available freshwater resources\n",
       "ER.H2O.FWTL.K3              Annual freshwater withdrawals, total (billion cubic meters)\n",
       "ER.H2O.FWTL.ZS              Annual freshwater withdrawals, total (% of internal resources)\n",
       "ER.H2O.INTR.K3              Renewable internal freshwater resources, total (billion cubic meters)\n",
       "ER.H2O.INTR.PC              Renewable internal freshwater resources per capita (cubic meters)\n",
       "ER.LND.PTLD.ZS              Terrestrial protected areas (% of total land area)\n",
       "ER.MRN.PTMR.ZS              Marine protected areas (% of territorial waters)\n",
       "ER.PTD.TOTL.ZS              Terrestrial and marine protected areas (% of total territorial area)\n",
       "FB.AST.NPER.ZS              Bank nonperforming loans to total gross loans (%)\n",
       "FB.ATM.TOTL.P5              Automated teller machines (ATMs) (per 100,000 adults)\n",
       "FB.BNK.CAPA.ZS              Bank capital to assets ratio (%)\n",
       "FB.CBK.BRCH.P5              Commercial bank branches (per 100,000 adults)\n",
       "FB.CBK.BRWR.P3              Borrowers from commercial banks (per 1,000 adults)\n",
       "FB.CBK.DPTR.P3              Depositors with commercial banks (per 1,000 adults)\n",
       "FD.AST.PRVT.GD.ZS           Domestic credit to private sector by banks (% of GDP)\n",
       "FD.RES.LIQU.AS.ZS           Bank liquid reserves to bank assets ratio (%)\n",
       "FI.RES.TOTL.CD              Total reserves (includes gold, current US$)\n",
       "FI.RES.TOTL.DT.ZS           Total reserves (% of total external debt)\n",
       "FI.RES.TOTL.MO              Total reserves in months of imports\n",
       "FI.RES.XGLD.CD              Total reserves minus gold (current US$)\n",
       "FM.AST.CGOV.ZG.M3           Claims on central government (annual growth as % of broad money)\n",
       "FM.AST.DOMO.ZG.M3           Claims on other sectors of the domestic economy (annual growth as % of broad money)\n",
       "FM.AST.DOMS.CN              Net domestic credit (current LCU)\n",
       "FM.AST.NFRG.CN              Net foreign assets (current LCU)\n",
       "FM.AST.PRVT.GD.ZS           Monetary Sector credit to private sector (% GDP)\n",
       "FM.AST.PRVT.ZG.M3           Claims on private sector (annual growth as % of broad money)\n",
       "FM.LBL.BMNY.CN              Broad money (current LCU)\n",
       "FM.LBL.BMNY.GD.ZS           Broad money (% of GDP)\n",
       "FM.LBL.BMNY.IR.ZS           Broad money to total reserves ratio\n",
       "FM.LBL.BMNY.ZG              Broad money growth (annual %)\n",
       "FP.CPI.TOTL                 Consumer price index (2010 = 100)\n",
       "FP.CPI.TOTL.ZG              Inflation, consumer prices (annual %)\n",
       "FP.WPI.TOTL                 Wholesale price index (2010 = 100)\n",
       "FR.INR.DPST                 Deposit interest rate (%)\n",
       "FR.INR.LEND                 Lending interest rate (%)\n",
       "FR.INR.LNDP                 Interest rate spread (lending rate minus deposit rate, %)\n",
       "FR.INR.RINR                 Real interest rate (%)\n",
       "FR.INR.RISK                 Risk premium on lending (lending rate minus treasury bill rate, %)\n",
       "FS.AST.CGOV.GD.ZS           Claims on central government, etc. (% GDP)\n",
       "FS.AST.DOMO.GD.ZS           Claims on other sectors of the domestic economy (% of GDP)\n",
       "FS.AST.DOMS.GD.ZS           Domestic credit provided by financial sector (% of GDP)\n",
       "FS.AST.PRVT.GD.ZS           Domestic credit to private sector (% of GDP)\n",
       "FX.OWN.TOTL.40.ZS           Account ownership at a financial institution or with a mobile-money-service provider, poorest 40% (% of population ages 15+)\n",
       "FX.OWN.TOTL.60.ZS           Account ownership at a financial institution or with a mobile-money-service provider, richest 60% (% of population ages 15+)\n",
       "FX.OWN.TOTL.FE.ZS           Account ownership at a financial institution or with a mobile-money-service provider, female (% of population ages 15+)\n",
       "FX.OWN.TOTL.MA.ZS           Account ownership at a financial institution or with a mobile-money-service provider, male (% of population ages 15+)\n",
       "FX.OWN.TOTL.OL.ZS           Account ownership at a financial institution or with a mobile-money-service provider, older adults (% of population ages 25+)\n",
       "FX.OWN.TOTL.PL.ZS           Account ownership at a financial institution or with a mobile-money-service provider, primary education or less (% of population ages 15+)\n",
       "FX.OWN.TOTL.SO.ZS           Account ownership at a financial institution or with a mobile-money-service provider, secondary education or more (% of population ages 15+)\n",
       "FX.OWN.TOTL.YG.ZS           Account ownership at a financial institution or with a mobile-money-service provider, young adults (% of population ages 15-24)\n",
       "FX.OWN.TOTL.ZS              Account ownership at a financial institution or with a mobile-money-service provider (% of population ages 15+)\n",
       "GB.XPD.RSDV.GD.ZS           Research and development expenditure (% of GDP)\n",
       "GC.AST.TOTL.CN              Net acquisition of financial assets (current LCU)\n",
       "GC.AST.TOTL.GD.ZS           Net acquisition of financial assets (% of GDP)\n",
       "GC.DOD.TOTL.CN              Central government debt, total (current LCU)\n",
       "GC.DOD.TOTL.GD.ZS           Central government debt, total (% of GDP)\n",
       "GC.LBL.TOTL.CN              Net incurrence of liabilities, total (current LCU)\n",
       "GC.LBL.TOTL.GD.ZS           Net incurrence of liabilities, total (% of GDP)\n",
       "GC.NFN.TOTL.CN              Net investment in nonfinancial assets (current LCU)\n",
       "GC.NFN.TOTL.GD.ZS           Net investment in nonfinancial assets (% of GDP)\n",
       "GC.NLD.TOTL.CN              Net lending (+) / net borrowing (-) (current LCU)\n",
       "GC.NLD.TOTL.GD.ZS           Net lending (+) / net borrowing (-) (% of GDP)\n",
       "GC.REV.GOTR.CN              Grants and other revenue (current LCU)\n",
       "GC.REV.GOTR.ZS              Grants and other revenue (% of revenue)\n",
       "GC.REV.SOCL.CN              Social contributions (current LCU)\n",
       "GC.REV.SOCL.ZS              Social contributions (% of revenue)\n",
       "GC.REV.XGRT.CN              Revenue, excluding grants (current LCU)\n",
       "GC.REV.XGRT.GD.ZS           Revenue, excluding grants (% of GDP)\n",
       "GC.TAX.EXPT.CN              Taxes on exports (current LCU)\n",
       "GC.TAX.EXPT.ZS              Taxes on exports (% of tax revenue)\n",
       "GC.TAX.GSRV.CN              Taxes on goods and services (current LCU)\n",
       "GC.TAX.GSRV.RV.ZS           Taxes on goods and services (% of revenue)\n",
       "GC.TAX.GSRV.VA.ZS           Taxes on goods and services (% value added of industry and services)\n",
       "GC.TAX.IMPT.CN              Customs and other import duties (current LCU)\n",
       "GC.TAX.IMPT.ZS              Customs and other import duties (% of tax revenue)\n",
       "GC.TAX.INTT.CN              Taxes on international trade (current LCU)\n",
       "GC.TAX.INTT.RV.ZS           Taxes on international trade (% of revenue)\n",
       "GC.TAX.OTHR.CN              Other taxes (current LCU)\n",
       "GC.TAX.OTHR.RV.ZS           Other taxes (% of revenue)\n",
       "GC.TAX.TOTL.CN              Tax revenue (current LCU)\n",
       "GC.TAX.TOTL.GD.ZS           Tax revenue (% of GDP)\n",
       "GC.TAX.YPKG.CN              Taxes on income, profits and capital gains (current LCU)\n",
       "GC.TAX.YPKG.RV.ZS           Taxes on income, profits and capital gains (% of revenue)\n",
       "GC.TAX.YPKG.ZS              Taxes on income, profits and capital gains (% of total taxes)\n",
       "GC.XPN.COMP.CN              Compensation of employees (current LCU)\n",
       "GC.XPN.COMP.ZS              Compensation of employees (% of expense)\n",
       "GC.XPN.GSRV.CN              Goods and services expense (current LCU)\n",
       "GC.XPN.GSRV.ZS              Goods and services expense (% of expense)\n",
       "GC.XPN.INTP.CN              Interest payments (current LCU)\n",
       "GC.XPN.INTP.RV.ZS           Interest payments (% of revenue)\n",
       "GC.XPN.INTP.ZS              Interest payments (% of expense)\n",
       "GC.XPN.OTHR.CN              Other expense (current LCU)\n",
       "GC.XPN.OTHR.ZS              Other expense (% of expense)\n",
       "GC.XPN.TOTL.CN              Expense (current LCU)\n",
       "GC.XPN.TOTL.GD.ZS           Expense (% of GDP)\n",
       "GC.XPN.TRFT.CN              Subsidies and other transfers (current LCU)\n",
       "GC.XPN.TRFT.ZS              Subsidies and other transfers (% of expense)\n",
       "GE.EST                      Government Effectiveness: Estimate\n",
       "GE.NO.SRC                   Government Effectiveness: Number of Sources\n",
       "GE.PER.RNK                  Government Effectiveness: Percentile Rank\n",
       "GE.PER.RNK.LOWER            Government Effectiveness: Percentile Rank, Lower Bound of 90% Confidence Interval\n",
       "GE.PER.RNK.UPPER            Government Effectiveness: Percentile Rank, Upper Bound of 90% Confidence Interval\n",
       "GE.STD.ERR                  Government Effectiveness: Standard Error\n",
       "GF.XPD.BUDG.ZS              Primary government expenditures as a proportion of original approved budget (%)\n",
       "HD.HCI.OVRL                 Human Capital Index (HCI) (scale 0-1)\n",
       "HD.HCI.OVRL.FE              Human Capital Index (HCI), Female (scale 0-1)\n",
       "HD.HCI.OVRL.LB              Human Capital Index (HCI), Lower Bound (scale 0-1)\n",
       "HD.HCI.OVRL.LB.FE           Human Capital Index (HCI), Female, Lower Bound (scale 0-1)\n",
       "HD.HCI.OVRL.LB.MA           Human Capital Index (HCI), Male, Lower Bound (scale 0-1)\n",
       "HD.HCI.OVRL.MA              Human Capital Index (HCI), Male (scale 0-1)\n",
       "HD.HCI.OVRL.UB              Human Capital Index (HCI), Upper Bound (scale 0-1)\n",
       "HD.HCI.OVRL.UB.FE           Human Capital Index (HCI), Female, Upper Bound (scale 0-1)\n",
       "HD.HCI.OVRL.UB.MA           Human Capital Index (HCI), Male, Upper Bound (scale 0-1)\n",
       "IC.BUS.DFRN.XQ              Ease of doing business score (0 = lowest performance to 100 = best performance)\n",
       "IC.BUS.DISC.XQ              Business extent of disclosure index (0=less disclosure to 10=more disclosure)\n",
       "IC.BUS.EASE.XQ              Ease of doing business rank (1=most business-friendly regulations)\n",
       "IC.BUS.NDNS.ZS              New business density (new registrations per 1,000 people ages 15-64)\n",
       "IC.BUS.NREG                 New businesses registered (number)\n",
       "IC.CRD.INFO.XQ              Depth of credit information index (0=low to 8=high)\n",
       "IC.CRD.PRVT.ZS              Private credit bureau coverage (% of adults)\n",
       "IC.CRD.PUBL.ZS              Public credit registry coverage (% of adults)\n",
       "IC.CUS.DURS.EX              Average time to clear exports through customs (days)\n",
       "IC.ELC.DURS                 Time to obtain an electrical connection (days)\n",
       "IC.ELC.OUTG                 Power outages in firms in a typical month (number)\n",
       "IC.ELC.OUTG.ZS              Firms experiencing electrical outages (% of firms)\n",
       "IC.ELC.TIME                 Time required to get electricity (days)\n",
       "IC.EXP.CSBC.CD              Cost to export, border compliance (US$)\n",
       "IC.EXP.CSDC.CD              Cost to export, documentary compliance (US$)\n",
       "IC.EXP.TMBC                 Time to export, border compliance (hours)\n",
       "IC.EXP.TMDC                 Time to export, documentary compliance (hours)\n",
       "IC.FRM.BKWC.ZS              Firms using banks to finance working capital (% of firms)\n",
       "IC.FRM.BNKS.ZS              Firms using banks to finance investment (% of firms)\n",
       "IC.FRM.BRIB.ZS              Bribery incidence (% of firms experiencing at least one bribe payment request)\n",
       "IC.FRM.CMPU.ZS              Firms competing against unregistered firms (% of firms)\n",
       "IC.FRM.CORR.ZS              Informal payments to public officials (% of firms)\n",
       "IC.FRM.CRIM.ZS              Losses due to theft and vandalism (% of annual sales for affected firms)\n",
       "IC.FRM.DURS                 Time required to obtain an operating license (days)\n",
       "IC.FRM.FEMM.ZS              Firms with female top manager (% of firms)\n",
       "IC.FRM.FEMO.ZS              Firms with female participation in ownership (% of firms)\n",
       "IC.FRM.FREG.ZS              Firms formally registered when operations started (% of firms)\n",
       "IC.FRM.INFM.ZS              Firms that do not report all sales for tax purposes (% of firms)\n",
       "IC.FRM.METG.ZS              Firms visited or required meetings with tax officials (% of firms)\n",
       "IC.FRM.OUTG.ZS              Value lost due to electrical outages (% of sales for affected firms)\n",
       "IC.FRM.RSDV.ZS              Firms that spend on R&D (% of firms)\n",
       "IC.FRM.THEV.ZS              Firms experiencing losses due to theft and vandalism (% of firms)\n",
       "IC.FRM.TRNG.ZS              Firms offering formal training (% of firms)\n",
       "IC.GOV.DURS.ZS              Time spent dealing with the requirements of government regulations (% of senior management time)\n",
       "IC.IMP.CSBC.CD              Cost to import, border compliance (US$)\n",
       "IC.IMP.CSDC.CD              Cost to import, documentary compliance (US$)\n",
       "IC.IMP.TMBC                 Time to import, border compliance (hours)\n",
       "IC.IMP.TMDC                 Time to import, documentary compliance (hours)\n",
       "IC.ISV.DURS                 Time to resolve insolvency (years)\n",
       "IC.LGL.CRED.XQ              Strength of legal rights index (0=weak to 12=strong)\n",
       "IC.LGL.DURS                 Time required to enforce a contract (days)\n",
       "IC.PRP.DURS                 Time required to register property (days)\n",
       "IC.PRP.PROC                 Procedures to register property (number)\n",
       "IC.REG.COST.PC.FE.ZS        Cost of business start-up procedures, female (% of GNI per capita)\n",
       "IC.REG.COST.PC.MA.ZS        Cost of business start-up procedures, male (% of GNI per capita)\n",
       "IC.REG.COST.PC.ZS           Cost of business start-up procedures (% of GNI per capita)\n",
       "IC.REG.DURS                 Time required to start a business (days)\n",
       "IC.REG.DURS.FE              Time required to start a business, female (days)\n",
       "IC.REG.DURS.MA              Time required to start a business, male (days)\n",
       "IC.REG.PROC                 Start-up procedures to register a business (number)\n",
       "IC.REG.PROC.FE              Start-up procedures to register a business, female (number)\n",
       "IC.REG.PROC.MA              Start-up procedures to register a business, male (number)\n",
       "IC.TAX.DURS                 Time to prepare and pay taxes (hours)\n",
       "IC.TAX.GIFT.ZS              Firms expected to give gifts in meetings with tax officials (% of firms)\n",
       "IC.TAX.LABR.CP.ZS           Labor tax and contributions (% of commercial profits)\n",
       "IC.TAX.METG                 Number of visits or required meetings with tax officials (average for affected firms)\n",
       "IC.TAX.OTHR.CP.ZS           Other taxes payable by businesses (% of commercial profits)\n",
       "IC.TAX.PAYM                 Tax payments (number)\n",
       "IC.TAX.PRFT.CP.ZS           Profit tax (% of commercial profits)\n",
       "IC.TAX.TOTL.CP.ZS           Total tax and contribution rate (% of profit)\n",
       "IC.WRH.DURS                 Time required to build a warehouse (days)\n",
       "IC.WRH.PROC                 Procedures to build a warehouse (number)\n",
       "IE.PPI.ENGY.CD              Investment in energy with private participation (current US$)\n",
       "IE.PPI.ICTI.CD              Investment in ICT with private participation (current US$)\n",
       "IE.PPI.TRAN.CD              Investment in transport with private participation (current US$)\n",
       "IE.PPI.WATR.CD              Investment in water and sanitation with private participation (current US$)\n",
       "IE.PPN.ENGY.CD              Public private partnerships investment in energy (current US$)\n",
       "IE.PPN.ICTI.CD              Public private partnerships investment in ICT (current US$)\n",
       "IE.PPN.TRAN.CD              Public private partnerships investment in transport (current US$)\n",
       "IE.PPN.WATR.CD              Public private partnerships investment in water and sanitation (current US$)\n",
       "IP.IDS.NRCT                 Industrial design applications, nonresident, by count\n",
       "IP.IDS.RSCT                 Industrial design applications, resident, by count\n",
       "IP.JRN.ARTC.SC              Scientific and technical journal articles\n",
       "IP.PAT.NRES                 Patent applications, nonresidents\n",
       "IP.PAT.RESD                 Patent applications, residents\n",
       "IP.TMK.NRCT                 Trademark applications, nonresident, by count\n",
       "IP.TMK.RSCT                 Trademark applications, resident, by count\n",
       "IQ.CPA.BREG.XQ              CPIA business regulatory environment rating (1=low to 6=high)\n",
       "IQ.CPA.DEBT.XQ              CPIA debt policy rating (1=low to 6=high)\n",
       "IQ.CPA.ECON.XQ              CPIA economic management cluster average (1=low to 6=high)\n",
       "IQ.CPA.ENVR.XQ              CPIA policy and institutions for environmental sustainability rating (1=low to 6=high)\n",
       "IQ.CPA.FINQ.XQ              CPIA quality of budgetary and financial management rating (1=low to 6=high)\n",
       "IQ.CPA.FINS.XQ              CPIA financial sector rating (1=low to 6=high)\n",
       "IQ.CPA.FISP.XQ              CPIA fiscal policy rating (1=low to 6=high)\n",
       "IQ.CPA.GNDR.XQ              CPIA gender equality rating (1=low to 6=high)\n",
       "IQ.CPA.HRES.XQ              CPIA building human resources rating (1=low to 6=high)\n",
       "IQ.CPA.IRAI.XQ              IDA resource allocation index (1=low to 6=high)\n",
       "IQ.CPA.MACR.XQ              CPIA macroeconomic management rating (1=low to 6=high)\n",
       "IQ.CPA.PADM.XQ              CPIA quality of public administration rating (1=low to 6=high)\n",
       "IQ.CPA.PRES.XQ              CPIA equity of public resource use rating (1=low to 6=high)\n",
       "IQ.CPA.PROP.XQ              CPIA property rights and rule-based governance rating (1=low to 6=high)\n",
       "IQ.CPA.PROT.XQ              CPIA social protection rating (1=low to 6=high)\n",
       "IQ.CPA.PUBS.XQ              CPIA public sector management and institutions cluster average (1=low to 6=high)\n",
       "IQ.CPA.REVN.XQ              CPIA efficiency of revenue mobilization rating (1=low to 6=high)\n",
       "IQ.CPA.SOCI.XQ              CPIA policies for social inclusion/equity cluster average (1=low to 6=high)\n",
       "IQ.CPA.STRC.XQ              CPIA structural policies cluster average (1=low to 6=high)\n",
       "IQ.CPA.TRAD.XQ              CPIA trade rating (1=low to 6=high)\n",
       "IQ.CPA.TRAN.XQ              CPIA transparency, accountability, and corruption in the public sector rating (1=low to 6=high)\n",
       "IQ.SPI.OVRL                 Statistical performance indicators (SPI): Overall score (scale 0-100)\n",
       "IQ.SPI.PIL1                 Statistical performance indicators (SPI): Pillar 1 data use score (scale 0-100)\n",
       "IQ.SPI.PIL2                 Statistical performance indicators (SPI): Pillar 2 data services score (scale 0-100)\n",
       "IQ.SPI.PIL3                 Statistical performance indicators (SPI): Pillar 3 data products score  (scale 0-100)\n",
       "IQ.SPI.PIL4                 Statistical performance indicators (SPI): Pillar 4 data sources score (scale 0-100)\n",
       "IQ.SPI.PIL5                 Statistical performance indicators (SPI): Pillar 5 data infrastructure score (scale 0-100)\n",
       "IS.AIR.DPRT                 Air transport, registered carrier departures worldwide\n",
       "IS.AIR.GOOD.MT.K1           Air transport, freight (million ton-km)\n",
       "IS.AIR.PSGR                 Air transport, passengers carried\n",
       "IS.RRS.GOOD.MT.K6           Railways, goods transported (million ton-km)\n",
       "IS.RRS.PASG.KM              Railways, passengers carried (million passenger-km)\n",
       "IS.RRS.TOTL.KM              Rail lines (total route-km)\n",
       "IS.SHP.GCNW.XQ              Liner shipping connectivity index (maximum value in 2004 = 100)\n",
       "IS.SHP.GOOD.TU              Container port traffic (TEU: 20 foot equivalent units)\n",
       "IT.CEL.SETS                 Mobile cellular subscriptions\n",
       "IT.CEL.SETS.P2              Mobile cellular subscriptions (per 100 people)\n",
       "IT.MLT.MAIN                 Fixed telephone subscriptions\n",
       "IT.MLT.MAIN.P2              Fixed telephone subscriptions (per 100 people)\n",
       "IT.NET.BBND                 Fixed broadband subscriptions\n",
       "IT.NET.BBND.P2              Fixed broadband subscriptions (per 100 people)\n",
       "IT.NET.SECR                 Secure Internet servers\n",
       "IT.NET.SECR.P6              Secure Internet servers (per 1 million people)\n",
       "IT.NET.USER.FE.ZS           Individuals using the Internet, female (% of female population)\n",
       "IT.NET.USER.MA.ZS           Individuals using the Internet, male (% of male population)\n",
       "IT.NET.USER.ZS              Individuals using the Internet (% of population)\n",
       "LP.EXP.DURS.MD              Lead time to export, median case (days)\n",
       "LP.IMP.DURS.MD              Lead time to import, median case (days)\n",
       "LP.LPI.CUST.XQ              Logistics performance index: Efficiency of customs clearance process (1=low to 5=high)\n",
       "LP.LPI.INFR.XQ              Logistics performance index: Quality of trade and transport-related infrastructure (1=low to 5=high)\n",
       "LP.LPI.ITRN.XQ              Logistics performance index: Ease of arranging competitively priced shipments (1=low to 5=high)\n",
       "LP.LPI.LOGS.XQ              Logistics performance index: Competence and quality of logistics services (1=low to 5=high)\n",
       "LP.LPI.OVRL.XQ              Logistics performance index: Overall (1=low to 5=high)\n",
       "LP.LPI.TIME.XQ              Logistics performance index: Frequency with which shipments reach consignee within scheduled or expected time (1=low to 5=high)\n",
       "LP.LPI.TRAC.XQ              Logistics performance index: Ability to track and trace consignments (1=low to 5=high)\n",
       "MS.MIL.MPRT.KD              Arms imports (SIPRI trend indicator values)\n",
       "MS.MIL.TOTL.P1              Armed forces personnel, total\n",
       "MS.MIL.TOTL.TF.ZS           Armed forces personnel (% of total labor force)\n",
       "MS.MIL.XPND.CD              Military expenditure (current USD)\n",
       "MS.MIL.XPND.CN              Military expenditure (current LCU)\n",
       "MS.MIL.XPND.GD.ZS           Military expenditure (% of GDP)\n",
       "MS.MIL.XPND.ZS              Military expenditure (% of general government expenditure)\n",
       "MS.MIL.XPRT.KD              Arms exports (SIPRI trend indicator values)\n",
       "NE.CON.GOVT.CD              General government final consumption expenditure (current US$)\n",
       "NE.CON.GOVT.CN              General government final consumption expenditure (current LCU)\n",
       "NE.CON.GOVT.KD              General government final consumption expenditure (constant 2015 US$)\n",
       "NE.CON.GOVT.KD.ZG           General government final consumption expenditure (annual % growth)\n",
       "NE.CON.GOVT.KN              General government final consumption expenditure (constant LCU)\n",
       "NE.CON.GOVT.ZS              General government final consumption expenditure (% of GDP)\n",
       "NE.CON.PRVT.CD              Households and NPISHs Final consumption expenditure (current US$)\n",
       "NE.CON.PRVT.CN              Households and NPISHs Final consumption expenditure (current LCU)\n",
       "NE.CON.PRVT.CN.AD           Households and NPISHs final consumption expenditure: linked series (current LCU)\n",
       "NE.CON.PRVT.KD              Households and NPISHs Final consumption expenditure (constant 2015 US$)\n",
       "NE.CON.PRVT.KD.ZG           Households and NPISHs Final consumption expenditure (annual % growth)\n",
       "NE.CON.PRVT.KN              Households and NPISHs Final consumption expenditure (constant LCU)\n",
       "NE.CON.PRVT.PC.KD           Households and NPISHs Final consumption expenditure per capita (constant 2015 US$)\n",
       "NE.CON.PRVT.PC.KD.ZG        Households and NPISHs Final consumption expenditure per capita growth (annual %)\n",
       "NE.CON.PRVT.PP.CD           Households and NPISHs Final consumption expenditure, PPP (current international $)\n",
       "NE.CON.PRVT.PP.KD           Households and NPISHs Final consumption expenditure, PPP (constant 2021 international $)\n",
       "NE.CON.PRVT.ZS              Households and NPISHs final consumption expenditure (% of GDP)\n",
       "NE.CON.TOTL.CD              Final consumption expenditure (current US$)\n",
       "NE.CON.TOTL.CN              Final consumption expenditure (current LCU)\n",
       "NE.CON.TOTL.KD              Final consumption expenditure (constant 2015 US$)\n",
       "NE.CON.TOTL.KD.ZG           Final consumption expenditure (annual % growth)\n",
       "NE.CON.TOTL.KN              Final consumption expenditure (constant LCU)\n",
       "NE.CON.TOTL.ZS              Final consumption expenditure (% of GDP)\n",
       "NE.DAB.DEFL.ZS              Gross national expenditure deflator (base year varies by country)\n",
       "NE.DAB.TOTL.CD              Gross national expenditure (current US$)\n",
       "NE.DAB.TOTL.CN              Gross national expenditure (current LCU)\n",
       "NE.DAB.TOTL.KD              Gross national expenditure (constant 2015 US$)\n",
       "NE.DAB.TOTL.KN              Gross national expenditure (constant LCU)\n",
       "NE.DAB.TOTL.ZS              Gross national expenditure (% of GDP)\n",
       "NE.EXP.GNFS.CD              Exports of goods and services (current US$)\n",
       "NE.EXP.GNFS.CN              Exports of goods and services (current LCU)\n",
       "NE.EXP.GNFS.KD              Exports of goods and services (constant 2015 US$)\n",
       "NE.EXP.GNFS.KD.ZG           Exports of goods and services (annual % growth)\n",
       "NE.EXP.GNFS.KN              Exports of goods and services (constant LCU)\n",
       "NE.EXP.GNFS.ZS              Exports of goods and services (% of GDP)\n",
       "NE.GDI.FPRV.CN              Gross fixed capital formation, private sector (current LCU)\n",
       "NE.GDI.FPRV.ZS              Gross fixed capital formation, private sector (% of GDP)\n",
       "NE.GDI.FTOT.CD              Gross fixed capital formation (current US$)\n",
       "NE.GDI.FTOT.CN              Gross fixed capital formation (current LCU)\n",
       "NE.GDI.FTOT.KD              Gross fixed capital formation (constant 2015 US$)\n",
       "NE.GDI.FTOT.KD.ZG           Gross fixed capital formation (annual % growth)\n",
       "NE.GDI.FTOT.KN              Gross fixed capital formation (constant LCU)\n",
       "NE.GDI.FTOT.ZS              Gross fixed capital formation (% of GDP)\n",
       "NE.GDI.STKB.CD              Changes in inventories (current US$)\n",
       "NE.GDI.STKB.CN              Changes in inventories (current LCU)\n",
       "NE.GDI.STKB.KN              Changes in inventories (constant LCU)\n",
       "NE.GDI.TOTL.CD              Gross capital formation (current US$)\n",
       "NE.GDI.TOTL.CN              Gross capital formation (current LCU)\n",
       "NE.GDI.TOTL.KD              Gross capital formation (constant 2015 US$)\n",
       "NE.GDI.TOTL.KD.ZG           Gross capital formation (annual % growth)\n",
       "NE.GDI.TOTL.KN              Gross capital formation (constant LCU)\n",
       "NE.GDI.TOTL.ZS              Gross capital formation (% of GDP)\n",
       "NE.IMP.GNFS.CD              Imports of goods and services (current US$)\n",
       "NE.IMP.GNFS.CN              Imports of goods and services (current LCU)\n",
       "NE.IMP.GNFS.KD              Imports of goods and services (constant 2015 US$)\n",
       "NE.IMP.GNFS.KD.ZG           Imports of goods and services (annual % growth)\n",
       "NE.IMP.GNFS.KN              Imports of goods and services (constant LCU)\n",
       "NE.IMP.GNFS.ZS              Imports of goods and services (% of GDP)\n",
       "NE.RSB.GNFS.CD              External balance on goods and services (current US$)\n",
       "NE.RSB.GNFS.CN              External balance on goods and services (current LCU)\n",
       "NE.RSB.GNFS.KN              External balance on goods and services (constant LCU)\n",
       "NE.RSB.GNFS.ZS              External balance on goods and services (% of GDP)\n",
       "NE.TRD.GNFS.ZS              Trade (% of GDP)\n",
       "NV.AGR.EMPL.KD              Agriculture, forestry, and fishing, value added per worker (constant 2015 US$)\n",
       "NV.AGR.TOTL.CD              Agriculture, forestry, and fishing, value added (current US$)\n",
       "NV.AGR.TOTL.CN              Agriculture, forestry, and fishing, value added (current LCU)\n",
       "NV.AGR.TOTL.KD              Agriculture, forestry, and fishing, value added (constant 2015 US$)\n",
       "NV.AGR.TOTL.KD.ZG           Agriculture, forestry, and fishing, value added (annual % growth)\n",
       "NV.AGR.TOTL.KN              Agriculture, forestry, and fishing, value added (constant LCU)\n",
       "NV.AGR.TOTL.ZS              Agriculture, forestry, and fishing, value added (% of GDP)\n",
       "NV.FSM.TOTL.CN              Financial intermediary services indirectly Measured (FISIM) (current LCU)\n",
       "NV.FSM.TOTL.KN              Financial intermediary services indirectly Measured (FISIM) (constant LCU)\n",
       "NV.IND.EMPL.KD              Industry (including construction), value added per worker (constant 2015 US$)\n",
       "NV.IND.MANF.CD              Manufacturing, value added (current US$)\n",
       "NV.IND.MANF.CN              Manufacturing, value added (current LCU)\n",
       "NV.IND.MANF.KD              Manufacturing, value added (constant 2015 US$)\n",
       "NV.IND.MANF.KD.ZG           Manufacturing, value added (annual % growth)\n",
       "NV.IND.MANF.KN              Manufacturing, value added (constant LCU)\n",
       "NV.IND.MANF.ZS              Manufacturing, value added (% of GDP)\n",
       "NV.IND.TOTL.CD              Industry (including construction), value added (current US$)\n",
       "NV.IND.TOTL.CN              Industry (including construction), value added (current LCU)\n",
       "NV.IND.TOTL.KD              Industry (including construction), value added (constant 2015 US$)\n",
       "NV.IND.TOTL.KD.ZG           Industry (including construction), value added (annual % growth)\n",
       "NV.IND.TOTL.KN              Industry (including construction), value added (constant LCU)\n",
       "NV.IND.TOTL.ZS              Industry (including construction), value added (% of GDP)\n",
       "NV.MNF.CHEM.ZS.UN           Chemicals (% of value added in manufacturing)\n",
       "NV.MNF.FBTO.ZS.UN           Food, beverages and tobacco (% of value added in manufacturing)\n",
       "NV.MNF.MTRN.ZS.UN           Machinery and transport equipment (% of value added in manufacturing)\n",
       "NV.MNF.OTHR.ZS.UN           Other manufacturing (% of value added in manufacturing)\n",
       "NV.MNF.TECH.ZS.UN           Medium and high-tech manufacturing value added (% manufacturing value added)\n",
       "NV.MNF.TXTL.ZS.UN           Textiles and clothing (% of value added in manufacturing)\n",
       "NV.SRV.EMPL.KD              Services, value added per worker (constant 2015 US$)\n",
       "NV.SRV.TOTL.CD              Services, value added (current US$)\n",
       "NV.SRV.TOTL.CN              Services, value added (current LCU)\n",
       "NV.SRV.TOTL.KD              Services, value added (constant 2015 US$)\n",
       "NV.SRV.TOTL.KD.ZG           Services, value added (annual % growth)\n",
       "NV.SRV.TOTL.KN              Services, value added (constant LCU)\n",
       "NV.SRV.TOTL.ZS              Services, value added (% of GDP)\n",
       "NY.ADJ.AEDU.CD              Adjusted savings: education expenditure (current US$)\n",
       "NY.ADJ.AEDU.GN.ZS           Adjusted savings: education expenditure (% of GNI)\n",
       "NY.ADJ.DCO2.CD              Adjusted savings: carbon dioxide damage (current US$)\n",
       "NY.ADJ.DCO2.GN.ZS           Adjusted savings: carbon dioxide damage (% of GNI)\n",
       "NY.ADJ.DFOR.CD              Adjusted savings: net forest depletion (current US$)\n",
       "NY.ADJ.DFOR.GN.ZS           Adjusted savings: net forest depletion (% of GNI)\n",
       "NY.ADJ.DKAP.CD              Adjusted savings: consumption of fixed capital (current US$)\n",
       "NY.ADJ.DKAP.GN.ZS           Adjusted savings: consumption of fixed capital (% of GNI)\n",
       "NY.ADJ.DMIN.CD              Adjusted savings: mineral depletion (current US$)\n",
       "NY.ADJ.DMIN.GN.ZS           Adjusted savings: mineral depletion (% of GNI)\n",
       "NY.ADJ.DNGY.CD              Adjusted savings: energy depletion (current US$)\n",
       "NY.ADJ.DNGY.GN.ZS           Adjusted savings: energy depletion (% of GNI)\n",
       "NY.ADJ.DPEM.CD              Adjusted savings: particulate emission damage (current US$)\n",
       "NY.ADJ.DPEM.GN.ZS           Adjusted savings: particulate emission damage (% of GNI)\n",
       "NY.ADJ.DRES.GN.ZS           Adjusted savings: natural resources depletion (% of GNI)\n",
       "NY.ADJ.ICTR.GN.ZS           Adjusted savings: gross savings (% of GNI)\n",
       "NY.ADJ.NNAT.CD              Adjusted savings: net national savings (current US$)\n",
       "NY.ADJ.NNAT.GN.ZS           Adjusted savings: net national savings (% of GNI)\n",
       "NY.ADJ.NNTY.CD              Adjusted net national income (current US$)\n",
       "NY.ADJ.NNTY.KD              Adjusted net national income (constant 2015 US$)\n",
       "NY.ADJ.NNTY.KD.ZG           Adjusted net national income (annual % growth)\n",
       "NY.ADJ.NNTY.PC.CD           Adjusted net national income per capita (current US$)\n",
       "NY.ADJ.NNTY.PC.KD           Adjusted net national income per capita (constant 2015 US$)\n",
       "NY.ADJ.NNTY.PC.KD.ZG        Adjusted net national income per capita (annual % growth)\n",
       "NY.ADJ.SVNG.CD              Adjusted net savings, including particulate emission damage (current US$)\n",
       "NY.ADJ.SVNG.GN.ZS           Adjusted net savings, including particulate emission damage (% of GNI)\n",
       "NY.ADJ.SVNX.CD              Adjusted net savings, excluding particulate emission damage (current US$)\n",
       "NY.ADJ.SVNX.GN.ZS           Adjusted net savings, excluding particulate emission damage (% of GNI)\n",
       "NY.EXP.CAPM.KN              Exports as a capacity to import (constant LCU)\n",
       "NY.GDP.COAL.RT.ZS           Coal rents (% of GDP)\n",
       "NY.GDP.DEFL.KD.ZG           Inflation, GDP deflator (annual %)\n",
       "NY.GDP.DEFL.KD.ZG.AD        Inflation, GDP deflator: linked series (annual %)\n",
       "NY.GDP.DEFL.ZS              GDP deflator (base year varies by country)\n",
       "NY.GDP.DEFL.ZS.AD           GDP deflator: linked series (base year varies by country)\n",
       "NY.GDP.DISC.CN              Discrepancy in expenditure estimate of GDP (current LCU)\n",
       "NY.GDP.DISC.KN              Discrepancy in expenditure estimate of GDP (constant LCU)\n",
       "NY.GDP.FCST.CD              Gross value added at basic prices (GVA) (current US$)\n",
       "NY.GDP.FCST.CN              Gross value added at basic prices (GVA) (current LCU)\n",
       "NY.GDP.FCST.KD              Gross value added at basic prices (GVA) (constant 2015 US$)\n",
       "NY.GDP.FCST.KN              Gross value added at basic prices (GVA) (constant LCU)\n",
       "NY.GDP.FRST.RT.ZS           Forest rents (% of GDP)\n",
       "NY.GDP.MINR.RT.ZS           Mineral rents (% of GDP)\n",
       "NY.GDP.MKTP.CD              GDP (current US$)\n",
       "NY.GDP.MKTP.CN              GDP (current LCU)\n",
       "NY.GDP.MKTP.CN.AD           GDP: linked series (current LCU)\n",
       "NY.GDP.MKTP.KD              GDP (constant 2015 US$)\n",
       "NY.GDP.MKTP.KD.ZG           GDP growth (annual %)\n",
       "NY.GDP.MKTP.KN              GDP (constant LCU)\n",
       "NY.GDP.MKTP.PP.CD           GDP, PPP (current international $)\n",
       "NY.GDP.MKTP.PP.KD           GDP, PPP (constant 2021 international $)\n",
       "NY.GDP.NGAS.RT.ZS           Natural gas rents (% of GDP)\n",
       "NY.GDP.PCAP.CD              GDP per capita (current US$)\n",
       "NY.GDP.PCAP.CN              GDP per capita (current LCU)\n",
       "NY.GDP.PCAP.KD              GDP per capita (constant 2015 US$)\n",
       "NY.GDP.PCAP.KD.ZG           GDP per capita growth (annual %)\n",
       "NY.GDP.PCAP.KN              GDP per capita (constant LCU)\n",
       "NY.GDP.PCAP.PP.CD           GDP per capita, PPP (current international $)\n",
       "NY.GDP.PCAP.PP.KD           GDP per capita, PPP (constant 2021 international $)\n",
       "NY.GDP.PETR.RT.ZS           Oil rents (% of GDP)\n",
       "NY.GDP.TOTL.RT.ZS           Total natural resources rents (% of GDP)\n",
       "NY.GDS.TOTL.CD              Gross domestic savings (current US$)\n",
       "NY.GDS.TOTL.CN              Gross domestic savings (current LCU)\n",
       "NY.GDS.TOTL.ZS              Gross domestic savings (% of GDP)\n",
       "NY.GDY.TOTL.KN              Gross domestic income (constant LCU)\n",
       "NY.GNP.ATLS.CD              GNI, Atlas method (current US$)\n",
       "NY.GNP.MKTP.CD              GNI (current US$)\n",
       "NY.GNP.MKTP.CN              GNI (current LCU)\n",
       "NY.GNP.MKTP.CN.AD           GNI: linked series (current LCU)\n",
       "NY.GNP.MKTP.KD              GNI (constant 2015 US$)\n",
       "NY.GNP.MKTP.KD.ZG           GNI growth (annual %)\n",
       "NY.GNP.MKTP.KN              GNI (constant LCU)\n",
       "NY.GNP.MKTP.PP.CD           GNI, PPP (current international $)\n",
       "NY.GNP.MKTP.PP.KD           GNI, PPP (constant 2021 international $)\n",
       "NY.GNP.PCAP.CD              GNI per capita, Atlas method (current US$)\n",
       "NY.GNP.PCAP.CN              GNI per capita (current LCU)\n",
       "NY.GNP.PCAP.KD              GNI per capita (constant 2015 US$)\n",
       "NY.GNP.PCAP.KD.ZG           GNI per capita growth (annual %)\n",
       "NY.GNP.PCAP.KN              GNI per capita (constant LCU)\n",
       "NY.GNP.PCAP.PP.CD           GNI per capita, PPP (current international $)\n",
       "NY.GNP.PCAP.PP.KD           GNI per capita, PPP (constant 2021 international $)\n",
       "NY.GNS.ICTR.CD              Gross savings (current US$)\n",
       "NY.GNS.ICTR.CN              Gross savings (current LCU)\n",
       "NY.GNS.ICTR.GN.ZS           Gross savings (% of GNI)\n",
       "NY.GNS.ICTR.ZS              Gross savings (% of GDP)\n",
       "NY.GSR.NFCY.CD              Net primary income (Net income from abroad) (current US$)\n",
       "NY.GSR.NFCY.CN              Net primary income (Net income from abroad) (current LCU)\n",
       "NY.GSR.NFCY.KN              Net primary income (Net income from abroad) (constant LCU)\n",
       "NY.TAX.NIND.CD              Taxes less subsidies on products (current US$)\n",
       "NY.TAX.NIND.CN              Taxes less subsidies on products (current LCU)\n",
       "NY.TAX.NIND.KN              Taxes less subsidies on products (constant LCU)\n",
       "NY.TRF.NCTR.CD              Net secondary income (Net current transfers from abroad) (current US$)\n",
       "NY.TRF.NCTR.CN              Net secondary income (Net current transfers from abroad) (current LCU)\n",
       "NY.TRF.NCTR.KN              Net secondary income (Net current transfers from abroad) (constant LCU)\n",
       "NY.TTF.GNFS.KN              Terms of trade adjustment (constant LCU)\n",
       "PA.NUS.ATLS                 DEC alternative conversion factor (LCU per US$)\n",
       "PA.NUS.FCRF                 Official exchange rate (LCU per US$, period average)\n",
       "PA.NUS.PPP                  PPP conversion factor, GDP (LCU per international $)\n",
       "PA.NUS.PPPC.RF              Price level ratio of PPP conversion factor (GDP) to market exchange rate\n",
       "PA.NUS.PRVT.PP              PPP conversion factor, private consumption (LCU per international $)\n",
       "per_allsp.adq_pop_tot       Adequacy of social protection and labor programs (% of total welfare of beneficiary households)\n",
       "per_allsp.ben_q1_tot        Benefit incidence of social protection and labor programs to poorest quintile (% of total SPL benefits)\n",
       "per_allsp.cov_pop_tot       Coverage of social protection and labor programs (% of population)\n",
       "per_lm_alllm.adq_pop_tot    Adequacy of unemployment benefits and ALMP (% of total welfare of beneficiary households)\n",
       "per_lm_alllm.ben_q1_tot     Benefit incidence of unemployment benefits and ALMP to poorest quintile (% of total U/ALMP benefits)\n",
       "per_lm_alllm.cov_pop_tot    Coverage of unemployment benefits and ALMP (% of population)\n",
       "per_lm_alllm.cov_q1_tot     Coverage of unemployment benefits and ALMP in poorest quintile (% of population)\n",
       "per_lm_alllm.cov_q2_tot     Coverage of unemployment benefits and ALMP in 2nd quintile (% of population)\n",
       "per_lm_alllm.cov_q3_tot     Coverage of unemployment benefits and ALMP in 3rd quintile (% of population)\n",
       "per_lm_alllm.cov_q4_tot     Coverage of unemployment benefits and ALMP in 4th quintile (% of population)\n",
       "per_lm_alllm.cov_q5_tot     Coverage of unemployment benefits and ALMP in richest quintile (% of population)\n",
       "per_sa_allsa.adq_pop_tot    Adequacy of social safety net programs (% of total welfare of beneficiary households)\n",
       "per_sa_allsa.ben_q1_tot     Benefit incidence of social safety net programs to poorest quintile (% of total safety net benefits)\n",
       "per_sa_allsa.cov_pop_tot    Coverage of social safety net programs (% of population)\n",
       "per_sa_allsa.cov_q1_tot     Coverage of social safety net programs in poorest quintile (% of population)\n",
       "per_sa_allsa.cov_q2_tot     Coverage of social safety net programs in 2nd quintile (% of population)\n",
       "per_sa_allsa.cov_q3_tot     Coverage of social safety net programs in 3rd quintile (% of population)\n",
       "per_sa_allsa.cov_q4_tot     Coverage of social safety net programs in 4th quintile (% of population)\n",
       "per_sa_allsa.cov_q5_tot     Coverage of social safety net programs in richest quintile (% of population)\n",
       "per_si_allsi.adq_pop_tot    Adequacy of social insurance programs (% of total welfare of beneficiary households)\n",
       "per_si_allsi.ben_q1_tot     Benefit incidence of social insurance programs to poorest quintile (% of total social insurance benefits)\n",
       "per_si_allsi.cov_pop_tot    Coverage of social insurance programs (% of population)\n",
       "per_si_allsi.cov_q1_tot     Coverage of social insurance programs in poorest quintile (% of population)\n",
       "per_si_allsi.cov_q2_tot     Coverage of social insurance programs in 2nd quintile (% of population)\n",
       "per_si_allsi.cov_q3_tot     Coverage of social insurance programs in 3rd quintile (% of population)\n",
       "per_si_allsi.cov_q4_tot     Coverage of social insurance programs in 4th quintile (% of population)\n",
       "per_si_allsi.cov_q5_tot     Coverage of social insurance programs in richest quintile (% of population)\n",
       "PV.EST                      Political Stability and Absence of Violence/Terrorism: Estimate\n",
       "PV.NO.SRC                   Political Stability and Absence of Violence/Terrorism: Number of Sources\n",
       "PV.PER.RNK                  Political Stability and Absence of Violence/Terrorism: Percentile Rank\n",
       "PV.PER.RNK.LOWER            Political Stability and Absence of Violence/Terrorism: Percentile Rank, Lower Bound of 90% Confidence Interval\n",
       "PV.PER.RNK.UPPER            Political Stability and Absence of Violence/Terrorism: Percentile Rank, Upper Bound of 90% Confidence Interval\n",
       "PV.STD.ERR                  Political Stability and Absence of Violence/Terrorism: Standard Error\n",
       "PX.REX.REER                 Real effective exchange rate index (2010 = 100)\n",
       "RL.EST                      Rule of Law: Estimate\n",
       "RL.NO.SRC                   Rule of Law: Number of Sources\n",
       "RL.PER.RNK                  Rule of Law: Percentile Rank\n",
       "RL.PER.RNK.LOWER            Rule of Law: Percentile Rank, Lower Bound of 90% Confidence Interval\n",
       "RL.PER.RNK.UPPER            Rule of Law: Percentile Rank, Upper Bound of 90% Confidence Interval\n",
       "RL.STD.ERR                  Rule of Law: Standard Error\n",
       "RQ.EST                      Regulatory Quality: Estimate\n",
       "RQ.NO.SRC                   Regulatory Quality: Number of Sources\n",
       "RQ.PER.RNK                  Regulatory Quality: Percentile Rank\n",
       "RQ.PER.RNK.LOWER            Regulatory Quality: Percentile Rank, Lower Bound of 90% Confidence Interval\n",
       "RQ.PER.RNK.UPPER            Regulatory Quality: Percentile Rank, Upper Bound of 90% Confidence Interval\n",
       "RQ.STD.ERR                  Regulatory Quality: Standard Error\n",
       "SE.ADT.1524.LT.FE.ZS        Literacy rate, youth female (% of females ages 15-24)\n",
       "SE.ADT.1524.LT.FM.ZS        Literacy rate, youth (ages 15-24), gender parity index (GPI)\n",
       "SE.ADT.1524.LT.MA.ZS        Literacy rate, youth male (% of males ages 15-24)\n",
       "SE.ADT.1524.LT.ZS           Literacy rate, youth total (% of people ages 15-24)\n",
       "SE.ADT.LITR.FE.ZS           Literacy rate, adult female (% of females ages 15 and above)\n",
       "SE.ADT.LITR.MA.ZS           Literacy rate, adult male (% of males ages 15 and above)\n",
       "SE.ADT.LITR.ZS              Literacy rate, adult total (% of people ages 15 and above)\n",
       "SE.COM.DURS                 Compulsory education, duration (years)\n",
       "SE.ENR.PRIM.FM.ZS           School enrollment, primary (gross), gender parity index (GPI)\n",
       "SE.ENR.PRSC.FM.ZS           School enrollment, primary and secondary (gross), gender parity index (GPI)\n",
       "SE.ENR.SECO.FM.ZS           School enrollment, secondary (gross), gender parity index (GPI)\n",
       "SE.ENR.TERT.FM.ZS           School enrollment, tertiary (gross), gender parity index (GPI)\n",
       "SE.LPV.PRIM                 Learning poverty: Share of Children at the End-of-Primary age below minimum reading proficiency adjusted by Out-of-School Children (%)\n",
       "SE.LPV.PRIM.FE              Learning poverty: Share of Female Children at the End-of-Primary age below minimum reading proficiency adjusted by Out-of-School Children (%)\n",
       "SE.LPV.PRIM.LD              Pupils below minimum reading proficiency at end of primary (%). Low GAML threshold\n",
       "SE.LPV.PRIM.LD.FE           Female pupils below minimum reading proficiency at end of primary (%). Low GAML threshold\n",
       "SE.LPV.PRIM.LD.MA           Male pupils below minimum reading proficiency at end of primary (%). Low GAML threshold\n",
       "SE.LPV.PRIM.MA              Learning poverty: Share of Male Children at the End-of-Primary age below minimum reading proficiency adjusted by Out-of-School Children (%)\n",
       "SE.LPV.PRIM.SD              Primary school age children out-of-school (%)\n",
       "SE.LPV.PRIM.SD.FE           Female primary school age children out-of-school (%)\n",
       "SE.LPV.PRIM.SD.MA           Male primary school age children out-of-school (%)\n",
       "SE.PRE.DURS                 Preprimary education, duration (years)\n",
       "SE.PRE.ENRL.TC.ZS           Pupil-teacher ratio, preprimary\n",
       "SE.PRE.ENRR                 School enrollment, preprimary (% gross)\n",
       "SE.PRE.ENRR.FE              School enrollment, preprimary, female (% gross)\n",
       "SE.PRE.ENRR.MA              School enrollment, preprimary, male (% gross)\n",
       "SE.PRE.TCAQ.FE.ZS           Trained teachers in preprimary education, female (% of female teachers)\n",
       "SE.PRE.TCAQ.MA.ZS           Trained teachers in preprimary education, male (% of male teachers)\n",
       "SE.PRE.TCAQ.ZS              Trained teachers in preprimary education (% of total teachers)\n",
       "SE.PRM.AGES                 Primary school starting age (years)\n",
       "SE.PRM.CMPT.FE.ZS           Primary completion rate, female (% of relevant age group)\n",
       "SE.PRM.CMPT.MA.ZS           Primary completion rate, male (% of relevant age group)\n",
       "SE.PRM.CMPT.ZS              Primary completion rate, total (% of relevant age group)\n",
       "SE.PRM.CUAT.FE.ZS           Educational attainment, at least completed primary, population 25+ years, female (%) (cumulative)\n",
       "SE.PRM.CUAT.MA.ZS           Educational attainment, at least completed primary, population 25+ years, male (%) (cumulative)\n",
       "SE.PRM.CUAT.ZS              Educational attainment, at least completed primary, population 25+ years, total (%) (cumulative)\n",
       "SE.PRM.DURS                 Primary education, duration (years)\n",
       "SE.PRM.ENRL                 Primary education, pupils\n",
       "SE.PRM.ENRL.FE.ZS           Primary education, pupils (% female)\n",
       "SE.PRM.ENRL.TC.ZS           Pupil-teacher ratio, primary\n",
       "SE.PRM.ENRR                 School enrollment, primary (% gross)\n",
       "SE.PRM.ENRR.FE              School enrollment, primary, female (% gross)\n",
       "SE.PRM.ENRR.MA              School enrollment, primary, male (% gross)\n",
       "SE.PRM.GINT.FE.ZS           Gross intake ratio in first grade of primary education, female (% of relevant age group)\n",
       "SE.PRM.GINT.MA.ZS           Gross intake ratio in first grade of primary education, male (% of relevant age group)\n",
       "SE.PRM.GINT.ZS              Gross intake ratio in first grade of primary education, total (% of relevant age group)\n",
       "SE.PRM.NENR                 School enrollment, primary (% net)\n",
       "SE.PRM.NENR.FE              School enrollment, primary, female (% net)\n",
       "SE.PRM.NENR.MA              School enrollment, primary, male (% net)\n",
       "SE.PRM.NINT.FE.ZS           Net intake rate in grade 1, female (% of official school-age population)\n",
       "SE.PRM.NINT.MA.ZS           Net intake rate in grade 1, male (% of official school-age population)\n",
       "SE.PRM.NINT.ZS              Net intake rate in grade 1 (% of official school-age population)\n",
       "SE.PRM.OENR.FE.ZS           Over-age students, primary, female (% of female enrollment)\n",
       "SE.PRM.OENR.MA.ZS           Over-age students, primary, male (% of male enrollment)\n",
       "SE.PRM.OENR.ZS              Over-age students, primary (% of enrollment)\n",
       "SE.PRM.PRIV.ZS              School enrollment, primary, private (% of total primary)\n",
       "SE.PRM.PRS5.FE.ZS           Persistence to grade 5, female (% of cohort)\n",
       "SE.PRM.PRS5.MA.ZS           Persistence to grade 5, male (% of cohort)\n",
       "SE.PRM.PRS5.ZS              Persistence to grade 5, total (% of cohort)\n",
       "SE.PRM.PRSL.FE.ZS           Persistence to last grade of primary, female (% of cohort)\n",
       "SE.PRM.PRSL.MA.ZS           Persistence to last grade of primary, male (% of cohort)\n",
       "SE.PRM.PRSL.ZS              Persistence to last grade of primary, total (% of cohort)\n",
       "SE.PRM.REPT.FE.ZS           Repeaters, primary, female (% of female enrollment)\n",
       "SE.PRM.REPT.MA.ZS           Repeaters, primary, male (% of male enrollment)\n",
       "SE.PRM.REPT.ZS              Repeaters, primary, total (% of total enrollment)\n",
       "SE.PRM.TCAQ.FE.ZS           Trained teachers in primary education, female (% of female teachers)\n",
       "SE.PRM.TCAQ.MA.ZS           Trained teachers in primary education, male (% of male teachers)\n",
       "SE.PRM.TCAQ.ZS              Trained teachers in primary education (% of total teachers)\n",
       "SE.PRM.TCHR                 Primary education, teachers\n",
       "SE.PRM.TCHR.FE.ZS           Primary education, teachers (% female)\n",
       "SE.PRM.TENR                 Adjusted net enrollment rate, primary (% of primary school age children)\n",
       "SE.PRM.TENR.FE              Adjusted net enrollment rate, primary, female (% of primary school age children)\n",
       "SE.PRM.TENR.MA              Adjusted net enrollment rate, primary, male (% of primary school age children)\n",
       "SE.PRM.UNER                 Children out of school, primary\n",
       "SE.PRM.UNER.FE              Children out of school, primary, female\n",
       "SE.PRM.UNER.FE.ZS           Children out of school, female (% of female primary school age)\n",
       "SE.PRM.UNER.MA              Children out of school, primary, male\n",
       "SE.PRM.UNER.MA.ZS           Children out of school, male (% of male primary school age)\n",
       "SE.PRM.UNER.ZS              Children out of school (% of primary school age)\n",
       "SE.SEC.AGES                 Lower secondary school starting age (years)\n",
       "SE.SEC.CMPT.LO.FE.ZS        Lower secondary completion rate, female (% of relevant age group)\n",
       "SE.SEC.CMPT.LO.MA.ZS        Lower secondary completion rate, male (% of relevant age group)\n",
       "SE.SEC.CMPT.LO.ZS           Lower secondary completion rate, total (% of relevant age group)\n",
       "SE.SEC.CUAT.LO.FE.ZS        Educational attainment, at least completed lower secondary, population 25+, female (%) (cumulative)\n",
       "SE.SEC.CUAT.LO.MA.ZS        Educational attainment, at least completed lower secondary, population 25+, male (%) (cumulative)\n",
       "SE.SEC.CUAT.LO.ZS           Educational attainment, at least completed lower secondary, population 25+, total (%) (cumulative)\n",
       "SE.SEC.CUAT.PO.FE.ZS        Educational attainment, at least completed post-secondary, population 25+, female (%) (cumulative)\n",
       "SE.SEC.CUAT.PO.MA.ZS        Educational attainment, at least completed post-secondary, population 25+, male (%) (cumulative)\n",
       "SE.SEC.CUAT.PO.ZS           Educational attainment, at least completed post-secondary, population 25+, total (%) (cumulative)\n",
       "SE.SEC.CUAT.UP.FE.ZS        Educational attainment, at least completed upper secondary, population 25+, female (%) (cumulative)\n",
       "SE.SEC.CUAT.UP.MA.ZS        Educational attainment, at least completed upper secondary, population 25+, male (%) (cumulative)\n",
       "SE.SEC.CUAT.UP.ZS           Educational attainment, at least completed upper secondary, population 25+, total (%) (cumulative)\n",
       "SE.SEC.DURS                 Secondary education, duration (years)\n",
       "SE.SEC.ENRL                 Secondary education, pupils\n",
       "SE.SEC.ENRL.FE.ZS           Secondary education, pupils (% female)\n",
       "SE.SEC.ENRL.GC              Secondary education, general pupils\n",
       "SE.SEC.ENRL.GC.FE.ZS        Secondary education, general pupils (% female)\n",
       "SE.SEC.ENRL.LO.TC.ZS        Pupil-teacher ratio, lower secondary\n",
       "SE.SEC.ENRL.TC.ZS           Pupil-teacher ratio, secondary\n",
       "SE.SEC.ENRL.UP.TC.ZS        Pupil-teacher ratio, upper secondary\n",
       "SE.SEC.ENRL.VO              Secondary education, vocational pupils\n",
       "SE.SEC.ENRL.VO.FE.ZS        Secondary education, vocational pupils (% female)\n",
       "SE.SEC.ENRR                 School enrollment, secondary (% gross)\n",
       "SE.SEC.ENRR.FE              School enrollment, secondary, female (% gross)\n",
       "SE.SEC.ENRR.MA              School enrollment, secondary, male (% gross)\n",
       "SE.SEC.NENR                 School enrollment, secondary (% net)\n",
       "SE.SEC.NENR.FE              School enrollment, secondary, female (% net)\n",
       "SE.SEC.NENR.MA              School enrollment, secondary, male (% net)\n",
       "SE.SEC.PRIV.ZS              School enrollment, secondary, private (% of total secondary)\n",
       "SE.SEC.PROG.FE.ZS           Progression to secondary school, female (%)\n",
       "SE.SEC.PROG.MA.ZS           Progression to secondary school, male (%)\n",
       "SE.SEC.PROG.ZS              Progression to secondary school (%)\n",
       "SE.SEC.TCAQ.FE.ZS           Trained teachers in secondary education, female (% of female teachers)\n",
       "SE.SEC.TCAQ.LO.FE.ZS        Trained teachers in lower secondary education, female (% of female teachers)\n",
       "SE.SEC.TCAQ.LO.MA.ZS        Trained teachers in lower secondary education, male (% of male teachers)\n",
       "SE.SEC.TCAQ.LO.ZS           Trained teachers in lower secondary education (% of total teachers)\n",
       "SE.SEC.TCAQ.MA.ZS           Trained teachers in secondary education, male (% of male teachers)\n",
       "SE.SEC.TCAQ.UP.FE.ZS        Trained teachers in upper secondary education, female (% of female teachers)\n",
       "SE.SEC.TCAQ.UP.MA.ZS        Trained teachers in upper secondary education, male (% of male teachers)\n",
       "SE.SEC.TCAQ.UP.ZS           Trained teachers in upper secondary education (% of total teachers)\n",
       "SE.SEC.TCAQ.ZS              Trained teachers in secondary education (% of total teachers)\n",
       "SE.SEC.TCHR                 Secondary education, teachers\n",
       "SE.SEC.TCHR.FE              Secondary education, teachers, female\n",
       "SE.SEC.TCHR.FE.ZS           Secondary education, teachers (% female)\n",
       "SE.SEC.UNER.LO.FE.ZS        Adolescents out of school, female (% of female lower secondary school age)\n",
       "SE.SEC.UNER.LO.MA.ZS        Adolescents out of school, male (% of male lower secondary school age)\n",
       "SE.SEC.UNER.LO.ZS           Adolescents out of school (% of lower secondary school age)\n",
       "SE.TER.CUAT.BA.FE.ZS        Educational attainment, at least Bachelor's or equivalent, population 25+, female (%) (cumulative)\n",
       "SE.TER.CUAT.BA.MA.ZS        Educational attainment, at least Bachelor's or equivalent, population 25+, male (%) (cumulative)\n",
       "SE.TER.CUAT.BA.ZS           Educational attainment, at least Bachelor's or equivalent, population 25+, total (%) (cumulative)\n",
       "SE.TER.CUAT.DO.FE.ZS        Educational attainment, Doctoral or equivalent, population 25+, female (%) (cumulative)\n",
       "SE.TER.CUAT.DO.MA.ZS        Educational attainment, Doctoral or equivalent, population 25+, male (%) (cumulative)\n",
       "SE.TER.CUAT.DO.ZS           Educational attainment, Doctoral or equivalent, population 25+, total (%) (cumulative)\n",
       "SE.TER.CUAT.MS.FE.ZS        Educational attainment, at least Master's or equivalent, population 25+, female (%) (cumulative)\n",
       "SE.TER.CUAT.MS.MA.ZS        Educational attainment, at least Master's or equivalent, population 25+, male (%) (cumulative)\n",
       "SE.TER.CUAT.MS.ZS           Educational attainment, at least Master's or equivalent, population 25+, total (%) (cumulative)\n",
       "SE.TER.CUAT.ST.FE.ZS        Educational attainment, at least completed short-cycle tertiary, population 25+, female (%) (cumulative)\n",
       "SE.TER.CUAT.ST.MA.ZS        Educational attainment, at least completed short-cycle tertiary, population 25+, male (%) (cumulative)\n",
       "SE.TER.CUAT.ST.ZS           Educational attainment, at least completed short-cycle tertiary, population 25+, total (%) (cumulative)\n",
       "SE.TER.ENRL.TC.ZS           Pupil-teacher ratio, tertiary\n",
       "SE.TER.ENRR                 School enrollment, tertiary (% gross)\n",
       "SE.TER.ENRR.FE              School enrollment, tertiary, female (% gross)\n",
       "SE.TER.ENRR.MA              School enrollment, tertiary, male (% gross)\n",
       "SE.TER.TCHR.FE.ZS           Tertiary education, academic staff (% female)\n",
       "SE.XPD.CPRM.ZS              Current education expenditure, primary (% of total expenditure in primary public institutions)\n",
       "SE.XPD.CSEC.ZS              Current education expenditure, secondary (% of total expenditure in secondary public institutions)\n",
       "SE.XPD.CTER.ZS              Current education expenditure, tertiary (% of total expenditure in tertiary public institutions)\n",
       "SE.XPD.CTOT.ZS              Current education expenditure, total (% of total expenditure in public institutions)\n",
       "SE.XPD.PRIM.PC.ZS           Government expenditure per student, primary (% of GDP per capita)\n",
       "SE.XPD.PRIM.ZS              Expenditure on primary education (% of government expenditure on education)\n",
       "SE.XPD.SECO.PC.ZS           Government expenditure per student, secondary (% of GDP per capita)\n",
       "SE.XPD.SECO.ZS              Expenditure on secondary education (% of government expenditure on education)\n",
       "SE.XPD.TERT.PC.ZS           Government expenditure per student, tertiary (% of GDP per capita)\n",
       "SE.XPD.TERT.ZS              Expenditure on tertiary education (% of government expenditure on education)\n",
       "SE.XPD.TOTL.GB.ZS           Government expenditure on education, total (% of government expenditure)\n",
       "SE.XPD.TOTL.GD.ZS           Government expenditure on education, total (% of GDP)\n",
       "SG.DMK.ALLD.FN.ZS           Women participating in the three decisions (own health care, major household purchases, and visiting family) (% of women age 15-49)\n",
       "SG.DMK.SRCR.FN.ZS           Women making their own informed decisions regarding sexual relations, contraceptive use and reproductive health care (% of women age 15-49)\n",
       "SG.GEN.PARL.ZS              Proportion of seats held by women in national parliaments (%)\n",
       "SG.LAW.INDX                 Women Business and the Law Index Score (scale 1-100)\n",
       "SG.TIM.UWRK.FE              Proportion of time spent on unpaid domestic and care work, female (% of 24 hour day)\n",
       "SG.TIM.UWRK.MA              Proportion of time spent on unpaid domestic and care work, male (% of 24 hour day)\n",
       "SG.VAW.1549.ZS              Proportion of women subjected to physical and/or sexual violence in the last 12 months (% of ever-partnered women ages 15-49)\n",
       "SG.VAW.ARGU.ZS              Women who believe a husband is justified in beating his wife when she argues with him (%)\n",
       "SG.VAW.BURN.ZS              Women who believe a husband is justified in beating his wife when she burns the food (%)\n",
       "SG.VAW.GOES.ZS              Women who believe a husband is justified in beating his wife when she goes out without telling him (%)\n",
       "SG.VAW.NEGL.ZS              Women who believe a husband is justified in beating his wife when she neglects the children (%)\n",
       "SG.VAW.REAS.ZS              Women who believe a husband is justified in beating his wife (any of five reasons) (%)\n",
       "SG.VAW.REFU.ZS              Women who believe a husband is justified in beating his wife when she refuses sex with him (%)\n",
       "SH.ALC.PCAP.FE.LI           Total alcohol consumption per capita, female (liters of pure alcohol, projected estimates, female 15+ years of age)\n",
       "SH.ALC.PCAP.LI              Total alcohol consumption per capita (liters of pure alcohol, projected estimates, 15+ years of age)\n",
       "SH.ALC.PCAP.MA.LI           Total alcohol consumption per capita, male (liters of pure alcohol, projected estimates, male 15+ years of age)\n",
       "SH.ANM.ALLW.ZS              Prevalence of anemia among women of reproductive age (% of women ages 15-49)\n",
       "SH.ANM.CHLD.ZS              Prevalence of anemia among children (% of children ages 6-59 months)\n",
       "SH.ANM.NPRG.ZS              Prevalence of anemia among non-pregnant women (% of women ages 15-49)\n",
       "SH.CON.1524.FE.ZS           Condom use, population ages 15-24, female (% of females ages 15-24)\n",
       "SH.CON.1524.MA.ZS           Condom use, population ages 15-24, male (% of males ages 15-24)\n",
       "SH.DTH.0509                 Number of deaths ages 5-9 years\n",
       "SH.DTH.1014                 Number of deaths ages 10-14 years\n",
       "SH.DTH.1519                 Number of deaths ages 15-19 years\n",
       "SH.DTH.2024                 Number of deaths ages 20-24 years\n",
       "SH.DTH.COMM.ZS              Cause of death, by communicable diseases and maternal, prenatal and nutrition conditions (% of total)\n",
       "SH.DTH.IMRT                 Number of infant deaths\n",
       "SH.DTH.INJR.ZS              Cause of death, by injury (% of total)\n",
       "SH.DTH.MORT                 Number of under-five deaths\n",
       "SH.DTH.NCOM.ZS              Cause of death, by non-communicable diseases (% of total)\n",
       "SH.DTH.NMRT                 Number of neonatal deaths\n",
       "SH.DYN.0509                 Probability of dying among children ages 5-9 years (per 1,000)\n",
       "SH.DYN.1014                 Probability of dying among adolescents ages 10-14 years (per 1,000)\n",
       "SH.DYN.1519                 Probability of dying among adolescents ages 15-19 years (per 1,000)\n",
       "SH.DYN.2024                 Probability of dying among youth ages 20-24 years (per 1,000)\n",
       "SH.DYN.AIDS.FE.ZS           Women's share of population ages 15+ living with HIV (%)\n",
       "SH.DYN.AIDS.ZS              Prevalence of HIV, total (% of population ages 15-49)\n",
       "SH.DYN.MORT                 Mortality rate, under-5 (per 1,000 live births)\n",
       "SH.DYN.MORT.FE              Mortality rate, under-5, female (per 1,000 live births)\n",
       "SH.DYN.MORT.MA              Mortality rate, under-5, male (per 1,000 live births)\n",
       "SH.DYN.NCOM.FE.ZS           Mortality from CVD, cancer, diabetes or CRD between exact ages 30 and 70, female (%)\n",
       "SH.DYN.NCOM.MA.ZS           Mortality from CVD, cancer, diabetes or CRD between exact ages 30 and 70, male (%)\n",
       "SH.DYN.NCOM.ZS              Mortality from CVD, cancer, diabetes or CRD between exact ages 30 and 70 (%)\n",
       "SH.DYN.NMRT                 Mortality rate, neonatal (per 1,000 live births)\n",
       "SH.FPL.SATM.ZS              Demand for family planning satisfied by modern methods (% of married women with demand for family planning)\n",
       "SH.H2O.BASW.RU.ZS           People using at least basic drinking water services, rural (% of rural population)\n",
       "SH.H2O.BASW.UR.ZS           People using at least basic drinking water services, urban (% of urban population)\n",
       "SH.H2O.BASW.ZS              People using at least basic drinking water services (% of population)\n",
       "SH.H2O.SMDW.RU.ZS           People using safely managed drinking water services, rural (% of rural population)\n",
       "SH.H2O.SMDW.UR.ZS           People using safely managed drinking water services, urban (% of urban population)\n",
       "SH.H2O.SMDW.ZS              People using safely managed drinking water services (% of population)\n",
       "SH.HIV.0014                 Children (0-14) living with HIV\n",
       "SH.HIV.1524.FE.ZS           Prevalence of HIV, female (% ages 15-24)\n",
       "SH.HIV.1524.MA.ZS           Prevalence of HIV, male (% ages 15-24)\n",
       "SH.HIV.ARTC.ZS              Antiretroviral therapy coverage (% of people living with HIV)\n",
       "SH.HIV.INCD                 Adults (ages 15-49) newly infected with HIV\n",
       "SH.HIV.INCD.14              Children (ages 0-14) newly infected with HIV\n",
       "SH.HIV.INCD.TL              Adults (ages 15+) and children (ages 0-14) newly infected with HIV\n",
       "SH.HIV.INCD.TL.P3           Incidence of HIV, all (per 1,000 uninfected population)\n",
       "SH.HIV.INCD.YG              Young people (ages 15-24) newly infected with HIV\n",
       "SH.HIV.INCD.YG.P3           Incidence of HIV, ages 15-24 (per 1,000 uninfected population ages 15-24)\n",
       "SH.HIV.INCD.ZS              Incidence of HIV, ages 15-49 (per 1,000 uninfected population ages 15-49)\n",
       "SH.HIV.PMTC.ZS              Antiretroviral therapy coverage for PMTCT (% of pregnant women living with HIV)\n",
       "SH.IMM.HEPB                 Immunization, HepB3 (% of one-year-old children)\n",
       "SH.IMM.IDPT                 Immunization, DPT (% of children ages 12-23 months)\n",
       "SH.IMM.MEAS                 Immunization, measles (% of children ages 12-23 months)\n",
       "SH.MED.BEDS.ZS              Hospital beds (per 1,000 people)\n",
       "SH.MED.CMHW.P3              Community health workers (per 1,000 people)\n",
       "SH.MED.NUMW.P3              Nurses and midwives (per 1,000 people)\n",
       "SH.MED.PHYS.ZS              Physicians (per 1,000 people)\n",
       "SH.MED.SAOP.P5              Specialist surgical workforce (per 100,000 population)\n",
       "SH.MLR.INCD.P3              Incidence of malaria (per 1,000 population at risk)\n",
       "SH.MLR.NETS.ZS              Use of insecticide-treated bed nets (% of under-5 population)\n",
       "SH.MLR.TRET.ZS              Children with fever receiving antimalarial drugs (% of children under age 5 with fever)\n",
       "SH.MMR.DTHS                 Number of maternal deaths\n",
       "SH.MMR.RISK                 Lifetime risk of maternal death (1 in: rate varies by country)\n",
       "SH.MMR.RISK.ZS              Lifetime risk of maternal death (%)\n",
       "SH.PRG.ANEM                 Prevalence of anemia among pregnant women (%)\n",
       "SH.PRV.SMOK                 Prevalence of current tobacco use (% of adults)\n",
       "SH.PRV.SMOK.FE              Prevalence of current tobacco use, females (% of female adults)\n",
       "SH.PRV.SMOK.MA              Prevalence of current tobacco use, males (% of male adults)\n",
       "SH.SGR.CRSK.ZS              Risk of catastrophic expenditure for surgical care (% of people at risk)\n",
       "SH.SGR.IRSK.ZS              Risk of impoverishing expenditure for surgical care (% of people at risk)\n",
       "SH.SGR.PROC.P5              Number of surgical procedures (per 100,000 population)\n",
       "SH.STA.AIRP.FE.P5           Mortality rate attributed to household and ambient air pollution, age-standardized, female (per 100,000 female population)\n",
       "SH.STA.AIRP.MA.P5           Mortality rate attributed to household and ambient air pollution, age-standardized, male (per 100,000 male population)\n",
       "SH.STA.AIRP.P5              Mortality rate attributed to household and ambient air pollution, age-standardized (per 100,000 population)\n",
       "SH.STA.ANVC.ZS              Pregnant women receiving prenatal care (%)\n",
       "SH.STA.ARIC.ZS              ARI treatment (% of children under 5 taken to a health provider)\n",
       "SH.STA.BASS.RU.ZS           People using at least basic sanitation services, rural (% of rural population)\n",
       "SH.STA.BASS.UR.ZS           People using at least basic sanitation services, urban (% of urban population)\n",
       "SH.STA.BASS.ZS              People using at least basic sanitation services (% of population)\n",
       "SH.STA.BFED.ZS              Exclusive breastfeeding (% of children under 6 months)\n",
       "SH.STA.BRTC.ZS              Births attended by skilled health staff (% of total)\n",
       "SH.STA.BRTW.ZS              Low-birthweight babies (% of births)\n",
       "SH.STA.DIAB.ZS              Diabetes prevalence (% of population ages 20 to 79)\n",
       "SH.STA.FGMS.ZS              Female genital mutilation prevalence (%)\n",
       "SH.STA.HYGN.RU.ZS           People with basic handwashing facilities including soap and water, rural (% of rural population)\n",
       "SH.STA.HYGN.UR.ZS           People with basic handwashing facilities including soap and water, urban (% of urban population)\n",
       "SH.STA.HYGN.ZS              People with basic handwashing facilities including soap and water (% of population)\n",
       "SH.STA.MALN.FE.ZS           Prevalence of underweight, weight for age, female (% of children under 5)\n",
       "SH.STA.MALN.MA.ZS           Prevalence of underweight, weight for age, male (% of children under 5)\n",
       "SH.STA.MALN.ZS              Prevalence of underweight, weight for age (% of children under 5)\n",
       "SH.STA.MMRT                 Maternal mortality ratio (modeled estimate, per 100,000 live births)\n",
       "SH.STA.MMRT.NE              Maternal mortality ratio (national estimate, per 100,000 live births)\n",
       "SH.STA.ODFC.RU.ZS           People practicing open defecation, rural (% of rural population)\n",
       "SH.STA.ODFC.UR.ZS           People practicing open defecation, urban (% of urban population)\n",
       "SH.STA.ODFC.ZS              People practicing open defecation (% of population)\n",
       "SH.STA.ORCF.ZS              Diarrhea treatment (% of children under 5 receiving oral rehydration and continued feeding)\n",
       "SH.STA.ORTH                 Diarrhea treatment (% of children under 5 who received ORS packet)\n",
       "SH.STA.OWGH.FE.ZS           Prevalence of overweight, weight for height, female (% of children under 5)\n",
       "SH.STA.OWGH.MA.ZS           Prevalence of overweight, weight for height, male (% of children under 5)\n",
       "SH.STA.OWGH.ME.ZS           Prevalence of overweight (modeled estimate, % of children under 5)\n",
       "SH.STA.OWGH.ZS              Prevalence of overweight, weight for height (% of children under 5)\n",
       "SH.STA.POIS.P5              Mortality rate attributed to unintentional poisoning (per 100,000 population)\n",
       "SH.STA.POIS.P5.FE           Mortality rate attributed to unintentional poisoning, female (per 100,000 female population)\n",
       "SH.STA.POIS.P5.MA           Mortality rate attributed to unintentional poisoning, male (per 100,000 male population)\n",
       "SH.STA.SMSS.RU.ZS           People using safely managed sanitation services, rural (% of rural population)\n",
       "SH.STA.SMSS.UR.ZS           People using safely managed sanitation services, urban (% of urban population)\n",
       "SH.STA.SMSS.ZS              People using safely managed sanitation services (% of population)\n",
       "SH.STA.STNT.FE.ZS           Prevalence of stunting, height for age, female (% of children under 5)\n",
       "SH.STA.STNT.MA.ZS           Prevalence of stunting, height for age, male (% of children under 5)\n",
       "SH.STA.STNT.ME.ZS           Prevalence of stunting, height for age (modeled estimate, % of children under 5)\n",
       "SH.STA.STNT.ZS              Prevalence of stunting, height for age (% of children under 5)\n",
       "SH.STA.SUIC.FE.P5           Suicide mortality rate, female (per 100,000 female population)\n",
       "SH.STA.SUIC.MA.P5           Suicide mortality rate, male (per 100,000 male population)\n",
       "SH.STA.SUIC.P5              Suicide mortality rate (per 100,000 population)\n",
       "SH.STA.TRAF.P5              Mortality caused by road traffic injury (per 100,000 population)\n",
       "SH.STA.WASH.P5              Mortality rate attributed to unsafe water, unsafe sanitation and lack of hygiene (per 100,000 population)\n",
       "SH.STA.WAST.FE.ZS           Prevalence of wasting, weight for height, female (% of children under 5)\n",
       "SH.STA.WAST.MA.ZS           Prevalence of wasting, weight for height, male (% of children under 5)\n",
       "SH.STA.WAST.ZS              Prevalence of wasting, weight for height (% of children under 5)\n",
       "SH.SVR.WAST.FE.ZS           Prevalence of severe wasting, weight for height, female (% of children under 5)\n",
       "SH.SVR.WAST.MA.ZS           Prevalence of severe wasting, weight for height, male (% of children under 5)\n",
       "SH.SVR.WAST.ZS              Prevalence of severe wasting, weight for height (% of children under 5)\n",
       "SH.TBS.CURE.ZS              Tuberculosis treatment success rate (% of new cases)\n",
       "SH.TBS.DTEC.ZS              Tuberculosis case detection rate (%, all forms)\n",
       "SH.TBS.INCD                 Incidence of tuberculosis (per 100,000 people)\n",
       "SH.UHC.FBP1.ZS              Proportion of population pushed further below the $2.15 ($ 2017 PPP) poverty line by out-of-pocket health care expenditure (%)\n",
       "SH.UHC.FBP2.ZS              Proportion of population pushed further below the $3.65 ($ 2017 PPP) poverty line by out-of-pocket health care expenditure (%)\n",
       "SH.UHC.FBPR.ZS              Proportion of population pushed further below the 60% median consumption poverty line by out-of-pocket health care expenditure (%)\n",
       "SH.UHC.NOP1.ZS              Proportion of population pushed below the $2.15 ($ 2017 PPP) poverty line by out-of-pocket health care expenditure (%)\n",
       "SH.UHC.NOP2.ZS              Proportion of population pushed below the $3.65 ($ 2017 PPP) poverty line by out-of-pocket health care expenditure (%)\n",
       "SH.UHC.NOPR.ZS              Proportion of population pushed below the 60% median consumption poverty line by out-of-pocket health expenditure (%)\n",
       "SH.UHC.OOPC.10.ZS           Proportion of population spending more than 10% of household consumption or income on out-of-pocket health care expenditure (%)\n",
       "SH.UHC.OOPC.25.ZS           Proportion of population spending more than 25% of household consumption or income on out-of-pocket health care expenditure (%)\n",
       "SH.UHC.SRVS.CV.XD           UHC service coverage index\n",
       "SH.UHC.TOT1.ZS              Proportion of population pushed or further pushed below the $2.15 ($ 2017 PPP) poverty line by out-of-pocket health care expenditure (%)\n",
       "SH.UHC.TOT2.ZS              Proportion of population pushed or further pushed below the $3.65 ($ 2017 PPP) poverty line by out-of-pocket health care expenditure (%)\n",
       "SH.UHC.TOTR.ZS              Proportion of population pushed or further pushed below the 60% median consumption poverty line by out-of-pocket health expenditure (%)\n",
       "SH.VAC.TTNS.ZS              Newborns protected against tetanus (%)\n",
       "SH.XPD.CHEX.GD.ZS           Current health expenditure (% of GDP)\n",
       "SH.XPD.CHEX.PC.CD           Current health expenditure per capita (current US$)\n",
       "SH.XPD.CHEX.PP.CD           Current health expenditure per capita, PPP (current international $)\n",
       "SH.XPD.EHEX.CH.ZS           External health expenditure (% of current health expenditure)\n",
       "SH.XPD.EHEX.PC.CD           External health expenditure per capita (current US$)\n",
       "SH.XPD.EHEX.PP.CD           External health expenditure per capita, PPP (current international $)\n",
       "SH.XPD.GHED.CH.ZS           Domestic general government health expenditure (% of current health expenditure)\n",
       "SH.XPD.GHED.GD.ZS           Domestic general government health expenditure (% of GDP)\n",
       "SH.XPD.GHED.GE.ZS           Domestic general government health expenditure (% of general government expenditure)\n",
       "SH.XPD.GHED.PC.CD           Domestic general government health expenditure per capita (current US$)\n",
       "SH.XPD.GHED.PP.CD           Domestic general government health expenditure per capita, PPP (current international $)\n",
       "SH.XPD.OOPC.CH.ZS           Out-of-pocket expenditure (% of current health expenditure)\n",
       "SH.XPD.OOPC.PC.CD           Out-of-pocket expenditure per capita (current US$)\n",
       "SH.XPD.OOPC.PP.CD           Out-of-pocket expenditure per capita, PPP (current international $)\n",
       "SH.XPD.PVTD.CH.ZS           Domestic private health expenditure (% of current health expenditure)\n",
       "SH.XPD.PVTD.PC.CD           Domestic private health expenditure per capita (current US$)\n",
       "SH.XPD.PVTD.PP.CD           Domestic private health expenditure per capita, PPP (current international $)\n",
       "SI.DST.02ND.20              Income share held by second 20%\n",
       "SI.DST.03RD.20              Income share held by third 20%\n",
       "SI.DST.04TH.20              Income share held by fourth 20%\n",
       "SI.DST.05TH.20              Income share held by highest 20%\n",
       "SI.DST.10TH.10              Income share held by highest 10%\n",
       "SI.DST.50MD                 Proportion of people living below 50 percent of median income (%)\n",
       "SI.DST.FRST.10              Income share held by lowest 10%\n",
       "SI.DST.FRST.20              Income share held by lowest 20%\n",
       "SI.POV.DDAY                 Poverty headcount ratio at $2.15 a day (2017 PPP) (% of population)\n",
       "SI.POV.GAPS                 Poverty gap at $2.15 a day (2017 PPP) (%)\n",
       "SI.POV.GINI                 Gini index\n",
       "SI.POV.LMIC                 Poverty headcount ratio at $3.65 a day (2017 PPP) (% of population)\n",
       "SI.POV.LMIC.GP              Poverty gap at $3.65 a day (2017 PPP) (%)\n",
       "SI.POV.MPUN                 Multidimensional poverty headcount ratio (UNDP) (% of population)\n",
       "SI.POV.MPWB                 Multidimensional poverty headcount ratio (World Bank) (% of population)\n",
       "SI.POV.NAHC                 Poverty headcount ratio at national poverty lines (% of population)\n",
       "SI.POV.SOPO                 Poverty headcount ratio at societal poverty line (% of population)\n",
       "SI.POV.UMIC                 Poverty headcount ratio at $6.85 a day (2017 PPP) (% of population)\n",
       "SI.POV.UMIC.GP              Poverty gap at $6.85 a day (2017 PPP) (%)\n",
       "SI.RMT.COST.IB.ZS           Average transaction cost of sending remittances to a specific country (%)\n",
       "SI.RMT.COST.OB.ZS           Average transaction cost of sending remittances from a specific country (%)\n",
       "SI.SPR.PC40                 Survey mean consumption or income per capita, bottom 40% of population (2017 PPP $ per day)\n",
       "SI.SPR.PC40.ZG              Annualized average growth rate in per capita real survey mean consumption or income, bottom 40% of population (%)\n",
       "SI.SPR.PCAP                 Survey mean consumption or income per capita, total population (2017 PPP $ per day)\n",
       "SI.SPR.PCAP.ZG              Annualized average growth rate in per capita real survey mean consumption or income, total population (%)\n",
       "SI.SPR.PGAP                 Prosperity gap (average shortfall from a prosperity standard of $25/day)\n",
       "SL.AGR.0714.FE.ZS           Child employment in agriculture, female (% of female economically active children ages 7-14)\n",
       "SL.AGR.0714.MA.ZS           Child employment in agriculture, male (% of male economically active children ages 7-14)\n",
       "SL.AGR.0714.ZS              Child employment in agriculture (% of economically active children ages 7-14)\n",
       "SL.AGR.EMPL.FE.ZS           Employment in agriculture, female (% of female employment) (modeled ILO estimate)\n",
       "SL.AGR.EMPL.MA.ZS           Employment in agriculture, male (% of male employment) (modeled ILO estimate)\n",
       "SL.AGR.EMPL.ZS              Employment in agriculture (% of total employment) (modeled ILO estimate)\n",
       "SL.EMP.1524.SP.FE.NE.ZS     Employment to population ratio, ages 15-24, female (%) (national estimate)\n",
       "SL.EMP.1524.SP.FE.ZS        Employment to population ratio, ages 15-24, female (%) (modeled ILO estimate)\n",
       "SL.EMP.1524.SP.MA.NE.ZS     Employment to population ratio, ages 15-24, male (%) (national estimate)\n",
       "SL.EMP.1524.SP.MA.ZS        Employment to population ratio, ages 15-24, male (%) (modeled ILO estimate)\n",
       "SL.EMP.1524.SP.NE.ZS        Employment to population ratio, ages 15-24, total (%) (national estimate)\n",
       "SL.EMP.1524.SP.ZS           Employment to population ratio, ages 15-24, total (%) (modeled ILO estimate)\n",
       "SL.EMP.MPYR.FE.ZS           Employers, female (% of female employment) (modeled ILO estimate)\n",
       "SL.EMP.MPYR.MA.ZS           Employers, male (% of male employment) (modeled ILO estimate)\n",
       "SL.EMP.MPYR.ZS              Employers, total (% of total employment) (modeled ILO estimate)\n",
       "SL.EMP.SELF.FE.ZS           Self-employed, female (% of female employment) (modeled ILO estimate)\n",
       "SL.EMP.SELF.MA.ZS           Self-employed, male (% of male employment) (modeled ILO estimate)\n",
       "SL.EMP.SELF.ZS              Self-employed, total (% of total employment) (modeled ILO estimate)\n",
       "SL.EMP.SMGT.FE.ZS           Female share of employment in senior and middle management (%)\n",
       "SL.EMP.TOTL.SP.FE.NE.ZS     Employment to population ratio, 15+, female (%) (national estimate)\n",
       "SL.EMP.TOTL.SP.FE.ZS        Employment to population ratio, 15+, female (%) (modeled ILO estimate)\n",
       "SL.EMP.TOTL.SP.MA.NE.ZS     Employment to population ratio, 15+, male (%) (national estimate)\n",
       "SL.EMP.TOTL.SP.MA.ZS        Employment to population ratio, 15+, male (%) (modeled ILO estimate)\n",
       "SL.EMP.TOTL.SP.NE.ZS        Employment to population ratio, 15+, total (%) (national estimate)\n",
       "SL.EMP.TOTL.SP.ZS           Employment to population ratio, 15+, total (%) (modeled ILO estimate)\n",
       "SL.EMP.VULN.FE.ZS           Vulnerable employment, female (% of female employment) (modeled ILO estimate)\n",
       "SL.EMP.VULN.MA.ZS           Vulnerable employment, male (% of male employment) (modeled ILO estimate)\n",
       "SL.EMP.VULN.ZS              Vulnerable employment, total (% of total employment) (modeled ILO estimate)\n",
       "SL.EMP.WORK.FE.ZS           Wage and salaried workers, female (% of female employment) (modeled ILO estimate)\n",
       "SL.EMP.WORK.MA.ZS           Wage and salaried workers, male (% of male employment) (modeled ILO estimate)\n",
       "SL.EMP.WORK.ZS              Wage and salaried workers, total (% of total employment) (modeled ILO estimate)\n",
       "SL.FAM.0714.FE.ZS           Children in employment, unpaid family workers, female (% of female children in employment, ages 7-14)\n",
       "SL.FAM.0714.MA.ZS           Children in employment, unpaid family workers, male (% of male children in employment, ages 7-14)\n",
       "SL.FAM.0714.ZS              Children in employment, unpaid family workers (% of children in employment, ages 7-14)\n",
       "SL.FAM.WORK.FE.ZS           Contributing family workers, female (% of female employment) (modeled ILO estimate)\n",
       "SL.FAM.WORK.MA.ZS           Contributing family workers, male (% of male employment) (modeled ILO estimate)\n",
       "SL.FAM.WORK.ZS              Contributing family workers, total (% of total employment) (modeled ILO estimate)\n",
       "SL.GDP.PCAP.EM.KD           GDP per person employed (constant 2021 PPP $)\n",
       "SL.IND.EMPL.FE.ZS           Employment in industry, female (% of female employment) (modeled ILO estimate)\n",
       "SL.IND.EMPL.MA.ZS           Employment in industry, male (% of male employment) (modeled ILO estimate)\n",
       "SL.IND.EMPL.ZS              Employment in industry (% of total employment) (modeled ILO estimate)\n",
       "SL.MNF.0714.FE.ZS           Child employment in manufacturing, female (% of female economically active children ages 7-14)\n",
       "SL.MNF.0714.MA.ZS           Child employment in manufacturing, male (% of male economically active children ages 7-14)\n",
       "SL.MNF.0714.ZS              Child employment in manufacturing (% of economically active children ages 7-14)\n",
       "SL.SLF.0714.FE.ZS           Children in employment, self-employed, female (% of female children in employment, ages 7-14)\n",
       "SL.SLF.0714.MA.ZS           Children in employment, self-employed, male (% of male children in employment, ages 7-14)\n",
       "SL.SLF.0714.ZS              Children in employment, self-employed (% of children in employment, ages 7-14)\n",
       "SL.SRV.0714.FE.ZS           Child employment in services, female (% of female economically active children ages 7-14)\n",
       "SL.SRV.0714.MA.ZS           Child employment in services, male (% of male economically active children ages 7-14)\n",
       "SL.SRV.0714.ZS              Child employment in services (% of economically active children ages 7-14)\n",
       "SL.SRV.EMPL.FE.ZS           Employment in services, female (% of female employment) (modeled ILO estimate)\n",
       "SL.SRV.EMPL.MA.ZS           Employment in services, male (% of male employment) (modeled ILO estimate)\n",
       "SL.SRV.EMPL.ZS              Employment in services (% of total employment) (modeled ILO estimate)\n",
       "SL.TLF.0714.FE.ZS           Children in employment, female (% of female children ages 7-14)\n",
       "SL.TLF.0714.MA.ZS           Children in employment, male (% of male children ages 7-14)\n",
       "SL.TLF.0714.SW.FE.TM        Average working hours of children, study and work, female, ages 7-14 (hours per week)\n",
       "SL.TLF.0714.SW.FE.ZS        Children in employment, study and work, female (% of female children in employment, ages 7-14)\n",
       "SL.TLF.0714.SW.MA.TM        Average working hours of children, study and work, male, ages 7-14 (hours per week)\n",
       "SL.TLF.0714.SW.MA.ZS        Children in employment, study and work, male (% of male children in employment, ages 7-14)\n",
       "SL.TLF.0714.SW.TM           Average working hours of children, study and work, ages 7-14 (hours per week)\n",
       "SL.TLF.0714.SW.ZS           Children in employment, study and work (% of children in employment, ages 7-14)\n",
       "SL.TLF.0714.WK.FE.TM        Average working hours of children, working only, female, ages 7-14 (hours per week)\n",
       "SL.TLF.0714.WK.FE.ZS        Children in employment, work only, female (% of female children in employment, ages 7-14)\n",
       "SL.TLF.0714.WK.MA.TM        Average working hours of children, working only, male, ages 7-14 (hours per week)\n",
       "SL.TLF.0714.WK.MA.ZS        Children in employment, work only, male (% of male children in employment, ages 7-14)\n",
       "SL.TLF.0714.WK.TM           Average working hours of children, working only, ages 7-14 (hours per week)\n",
       "SL.TLF.0714.WK.ZS           Children in employment, work only (% of children in employment, ages 7-14)\n",
       "SL.TLF.0714.ZS              Children in employment, total (% of children ages 7-14)\n",
       "SL.TLF.ACTI.1524.FE.NE.ZS   Labor force participation rate for ages 15-24, female (%) (national estimate)\n",
       "SL.TLF.ACTI.1524.FE.ZS      Labor force participation rate for ages 15-24, female (%) (modeled ILO estimate)\n",
       "SL.TLF.ACTI.1524.MA.NE.ZS   Labor force participation rate for ages 15-24, male (%) (national estimate)\n",
       "SL.TLF.ACTI.1524.MA.ZS      Labor force participation rate for ages 15-24, male (%) (modeled ILO estimate)\n",
       "SL.TLF.ACTI.1524.NE.ZS      Labor force participation rate for ages 15-24, total (%) (national estimate)\n",
       "SL.TLF.ACTI.1524.ZS         Labor force participation rate for ages 15-24, total (%) (modeled ILO estimate)\n",
       "SL.TLF.ACTI.FE.ZS           Labor force participation rate, female (% of female population ages 15-64) (modeled ILO estimate)\n",
       "SL.TLF.ACTI.MA.ZS           Labor force participation rate, male (% of male population ages 15-64) (modeled ILO estimate)\n",
       "SL.TLF.ACTI.ZS              Labor force participation rate, total (% of total population ages 15-64) (modeled ILO estimate)\n",
       "SL.TLF.ADVN.FE.ZS           Labor force with advanced education, female (% of female working-age population with advanced education)\n",
       "SL.TLF.ADVN.MA.ZS           Labor force with advanced education, male (% of male working-age population with advanced education)\n",
       "SL.TLF.ADVN.ZS              Labor force with advanced education (% of total working-age population with advanced education)\n",
       "SL.TLF.BASC.FE.ZS           Labor force with basic education, female (% of female working-age population with basic education)\n",
       "SL.TLF.BASC.MA.ZS           Labor force with basic education, male (% of male working-age population with basic education)\n",
       "SL.TLF.BASC.ZS              Labor force with basic education (% of total working-age population with basic education)\n",
       "SL.TLF.CACT.FE.NE.ZS        Labor force participation rate, female (% of female population ages 15+) (national estimate)\n",
       "SL.TLF.CACT.FE.ZS           Labor force participation rate, female (% of female population ages 15+) (modeled ILO estimate)\n",
       "SL.TLF.CACT.FM.NE.ZS        Ratio of female to male labor force participation rate (%) (national estimate)\n",
       "SL.TLF.CACT.FM.ZS           Ratio of female to male labor force participation rate (%) (modeled ILO estimate)\n",
       "SL.TLF.CACT.MA.NE.ZS        Labor force participation rate, male (% of male population ages 15+) (national estimate)\n",
       "SL.TLF.CACT.MA.ZS           Labor force participation rate, male (% of male population ages 15+) (modeled ILO estimate)\n",
       "SL.TLF.CACT.NE.ZS           Labor force participation rate, total (% of total population ages 15+) (national estimate)\n",
       "SL.TLF.CACT.ZS              Labor force participation rate, total (% of total population ages 15+) (modeled ILO estimate)\n",
       "SL.TLF.INTM.FE.ZS           Labor force with intermediate education, female (% of female working-age population with intermediate education)\n",
       "SL.TLF.INTM.MA.ZS           Labor force with intermediate education, male (% of male working-age population with intermediate education)\n",
       "SL.TLF.INTM.ZS              Labor force with intermediate education (% of total working-age population with intermediate education)\n",
       "SL.TLF.PART.FE.ZS           Part time employment, female (% of total female employment)\n",
       "SL.TLF.PART.MA.ZS           Part time employment, male (% of total male employment)\n",
       "SL.TLF.PART.ZS              Part time employment, total (% of total employment)\n",
       "SL.TLF.TOTL.FE.ZS           Labor force, female (% of total labor force)\n",
       "SL.TLF.TOTL.IN              Labor force, total\n",
       "SL.UEM.1524.FE.NE.ZS        Unemployment, youth female (% of female labor force ages 15-24) (national estimate)\n",
       "SL.UEM.1524.FE.ZS           Unemployment, youth female (% of female labor force ages 15-24) (modeled ILO estimate)\n",
       "SL.UEM.1524.MA.NE.ZS        Unemployment, youth male (% of male labor force ages 15-24) (national estimate)\n",
       "SL.UEM.1524.MA.ZS           Unemployment, youth male (% of male labor force ages 15-24) (modeled ILO estimate)\n",
       "SL.UEM.1524.NE.ZS           Unemployment, youth total (% of total labor force ages 15-24) (national estimate)\n",
       "SL.UEM.1524.ZS              Unemployment, youth total (% of total labor force ages 15-24) (modeled ILO estimate)\n",
       "SL.UEM.ADVN.FE.ZS           Unemployment with advanced education, female (% of female labor force with advanced education)\n",
       "SL.UEM.ADVN.MA.ZS           Unemployment with advanced education, male (% of male labor force with advanced education)\n",
       "SL.UEM.ADVN.ZS              Unemployment with advanced education (% of total labor force with advanced education)\n",
       "SL.UEM.BASC.FE.ZS           Unemployment with basic education, female (% of female labor force with basic education)\n",
       "SL.UEM.BASC.MA.ZS           Unemployment with basic education, male (% of male labor force with basic education)\n",
       "SL.UEM.BASC.ZS              Unemployment with basic education (% of total labor force with basic education)\n",
       "SL.UEM.INTM.FE.ZS           Unemployment with intermediate education, female (% of female labor force with intermediate education)\n",
       "SL.UEM.INTM.MA.ZS           Unemployment with intermediate education, male (% of male labor force with intermediate education)\n",
       "SL.UEM.INTM.ZS              Unemployment with intermediate education (% of total labor force with intermediate education)\n",
       "SL.UEM.NEET.FE.ME.ZS        Share of youth not in education, employment or training, female (% of female youth population) (modeled ILO estimate)\n",
       "SL.UEM.NEET.FE.ZS           Share of youth not in education, employment or training, female (% of female youth population)\n",
       "SL.UEM.NEET.MA.ME.ZS        Share of youth not in education, employment or training, male (% of male youth population)  (modeled ILO estimate)\n",
       "SL.UEM.NEET.MA.ZS           Share of youth not in education, employment or training, male (% of male youth population)\n",
       "SL.UEM.NEET.ME.ZS           Share of youth not in education, employment or training, total (% of youth population)  (modeled ILO estimate)\n",
       "SL.UEM.NEET.ZS              Share of youth not in education, employment or training, total (% of youth population)\n",
       "SL.UEM.TOTL.FE.NE.ZS        Unemployment, female (% of female labor force) (national estimate)\n",
       "SL.UEM.TOTL.FE.ZS           Unemployment, female (% of female labor force) (modeled ILO estimate)\n",
       "SL.UEM.TOTL.MA.NE.ZS        Unemployment, male (% of male labor force) (national estimate)\n",
       "SL.UEM.TOTL.MA.ZS           Unemployment, male (% of male labor force) (modeled ILO estimate)\n",
       "SL.UEM.TOTL.NE.ZS           Unemployment, total (% of total labor force) (national estimate)\n",
       "SL.UEM.TOTL.ZS              Unemployment, total (% of total labor force) (modeled ILO estimate)\n",
       "SL.WAG.0714.FE.ZS           Children in employment, wage workers, female (% of female children in employment, ages 7-14)\n",
       "SL.WAG.0714.MA.ZS           Children in employment, wage workers, male (% of male children in employment, ages 7-14)\n",
       "SL.WAG.0714.ZS              Children in employment, wage workers (% of children in employment, ages 7-14)\n",
       "SM.POP.NETM                 Net migration\n",
       "SM.POP.REFG                 Refugee population by country or territory of asylum\n",
       "SM.POP.REFG.OR              Refugee population by country or territory of origin\n",
       "SM.POP.TOTL                 International migrant stock, total\n",
       "SM.POP.TOTL.ZS              International migrant stock (% of population)\n",
       "SN.ITK.DEFC.ZS              Prevalence of undernourishment (% of population)\n",
       "SN.ITK.MSFI.ZS              Prevalence of moderate or severe food insecurity in the population (%)\n",
       "SN.ITK.SALT.ZS              Consumption of iodized salt (% of households)\n",
       "SN.ITK.SVFI.ZS              Prevalence of severe food insecurity in the population (%)\n",
       "SN.ITK.VITA.ZS              Vitamin A supplementation coverage rate (% of children ages 6-59 months)\n",
       "SP.ADO.TFRT                 Adolescent fertility rate (births per 1,000 women ages 15-19)\n",
       "SP.DYN.AMRT.FE              Mortality rate, adult, female (per 1,000 female adults)\n",
       "SP.DYN.AMRT.MA              Mortality rate, adult, male (per 1,000 male adults)\n",
       "SP.DYN.CBRT.IN              Birth rate, crude (per 1,000 people)\n",
       "SP.DYN.CDRT.IN              Death rate, crude (per 1,000 people)\n",
       "SP.DYN.CONM.ZS              Contraceptive prevalence, any modern method (% of married women ages 15-49)\n",
       "SP.DYN.CONU.ZS              Contraceptive prevalence, any method (% of married women ages 15-49)\n",
       "SP.DYN.IMRT.FE.IN           Mortality rate, infant, female (per 1,000 live births)\n",
       "SP.DYN.IMRT.IN              Mortality rate, infant (per 1,000 live births)\n",
       "SP.DYN.IMRT.MA.IN           Mortality rate, infant, male (per 1,000 live births)\n",
       "SP.DYN.LE00.FE.IN           Life expectancy at birth, female (years)\n",
       "SP.DYN.LE00.IN              Life expectancy at birth, total (years)\n",
       "SP.DYN.LE00.MA.IN           Life expectancy at birth, male (years)\n",
       "SP.DYN.TFRT.IN              Fertility rate, total (births per woman)\n",
       "SP.DYN.TO65.FE.ZS           Survival to age 65, female (% of cohort)\n",
       "SP.DYN.TO65.MA.ZS           Survival to age 65, male (% of cohort)\n",
       "SP.DYN.WFRT                 Wanted fertility rate (births per woman)\n",
       "SP.HOU.FEMA.ZS              Female headed households (% of households with a female head)\n",
       "SP.M15.2024.FE.ZS           Women who were first married by age 15 (% of women ages 20-24)\n",
       "SP.M18.2024.FE.ZS           Women who were first married by age 18 (% of women ages 20-24)\n",
       "SP.MTR.1519.ZS              Teenage mothers (% of women ages 15-19 who have had children or are currently pregnant)\n",
       "SP.POP.0004.FE.5Y           Population ages 00-04, female (% of female population)\n",
       "SP.POP.0004.MA.5Y           Population ages 00-04, male (% of male population)\n",
       "SP.POP.0014.FE.IN           Population ages 0-14, female\n",
       "SP.POP.0014.FE.ZS           Population ages 0-14, female (% of female population)\n",
       "SP.POP.0014.MA.IN           Population ages 0-14, male\n",
       "SP.POP.0014.MA.ZS           Population ages 0-14, male (% of male population)\n",
       "SP.POP.0014.TO              Population ages 0-14, total\n",
       "SP.POP.0014.TO.ZS           Population ages 0-14 (% of total population)\n",
       "SP.POP.0509.FE.5Y           Population ages 05-09, female (% of female population)\n",
       "SP.POP.0509.MA.5Y           Population ages 05-09, male (% of male population)\n",
       "SP.POP.1014.FE.5Y           Population ages 10-14, female (% of female population)\n",
       "SP.POP.1014.MA.5Y           Population ages 10-14, male (% of male population)\n",
       "SP.POP.1519.FE.5Y           Population ages 15-19, female (% of female population)\n",
       "SP.POP.1519.MA.5Y           Population ages 15-19, male (% of male population)\n",
       "SP.POP.1564.FE.IN           Population ages 15-64, female\n",
       "SP.POP.1564.FE.ZS           Population ages 15-64, female (% of female population)\n",
       "SP.POP.1564.MA.IN           Population ages 15-64, male\n",
       "SP.POP.1564.MA.ZS           Population ages 15-64, male (% of male population)\n",
       "SP.POP.1564.TO              Population ages 15-64, total\n",
       "SP.POP.1564.TO.ZS           Population ages 15-64 (% of total population)\n",
       "SP.POP.2024.FE.5Y           Population ages 20-24, female (% of female population)\n",
       "SP.POP.2024.MA.5Y           Population ages 20-24, male (% of male population)\n",
       "SP.POP.2529.FE.5Y           Population ages 25-29, female (% of female population)\n",
       "SP.POP.2529.MA.5Y           Population ages 25-29, male (% of male population)\n",
       "SP.POP.3034.FE.5Y           Population ages 30-34, female (% of female population)\n",
       "SP.POP.3034.MA.5Y           Population ages 30-34, male (% of male population)\n",
       "SP.POP.3539.FE.5Y           Population ages 35-39, female (% of female population)\n",
       "SP.POP.3539.MA.5Y           Population ages 35-39, male (% of male population)\n",
       "SP.POP.4044.FE.5Y           Population ages 40-44, female (% of female population)\n",
       "SP.POP.4044.MA.5Y           Population ages 40-44, male (% of male population)\n",
       "SP.POP.4549.FE.5Y           Population ages 45-49, female (% of female population)\n",
       "SP.POP.4549.MA.5Y           Population ages 45-49, male (% of male population)\n",
       "SP.POP.5054.FE.5Y           Population ages 50-54, female (% of female population)\n",
       "SP.POP.5054.MA.5Y           Population ages 50-54, male (% of male population)\n",
       "SP.POP.5559.FE.5Y           Population ages 55-59, female (% of female population)\n",
       "SP.POP.5559.MA.5Y           Population ages 55-59, male (% of male population)\n",
       "SP.POP.6064.FE.5Y           Population ages 60-64, female (% of female population)\n",
       "SP.POP.6064.MA.5Y           Population ages 60-64, male (% of male population)\n",
       "SP.POP.6569.FE.5Y           Population ages 65-69, female (% of female population)\n",
       "SP.POP.6569.MA.5Y           Population ages 65-69, male (% of male population)\n",
       "SP.POP.65UP.FE.IN           Population ages 65 and above, female\n",
       "SP.POP.65UP.FE.ZS           Population ages 65 and above, female (% of female population)\n",
       "SP.POP.65UP.MA.IN           Population ages 65 and above, male\n",
       "SP.POP.65UP.MA.ZS           Population ages 65 and above, male (% of male population)\n",
       "SP.POP.65UP.TO              Population ages 65 and above, total\n",
       "SP.POP.65UP.TO.ZS           Population ages 65 and above (% of total population)\n",
       "SP.POP.7074.FE.5Y           Population ages 70-74, female (% of female population)\n",
       "SP.POP.7074.MA.5Y           Population ages 70-74, male (% of male population)\n",
       "SP.POP.7579.FE.5Y           Population ages 75-79, female (% of female population)\n",
       "SP.POP.7579.MA.5Y           Population ages 75-79, male (% of male population)\n",
       "SP.POP.80UP.FE.5Y           Population ages 80 and above, female (% of female population)\n",
       "SP.POP.80UP.MA.5Y           Population ages 80 and above, male (% of male population)\n",
       "SP.POP.BRTH.MF              Sex ratio at birth (male births per female births)\n",
       "SP.POP.DPND                 Age dependency ratio (% of working-age population)\n",
       "SP.POP.DPND.OL              Age dependency ratio, old (% of working-age population)\n",
       "SP.POP.DPND.YG              Age dependency ratio, young (% of working-age population)\n",
       "SP.POP.GROW                 Population growth (annual %)\n",
       "SP.POP.SCIE.RD.P6           Researchers in R&D (per million people)\n",
       "SP.POP.TECH.RD.P6           Technicians in R&D (per million people)\n",
       "SP.POP.TOTL                 Population, total\n",
       "SP.POP.TOTL.FE.IN           Population, female\n",
       "SP.POP.TOTL.FE.ZS           Population, female (% of total population)\n",
       "SP.POP.TOTL.MA.IN           Population, male\n",
       "SP.POP.TOTL.MA.ZS           Population, male (% of total population)\n",
       "SP.REG.BRTH.FE.ZS           Completeness of birth registration, female (%)\n",
       "SP.REG.BRTH.MA.ZS           Completeness of birth registration, male (%)\n",
       "SP.REG.BRTH.RU.ZS           Completeness of birth registration, rural (%)\n",
       "SP.REG.BRTH.UR.ZS           Completeness of birth registration, urban (%)\n",
       "SP.REG.BRTH.ZS              Completeness of birth registration (%)\n",
       "SP.REG.DTHS.ZS              Completeness of death registration with cause-of-death information (%)\n",
       "SP.RUR.TOTL                 Rural population\n",
       "SP.RUR.TOTL.ZG              Rural population growth (annual %)\n",
       "SP.RUR.TOTL.ZS              Rural population (% of total population)\n",
       "SP.URB.GROW                 Urban population growth (annual %)\n",
       "SP.URB.TOTL                 Urban population\n",
       "SP.URB.TOTL.IN.ZS           Urban population (% of total population)\n",
       "SP.UWT.TFRT                 Unmet need for contraception (% of married women ages 15-49)\n",
       "ST.INT.ARVL                 International tourism, number of arrivals\n",
       "ST.INT.DPRT                 International tourism, number of departures\n",
       "ST.INT.RCPT.CD              International tourism, receipts (current US$)\n",
       "ST.INT.RCPT.XP.ZS           International tourism, receipts (% of total exports)\n",
       "ST.INT.TRNR.CD              International tourism, receipts for passenger transport items (current US$)\n",
       "ST.INT.TRNX.CD              International tourism, expenditures for passenger transport items (current US$)\n",
       "ST.INT.TVLR.CD              International tourism, receipts for travel items (current US$)\n",
       "ST.INT.TVLX.CD              International tourism, expenditures for travel items (current US$)\n",
       "ST.INT.XPND.CD              International tourism, expenditures (current US$)\n",
       "ST.INT.XPND.MP.ZS           International tourism, expenditures (% of total imports)\n",
       "TG.VAL.TOTL.GD.ZS           Merchandise trade (% of GDP)\n",
       "TM.QTY.MRCH.XD.WD           Import volume index (2015 = 100)\n",
       "TM.TAX.MANF.BC.ZS           Binding coverage, manufactured products (%)\n",
       "TM.TAX.MANF.BR.ZS           Bound rate, simple mean, manufactured products (%)\n",
       "TM.TAX.MANF.IP.ZS           Share of tariff lines with international peaks, manufactured products (%)\n",
       "TM.TAX.MANF.SM.AR.ZS        Tariff rate, applied, simple mean, manufactured products (%)\n",
       "TM.TAX.MANF.SM.FN.ZS        Tariff rate, most favored nation, simple mean, manufactured products (%)\n",
       "TM.TAX.MANF.SR.ZS           Share of tariff lines with specific rates, manufactured products (%)\n",
       "TM.TAX.MANF.WM.AR.ZS        Tariff rate, applied, weighted mean, manufactured products (%)\n",
       "TM.TAX.MANF.WM.FN.ZS        Tariff rate, most favored nation, weighted mean, manufactured products (%)\n",
       "TM.TAX.MRCH.BC.ZS           Binding coverage, all products (%)\n",
       "TM.TAX.MRCH.BR.ZS           Bound rate, simple mean, all products (%)\n",
       "TM.TAX.MRCH.IP.ZS           Share of tariff lines with international peaks, all products (%)\n",
       "TM.TAX.MRCH.SM.AR.ZS        Tariff rate, applied, simple mean, all products (%)\n",
       "TM.TAX.MRCH.SM.FN.ZS        Tariff rate, most favored nation, simple mean, all products (%)\n",
       "TM.TAX.MRCH.SR.ZS           Share of tariff lines with specific rates, all products (%)\n",
       "TM.TAX.MRCH.WM.AR.ZS        Tariff rate, applied, weighted mean, all products (%)\n",
       "TM.TAX.MRCH.WM.FN.ZS        Tariff rate, most favored nation, weighted mean, all products (%)\n",
       "TM.TAX.TCOM.BC.ZS           Binding coverage, primary products (%)\n",
       "TM.TAX.TCOM.BR.ZS           Bound rate, simple mean, primary products (%)\n",
       "TM.TAX.TCOM.IP.ZS           Share of tariff lines with international peaks, primary products (%)\n",
       "TM.TAX.TCOM.SM.AR.ZS        Tariff rate, applied, simple mean, primary products (%)\n",
       "TM.TAX.TCOM.SM.FN.ZS        Tariff rate, most favored nation, simple mean, primary products (%)\n",
       "TM.TAX.TCOM.SR.ZS           Share of tariff lines with specific rates, primary products (%)\n",
       "TM.TAX.TCOM.WM.AR.ZS        Tariff rate, applied, weighted mean, primary products (%)\n",
       "TM.TAX.TCOM.WM.FN.ZS        Tariff rate, most favored nation, weighted mean, primary products (%)\n",
       "TM.UVI.MRCH.XD.WD           Import unit value index (2015 = 100)\n",
       "TM.VAL.AGRI.ZS.UN           Agricultural raw materials imports (% of merchandise imports)\n",
       "TM.VAL.FOOD.ZS.UN           Food imports (% of merchandise imports)\n",
       "TM.VAL.FUEL.ZS.UN           Fuel imports (% of merchandise imports)\n",
       "TM.VAL.ICTG.ZS.UN           ICT goods imports (% total goods imports)\n",
       "TM.VAL.INSF.ZS.WT           Insurance and financial services (% of commercial service imports)\n",
       "TM.VAL.MANF.ZS.UN           Manufactures imports (% of merchandise imports)\n",
       "TM.VAL.MMTL.ZS.UN           Ores and metals imports (% of merchandise imports)\n",
       "TM.VAL.MRCH.AL.ZS           Merchandise imports from economies in the Arab World (% of total merchandise imports)\n",
       "TM.VAL.MRCH.CD.WT           Merchandise imports (current US$)\n",
       "TM.VAL.MRCH.HI.ZS           Merchandise imports from high-income economies (% of total merchandise imports)\n",
       "TM.VAL.MRCH.OR.ZS           Merchandise imports from low- and middle-income economies outside region (% of total merchandise imports)\n",
       "TM.VAL.MRCH.R1.ZS           Merchandise imports from low- and middle-income economies in East Asia & Pacific (% of total merchandise imports)\n",
       "TM.VAL.MRCH.R2.ZS           Merchandise imports from low- and middle-income economies in Europe & Central Asia (% of total merchandise imports)\n",
       "TM.VAL.MRCH.R3.ZS           Merchandise imports from low- and middle-income economies in Latin America & the Caribbean (% of total merchandise imports)\n",
       "TM.VAL.MRCH.R4.ZS           Merchandise imports from low- and middle-income economies in Middle East & North Africa (% of total merchandise imports)\n",
       "TM.VAL.MRCH.R5.ZS           Merchandise imports from low- and middle-income economies in South Asia (% of total merchandise imports)\n",
       "TM.VAL.MRCH.R6.ZS           Merchandise imports from low- and middle-income economies in Sub-Saharan Africa (% of total merchandise imports)\n",
       "TM.VAL.MRCH.RS.ZS           Merchandise imports by the reporting economy, residual (% of total merchandise imports)\n",
       "TM.VAL.MRCH.WL.CD           Merchandise imports by the reporting economy (current US$)\n",
       "TM.VAL.MRCH.WR.ZS           Merchandise imports from low- and middle-income economies within region (% of total merchandise imports)\n",
       "TM.VAL.MRCH.XD.WD           Import value index (2015 = 100)\n",
       "TM.VAL.OTHR.ZS.WT           Computer, communications and other services (% of commercial service imports)\n",
       "TM.VAL.SERV.CD.WT           Commercial service imports (current US$)\n",
       "TM.VAL.TRAN.ZS.WT           Transport services (% of commercial service imports)\n",
       "TM.VAL.TRVL.ZS.WT           Travel services (% of commercial service imports)\n",
       "TT.PRI.MRCH.XD.WD           Net barter terms of trade index (2015 = 100)\n",
       "TX.MNF.TECH.ZS.UN           Medium and high-tech exports (% manufactured exports)\n",
       "TX.QTY.MRCH.XD.WD           Export volume index (2015 = 100)\n",
       "TX.UVI.MRCH.XD.WD           Export unit value index (2015 = 100)\n",
       "TX.VAL.AGRI.ZS.UN           Agricultural raw materials exports (% of merchandise exports)\n",
       "TX.VAL.FOOD.ZS.UN           Food exports (% of merchandise exports)\n",
       "TX.VAL.FUEL.ZS.UN           Fuel exports (% of merchandise exports)\n",
       "TX.VAL.ICTG.ZS.UN           ICT goods exports (% of total goods exports)\n",
       "TX.VAL.INSF.ZS.WT           Insurance and financial services (% of commercial service exports)\n",
       "TX.VAL.MANF.ZS.UN           Manufactures exports (% of merchandise exports)\n",
       "TX.VAL.MMTL.ZS.UN           Ores and metals exports (% of merchandise exports)\n",
       "TX.VAL.MRCH.AL.ZS           Merchandise exports to economies in the Arab World (% of total merchandise exports)\n",
       "TX.VAL.MRCH.CD.WT           Merchandise exports (current US$)\n",
       "TX.VAL.MRCH.HI.ZS           Merchandise exports to high-income economies (% of total merchandise exports)\n",
       "TX.VAL.MRCH.OR.ZS           Merchandise exports to low- and middle-income economies outside region (% of total merchandise exports)\n",
       "TX.VAL.MRCH.R1.ZS           Merchandise exports to low- and middle-income economies in East Asia & Pacific (% of total merchandise exports)\n",
       "TX.VAL.MRCH.R2.ZS           Merchandise exports to low- and middle-income economies in Europe & Central Asia (% of total merchandise exports)\n",
       "TX.VAL.MRCH.R3.ZS           Merchandise exports to low- and middle-income economies in Latin America & the Caribbean (% of total merchandise exports)\n",
       "TX.VAL.MRCH.R4.ZS           Merchandise exports to low- and middle-income economies in Middle East & North Africa (% of total merchandise exports)\n",
       "TX.VAL.MRCH.R5.ZS           Merchandise exports to low- and middle-income economies in South Asia (% of total merchandise exports)\n",
       "TX.VAL.MRCH.R6.ZS           Merchandise exports to low- and middle-income economies in Sub-Saharan Africa (% of total merchandise exports)\n",
       "TX.VAL.MRCH.RS.ZS           Merchandise exports by the reporting economy, residual (% of total merchandise exports)\n",
       "TX.VAL.MRCH.WL.CD           Merchandise exports by the reporting economy (current US$)\n",
       "TX.VAL.MRCH.WR.ZS           Merchandise exports to low- and middle-income economies within region (% of total merchandise exports)\n",
       "TX.VAL.MRCH.XD.WD           Export value index (2015 = 100)\n",
       "TX.VAL.OTHR.ZS.WT           Computer, communications and other services (% of commercial service exports)\n",
       "TX.VAL.SERV.CD.WT           Commercial service exports (current US$)\n",
       "TX.VAL.TECH.CD              High-technology exports (current US$)\n",
       "TX.VAL.TECH.MF.ZS           High-technology exports (% of manufactured exports)\n",
       "TX.VAL.TRAN.ZS.WT           Transport services (% of commercial service exports)\n",
       "TX.VAL.TRVL.ZS.WT           Travel services (% of commercial service exports)\n",
       "VA.EST                      Voice and Accountability: Estimate\n",
       "VA.NO.SRC                   Voice and Accountability: Number of Sources\n",
       "VA.PER.RNK                  Voice and Accountability: Percentile Rank\n",
       "VA.PER.RNK.LOWER            Voice and Accountability: Percentile Rank, Lower Bound of 90% Confidence Interval\n",
       "VA.PER.RNK.UPPER            Voice and Accountability: Percentile Rank, Upper Bound of 90% Confidence Interval\n",
       "VA.STD.ERR                  Voice and Accountability: Standard Error\n",
       "VC.BTL.DETH                 Battle-related deaths (number of people)\n",
       "VC.IDP.NWCV                 Internally displaced persons, new displacement associated with conflict and violence (number of cases)\n",
       "VC.IDP.NWDS                 Internally displaced persons, new displacement associated with disasters (number of cases)\n",
       "VC.IDP.TOCV                 Internally displaced persons, total displaced by conflict and violence (number of people)\n",
       "VC.IHR.PSRC.FE.P5           Intentional homicides, female (per 100,000 female)\n",
       "VC.IHR.PSRC.MA.P5           Intentional homicides, male (per 100,000 male)\n",
       "VC.IHR.PSRC.P5              Intentional homicides (per 100,000 people)"
      ]
     },
     "execution_count": 59,
     "metadata": {},
     "output_type": "execute_result"
    }
   ],
   "source": [
    "wbdata.get_indicators(source=2)"
   ]
  },
  {
   "cell_type": "code",
   "execution_count": 100,
   "metadata": {},
   "outputs": [
    {
     "name": "stdout",
     "output_type": "stream",
     "text": [
      "       Country  Year  Population  GDP per Capita  Current Account Balance  \\\n",
      "0  Afghanistan  2023  42239854.0             NaN                      NaN   \n",
      "1  Afghanistan  2022  41128771.0      352.603733                      NaN   \n",
      "2  Afghanistan  2021  40099462.0      355.777826                      NaN   \n",
      "3  Afghanistan  2020  38972230.0      512.055098            -3.136733e+09   \n",
      "4  Afghanistan  2019  37769499.0      497.741431            -3.791935e+09   \n",
      "\n",
      "   GDP Growth  Inflation Rate           GDP  External Debt  \n",
      "0         NaN             NaN           NaN            NaN  \n",
      "1   -6.240172             NaN  1.450216e+10   3.393247e+09  \n",
      "2  -20.738839             NaN  1.426650e+10   3.555784e+09  \n",
      "3   -2.351101             NaN  1.995593e+10   3.040072e+09  \n",
      "4    3.911603        2.302373  1.879944e+10   2.661686e+09  \n"
     ]
    }
   ],
   "source": [
    "import wbdata\n",
    "import pandas as pd\n",
    "\n",
    "# Define the indicators for population, GDP per capita, current account balance, GDP growth, and inflation rate\n",
    "indicators = {\n",
    "    'SP.POP.TOTL': 'Population', \n",
    "    'NY.GDP.PCAP.CD': 'GDP per Capita', \n",
    "    'BN.CAB.XOKA.CD': 'Current Account Balance',\n",
    "    'NY.GDP.MKTP.KD.ZG': 'GDP Growth',\n",
    "    'FP.CPI.TOTL.ZG': 'Inflation Rate',\n",
    "# add overall GDP\n",
    "    'NY.GDP.MKTP.CD': 'GDP',\n",
    "    'DT.DOD.DECT.CD': 'External Debt'\n",
    "    }\n",
    "\n",
    "# Define countries\n",
    "countries = ['PK', 'IN', 'BD', 'LK', 'AF']\n",
    "\n",
    "# Fetch data for the defined period\n",
    "data = wbdata.get_dataframe(indicators, country=countries)\n",
    "\n",
    "# Reset index for a better structure\n",
    "data.reset_index(inplace=True)\n",
    "\n",
    "# Rename columns for clarity\n",
    "data.rename(columns={'country': 'Country', 'date': 'Year'}, inplace=True)\n",
    "\n",
    "# Ensure Year column is numeric\n",
    "data['Year'] = pd.to_numeric(data['Year'])\n",
    "\n",
    "# Filter data between 2010 and 2023\n",
    "data = data[(data['Year'] >= 2000) & (data['Year'] <= 2023)]\n",
    "# data.to_excel('data.xlsx')\n",
    "\n",
    "# Display the first few rows of the dataset\n",
    "print(data.head())"
   ]
  },
  {
   "cell_type": "code",
   "execution_count": 92,
   "metadata": {},
   "outputs": [
    {
     "name": "stdout",
     "output_type": "stream",
     "text": [
      "      Country  Year   Population  GDP per Capita  Current Account Balance  \\\n",
      "256  Pakistan  2023  240485658.0     1407.021351            -3.500440e+08   \n",
      "257  Pakistan  2022  235824862.0     1589.263980            -1.221611e+10   \n",
      "258  Pakistan  2021  231402117.0     1506.108293            -1.228311e+10   \n",
      "259  Pakistan  2020  227196741.0     1322.314785            -6.508740e+08   \n",
      "260  Pakistan  2019  223293280.0     1437.165833            -8.557928e+09   \n",
      "261  Pakistan  2018  219731479.0     1620.742591            -1.885899e+10   \n",
      "262  Pakistan  2017  216379655.0     1567.640612            -1.617962e+10   \n",
      "263  Pakistan  2016  213524840.0     1468.822082            -7.190898e+09   \n",
      "264  Pakistan  2015  210969298.0     1421.835278            -2.803000e+09   \n",
      "265  Pakistan  2014  208251628.0     1303.185370            -3.658000e+09   \n",
      "266  Pakistan  2013  205337562.0     1259.668368            -4.416000e+09   \n",
      "267  Pakistan  2012  202205861.0     1236.892763            -2.342000e+09   \n",
      "268  Pakistan  2011  198602738.0     1161.044321            -2.207000e+09   \n",
      "269  Pakistan  2010  194454498.0     1011.597180            -1.354000e+09   \n",
      "270  Pakistan  2009  190123222.0      985.349301            -3.993430e+09   \n",
      "271  Pakistan  2008  185931955.0     1087.514777            -1.565450e+10   \n",
      "272  Pakistan  2007  181924521.0     1012.182794            -8.301000e+09   \n",
      "273  Pakistan  2006  178069984.0      909.032403            -6.747000e+09   \n",
      "274  Pakistan  2005  174372098.0      832.751138            -3.606200e+09   \n",
      "275  Pakistan  2004  170648620.0      774.785336            -8.170000e+08   \n",
      "276  Pakistan  2003  166876680.0      673.382966             3.573000e+09   \n",
      "277  Pakistan  2002  163262807.0      599.789411             3.854000e+09   \n",
      "278  Pakistan  2001  159217727.0      610.143232             1.878000e+09   \n",
      "279  Pakistan  2000  154369924.0      644.457157            -8.500000e+07   \n",
      "\n",
      "     GDP Growth  Inflation Rate           GDP  External Debt  \n",
      "256   -0.004855       30.768128  3.383685e+11            NaN  \n",
      "257    4.767540       19.873860  3.747880e+11   1.269422e+11  \n",
      "258    6.513886        9.496211  3.485166e+11   1.308725e+11  \n",
      "259   -1.274087        9.739993  3.004256e+11   1.180492e+11  \n",
      "260    2.497637       10.578362  3.209095e+11   1.101777e+11  \n",
      "261    6.151703        5.078057  3.561282e+11   1.001991e+11  \n",
      "262    4.432626        4.085374  3.392055e+11   9.315814e+10  \n",
      "263    6.573838        3.765119  3.136300e+11   7.520643e+10  \n",
      "264    4.217942        2.529328  2.999636e+11   6.874983e+10  \n",
      "265    4.116428        7.189384  2.713905e+11   6.435986e+10  \n",
      "266    4.366865        7.692156  2.586572e+11   6.029783e+10  \n",
      "267    3.027584        9.682352  2.501070e+11   6.395413e+10  \n",
      "268    2.680117       11.916093  2.305866e+11   6.508832e+10  \n",
      "269    1.501718       12.938871  1.967096e+11   6.348295e+10  \n",
      "270    3.472551       13.647765  1.873378e+11   5.700060e+10  \n",
      "271    2.120441       20.286121  2.022037e+11   5.018542e+10  \n",
      "272    4.444814        7.598684  1.841409e+11   4.260447e+10  \n",
      "273    6.051638        7.921084  1.618714e+11   3.772351e+10  \n",
      "274    7.276574        9.063327  1.452086e+11   3.457813e+10  \n",
      "275    7.831256        7.444625  1.322160e+11   3.693408e+10  \n",
      "276    5.401311        2.914135  1.123719e+11   3.703720e+10  \n",
      "277    2.594817        3.290345  9.792330e+10   3.432083e+10  \n",
      "278    3.651350        3.148261  9.714562e+10   3.236795e+10  \n",
      "279    4.260088        4.366665  9.948480e+10   3.310982e+10  \n"
     ]
    }
   ],
   "source": [
    "# Show only data for Pakistan\n",
    "data_pakistan =data[data['Country'] == 'Pakistan']\n",
    "print(data_pakistan)\n",
    "\n"
   ]
  },
  {
   "cell_type": "code",
   "execution_count": 72,
   "metadata": {},
   "outputs": [
    {
     "data": {
      "application/vnd.plotly.v1+json": {
       "config": {
        "plotlyServerURL": "https://plot.ly"
       },
       "data": [
        {
         "alignmentgroup": "True",
         "hovertemplate": "Year=%{x}<br>Current Account Balance=%{y}<extra></extra>",
         "legendgroup": "",
         "marker": {
          "color": "#636efa",
          "pattern": {
           "shape": ""
          }
         },
         "name": "",
         "offsetgroup": "",
         "orientation": "v",
         "showlegend": false,
         "textposition": "auto",
         "type": "bar",
         "x": [
          2023,
          2022,
          2021,
          2020,
          2019,
          2018,
          2017,
          2016,
          2015,
          2014,
          2013,
          2012,
          2011,
          2010,
          2009,
          2008,
          2007,
          2006,
          2005,
          2004,
          2003,
          2002,
          2001,
          2000
         ],
         "xaxis": "x",
         "y": [
          -350044000,
          -12216107000,
          -12283106000,
          -650874000.000002,
          -8557928000,
          -18858987000,
          -16179621000,
          -7190898000,
          -2803000000,
          -3658000000,
          -4416000000,
          -2342000000,
          -2207000000,
          -1354000000,
          -3993430000,
          -15654500000,
          -8301000000,
          -6747000000,
          -3606200000,
          -817000000,
          3573000000,
          3854000000,
          1878000000,
          -85000000
         ],
         "yaxis": "y"
        }
       ],
       "layout": {
        "barmode": "relative",
        "legend": {
         "tracegroupgap": 0
        },
        "template": {
         "data": {
          "bar": [
           {
            "error_x": {
             "color": "#2a3f5f"
            },
            "error_y": {
             "color": "#2a3f5f"
            },
            "marker": {
             "line": {
              "color": "#E5ECF6",
              "width": 0.5
             },
             "pattern": {
              "fillmode": "overlay",
              "size": 10,
              "solidity": 0.2
             }
            },
            "type": "bar"
           }
          ],
          "barpolar": [
           {
            "marker": {
             "line": {
              "color": "#E5ECF6",
              "width": 0.5
             },
             "pattern": {
              "fillmode": "overlay",
              "size": 10,
              "solidity": 0.2
             }
            },
            "type": "barpolar"
           }
          ],
          "carpet": [
           {
            "aaxis": {
             "endlinecolor": "#2a3f5f",
             "gridcolor": "white",
             "linecolor": "white",
             "minorgridcolor": "white",
             "startlinecolor": "#2a3f5f"
            },
            "baxis": {
             "endlinecolor": "#2a3f5f",
             "gridcolor": "white",
             "linecolor": "white",
             "minorgridcolor": "white",
             "startlinecolor": "#2a3f5f"
            },
            "type": "carpet"
           }
          ],
          "choropleth": [
           {
            "colorbar": {
             "outlinewidth": 0,
             "ticks": ""
            },
            "type": "choropleth"
           }
          ],
          "contour": [
           {
            "colorbar": {
             "outlinewidth": 0,
             "ticks": ""
            },
            "colorscale": [
             [
              0,
              "#0d0887"
             ],
             [
              0.1111111111111111,
              "#46039f"
             ],
             [
              0.2222222222222222,
              "#7201a8"
             ],
             [
              0.3333333333333333,
              "#9c179e"
             ],
             [
              0.4444444444444444,
              "#bd3786"
             ],
             [
              0.5555555555555556,
              "#d8576b"
             ],
             [
              0.6666666666666666,
              "#ed7953"
             ],
             [
              0.7777777777777778,
              "#fb9f3a"
             ],
             [
              0.8888888888888888,
              "#fdca26"
             ],
             [
              1,
              "#f0f921"
             ]
            ],
            "type": "contour"
           }
          ],
          "contourcarpet": [
           {
            "colorbar": {
             "outlinewidth": 0,
             "ticks": ""
            },
            "type": "contourcarpet"
           }
          ],
          "heatmap": [
           {
            "colorbar": {
             "outlinewidth": 0,
             "ticks": ""
            },
            "colorscale": [
             [
              0,
              "#0d0887"
             ],
             [
              0.1111111111111111,
              "#46039f"
             ],
             [
              0.2222222222222222,
              "#7201a8"
             ],
             [
              0.3333333333333333,
              "#9c179e"
             ],
             [
              0.4444444444444444,
              "#bd3786"
             ],
             [
              0.5555555555555556,
              "#d8576b"
             ],
             [
              0.6666666666666666,
              "#ed7953"
             ],
             [
              0.7777777777777778,
              "#fb9f3a"
             ],
             [
              0.8888888888888888,
              "#fdca26"
             ],
             [
              1,
              "#f0f921"
             ]
            ],
            "type": "heatmap"
           }
          ],
          "heatmapgl": [
           {
            "colorbar": {
             "outlinewidth": 0,
             "ticks": ""
            },
            "colorscale": [
             [
              0,
              "#0d0887"
             ],
             [
              0.1111111111111111,
              "#46039f"
             ],
             [
              0.2222222222222222,
              "#7201a8"
             ],
             [
              0.3333333333333333,
              "#9c179e"
             ],
             [
              0.4444444444444444,
              "#bd3786"
             ],
             [
              0.5555555555555556,
              "#d8576b"
             ],
             [
              0.6666666666666666,
              "#ed7953"
             ],
             [
              0.7777777777777778,
              "#fb9f3a"
             ],
             [
              0.8888888888888888,
              "#fdca26"
             ],
             [
              1,
              "#f0f921"
             ]
            ],
            "type": "heatmapgl"
           }
          ],
          "histogram": [
           {
            "marker": {
             "pattern": {
              "fillmode": "overlay",
              "size": 10,
              "solidity": 0.2
             }
            },
            "type": "histogram"
           }
          ],
          "histogram2d": [
           {
            "colorbar": {
             "outlinewidth": 0,
             "ticks": ""
            },
            "colorscale": [
             [
              0,
              "#0d0887"
             ],
             [
              0.1111111111111111,
              "#46039f"
             ],
             [
              0.2222222222222222,
              "#7201a8"
             ],
             [
              0.3333333333333333,
              "#9c179e"
             ],
             [
              0.4444444444444444,
              "#bd3786"
             ],
             [
              0.5555555555555556,
              "#d8576b"
             ],
             [
              0.6666666666666666,
              "#ed7953"
             ],
             [
              0.7777777777777778,
              "#fb9f3a"
             ],
             [
              0.8888888888888888,
              "#fdca26"
             ],
             [
              1,
              "#f0f921"
             ]
            ],
            "type": "histogram2d"
           }
          ],
          "histogram2dcontour": [
           {
            "colorbar": {
             "outlinewidth": 0,
             "ticks": ""
            },
            "colorscale": [
             [
              0,
              "#0d0887"
             ],
             [
              0.1111111111111111,
              "#46039f"
             ],
             [
              0.2222222222222222,
              "#7201a8"
             ],
             [
              0.3333333333333333,
              "#9c179e"
             ],
             [
              0.4444444444444444,
              "#bd3786"
             ],
             [
              0.5555555555555556,
              "#d8576b"
             ],
             [
              0.6666666666666666,
              "#ed7953"
             ],
             [
              0.7777777777777778,
              "#fb9f3a"
             ],
             [
              0.8888888888888888,
              "#fdca26"
             ],
             [
              1,
              "#f0f921"
             ]
            ],
            "type": "histogram2dcontour"
           }
          ],
          "mesh3d": [
           {
            "colorbar": {
             "outlinewidth": 0,
             "ticks": ""
            },
            "type": "mesh3d"
           }
          ],
          "parcoords": [
           {
            "line": {
             "colorbar": {
              "outlinewidth": 0,
              "ticks": ""
             }
            },
            "type": "parcoords"
           }
          ],
          "pie": [
           {
            "automargin": true,
            "type": "pie"
           }
          ],
          "scatter": [
           {
            "fillpattern": {
             "fillmode": "overlay",
             "size": 10,
             "solidity": 0.2
            },
            "type": "scatter"
           }
          ],
          "scatter3d": [
           {
            "line": {
             "colorbar": {
              "outlinewidth": 0,
              "ticks": ""
             }
            },
            "marker": {
             "colorbar": {
              "outlinewidth": 0,
              "ticks": ""
             }
            },
            "type": "scatter3d"
           }
          ],
          "scattercarpet": [
           {
            "marker": {
             "colorbar": {
              "outlinewidth": 0,
              "ticks": ""
             }
            },
            "type": "scattercarpet"
           }
          ],
          "scattergeo": [
           {
            "marker": {
             "colorbar": {
              "outlinewidth": 0,
              "ticks": ""
             }
            },
            "type": "scattergeo"
           }
          ],
          "scattergl": [
           {
            "marker": {
             "colorbar": {
              "outlinewidth": 0,
              "ticks": ""
             }
            },
            "type": "scattergl"
           }
          ],
          "scattermapbox": [
           {
            "marker": {
             "colorbar": {
              "outlinewidth": 0,
              "ticks": ""
             }
            },
            "type": "scattermapbox"
           }
          ],
          "scatterpolar": [
           {
            "marker": {
             "colorbar": {
              "outlinewidth": 0,
              "ticks": ""
             }
            },
            "type": "scatterpolar"
           }
          ],
          "scatterpolargl": [
           {
            "marker": {
             "colorbar": {
              "outlinewidth": 0,
              "ticks": ""
             }
            },
            "type": "scatterpolargl"
           }
          ],
          "scatterternary": [
           {
            "marker": {
             "colorbar": {
              "outlinewidth": 0,
              "ticks": ""
             }
            },
            "type": "scatterternary"
           }
          ],
          "surface": [
           {
            "colorbar": {
             "outlinewidth": 0,
             "ticks": ""
            },
            "colorscale": [
             [
              0,
              "#0d0887"
             ],
             [
              0.1111111111111111,
              "#46039f"
             ],
             [
              0.2222222222222222,
              "#7201a8"
             ],
             [
              0.3333333333333333,
              "#9c179e"
             ],
             [
              0.4444444444444444,
              "#bd3786"
             ],
             [
              0.5555555555555556,
              "#d8576b"
             ],
             [
              0.6666666666666666,
              "#ed7953"
             ],
             [
              0.7777777777777778,
              "#fb9f3a"
             ],
             [
              0.8888888888888888,
              "#fdca26"
             ],
             [
              1,
              "#f0f921"
             ]
            ],
            "type": "surface"
           }
          ],
          "table": [
           {
            "cells": {
             "fill": {
              "color": "#EBF0F8"
             },
             "line": {
              "color": "white"
             }
            },
            "header": {
             "fill": {
              "color": "#C8D4E3"
             },
             "line": {
              "color": "white"
             }
            },
            "type": "table"
           }
          ]
         },
         "layout": {
          "annotationdefaults": {
           "arrowcolor": "#2a3f5f",
           "arrowhead": 0,
           "arrowwidth": 1
          },
          "autotypenumbers": "strict",
          "coloraxis": {
           "colorbar": {
            "outlinewidth": 0,
            "ticks": ""
           }
          },
          "colorscale": {
           "diverging": [
            [
             0,
             "#8e0152"
            ],
            [
             0.1,
             "#c51b7d"
            ],
            [
             0.2,
             "#de77ae"
            ],
            [
             0.3,
             "#f1b6da"
            ],
            [
             0.4,
             "#fde0ef"
            ],
            [
             0.5,
             "#f7f7f7"
            ],
            [
             0.6,
             "#e6f5d0"
            ],
            [
             0.7,
             "#b8e186"
            ],
            [
             0.8,
             "#7fbc41"
            ],
            [
             0.9,
             "#4d9221"
            ],
            [
             1,
             "#276419"
            ]
           ],
           "sequential": [
            [
             0,
             "#0d0887"
            ],
            [
             0.1111111111111111,
             "#46039f"
            ],
            [
             0.2222222222222222,
             "#7201a8"
            ],
            [
             0.3333333333333333,
             "#9c179e"
            ],
            [
             0.4444444444444444,
             "#bd3786"
            ],
            [
             0.5555555555555556,
             "#d8576b"
            ],
            [
             0.6666666666666666,
             "#ed7953"
            ],
            [
             0.7777777777777778,
             "#fb9f3a"
            ],
            [
             0.8888888888888888,
             "#fdca26"
            ],
            [
             1,
             "#f0f921"
            ]
           ],
           "sequentialminus": [
            [
             0,
             "#0d0887"
            ],
            [
             0.1111111111111111,
             "#46039f"
            ],
            [
             0.2222222222222222,
             "#7201a8"
            ],
            [
             0.3333333333333333,
             "#9c179e"
            ],
            [
             0.4444444444444444,
             "#bd3786"
            ],
            [
             0.5555555555555556,
             "#d8576b"
            ],
            [
             0.6666666666666666,
             "#ed7953"
            ],
            [
             0.7777777777777778,
             "#fb9f3a"
            ],
            [
             0.8888888888888888,
             "#fdca26"
            ],
            [
             1,
             "#f0f921"
            ]
           ]
          },
          "colorway": [
           "#636efa",
           "#EF553B",
           "#00cc96",
           "#ab63fa",
           "#FFA15A",
           "#19d3f3",
           "#FF6692",
           "#B6E880",
           "#FF97FF",
           "#FECB52"
          ],
          "font": {
           "color": "#2a3f5f"
          },
          "geo": {
           "bgcolor": "white",
           "lakecolor": "white",
           "landcolor": "#E5ECF6",
           "showlakes": true,
           "showland": true,
           "subunitcolor": "white"
          },
          "hoverlabel": {
           "align": "left"
          },
          "hovermode": "closest",
          "mapbox": {
           "style": "light"
          },
          "paper_bgcolor": "white",
          "plot_bgcolor": "#E5ECF6",
          "polar": {
           "angularaxis": {
            "gridcolor": "white",
            "linecolor": "white",
            "ticks": ""
           },
           "bgcolor": "#E5ECF6",
           "radialaxis": {
            "gridcolor": "white",
            "linecolor": "white",
            "ticks": ""
           }
          },
          "scene": {
           "xaxis": {
            "backgroundcolor": "#E5ECF6",
            "gridcolor": "white",
            "gridwidth": 2,
            "linecolor": "white",
            "showbackground": true,
            "ticks": "",
            "zerolinecolor": "white"
           },
           "yaxis": {
            "backgroundcolor": "#E5ECF6",
            "gridcolor": "white",
            "gridwidth": 2,
            "linecolor": "white",
            "showbackground": true,
            "ticks": "",
            "zerolinecolor": "white"
           },
           "zaxis": {
            "backgroundcolor": "#E5ECF6",
            "gridcolor": "white",
            "gridwidth": 2,
            "linecolor": "white",
            "showbackground": true,
            "ticks": "",
            "zerolinecolor": "white"
           }
          },
          "shapedefaults": {
           "line": {
            "color": "#2a3f5f"
           }
          },
          "ternary": {
           "aaxis": {
            "gridcolor": "white",
            "linecolor": "white",
            "ticks": ""
           },
           "baxis": {
            "gridcolor": "white",
            "linecolor": "white",
            "ticks": ""
           },
           "bgcolor": "#E5ECF6",
           "caxis": {
            "gridcolor": "white",
            "linecolor": "white",
            "ticks": ""
           }
          },
          "title": {
           "x": 0.05
          },
          "xaxis": {
           "automargin": true,
           "gridcolor": "white",
           "linecolor": "white",
           "ticks": "",
           "title": {
            "standoff": 15
           },
           "zerolinecolor": "white",
           "zerolinewidth": 2
          },
          "yaxis": {
           "automargin": true,
           "gridcolor": "white",
           "linecolor": "white",
           "ticks": "",
           "title": {
            "standoff": 15
           },
           "zerolinecolor": "white",
           "zerolinewidth": 2
          }
         }
        },
        "title": {
         "text": "Current Account Balance of Pakistan from 2010 to 2023"
        },
        "xaxis": {
         "anchor": "y",
         "domain": [
          0,
          1
         ],
         "title": {
          "text": "Year"
         }
        },
        "yaxis": {
         "anchor": "x",
         "domain": [
          0,
          1
         ],
         "title": {
          "text": "Current Account Balance"
         }
        }
       }
      }
     },
     "metadata": {},
     "output_type": "display_data"
    }
   ],
   "source": [
    "import plotly.express as px\n",
    "import matplotlib.pyplot as plt\n",
    "fig = px.bar(data_pakistan, x='Year', y='Current Account Balance',\n",
    "             title='Current Account Balance of Pakistan from 2010 to 2023')\n",
    "# give title\n",
    "\n",
    "fig.show()\n"
   ]
  },
  {
   "cell_type": "code",
   "execution_count": 73,
   "metadata": {},
   "outputs": [
    {
     "data": {
      "application/vnd.plotly.v1+json": {
       "config": {
        "plotlyServerURL": "https://plot.ly"
       },
       "data": [
        {
         "alignmentgroup": "True",
         "hovertemplate": "Year=%{x}<br>GDP Growth=%{y}<extra></extra>",
         "legendgroup": "",
         "marker": {
          "color": "#636efa",
          "pattern": {
           "shape": ""
          }
         },
         "name": "",
         "offsetgroup": "",
         "orientation": "v",
         "showlegend": false,
         "textposition": "auto",
         "type": "bar",
         "x": [
          2023,
          2022,
          2021,
          2020,
          2019,
          2018,
          2017,
          2016,
          2015,
          2014,
          2013,
          2012,
          2011,
          2010,
          2009,
          2008,
          2007,
          2006,
          2005,
          2004,
          2003,
          2002,
          2001,
          2000
         ],
         "xaxis": "x",
         "y": [
          -0.00485526939898762,
          4.767539530847,
          6.51388575852702,
          -1.27408744338709,
          2.49763692943365,
          6.15170261099519,
          4.43262590683975,
          6.57383828511043,
          4.21794209572506,
          4.11642817161422,
          4.36686504978387,
          3.02758391088629,
          2.68011685421705,
          1.50171752152883,
          3.47255059567348,
          2.1204410433083,
          4.4448143398844,
          6.05163767569996,
          7.2765744364722,
          7.83125556961251,
          5.40131087314342,
          2.59481668445784,
          3.65135017083765,
          4.2600880111325
         ],
         "yaxis": "y"
        }
       ],
       "layout": {
        "barmode": "relative",
        "legend": {
         "tracegroupgap": 0
        },
        "template": {
         "data": {
          "bar": [
           {
            "error_x": {
             "color": "#2a3f5f"
            },
            "error_y": {
             "color": "#2a3f5f"
            },
            "marker": {
             "line": {
              "color": "#E5ECF6",
              "width": 0.5
             },
             "pattern": {
              "fillmode": "overlay",
              "size": 10,
              "solidity": 0.2
             }
            },
            "type": "bar"
           }
          ],
          "barpolar": [
           {
            "marker": {
             "line": {
              "color": "#E5ECF6",
              "width": 0.5
             },
             "pattern": {
              "fillmode": "overlay",
              "size": 10,
              "solidity": 0.2
             }
            },
            "type": "barpolar"
           }
          ],
          "carpet": [
           {
            "aaxis": {
             "endlinecolor": "#2a3f5f",
             "gridcolor": "white",
             "linecolor": "white",
             "minorgridcolor": "white",
             "startlinecolor": "#2a3f5f"
            },
            "baxis": {
             "endlinecolor": "#2a3f5f",
             "gridcolor": "white",
             "linecolor": "white",
             "minorgridcolor": "white",
             "startlinecolor": "#2a3f5f"
            },
            "type": "carpet"
           }
          ],
          "choropleth": [
           {
            "colorbar": {
             "outlinewidth": 0,
             "ticks": ""
            },
            "type": "choropleth"
           }
          ],
          "contour": [
           {
            "colorbar": {
             "outlinewidth": 0,
             "ticks": ""
            },
            "colorscale": [
             [
              0,
              "#0d0887"
             ],
             [
              0.1111111111111111,
              "#46039f"
             ],
             [
              0.2222222222222222,
              "#7201a8"
             ],
             [
              0.3333333333333333,
              "#9c179e"
             ],
             [
              0.4444444444444444,
              "#bd3786"
             ],
             [
              0.5555555555555556,
              "#d8576b"
             ],
             [
              0.6666666666666666,
              "#ed7953"
             ],
             [
              0.7777777777777778,
              "#fb9f3a"
             ],
             [
              0.8888888888888888,
              "#fdca26"
             ],
             [
              1,
              "#f0f921"
             ]
            ],
            "type": "contour"
           }
          ],
          "contourcarpet": [
           {
            "colorbar": {
             "outlinewidth": 0,
             "ticks": ""
            },
            "type": "contourcarpet"
           }
          ],
          "heatmap": [
           {
            "colorbar": {
             "outlinewidth": 0,
             "ticks": ""
            },
            "colorscale": [
             [
              0,
              "#0d0887"
             ],
             [
              0.1111111111111111,
              "#46039f"
             ],
             [
              0.2222222222222222,
              "#7201a8"
             ],
             [
              0.3333333333333333,
              "#9c179e"
             ],
             [
              0.4444444444444444,
              "#bd3786"
             ],
             [
              0.5555555555555556,
              "#d8576b"
             ],
             [
              0.6666666666666666,
              "#ed7953"
             ],
             [
              0.7777777777777778,
              "#fb9f3a"
             ],
             [
              0.8888888888888888,
              "#fdca26"
             ],
             [
              1,
              "#f0f921"
             ]
            ],
            "type": "heatmap"
           }
          ],
          "heatmapgl": [
           {
            "colorbar": {
             "outlinewidth": 0,
             "ticks": ""
            },
            "colorscale": [
             [
              0,
              "#0d0887"
             ],
             [
              0.1111111111111111,
              "#46039f"
             ],
             [
              0.2222222222222222,
              "#7201a8"
             ],
             [
              0.3333333333333333,
              "#9c179e"
             ],
             [
              0.4444444444444444,
              "#bd3786"
             ],
             [
              0.5555555555555556,
              "#d8576b"
             ],
             [
              0.6666666666666666,
              "#ed7953"
             ],
             [
              0.7777777777777778,
              "#fb9f3a"
             ],
             [
              0.8888888888888888,
              "#fdca26"
             ],
             [
              1,
              "#f0f921"
             ]
            ],
            "type": "heatmapgl"
           }
          ],
          "histogram": [
           {
            "marker": {
             "pattern": {
              "fillmode": "overlay",
              "size": 10,
              "solidity": 0.2
             }
            },
            "type": "histogram"
           }
          ],
          "histogram2d": [
           {
            "colorbar": {
             "outlinewidth": 0,
             "ticks": ""
            },
            "colorscale": [
             [
              0,
              "#0d0887"
             ],
             [
              0.1111111111111111,
              "#46039f"
             ],
             [
              0.2222222222222222,
              "#7201a8"
             ],
             [
              0.3333333333333333,
              "#9c179e"
             ],
             [
              0.4444444444444444,
              "#bd3786"
             ],
             [
              0.5555555555555556,
              "#d8576b"
             ],
             [
              0.6666666666666666,
              "#ed7953"
             ],
             [
              0.7777777777777778,
              "#fb9f3a"
             ],
             [
              0.8888888888888888,
              "#fdca26"
             ],
             [
              1,
              "#f0f921"
             ]
            ],
            "type": "histogram2d"
           }
          ],
          "histogram2dcontour": [
           {
            "colorbar": {
             "outlinewidth": 0,
             "ticks": ""
            },
            "colorscale": [
             [
              0,
              "#0d0887"
             ],
             [
              0.1111111111111111,
              "#46039f"
             ],
             [
              0.2222222222222222,
              "#7201a8"
             ],
             [
              0.3333333333333333,
              "#9c179e"
             ],
             [
              0.4444444444444444,
              "#bd3786"
             ],
             [
              0.5555555555555556,
              "#d8576b"
             ],
             [
              0.6666666666666666,
              "#ed7953"
             ],
             [
              0.7777777777777778,
              "#fb9f3a"
             ],
             [
              0.8888888888888888,
              "#fdca26"
             ],
             [
              1,
              "#f0f921"
             ]
            ],
            "type": "histogram2dcontour"
           }
          ],
          "mesh3d": [
           {
            "colorbar": {
             "outlinewidth": 0,
             "ticks": ""
            },
            "type": "mesh3d"
           }
          ],
          "parcoords": [
           {
            "line": {
             "colorbar": {
              "outlinewidth": 0,
              "ticks": ""
             }
            },
            "type": "parcoords"
           }
          ],
          "pie": [
           {
            "automargin": true,
            "type": "pie"
           }
          ],
          "scatter": [
           {
            "fillpattern": {
             "fillmode": "overlay",
             "size": 10,
             "solidity": 0.2
            },
            "type": "scatter"
           }
          ],
          "scatter3d": [
           {
            "line": {
             "colorbar": {
              "outlinewidth": 0,
              "ticks": ""
             }
            },
            "marker": {
             "colorbar": {
              "outlinewidth": 0,
              "ticks": ""
             }
            },
            "type": "scatter3d"
           }
          ],
          "scattercarpet": [
           {
            "marker": {
             "colorbar": {
              "outlinewidth": 0,
              "ticks": ""
             }
            },
            "type": "scattercarpet"
           }
          ],
          "scattergeo": [
           {
            "marker": {
             "colorbar": {
              "outlinewidth": 0,
              "ticks": ""
             }
            },
            "type": "scattergeo"
           }
          ],
          "scattergl": [
           {
            "marker": {
             "colorbar": {
              "outlinewidth": 0,
              "ticks": ""
             }
            },
            "type": "scattergl"
           }
          ],
          "scattermapbox": [
           {
            "marker": {
             "colorbar": {
              "outlinewidth": 0,
              "ticks": ""
             }
            },
            "type": "scattermapbox"
           }
          ],
          "scatterpolar": [
           {
            "marker": {
             "colorbar": {
              "outlinewidth": 0,
              "ticks": ""
             }
            },
            "type": "scatterpolar"
           }
          ],
          "scatterpolargl": [
           {
            "marker": {
             "colorbar": {
              "outlinewidth": 0,
              "ticks": ""
             }
            },
            "type": "scatterpolargl"
           }
          ],
          "scatterternary": [
           {
            "marker": {
             "colorbar": {
              "outlinewidth": 0,
              "ticks": ""
             }
            },
            "type": "scatterternary"
           }
          ],
          "surface": [
           {
            "colorbar": {
             "outlinewidth": 0,
             "ticks": ""
            },
            "colorscale": [
             [
              0,
              "#0d0887"
             ],
             [
              0.1111111111111111,
              "#46039f"
             ],
             [
              0.2222222222222222,
              "#7201a8"
             ],
             [
              0.3333333333333333,
              "#9c179e"
             ],
             [
              0.4444444444444444,
              "#bd3786"
             ],
             [
              0.5555555555555556,
              "#d8576b"
             ],
             [
              0.6666666666666666,
              "#ed7953"
             ],
             [
              0.7777777777777778,
              "#fb9f3a"
             ],
             [
              0.8888888888888888,
              "#fdca26"
             ],
             [
              1,
              "#f0f921"
             ]
            ],
            "type": "surface"
           }
          ],
          "table": [
           {
            "cells": {
             "fill": {
              "color": "#EBF0F8"
             },
             "line": {
              "color": "white"
             }
            },
            "header": {
             "fill": {
              "color": "#C8D4E3"
             },
             "line": {
              "color": "white"
             }
            },
            "type": "table"
           }
          ]
         },
         "layout": {
          "annotationdefaults": {
           "arrowcolor": "#2a3f5f",
           "arrowhead": 0,
           "arrowwidth": 1
          },
          "autotypenumbers": "strict",
          "coloraxis": {
           "colorbar": {
            "outlinewidth": 0,
            "ticks": ""
           }
          },
          "colorscale": {
           "diverging": [
            [
             0,
             "#8e0152"
            ],
            [
             0.1,
             "#c51b7d"
            ],
            [
             0.2,
             "#de77ae"
            ],
            [
             0.3,
             "#f1b6da"
            ],
            [
             0.4,
             "#fde0ef"
            ],
            [
             0.5,
             "#f7f7f7"
            ],
            [
             0.6,
             "#e6f5d0"
            ],
            [
             0.7,
             "#b8e186"
            ],
            [
             0.8,
             "#7fbc41"
            ],
            [
             0.9,
             "#4d9221"
            ],
            [
             1,
             "#276419"
            ]
           ],
           "sequential": [
            [
             0,
             "#0d0887"
            ],
            [
             0.1111111111111111,
             "#46039f"
            ],
            [
             0.2222222222222222,
             "#7201a8"
            ],
            [
             0.3333333333333333,
             "#9c179e"
            ],
            [
             0.4444444444444444,
             "#bd3786"
            ],
            [
             0.5555555555555556,
             "#d8576b"
            ],
            [
             0.6666666666666666,
             "#ed7953"
            ],
            [
             0.7777777777777778,
             "#fb9f3a"
            ],
            [
             0.8888888888888888,
             "#fdca26"
            ],
            [
             1,
             "#f0f921"
            ]
           ],
           "sequentialminus": [
            [
             0,
             "#0d0887"
            ],
            [
             0.1111111111111111,
             "#46039f"
            ],
            [
             0.2222222222222222,
             "#7201a8"
            ],
            [
             0.3333333333333333,
             "#9c179e"
            ],
            [
             0.4444444444444444,
             "#bd3786"
            ],
            [
             0.5555555555555556,
             "#d8576b"
            ],
            [
             0.6666666666666666,
             "#ed7953"
            ],
            [
             0.7777777777777778,
             "#fb9f3a"
            ],
            [
             0.8888888888888888,
             "#fdca26"
            ],
            [
             1,
             "#f0f921"
            ]
           ]
          },
          "colorway": [
           "#636efa",
           "#EF553B",
           "#00cc96",
           "#ab63fa",
           "#FFA15A",
           "#19d3f3",
           "#FF6692",
           "#B6E880",
           "#FF97FF",
           "#FECB52"
          ],
          "font": {
           "color": "#2a3f5f"
          },
          "geo": {
           "bgcolor": "white",
           "lakecolor": "white",
           "landcolor": "#E5ECF6",
           "showlakes": true,
           "showland": true,
           "subunitcolor": "white"
          },
          "hoverlabel": {
           "align": "left"
          },
          "hovermode": "closest",
          "mapbox": {
           "style": "light"
          },
          "paper_bgcolor": "white",
          "plot_bgcolor": "#E5ECF6",
          "polar": {
           "angularaxis": {
            "gridcolor": "white",
            "linecolor": "white",
            "ticks": ""
           },
           "bgcolor": "#E5ECF6",
           "radialaxis": {
            "gridcolor": "white",
            "linecolor": "white",
            "ticks": ""
           }
          },
          "scene": {
           "xaxis": {
            "backgroundcolor": "#E5ECF6",
            "gridcolor": "white",
            "gridwidth": 2,
            "linecolor": "white",
            "showbackground": true,
            "ticks": "",
            "zerolinecolor": "white"
           },
           "yaxis": {
            "backgroundcolor": "#E5ECF6",
            "gridcolor": "white",
            "gridwidth": 2,
            "linecolor": "white",
            "showbackground": true,
            "ticks": "",
            "zerolinecolor": "white"
           },
           "zaxis": {
            "backgroundcolor": "#E5ECF6",
            "gridcolor": "white",
            "gridwidth": 2,
            "linecolor": "white",
            "showbackground": true,
            "ticks": "",
            "zerolinecolor": "white"
           }
          },
          "shapedefaults": {
           "line": {
            "color": "#2a3f5f"
           }
          },
          "ternary": {
           "aaxis": {
            "gridcolor": "white",
            "linecolor": "white",
            "ticks": ""
           },
           "baxis": {
            "gridcolor": "white",
            "linecolor": "white",
            "ticks": ""
           },
           "bgcolor": "#E5ECF6",
           "caxis": {
            "gridcolor": "white",
            "linecolor": "white",
            "ticks": ""
           }
          },
          "title": {
           "x": 0.05
          },
          "xaxis": {
           "automargin": true,
           "gridcolor": "white",
           "linecolor": "white",
           "ticks": "",
           "title": {
            "standoff": 15
           },
           "zerolinecolor": "white",
           "zerolinewidth": 2
          },
          "yaxis": {
           "automargin": true,
           "gridcolor": "white",
           "linecolor": "white",
           "ticks": "",
           "title": {
            "standoff": 15
           },
           "zerolinecolor": "white",
           "zerolinewidth": 2
          }
         }
        },
        "title": {
         "text": "GDP Growth of Pakistan from 2010 to 2023"
        },
        "xaxis": {
         "anchor": "y",
         "domain": [
          0,
          1
         ],
         "title": {
          "text": "Year"
         }
        },
        "yaxis": {
         "anchor": "x",
         "domain": [
          0,
          1
         ],
         "title": {
          "text": "GDP Growth"
         }
        }
       }
      }
     },
     "metadata": {},
     "output_type": "display_data"
    }
   ],
   "source": [
    "import plotly.express as px\n",
    "import matplotlib.pyplot as plt\n",
    "fig = px.bar(data_pakistan, x='Year', y='GDP Growth',\n",
    "             title='GDP Growth of Pakistan from 2010 to 2023')\n",
    "# give title\n",
    "\n",
    "fig.show()"
   ]
  },
  {
   "cell_type": "code",
   "execution_count": 74,
   "metadata": {},
   "outputs": [
    {
     "data": {
      "application/vnd.plotly.v1+json": {
       "config": {
        "plotlyServerURL": "https://plot.ly"
       },
       "data": [
        {
         "alignmentgroup": "True",
         "hovertemplate": "Year=%{x}<br>Inflation Rate=%{y}<extra></extra>",
         "legendgroup": "",
         "marker": {
          "color": "#636efa",
          "pattern": {
           "shape": ""
          }
         },
         "name": "",
         "offsetgroup": "",
         "orientation": "v",
         "showlegend": false,
         "textposition": "auto",
         "type": "bar",
         "x": [
          2023,
          2022,
          2021,
          2020,
          2019,
          2018,
          2017,
          2016,
          2015,
          2014,
          2013,
          2012,
          2011,
          2010,
          2009,
          2008,
          2007,
          2006,
          2005,
          2004,
          2003,
          2002,
          2001,
          2000
         ],
         "xaxis": "x",
         "y": [
          30.7681280657005,
          19.8738599646655,
          9.49621056124947,
          9.73999313898155,
          10.5783618004555,
          5.07805725868917,
          4.08537368032608,
          3.7651191635658,
          2.52932817254229,
          7.18938402847028,
          7.69215611899565,
          9.68235186055684,
          11.9160927116277,
          12.9388705634889,
          13.6477650639761,
          20.2861210929554,
          7.59868441050774,
          7.92108440058789,
          9.06332737030417,
          7.44462469342739,
          2.91413470059479,
          3.29034472613153,
          3.14826144590618,
          4.36666451291681
         ],
         "yaxis": "y"
        }
       ],
       "layout": {
        "barmode": "relative",
        "legend": {
         "tracegroupgap": 0
        },
        "template": {
         "data": {
          "bar": [
           {
            "error_x": {
             "color": "#2a3f5f"
            },
            "error_y": {
             "color": "#2a3f5f"
            },
            "marker": {
             "line": {
              "color": "#E5ECF6",
              "width": 0.5
             },
             "pattern": {
              "fillmode": "overlay",
              "size": 10,
              "solidity": 0.2
             }
            },
            "type": "bar"
           }
          ],
          "barpolar": [
           {
            "marker": {
             "line": {
              "color": "#E5ECF6",
              "width": 0.5
             },
             "pattern": {
              "fillmode": "overlay",
              "size": 10,
              "solidity": 0.2
             }
            },
            "type": "barpolar"
           }
          ],
          "carpet": [
           {
            "aaxis": {
             "endlinecolor": "#2a3f5f",
             "gridcolor": "white",
             "linecolor": "white",
             "minorgridcolor": "white",
             "startlinecolor": "#2a3f5f"
            },
            "baxis": {
             "endlinecolor": "#2a3f5f",
             "gridcolor": "white",
             "linecolor": "white",
             "minorgridcolor": "white",
             "startlinecolor": "#2a3f5f"
            },
            "type": "carpet"
           }
          ],
          "choropleth": [
           {
            "colorbar": {
             "outlinewidth": 0,
             "ticks": ""
            },
            "type": "choropleth"
           }
          ],
          "contour": [
           {
            "colorbar": {
             "outlinewidth": 0,
             "ticks": ""
            },
            "colorscale": [
             [
              0,
              "#0d0887"
             ],
             [
              0.1111111111111111,
              "#46039f"
             ],
             [
              0.2222222222222222,
              "#7201a8"
             ],
             [
              0.3333333333333333,
              "#9c179e"
             ],
             [
              0.4444444444444444,
              "#bd3786"
             ],
             [
              0.5555555555555556,
              "#d8576b"
             ],
             [
              0.6666666666666666,
              "#ed7953"
             ],
             [
              0.7777777777777778,
              "#fb9f3a"
             ],
             [
              0.8888888888888888,
              "#fdca26"
             ],
             [
              1,
              "#f0f921"
             ]
            ],
            "type": "contour"
           }
          ],
          "contourcarpet": [
           {
            "colorbar": {
             "outlinewidth": 0,
             "ticks": ""
            },
            "type": "contourcarpet"
           }
          ],
          "heatmap": [
           {
            "colorbar": {
             "outlinewidth": 0,
             "ticks": ""
            },
            "colorscale": [
             [
              0,
              "#0d0887"
             ],
             [
              0.1111111111111111,
              "#46039f"
             ],
             [
              0.2222222222222222,
              "#7201a8"
             ],
             [
              0.3333333333333333,
              "#9c179e"
             ],
             [
              0.4444444444444444,
              "#bd3786"
             ],
             [
              0.5555555555555556,
              "#d8576b"
             ],
             [
              0.6666666666666666,
              "#ed7953"
             ],
             [
              0.7777777777777778,
              "#fb9f3a"
             ],
             [
              0.8888888888888888,
              "#fdca26"
             ],
             [
              1,
              "#f0f921"
             ]
            ],
            "type": "heatmap"
           }
          ],
          "heatmapgl": [
           {
            "colorbar": {
             "outlinewidth": 0,
             "ticks": ""
            },
            "colorscale": [
             [
              0,
              "#0d0887"
             ],
             [
              0.1111111111111111,
              "#46039f"
             ],
             [
              0.2222222222222222,
              "#7201a8"
             ],
             [
              0.3333333333333333,
              "#9c179e"
             ],
             [
              0.4444444444444444,
              "#bd3786"
             ],
             [
              0.5555555555555556,
              "#d8576b"
             ],
             [
              0.6666666666666666,
              "#ed7953"
             ],
             [
              0.7777777777777778,
              "#fb9f3a"
             ],
             [
              0.8888888888888888,
              "#fdca26"
             ],
             [
              1,
              "#f0f921"
             ]
            ],
            "type": "heatmapgl"
           }
          ],
          "histogram": [
           {
            "marker": {
             "pattern": {
              "fillmode": "overlay",
              "size": 10,
              "solidity": 0.2
             }
            },
            "type": "histogram"
           }
          ],
          "histogram2d": [
           {
            "colorbar": {
             "outlinewidth": 0,
             "ticks": ""
            },
            "colorscale": [
             [
              0,
              "#0d0887"
             ],
             [
              0.1111111111111111,
              "#46039f"
             ],
             [
              0.2222222222222222,
              "#7201a8"
             ],
             [
              0.3333333333333333,
              "#9c179e"
             ],
             [
              0.4444444444444444,
              "#bd3786"
             ],
             [
              0.5555555555555556,
              "#d8576b"
             ],
             [
              0.6666666666666666,
              "#ed7953"
             ],
             [
              0.7777777777777778,
              "#fb9f3a"
             ],
             [
              0.8888888888888888,
              "#fdca26"
             ],
             [
              1,
              "#f0f921"
             ]
            ],
            "type": "histogram2d"
           }
          ],
          "histogram2dcontour": [
           {
            "colorbar": {
             "outlinewidth": 0,
             "ticks": ""
            },
            "colorscale": [
             [
              0,
              "#0d0887"
             ],
             [
              0.1111111111111111,
              "#46039f"
             ],
             [
              0.2222222222222222,
              "#7201a8"
             ],
             [
              0.3333333333333333,
              "#9c179e"
             ],
             [
              0.4444444444444444,
              "#bd3786"
             ],
             [
              0.5555555555555556,
              "#d8576b"
             ],
             [
              0.6666666666666666,
              "#ed7953"
             ],
             [
              0.7777777777777778,
              "#fb9f3a"
             ],
             [
              0.8888888888888888,
              "#fdca26"
             ],
             [
              1,
              "#f0f921"
             ]
            ],
            "type": "histogram2dcontour"
           }
          ],
          "mesh3d": [
           {
            "colorbar": {
             "outlinewidth": 0,
             "ticks": ""
            },
            "type": "mesh3d"
           }
          ],
          "parcoords": [
           {
            "line": {
             "colorbar": {
              "outlinewidth": 0,
              "ticks": ""
             }
            },
            "type": "parcoords"
           }
          ],
          "pie": [
           {
            "automargin": true,
            "type": "pie"
           }
          ],
          "scatter": [
           {
            "fillpattern": {
             "fillmode": "overlay",
             "size": 10,
             "solidity": 0.2
            },
            "type": "scatter"
           }
          ],
          "scatter3d": [
           {
            "line": {
             "colorbar": {
              "outlinewidth": 0,
              "ticks": ""
             }
            },
            "marker": {
             "colorbar": {
              "outlinewidth": 0,
              "ticks": ""
             }
            },
            "type": "scatter3d"
           }
          ],
          "scattercarpet": [
           {
            "marker": {
             "colorbar": {
              "outlinewidth": 0,
              "ticks": ""
             }
            },
            "type": "scattercarpet"
           }
          ],
          "scattergeo": [
           {
            "marker": {
             "colorbar": {
              "outlinewidth": 0,
              "ticks": ""
             }
            },
            "type": "scattergeo"
           }
          ],
          "scattergl": [
           {
            "marker": {
             "colorbar": {
              "outlinewidth": 0,
              "ticks": ""
             }
            },
            "type": "scattergl"
           }
          ],
          "scattermapbox": [
           {
            "marker": {
             "colorbar": {
              "outlinewidth": 0,
              "ticks": ""
             }
            },
            "type": "scattermapbox"
           }
          ],
          "scatterpolar": [
           {
            "marker": {
             "colorbar": {
              "outlinewidth": 0,
              "ticks": ""
             }
            },
            "type": "scatterpolar"
           }
          ],
          "scatterpolargl": [
           {
            "marker": {
             "colorbar": {
              "outlinewidth": 0,
              "ticks": ""
             }
            },
            "type": "scatterpolargl"
           }
          ],
          "scatterternary": [
           {
            "marker": {
             "colorbar": {
              "outlinewidth": 0,
              "ticks": ""
             }
            },
            "type": "scatterternary"
           }
          ],
          "surface": [
           {
            "colorbar": {
             "outlinewidth": 0,
             "ticks": ""
            },
            "colorscale": [
             [
              0,
              "#0d0887"
             ],
             [
              0.1111111111111111,
              "#46039f"
             ],
             [
              0.2222222222222222,
              "#7201a8"
             ],
             [
              0.3333333333333333,
              "#9c179e"
             ],
             [
              0.4444444444444444,
              "#bd3786"
             ],
             [
              0.5555555555555556,
              "#d8576b"
             ],
             [
              0.6666666666666666,
              "#ed7953"
             ],
             [
              0.7777777777777778,
              "#fb9f3a"
             ],
             [
              0.8888888888888888,
              "#fdca26"
             ],
             [
              1,
              "#f0f921"
             ]
            ],
            "type": "surface"
           }
          ],
          "table": [
           {
            "cells": {
             "fill": {
              "color": "#EBF0F8"
             },
             "line": {
              "color": "white"
             }
            },
            "header": {
             "fill": {
              "color": "#C8D4E3"
             },
             "line": {
              "color": "white"
             }
            },
            "type": "table"
           }
          ]
         },
         "layout": {
          "annotationdefaults": {
           "arrowcolor": "#2a3f5f",
           "arrowhead": 0,
           "arrowwidth": 1
          },
          "autotypenumbers": "strict",
          "coloraxis": {
           "colorbar": {
            "outlinewidth": 0,
            "ticks": ""
           }
          },
          "colorscale": {
           "diverging": [
            [
             0,
             "#8e0152"
            ],
            [
             0.1,
             "#c51b7d"
            ],
            [
             0.2,
             "#de77ae"
            ],
            [
             0.3,
             "#f1b6da"
            ],
            [
             0.4,
             "#fde0ef"
            ],
            [
             0.5,
             "#f7f7f7"
            ],
            [
             0.6,
             "#e6f5d0"
            ],
            [
             0.7,
             "#b8e186"
            ],
            [
             0.8,
             "#7fbc41"
            ],
            [
             0.9,
             "#4d9221"
            ],
            [
             1,
             "#276419"
            ]
           ],
           "sequential": [
            [
             0,
             "#0d0887"
            ],
            [
             0.1111111111111111,
             "#46039f"
            ],
            [
             0.2222222222222222,
             "#7201a8"
            ],
            [
             0.3333333333333333,
             "#9c179e"
            ],
            [
             0.4444444444444444,
             "#bd3786"
            ],
            [
             0.5555555555555556,
             "#d8576b"
            ],
            [
             0.6666666666666666,
             "#ed7953"
            ],
            [
             0.7777777777777778,
             "#fb9f3a"
            ],
            [
             0.8888888888888888,
             "#fdca26"
            ],
            [
             1,
             "#f0f921"
            ]
           ],
           "sequentialminus": [
            [
             0,
             "#0d0887"
            ],
            [
             0.1111111111111111,
             "#46039f"
            ],
            [
             0.2222222222222222,
             "#7201a8"
            ],
            [
             0.3333333333333333,
             "#9c179e"
            ],
            [
             0.4444444444444444,
             "#bd3786"
            ],
            [
             0.5555555555555556,
             "#d8576b"
            ],
            [
             0.6666666666666666,
             "#ed7953"
            ],
            [
             0.7777777777777778,
             "#fb9f3a"
            ],
            [
             0.8888888888888888,
             "#fdca26"
            ],
            [
             1,
             "#f0f921"
            ]
           ]
          },
          "colorway": [
           "#636efa",
           "#EF553B",
           "#00cc96",
           "#ab63fa",
           "#FFA15A",
           "#19d3f3",
           "#FF6692",
           "#B6E880",
           "#FF97FF",
           "#FECB52"
          ],
          "font": {
           "color": "#2a3f5f"
          },
          "geo": {
           "bgcolor": "white",
           "lakecolor": "white",
           "landcolor": "#E5ECF6",
           "showlakes": true,
           "showland": true,
           "subunitcolor": "white"
          },
          "hoverlabel": {
           "align": "left"
          },
          "hovermode": "closest",
          "mapbox": {
           "style": "light"
          },
          "paper_bgcolor": "white",
          "plot_bgcolor": "#E5ECF6",
          "polar": {
           "angularaxis": {
            "gridcolor": "white",
            "linecolor": "white",
            "ticks": ""
           },
           "bgcolor": "#E5ECF6",
           "radialaxis": {
            "gridcolor": "white",
            "linecolor": "white",
            "ticks": ""
           }
          },
          "scene": {
           "xaxis": {
            "backgroundcolor": "#E5ECF6",
            "gridcolor": "white",
            "gridwidth": 2,
            "linecolor": "white",
            "showbackground": true,
            "ticks": "",
            "zerolinecolor": "white"
           },
           "yaxis": {
            "backgroundcolor": "#E5ECF6",
            "gridcolor": "white",
            "gridwidth": 2,
            "linecolor": "white",
            "showbackground": true,
            "ticks": "",
            "zerolinecolor": "white"
           },
           "zaxis": {
            "backgroundcolor": "#E5ECF6",
            "gridcolor": "white",
            "gridwidth": 2,
            "linecolor": "white",
            "showbackground": true,
            "ticks": "",
            "zerolinecolor": "white"
           }
          },
          "shapedefaults": {
           "line": {
            "color": "#2a3f5f"
           }
          },
          "ternary": {
           "aaxis": {
            "gridcolor": "white",
            "linecolor": "white",
            "ticks": ""
           },
           "baxis": {
            "gridcolor": "white",
            "linecolor": "white",
            "ticks": ""
           },
           "bgcolor": "#E5ECF6",
           "caxis": {
            "gridcolor": "white",
            "linecolor": "white",
            "ticks": ""
           }
          },
          "title": {
           "x": 0.05
          },
          "xaxis": {
           "automargin": true,
           "gridcolor": "white",
           "linecolor": "white",
           "ticks": "",
           "title": {
            "standoff": 15
           },
           "zerolinecolor": "white",
           "zerolinewidth": 2
          },
          "yaxis": {
           "automargin": true,
           "gridcolor": "white",
           "linecolor": "white",
           "ticks": "",
           "title": {
            "standoff": 15
           },
           "zerolinecolor": "white",
           "zerolinewidth": 2
          }
         }
        },
        "title": {
         "text": "Inflation Rate of Pakistan from 2010 to 2023"
        },
        "xaxis": {
         "anchor": "y",
         "domain": [
          0,
          1
         ],
         "title": {
          "text": "Year"
         }
        },
        "yaxis": {
         "anchor": "x",
         "domain": [
          0,
          1
         ],
         "title": {
          "text": "Inflation Rate"
         }
        }
       }
      }
     },
     "metadata": {},
     "output_type": "display_data"
    }
   ],
   "source": [
    "import plotly.express as px\n",
    "import matplotlib.pyplot as plt\n",
    "fig = px.bar(data_pakistan, x='Year', y='Inflation Rate',\n",
    "             title='Inflation Rate of Pakistan from 2010 to 2023')\n",
    "# give title\n",
    "\n",
    "fig.show()"
   ]
  },
  {
   "cell_type": "code",
   "execution_count": 94,
   "metadata": {},
   "outputs": [
    {
     "data": {
      "application/vnd.plotly.v1+json": {
       "config": {
        "plotlyServerURL": "https://plot.ly"
       },
       "data": [
        {
         "hovertemplate": "Year=%{x}<br>External Debt=%{y}<extra></extra>",
         "legendgroup": "",
         "line": {
          "color": "#636efa",
          "dash": "solid"
         },
         "marker": {
          "symbol": "circle"
         },
         "mode": "lines",
         "name": "",
         "orientation": "v",
         "showlegend": false,
         "type": "scatter",
         "x": [
          2023,
          2022,
          2021,
          2020,
          2019,
          2018,
          2017,
          2016,
          2015,
          2014,
          2013,
          2012,
          2011,
          2010,
          2009,
          2008,
          2007,
          2006,
          2005,
          2004,
          2003,
          2002,
          2001,
          2000
         ],
         "xaxis": "x",
         "y": [
          null,
          126942238476.9,
          130872548059.3,
          118049163002.6,
          110177707176.5,
          100199117658,
          93158143047.2,
          75206431382.3,
          68749830505.4,
          64359863497.7,
          60297830475.4,
          63954134989.1,
          65088322904.6,
          63482952104,
          57000598838.8,
          50185422683.6,
          42604467681.2,
          37723507983.7,
          34578129331.9,
          36934077634.9,
          37037199280.5,
          34320831455.5,
          32367945483.1,
          33109821460
         ],
         "yaxis": "y"
        }
       ],
       "layout": {
        "legend": {
         "tracegroupgap": 0
        },
        "template": {
         "data": {
          "bar": [
           {
            "error_x": {
             "color": "#2a3f5f"
            },
            "error_y": {
             "color": "#2a3f5f"
            },
            "marker": {
             "line": {
              "color": "#E5ECF6",
              "width": 0.5
             },
             "pattern": {
              "fillmode": "overlay",
              "size": 10,
              "solidity": 0.2
             }
            },
            "type": "bar"
           }
          ],
          "barpolar": [
           {
            "marker": {
             "line": {
              "color": "#E5ECF6",
              "width": 0.5
             },
             "pattern": {
              "fillmode": "overlay",
              "size": 10,
              "solidity": 0.2
             }
            },
            "type": "barpolar"
           }
          ],
          "carpet": [
           {
            "aaxis": {
             "endlinecolor": "#2a3f5f",
             "gridcolor": "white",
             "linecolor": "white",
             "minorgridcolor": "white",
             "startlinecolor": "#2a3f5f"
            },
            "baxis": {
             "endlinecolor": "#2a3f5f",
             "gridcolor": "white",
             "linecolor": "white",
             "minorgridcolor": "white",
             "startlinecolor": "#2a3f5f"
            },
            "type": "carpet"
           }
          ],
          "choropleth": [
           {
            "colorbar": {
             "outlinewidth": 0,
             "ticks": ""
            },
            "type": "choropleth"
           }
          ],
          "contour": [
           {
            "colorbar": {
             "outlinewidth": 0,
             "ticks": ""
            },
            "colorscale": [
             [
              0,
              "#0d0887"
             ],
             [
              0.1111111111111111,
              "#46039f"
             ],
             [
              0.2222222222222222,
              "#7201a8"
             ],
             [
              0.3333333333333333,
              "#9c179e"
             ],
             [
              0.4444444444444444,
              "#bd3786"
             ],
             [
              0.5555555555555556,
              "#d8576b"
             ],
             [
              0.6666666666666666,
              "#ed7953"
             ],
             [
              0.7777777777777778,
              "#fb9f3a"
             ],
             [
              0.8888888888888888,
              "#fdca26"
             ],
             [
              1,
              "#f0f921"
             ]
            ],
            "type": "contour"
           }
          ],
          "contourcarpet": [
           {
            "colorbar": {
             "outlinewidth": 0,
             "ticks": ""
            },
            "type": "contourcarpet"
           }
          ],
          "heatmap": [
           {
            "colorbar": {
             "outlinewidth": 0,
             "ticks": ""
            },
            "colorscale": [
             [
              0,
              "#0d0887"
             ],
             [
              0.1111111111111111,
              "#46039f"
             ],
             [
              0.2222222222222222,
              "#7201a8"
             ],
             [
              0.3333333333333333,
              "#9c179e"
             ],
             [
              0.4444444444444444,
              "#bd3786"
             ],
             [
              0.5555555555555556,
              "#d8576b"
             ],
             [
              0.6666666666666666,
              "#ed7953"
             ],
             [
              0.7777777777777778,
              "#fb9f3a"
             ],
             [
              0.8888888888888888,
              "#fdca26"
             ],
             [
              1,
              "#f0f921"
             ]
            ],
            "type": "heatmap"
           }
          ],
          "heatmapgl": [
           {
            "colorbar": {
             "outlinewidth": 0,
             "ticks": ""
            },
            "colorscale": [
             [
              0,
              "#0d0887"
             ],
             [
              0.1111111111111111,
              "#46039f"
             ],
             [
              0.2222222222222222,
              "#7201a8"
             ],
             [
              0.3333333333333333,
              "#9c179e"
             ],
             [
              0.4444444444444444,
              "#bd3786"
             ],
             [
              0.5555555555555556,
              "#d8576b"
             ],
             [
              0.6666666666666666,
              "#ed7953"
             ],
             [
              0.7777777777777778,
              "#fb9f3a"
             ],
             [
              0.8888888888888888,
              "#fdca26"
             ],
             [
              1,
              "#f0f921"
             ]
            ],
            "type": "heatmapgl"
           }
          ],
          "histogram": [
           {
            "marker": {
             "pattern": {
              "fillmode": "overlay",
              "size": 10,
              "solidity": 0.2
             }
            },
            "type": "histogram"
           }
          ],
          "histogram2d": [
           {
            "colorbar": {
             "outlinewidth": 0,
             "ticks": ""
            },
            "colorscale": [
             [
              0,
              "#0d0887"
             ],
             [
              0.1111111111111111,
              "#46039f"
             ],
             [
              0.2222222222222222,
              "#7201a8"
             ],
             [
              0.3333333333333333,
              "#9c179e"
             ],
             [
              0.4444444444444444,
              "#bd3786"
             ],
             [
              0.5555555555555556,
              "#d8576b"
             ],
             [
              0.6666666666666666,
              "#ed7953"
             ],
             [
              0.7777777777777778,
              "#fb9f3a"
             ],
             [
              0.8888888888888888,
              "#fdca26"
             ],
             [
              1,
              "#f0f921"
             ]
            ],
            "type": "histogram2d"
           }
          ],
          "histogram2dcontour": [
           {
            "colorbar": {
             "outlinewidth": 0,
             "ticks": ""
            },
            "colorscale": [
             [
              0,
              "#0d0887"
             ],
             [
              0.1111111111111111,
              "#46039f"
             ],
             [
              0.2222222222222222,
              "#7201a8"
             ],
             [
              0.3333333333333333,
              "#9c179e"
             ],
             [
              0.4444444444444444,
              "#bd3786"
             ],
             [
              0.5555555555555556,
              "#d8576b"
             ],
             [
              0.6666666666666666,
              "#ed7953"
             ],
             [
              0.7777777777777778,
              "#fb9f3a"
             ],
             [
              0.8888888888888888,
              "#fdca26"
             ],
             [
              1,
              "#f0f921"
             ]
            ],
            "type": "histogram2dcontour"
           }
          ],
          "mesh3d": [
           {
            "colorbar": {
             "outlinewidth": 0,
             "ticks": ""
            },
            "type": "mesh3d"
           }
          ],
          "parcoords": [
           {
            "line": {
             "colorbar": {
              "outlinewidth": 0,
              "ticks": ""
             }
            },
            "type": "parcoords"
           }
          ],
          "pie": [
           {
            "automargin": true,
            "type": "pie"
           }
          ],
          "scatter": [
           {
            "fillpattern": {
             "fillmode": "overlay",
             "size": 10,
             "solidity": 0.2
            },
            "type": "scatter"
           }
          ],
          "scatter3d": [
           {
            "line": {
             "colorbar": {
              "outlinewidth": 0,
              "ticks": ""
             }
            },
            "marker": {
             "colorbar": {
              "outlinewidth": 0,
              "ticks": ""
             }
            },
            "type": "scatter3d"
           }
          ],
          "scattercarpet": [
           {
            "marker": {
             "colorbar": {
              "outlinewidth": 0,
              "ticks": ""
             }
            },
            "type": "scattercarpet"
           }
          ],
          "scattergeo": [
           {
            "marker": {
             "colorbar": {
              "outlinewidth": 0,
              "ticks": ""
             }
            },
            "type": "scattergeo"
           }
          ],
          "scattergl": [
           {
            "marker": {
             "colorbar": {
              "outlinewidth": 0,
              "ticks": ""
             }
            },
            "type": "scattergl"
           }
          ],
          "scattermapbox": [
           {
            "marker": {
             "colorbar": {
              "outlinewidth": 0,
              "ticks": ""
             }
            },
            "type": "scattermapbox"
           }
          ],
          "scatterpolar": [
           {
            "marker": {
             "colorbar": {
              "outlinewidth": 0,
              "ticks": ""
             }
            },
            "type": "scatterpolar"
           }
          ],
          "scatterpolargl": [
           {
            "marker": {
             "colorbar": {
              "outlinewidth": 0,
              "ticks": ""
             }
            },
            "type": "scatterpolargl"
           }
          ],
          "scatterternary": [
           {
            "marker": {
             "colorbar": {
              "outlinewidth": 0,
              "ticks": ""
             }
            },
            "type": "scatterternary"
           }
          ],
          "surface": [
           {
            "colorbar": {
             "outlinewidth": 0,
             "ticks": ""
            },
            "colorscale": [
             [
              0,
              "#0d0887"
             ],
             [
              0.1111111111111111,
              "#46039f"
             ],
             [
              0.2222222222222222,
              "#7201a8"
             ],
             [
              0.3333333333333333,
              "#9c179e"
             ],
             [
              0.4444444444444444,
              "#bd3786"
             ],
             [
              0.5555555555555556,
              "#d8576b"
             ],
             [
              0.6666666666666666,
              "#ed7953"
             ],
             [
              0.7777777777777778,
              "#fb9f3a"
             ],
             [
              0.8888888888888888,
              "#fdca26"
             ],
             [
              1,
              "#f0f921"
             ]
            ],
            "type": "surface"
           }
          ],
          "table": [
           {
            "cells": {
             "fill": {
              "color": "#EBF0F8"
             },
             "line": {
              "color": "white"
             }
            },
            "header": {
             "fill": {
              "color": "#C8D4E3"
             },
             "line": {
              "color": "white"
             }
            },
            "type": "table"
           }
          ]
         },
         "layout": {
          "annotationdefaults": {
           "arrowcolor": "#2a3f5f",
           "arrowhead": 0,
           "arrowwidth": 1
          },
          "autotypenumbers": "strict",
          "coloraxis": {
           "colorbar": {
            "outlinewidth": 0,
            "ticks": ""
           }
          },
          "colorscale": {
           "diverging": [
            [
             0,
             "#8e0152"
            ],
            [
             0.1,
             "#c51b7d"
            ],
            [
             0.2,
             "#de77ae"
            ],
            [
             0.3,
             "#f1b6da"
            ],
            [
             0.4,
             "#fde0ef"
            ],
            [
             0.5,
             "#f7f7f7"
            ],
            [
             0.6,
             "#e6f5d0"
            ],
            [
             0.7,
             "#b8e186"
            ],
            [
             0.8,
             "#7fbc41"
            ],
            [
             0.9,
             "#4d9221"
            ],
            [
             1,
             "#276419"
            ]
           ],
           "sequential": [
            [
             0,
             "#0d0887"
            ],
            [
             0.1111111111111111,
             "#46039f"
            ],
            [
             0.2222222222222222,
             "#7201a8"
            ],
            [
             0.3333333333333333,
             "#9c179e"
            ],
            [
             0.4444444444444444,
             "#bd3786"
            ],
            [
             0.5555555555555556,
             "#d8576b"
            ],
            [
             0.6666666666666666,
             "#ed7953"
            ],
            [
             0.7777777777777778,
             "#fb9f3a"
            ],
            [
             0.8888888888888888,
             "#fdca26"
            ],
            [
             1,
             "#f0f921"
            ]
           ],
           "sequentialminus": [
            [
             0,
             "#0d0887"
            ],
            [
             0.1111111111111111,
             "#46039f"
            ],
            [
             0.2222222222222222,
             "#7201a8"
            ],
            [
             0.3333333333333333,
             "#9c179e"
            ],
            [
             0.4444444444444444,
             "#bd3786"
            ],
            [
             0.5555555555555556,
             "#d8576b"
            ],
            [
             0.6666666666666666,
             "#ed7953"
            ],
            [
             0.7777777777777778,
             "#fb9f3a"
            ],
            [
             0.8888888888888888,
             "#fdca26"
            ],
            [
             1,
             "#f0f921"
            ]
           ]
          },
          "colorway": [
           "#636efa",
           "#EF553B",
           "#00cc96",
           "#ab63fa",
           "#FFA15A",
           "#19d3f3",
           "#FF6692",
           "#B6E880",
           "#FF97FF",
           "#FECB52"
          ],
          "font": {
           "color": "#2a3f5f"
          },
          "geo": {
           "bgcolor": "white",
           "lakecolor": "white",
           "landcolor": "#E5ECF6",
           "showlakes": true,
           "showland": true,
           "subunitcolor": "white"
          },
          "hoverlabel": {
           "align": "left"
          },
          "hovermode": "closest",
          "mapbox": {
           "style": "light"
          },
          "paper_bgcolor": "white",
          "plot_bgcolor": "#E5ECF6",
          "polar": {
           "angularaxis": {
            "gridcolor": "white",
            "linecolor": "white",
            "ticks": ""
           },
           "bgcolor": "#E5ECF6",
           "radialaxis": {
            "gridcolor": "white",
            "linecolor": "white",
            "ticks": ""
           }
          },
          "scene": {
           "xaxis": {
            "backgroundcolor": "#E5ECF6",
            "gridcolor": "white",
            "gridwidth": 2,
            "linecolor": "white",
            "showbackground": true,
            "ticks": "",
            "zerolinecolor": "white"
           },
           "yaxis": {
            "backgroundcolor": "#E5ECF6",
            "gridcolor": "white",
            "gridwidth": 2,
            "linecolor": "white",
            "showbackground": true,
            "ticks": "",
            "zerolinecolor": "white"
           },
           "zaxis": {
            "backgroundcolor": "#E5ECF6",
            "gridcolor": "white",
            "gridwidth": 2,
            "linecolor": "white",
            "showbackground": true,
            "ticks": "",
            "zerolinecolor": "white"
           }
          },
          "shapedefaults": {
           "line": {
            "color": "#2a3f5f"
           }
          },
          "ternary": {
           "aaxis": {
            "gridcolor": "white",
            "linecolor": "white",
            "ticks": ""
           },
           "baxis": {
            "gridcolor": "white",
            "linecolor": "white",
            "ticks": ""
           },
           "bgcolor": "#E5ECF6",
           "caxis": {
            "gridcolor": "white",
            "linecolor": "white",
            "ticks": ""
           }
          },
          "title": {
           "x": 0.05
          },
          "xaxis": {
           "automargin": true,
           "gridcolor": "white",
           "linecolor": "white",
           "ticks": "",
           "title": {
            "standoff": 15
           },
           "zerolinecolor": "white",
           "zerolinewidth": 2
          },
          "yaxis": {
           "automargin": true,
           "gridcolor": "white",
           "linecolor": "white",
           "ticks": "",
           "title": {
            "standoff": 15
           },
           "zerolinecolor": "white",
           "zerolinewidth": 2
          }
         }
        },
        "title": {
         "text": "External Debt of Pakistan from 2010 to 2023"
        },
        "xaxis": {
         "anchor": "y",
         "domain": [
          0,
          1
         ],
         "title": {
          "text": "Year"
         }
        },
        "yaxis": {
         "anchor": "x",
         "domain": [
          0,
          1
         ],
         "title": {
          "text": "External Debt"
         }
        }
       }
      }
     },
     "metadata": {},
     "output_type": "display_data"
    }
   ],
   "source": [
    "import plotly.express as px\n",
    "import matplotlib.pyplot as plt\n",
    "fig = px.line(data_pakistan, x='Year', y='External Debt',\n",
    "             title='External Debt of Pakistan from 2010 to 2023')\n",
    "# give title\n",
    "\n",
    "fig.show()"
   ]
  },
  {
   "cell_type": "code",
   "execution_count": 75,
   "metadata": {},
   "outputs": [
    {
     "data": {
      "text/html": [
       "<div>\n",
       "<style scoped>\n",
       "    .dataframe tbody tr th:only-of-type {\n",
       "        vertical-align: middle;\n",
       "    }\n",
       "\n",
       "    .dataframe tbody tr th {\n",
       "        vertical-align: top;\n",
       "    }\n",
       "\n",
       "    .dataframe thead th {\n",
       "        text-align: right;\n",
       "    }\n",
       "</style>\n",
       "<table border=\"1\" class=\"dataframe\">\n",
       "  <thead>\n",
       "    <tr style=\"text-align: right;\">\n",
       "      <th></th>\n",
       "      <th>index</th>\n",
       "      <th>indicator</th>\n",
       "      <th>Country</th>\n",
       "      <th>countryiso3code</th>\n",
       "      <th>Year</th>\n",
       "      <th>value</th>\n",
       "      <th>unit</th>\n",
       "      <th>obs_status</th>\n",
       "      <th>decimal</th>\n",
       "    </tr>\n",
       "  </thead>\n",
       "  <tbody>\n",
       "    <tr>\n",
       "      <th>0</th>\n",
       "      <td>0</td>\n",
       "      <td>{'id': 'AG.CON.FERT.PT.ZS', 'value': 'Fertiliz...</td>\n",
       "      <td>{'id': 'IN', 'value': 'India'}</td>\n",
       "      <td>IND</td>\n",
       "      <td>2023</td>\n",
       "      <td>NaN</td>\n",
       "      <td></td>\n",
       "      <td></td>\n",
       "      <td>1</td>\n",
       "    </tr>\n",
       "    <tr>\n",
       "      <th>1</th>\n",
       "      <td>1</td>\n",
       "      <td>{'id': 'AG.CON.FERT.PT.ZS', 'value': 'Fertiliz...</td>\n",
       "      <td>{'id': 'IN', 'value': 'India'}</td>\n",
       "      <td>IND</td>\n",
       "      <td>2022</td>\n",
       "      <td>NaN</td>\n",
       "      <td></td>\n",
       "      <td></td>\n",
       "      <td>1</td>\n",
       "    </tr>\n",
       "    <tr>\n",
       "      <th>2</th>\n",
       "      <td>2</td>\n",
       "      <td>{'id': 'AG.CON.FERT.PT.ZS', 'value': 'Fertiliz...</td>\n",
       "      <td>{'id': 'IN', 'value': 'India'}</td>\n",
       "      <td>IND</td>\n",
       "      <td>2021</td>\n",
       "      <td>160.620281</td>\n",
       "      <td></td>\n",
       "      <td></td>\n",
       "      <td>1</td>\n",
       "    </tr>\n",
       "    <tr>\n",
       "      <th>3</th>\n",
       "      <td>3</td>\n",
       "      <td>{'id': 'AG.CON.FERT.PT.ZS', 'value': 'Fertiliz...</td>\n",
       "      <td>{'id': 'IN', 'value': 'India'}</td>\n",
       "      <td>IND</td>\n",
       "      <td>2020</td>\n",
       "      <td>176.042247</td>\n",
       "      <td></td>\n",
       "      <td></td>\n",
       "      <td>1</td>\n",
       "    </tr>\n",
       "    <tr>\n",
       "      <th>4</th>\n",
       "      <td>4</td>\n",
       "      <td>{'id': 'AG.CON.FERT.PT.ZS', 'value': 'Fertiliz...</td>\n",
       "      <td>{'id': 'IN', 'value': 'India'}</td>\n",
       "      <td>IND</td>\n",
       "      <td>2019</td>\n",
       "      <td>156.483317</td>\n",
       "      <td></td>\n",
       "      <td></td>\n",
       "      <td>1</td>\n",
       "    </tr>\n",
       "  </tbody>\n",
       "</table>\n",
       "</div>"
      ],
      "text/plain": [
       "   index                                          indicator  \\\n",
       "0      0  {'id': 'AG.CON.FERT.PT.ZS', 'value': 'Fertiliz...   \n",
       "1      1  {'id': 'AG.CON.FERT.PT.ZS', 'value': 'Fertiliz...   \n",
       "2      2  {'id': 'AG.CON.FERT.PT.ZS', 'value': 'Fertiliz...   \n",
       "3      3  {'id': 'AG.CON.FERT.PT.ZS', 'value': 'Fertiliz...   \n",
       "4      4  {'id': 'AG.CON.FERT.PT.ZS', 'value': 'Fertiliz...   \n",
       "\n",
       "                          Country countryiso3code  Year       value unit  \\\n",
       "0  {'id': 'IN', 'value': 'India'}             IND  2023         NaN        \n",
       "1  {'id': 'IN', 'value': 'India'}             IND  2022         NaN        \n",
       "2  {'id': 'IN', 'value': 'India'}             IND  2021  160.620281        \n",
       "3  {'id': 'IN', 'value': 'India'}             IND  2020  176.042247        \n",
       "4  {'id': 'IN', 'value': 'India'}             IND  2019  156.483317        \n",
       "\n",
       "  obs_status  decimal  \n",
       "0                   1  \n",
       "1                   1  \n",
       "2                   1  \n",
       "3                   1  \n",
       "4                   1  "
      ]
     },
     "execution_count": 75,
     "metadata": {},
     "output_type": "execute_result"
    }
   ],
   "source": [
    "import wbdata\n",
    "import pandas as pd\n",
    "\n",
    "# Define the indicators for population, GDP per capita, current account balance, GDP growth, and inflation rate\n",
    "# indicators = {\n",
    "#     'AG.CON.FERT.PT.ZS': 'Fertilizer consumption (% of fertilizer production)', \n",
    "# }\n",
    "\n",
    "# # Define countries\n",
    "# countries = ['PK', 'IN', 'BD', 'LK', 'AF']\n",
    "\n",
    "# Fetch data for the defined period\n",
    "df = wbdata.get_data('AG.CON.FERT.PT.ZS',country=[\"PAK\", \"IND\"], date=(\"2000\", \"2023\"))\n",
    "df=pd.DataFrame(df)\n",
    "# Reset index for a better structure\n",
    "df.reset_index(inplace=True)\n",
    "\n",
    "# Rename columns for clarity\n",
    "df.rename(columns={'country': 'Country', 'date': 'Year'}, inplace=True)\n",
    "\n",
    "# Ensure Year column is numeric\n",
    "df['Year'] = pd.to_numeric(df['Year'])\n",
    "df.head()"
   ]
  },
  {
   "cell_type": "markdown",
   "metadata": {},
   "source": [
    "# Import data from FAO STAT"
   ]
  },
  {
   "cell_type": "code",
   "execution_count": null,
   "metadata": {},
   "outputs": [],
   "source": [
    "#pip install faostat"
   ]
  },
  {
   "cell_type": "code",
   "execution_count": 78,
   "metadata": {},
   "outputs": [],
   "source": [
    "import faostat"
   ]
  },
  {
   "cell_type": "code",
   "execution_count": 80,
   "metadata": {},
   "outputs": [
    {
     "data": {
      "text/plain": [
       "[('code',\n",
       "  'label',\n",
       "  'date_update',\n",
       "  'note_update',\n",
       "  'release_current',\n",
       "  'state_current',\n",
       "  'year_current',\n",
       "  'release_next',\n",
       "  'state_next',\n",
       "  'year_next'),\n",
       " ('QCL',\n",
       "  'Crops and livestock products',\n",
       "  '2024-10-07',\n",
       "  'minor revision',\n",
       "  '2023-12-23 / 2024-10-07',\n",
       "  'final',\n",
       "  '2022',\n",
       "  '2024-12',\n",
       "  'final',\n",
       "  '2023'),\n",
       " ('QI',\n",
       "  'Production Indices',\n",
       "  '2024-03-13',\n",
       "  '',\n",
       "  '2024-03-13',\n",
       "  'final',\n",
       "  '2022',\n",
       "  '2024-12',\n",
       "  'final',\n",
       "  '2023'),\n",
       " ('QV',\n",
       "  'Value of Agricultural Production',\n",
       "  '2024-03-13',\n",
       "  '',\n",
       "  '2024-03-13',\n",
       "  'final',\n",
       "  '2022',\n",
       "  '2024-12',\n",
       "  'final',\n",
       "  '2023'),\n",
       " ('FS',\n",
       "  'Suite of Food Security Indicators',\n",
       "  '2024-07-25',\n",
       "  'minor revision',\n",
       "  '2024-07-24 / 2024-07-25',\n",
       "  'final',\n",
       "  '2023',\n",
       "  '2025-07',\n",
       "  'final',\n",
       "  '2024'),\n",
       " ('FBS',\n",
       "  'Food Balances (2010-)',\n",
       "  '2024-07-19',\n",
       "  '',\n",
       "  '2024-07-19',\n",
       "  'final',\n",
       "  '2022',\n",
       "  '2025-07',\n",
       "  'final',\n",
       "  '2023'),\n",
       " ('SCL',\n",
       "  'Supply Utilization Accounts (2010-)',\n",
       "  '2024-07-19',\n",
       "  '',\n",
       "  '2024-07-19',\n",
       "  'final',\n",
       "  '2022',\n",
       "  '2025-07',\n",
       "  'final',\n",
       "  '2023'),\n",
       " ('CB',\n",
       "  'Commodity Balances (non-food) (2010-)',\n",
       "  '2024-07-19',\n",
       "  '',\n",
       "  '2024-07-19',\n",
       "  'final',\n",
       "  '2022',\n",
       "  '2025-07',\n",
       "  'final',\n",
       "  '2023'),\n",
       " ('FBSH',\n",
       "  'Food Balances (-2013, old methodology and population)',\n",
       "  '2023-03-10',\n",
       "  'minor revision',\n",
       "  '2016-12-20 / 2023-03-10',\n",
       "  'final',\n",
       "  '2013',\n",
       "  '',\n",
       "  '',\n",
       "  ''),\n",
       " ('CBH',\n",
       "  'Commodity Balances (non-food) (-2013, old methodology)',\n",
       "  '2021-12-03',\n",
       "  'minor revision',\n",
       "  '2016-12-20 / 2021-12-03',\n",
       "  'final',\n",
       "  '2013',\n",
       "  '',\n",
       "  'final',\n",
       "  ''),\n",
       " ('TCL',\n",
       "  'Crops and livestock products',\n",
       "  '2023-12-21',\n",
       "  '',\n",
       "  '2023-12-21',\n",
       "  'final',\n",
       "  '2022',\n",
       "  '2024-12',\n",
       "  'final',\n",
       "  '2023'),\n",
       " ('TM',\n",
       "  'Detailed trade matrix',\n",
       "  '2023-12-21',\n",
       "  '',\n",
       "  '2023-12-21',\n",
       "  'final',\n",
       "  '2022',\n",
       "  '2024-12',\n",
       "  'final',\n",
       "  '2023'),\n",
       " ('TI',\n",
       "  'Trade Indices',\n",
       "  '2023-12-21',\n",
       "  '',\n",
       "  '2023-12-21',\n",
       "  'final',\n",
       "  '2022',\n",
       "  '2024-12',\n",
       "  'final',\n",
       "  '2023'),\n",
       " ('PP',\n",
       "  'Producer Prices',\n",
       "  '2024-01-09',\n",
       "  '',\n",
       "  '2024-01-09',\n",
       "  'final',\n",
       "  '2023',\n",
       "  '2024-12',\n",
       "  'final',\n",
       "  '2024'),\n",
       " ('CP',\n",
       "  'Consumer Price Indices',\n",
       "  '2024-11-11',\n",
       "  '',\n",
       "  '2024-11-11',\n",
       "  'preliminary',\n",
       "  '2024',\n",
       "  '2025-01',\n",
       "  'preliminary',\n",
       "  '2024'),\n",
       " ('PD',\n",
       "  'Deflators',\n",
       "  '2024-06-12',\n",
       "  '',\n",
       "  '2024-06-12',\n",
       "  'preliminary',\n",
       "  '2023',\n",
       "  '2024-10',\n",
       "  'final',\n",
       "  '2023'),\n",
       " ('PE',\n",
       "  'Exchange rates',\n",
       "  '2024-11-05',\n",
       "  '',\n",
       "  '2024-11-05',\n",
       "  'final',\n",
       "  '2024',\n",
       "  '2025-01',\n",
       "  'final',\n",
       "  '2024'),\n",
       " ('CAHD',\n",
       "  'Cost and Affordability of a Healthy Diet (CoAHD)',\n",
       "  '2024-07-24',\n",
       "  '',\n",
       "  '2024-07-24',\n",
       "  'final',\n",
       "  '2022',\n",
       "  '2025-07',\n",
       "  'final',\n",
       "  '2023'),\n",
       " ('SUA',\n",
       "  'Availability (based on supply utilization accounts)',\n",
       "  '2024-12-04',\n",
       "  '',\n",
       "  '2024-12-04',\n",
       "  'final',\n",
       "  '2021',\n",
       "  '2025-09',\n",
       "  'final',\n",
       "  '2022'),\n",
       " ('HCES',\n",
       "  'Apparent intake (based on household consumption and expenditure surveys)',\n",
       "  '2024-12-04',\n",
       "  '',\n",
       "  '2024-12-04',\n",
       "  'final',\n",
       "  '',\n",
       "  '2025-09',\n",
       "  'final',\n",
       "  ''),\n",
       " ('FDIQ',\n",
       "  'Intake (based on individual quantitative dietary surveys)',\n",
       "  '2024-12-04',\n",
       "  '',\n",
       "  '2024-12-04',\n",
       "  'final',\n",
       "  '',\n",
       "  '2024-09',\n",
       "  'final',\n",
       "  ''),\n",
       " ('MDDW',\n",
       "  'Diversity (MDD-W, based on individual qualitative dietary surveys)',\n",
       "  '2024-12-04',\n",
       "  '',\n",
       "  '2024-12-04',\n",
       "  'final',\n",
       "  '',\n",
       "  '2025-09',\n",
       "  'final',\n",
       "  ''),\n",
       " ('RL',\n",
       "  'Land Use',\n",
       "  '2024-08-19',\n",
       "  'minor revision',\n",
       "  '2024-07-04 / 2024-08-19',\n",
       "  'final',\n",
       "  '2022',\n",
       "  '2025-06',\n",
       "  'final',\n",
       "  '2023'),\n",
       " ('LC',\n",
       "  'Land Cover',\n",
       "  '2024-07-04',\n",
       "  '',\n",
       "  '2024-07-04',\n",
       "  'final',\n",
       "  '2022',\n",
       "  '2025-06',\n",
       "  'final',\n",
       "  '2023'),\n",
       " ('RFN',\n",
       "  'Fertilizers by Nutrient',\n",
       "  '2024-07-17',\n",
       "  '',\n",
       "  '2024-07-17',\n",
       "  'final',\n",
       "  '2022',\n",
       "  '2025-06',\n",
       "  'final',\n",
       "  '2023'),\n",
       " ('RFB',\n",
       "  'Fertilizers by Product',\n",
       "  '2024-07-17',\n",
       "  '',\n",
       "  '2024-07-17',\n",
       "  'final',\n",
       "  '2022',\n",
       "  '2025-06',\n",
       "  'final',\n",
       "  '2023'),\n",
       " ('RFM',\n",
       "  'Detailed trade matrix (fertilizers)',\n",
       "  '2024-07-17',\n",
       "  '',\n",
       "  '2024-07-17',\n",
       "  'final',\n",
       "  '2022',\n",
       "  '2025-06',\n",
       "  'final',\n",
       "  '2023'),\n",
       " ('EMN',\n",
       "  'Livestock Manure',\n",
       "  '2024-11-14',\n",
       "  '',\n",
       "  '2024-11-14',\n",
       "  'final',\n",
       "  '2022',\n",
       "  '2025-10',\n",
       "  'final',\n",
       "  '2023'),\n",
       " ('RP',\n",
       "  'Pesticides Use',\n",
       "  '2024-09-26',\n",
       "  'minor revision',\n",
       "  '2024-07-16 / 2024-09-26',\n",
       "  'final',\n",
       "  '2022',\n",
       "  '2025-06',\n",
       "  'final',\n",
       "  '2023'),\n",
       " ('RT',\n",
       "  'Pesticides Trade',\n",
       "  '2024-09-23',\n",
       "  'minor revision',\n",
       "  '2024-07-16 / 2024-09-23',\n",
       "  'final',\n",
       "  '2022',\n",
       "  '2025-06',\n",
       "  'final',\n",
       "  '2023'),\n",
       " ('ESB',\n",
       "  'Cropland Nutrient Balance',\n",
       "  '2024-11-27',\n",
       "  '',\n",
       "  '2024-11-27',\n",
       "  'final',\n",
       "  '2022',\n",
       "  '2025-11',\n",
       "  'final',\n",
       "  '2023'),\n",
       " ('EK',\n",
       "  'Livestock Patterns',\n",
       "  '2024-11-14',\n",
       "  '',\n",
       "  '2024-11-14',\n",
       "  'final',\n",
       "  '2022',\n",
       "  '2025-10',\n",
       "  'final',\n",
       "  '2023'),\n",
       " ('BE',\n",
       "  'Bioenergy',\n",
       "  '2024-08-28',\n",
       "  'minor revision',\n",
       "  '2024-06-17 / 2024-08-28',\n",
       "  'final',\n",
       "  '2022',\n",
       "  '2025-06',\n",
       "  'final',\n",
       "  '2023'),\n",
       " ('ET',\n",
       "  'Temperature change on land',\n",
       "  '2024-03-25',\n",
       "  '',\n",
       "  '2024-03-25',\n",
       "  'final',\n",
       "  '2023',\n",
       "  '2025-03',\n",
       "  'final',\n",
       "  '2024'),\n",
       " ('OA',\n",
       "  'Annual population',\n",
       "  '2022-11-10',\n",
       "  '',\n",
       "  '2022-11-10',\n",
       "  'preliminary',\n",
       "  '2021',\n",
       "  '',\n",
       "  'final',\n",
       "  '2022'),\n",
       " ('OEA',\n",
       "  'Employment Indicators: Agriculture and agrifood systems',\n",
       "  '2024-11-14',\n",
       "  'minor revision',\n",
       "  '2024-10-24 / 2024-11-14',\n",
       "  'final',\n",
       "  '2023',\n",
       "  '2025-04',\n",
       "  'final',\n",
       "  '2024'),\n",
       " ('OER',\n",
       "  'Employment Indicators: Rural',\n",
       "  '2024-10-24',\n",
       "  '',\n",
       "  '2024-10-24',\n",
       "  'final',\n",
       "  '2023',\n",
       "  '2025-04',\n",
       "  'final',\n",
       "  '2024'),\n",
       " ('IG',\n",
       "  'Government Expenditure',\n",
       "  '2024-02-06',\n",
       "  '',\n",
       "  '2024-02-06',\n",
       "  'final',\n",
       "  '2022',\n",
       "  '2024-12',\n",
       "  'final',\n",
       "  '2023'),\n",
       " ('IC',\n",
       "  'Credit to Agriculture',\n",
       "  '2023-12-21',\n",
       "  '',\n",
       "  '2023-12-21',\n",
       "  'final',\n",
       "  '2022',\n",
       "  '2024-11',\n",
       "  'final',\n",
       "  '2023'),\n",
       " ('EA',\n",
       "  'Development Flows to Agriculture',\n",
       "  '2024-11-15',\n",
       "  '',\n",
       "  '2024-11-15',\n",
       "  'final',\n",
       "  '2022',\n",
       "  '2025-06',\n",
       "  'final',\n",
       "  '2023'),\n",
       " ('FDI',\n",
       "  'Foreign Direct Investment (FDI)',\n",
       "  '2023-12-27',\n",
       "  '',\n",
       "  '2023-12-27',\n",
       "  'final',\n",
       "  '2022',\n",
       "  '2024-11',\n",
       "  'final',\n",
       "  '2023'),\n",
       " ('CISP',\n",
       "  'Country Investment Statistics Profile',\n",
       "  '2024-06-26',\n",
       "  '',\n",
       "  '2024-06-26',\n",
       "  'preliminary',\n",
       "  '2023',\n",
       "  '2024-10',\n",
       "  'preliminary',\n",
       "  '2023'),\n",
       " ('MK',\n",
       "  'Macro Indicators',\n",
       "  '2024-06-12',\n",
       "  '',\n",
       "  '2024-06-12',\n",
       "  'preliminary',\n",
       "  '2023',\n",
       "  '2024-10',\n",
       "  'final',\n",
       "  '2023'),\n",
       " ('CS',\n",
       "  'Capital Stock',\n",
       "  '2023-12-22',\n",
       "  '',\n",
       "  '2023-12-22',\n",
       "  'final',\n",
       "  '2022',\n",
       "  '2024-11',\n",
       "  'final',\n",
       "  '2023'),\n",
       " ('GFDI',\n",
       "  'Value shares by industry and primary factors',\n",
       "  '2024-11-19',\n",
       "  '',\n",
       "  '2024-11-19',\n",
       "  'final',\n",
       "  '2021',\n",
       "  '',\n",
       "  'final',\n",
       "  ''),\n",
       " ('GT',\n",
       "  'Emissions totals',\n",
       "  '2024-11-14',\n",
       "  '',\n",
       "  '2024-11-14',\n",
       "  'final',\n",
       "  '2022',\n",
       "  '2025-10',\n",
       "  'final',\n",
       "  '2023'),\n",
       " ('EM',\n",
       "  'Emissions indicators',\n",
       "  '2024-11-14',\n",
       "  '',\n",
       "  '2024-11-14',\n",
       "  'final',\n",
       "  '2022',\n",
       "  '2025-10',\n",
       "  'final',\n",
       "  '2023'),\n",
       " ('EI',\n",
       "  'Emissions intensities',\n",
       "  '2024-11-14',\n",
       "  '',\n",
       "  '2024-11-14',\n",
       "  'final',\n",
       "  '2022',\n",
       "  '2025-10',\n",
       "  'final',\n",
       "  '2023'),\n",
       " ('GCE',\n",
       "  'Emissions from Crops',\n",
       "  '2024-11-14',\n",
       "  '',\n",
       "  '2024-11-14',\n",
       "  'final',\n",
       "  '2022',\n",
       "  '2025-10',\n",
       "  'final',\n",
       "  '2023'),\n",
       " ('GLE',\n",
       "  'Emissions from Livestock',\n",
       "  '2024-11-14',\n",
       "  '',\n",
       "  '2024-11-14',\n",
       "  'final',\n",
       "  '2022',\n",
       "  '2025-10',\n",
       "  'final',\n",
       "  '2023'),\n",
       " ('GN',\n",
       "  'Emissions from Energy use in agriculture',\n",
       "  '2024-11-14',\n",
       "  '',\n",
       "  '2024-11-14',\n",
       "  'final',\n",
       "  '2022',\n",
       "  '2025-10',\n",
       "  'final',\n",
       "  '2023'),\n",
       " ('GF',\n",
       "  'Emissions from Forests',\n",
       "  '2024-11-14',\n",
       "  '',\n",
       "  '2024-11-14',\n",
       "  'final',\n",
       "  '2023',\n",
       "  '2025-10',\n",
       "  'final',\n",
       "  '2024'),\n",
       " ('GI',\n",
       "  'Emissions from Fires',\n",
       "  '2024-11-14',\n",
       "  '',\n",
       "  '2024-11-14',\n",
       "  'final',\n",
       "  '2022',\n",
       "  '2025-10',\n",
       "  'final',\n",
       "  '2023'),\n",
       " ('GV',\n",
       "  'Emissions from Drained organic soils',\n",
       "  '2024-11-14',\n",
       "  '',\n",
       "  '2024-11-14',\n",
       "  'final',\n",
       "  '2022',\n",
       "  '2025-10',\n",
       "  'final',\n",
       "  '2023'),\n",
       " ('GPP',\n",
       "  'Emissions from pre and post agricultural production',\n",
       "  '2024-11-14',\n",
       "  '',\n",
       "  '2024-11-14',\n",
       "  'final',\n",
       "  '2022',\n",
       "  '2025-10',\n",
       "  'final',\n",
       "  '2023'),\n",
       " ('FO',\n",
       "  'Forestry Production and Trade',\n",
       "  '2023-12-21',\n",
       "  '',\n",
       "  '2023-12-21',\n",
       "  'final',\n",
       "  '2022',\n",
       "  '2024-12',\n",
       "  'final',\n",
       "  '2023'),\n",
       " ('SDGB',\n",
       "  'SDG Indicators',\n",
       "  '2024-09-18',\n",
       "  '',\n",
       "  '2024-09-18',\n",
       "  'final',\n",
       "  '2024',\n",
       "  '',\n",
       "  'final',\n",
       "  '2024'),\n",
       " ('WCAD',\n",
       "  'Structural data from agricultural censuses',\n",
       "  '2024-05-23',\n",
       "  'minor revision',\n",
       "  '2024-03-21 / 2024-05-23',\n",
       "  'final',\n",
       "  '2020',\n",
       "  '2025-02',\n",
       "  'final',\n",
       "  '2020'),\n",
       " ('FT',\n",
       "  'Forestry Trade Flows',\n",
       "  '2022-05-27',\n",
       "  'minor revision',\n",
       "  '2019-06-19 / 2022-05-27',\n",
       "  'final',\n",
       "  '2017',\n",
       "  '',\n",
       "  '',\n",
       "  ''),\n",
       " ('HS',\n",
       "  'Indicators from Household Surveys (gender, area, socioeconomics)',\n",
       "  '2014-07-31',\n",
       "  '',\n",
       "  '2014-07-31',\n",
       "  'final',\n",
       "  '2014',\n",
       "  '',\n",
       "  '',\n",
       "  ''),\n",
       " ('AF',\n",
       "  'ASTI-Researchers',\n",
       "  '2019-11-11',\n",
       "  '',\n",
       "  '2019-11-11',\n",
       "  'final',\n",
       "  '2016',\n",
       "  '',\n",
       "  'preliminary',\n",
       "  '2017'),\n",
       " ('AE',\n",
       "  'ASTI-Expenditures',\n",
       "  '2019-11-11',\n",
       "  '',\n",
       "  '2019-11-11',\n",
       "  'final',\n",
       "  '2016',\n",
       "  '',\n",
       "  'preliminary',\n",
       "  '2017'),\n",
       " ('FA',\n",
       "  'Food Aid Shipments (WFP)',\n",
       "  '2016-12-22',\n",
       "  '',\n",
       "  '2016-12-22',\n",
       "  'preliminary',\n",
       "  '2016',\n",
       "  '',\n",
       "  '',\n",
       "  ''),\n",
       " ('RM',\n",
       "  'Machinery',\n",
       "  '2021-12-03',\n",
       "  'minor revision',\n",
       "  '2011-12-22 / 2021-12-03',\n",
       "  'final',\n",
       "  '2009',\n",
       "  '',\n",
       "  '',\n",
       "  ''),\n",
       " ('RY',\n",
       "  'Machinery Archive',\n",
       "  '2021-12-03',\n",
       "  'minor revision',\n",
       "  '2006-12-31 / 2021-12-03',\n",
       "  'final',\n",
       "  '2005',\n",
       "  '',\n",
       "  '',\n",
       "  ''),\n",
       " ('RA',\n",
       "  'Fertilizers archive',\n",
       "  '2020-09-08',\n",
       "  'minor revision',\n",
       "  '2013-12-31 / 2020-09-08',\n",
       "  'final',\n",
       "  '2002',\n",
       "  '',\n",
       "  '',\n",
       "  ''),\n",
       " ('PA',\n",
       "  'Producer Prices (old series)',\n",
       "  '1991-12-31',\n",
       "  '',\n",
       "  '1991-12-31',\n",
       "  'final',\n",
       "  '1990',\n",
       "  '',\n",
       "  '',\n",
       "  '')]"
      ]
     },
     "execution_count": 80,
     "metadata": {},
     "output_type": "execute_result"
    }
   ],
   "source": [
    "faostat.list_datasets()"
   ]
  },
  {
   "cell_type": "code",
   "execution_count": 81,
   "metadata": {},
   "outputs": [
    {
     "data": {
      "text/plain": [
       "[('QCL',\n",
       "  'Crops and livestock products',\n",
       "  '2024-10-07',\n",
       "  'minor revision',\n",
       "  '2023-12-23 / 2024-10-07',\n",
       "  'final',\n",
       "  '2022',\n",
       "  '2024-12',\n",
       "  'final',\n",
       "  '2023'),\n",
       " ('QI',\n",
       "  'Production Indices',\n",
       "  '2024-03-13',\n",
       "  '',\n",
       "  '2024-03-13',\n",
       "  'final',\n",
       "  '2022',\n",
       "  '2024-12',\n",
       "  'final',\n",
       "  '2023'),\n",
       " ('QV',\n",
       "  'Value of Agricultural Production',\n",
       "  '2024-03-13',\n",
       "  '',\n",
       "  '2024-03-13',\n",
       "  'final',\n",
       "  '2022',\n",
       "  '2024-12',\n",
       "  'final',\n",
       "  '2023')]"
      ]
     },
     "execution_count": 81,
     "metadata": {},
     "output_type": "execute_result"
    }
   ],
   "source": [
    "data = faostat.list_datasets()\n",
    "data[1:4]"
   ]
  },
  {
   "cell_type": "code",
   "execution_count": 82,
   "metadata": {},
   "outputs": [
    {
     "data": {
      "text/html": [
       "<div>\n",
       "<style scoped>\n",
       "    .dataframe tbody tr th:only-of-type {\n",
       "        vertical-align: middle;\n",
       "    }\n",
       "\n",
       "    .dataframe tbody tr th {\n",
       "        vertical-align: top;\n",
       "    }\n",
       "\n",
       "    .dataframe thead th {\n",
       "        text-align: right;\n",
       "    }\n",
       "</style>\n",
       "<table border=\"1\" class=\"dataframe\">\n",
       "  <thead>\n",
       "    <tr style=\"text-align: right;\">\n",
       "      <th></th>\n",
       "      <th>code</th>\n",
       "      <th>label</th>\n",
       "      <th>date_update</th>\n",
       "      <th>note_update</th>\n",
       "      <th>release_current</th>\n",
       "      <th>state_current</th>\n",
       "      <th>year_current</th>\n",
       "      <th>release_next</th>\n",
       "      <th>state_next</th>\n",
       "      <th>year_next</th>\n",
       "    </tr>\n",
       "  </thead>\n",
       "  <tbody>\n",
       "    <tr>\n",
       "      <th>0</th>\n",
       "      <td>QCL</td>\n",
       "      <td>Crops and livestock products</td>\n",
       "      <td>2024-10-07</td>\n",
       "      <td>minor revision</td>\n",
       "      <td>2023-12-23 / 2024-10-07</td>\n",
       "      <td>final</td>\n",
       "      <td>2022</td>\n",
       "      <td>2024-12</td>\n",
       "      <td>final</td>\n",
       "      <td>2023</td>\n",
       "    </tr>\n",
       "    <tr>\n",
       "      <th>1</th>\n",
       "      <td>QI</td>\n",
       "      <td>Production Indices</td>\n",
       "      <td>2024-03-13</td>\n",
       "      <td></td>\n",
       "      <td>2024-03-13</td>\n",
       "      <td>final</td>\n",
       "      <td>2022</td>\n",
       "      <td>2024-12</td>\n",
       "      <td>final</td>\n",
       "      <td>2023</td>\n",
       "    </tr>\n",
       "    <tr>\n",
       "      <th>2</th>\n",
       "      <td>QV</td>\n",
       "      <td>Value of Agricultural Production</td>\n",
       "      <td>2024-03-13</td>\n",
       "      <td></td>\n",
       "      <td>2024-03-13</td>\n",
       "      <td>final</td>\n",
       "      <td>2022</td>\n",
       "      <td>2024-12</td>\n",
       "      <td>final</td>\n",
       "      <td>2023</td>\n",
       "    </tr>\n",
       "    <tr>\n",
       "      <th>3</th>\n",
       "      <td>FS</td>\n",
       "      <td>Suite of Food Security Indicators</td>\n",
       "      <td>2024-07-25</td>\n",
       "      <td>minor revision</td>\n",
       "      <td>2024-07-24 / 2024-07-25</td>\n",
       "      <td>final</td>\n",
       "      <td>2023</td>\n",
       "      <td>2025-07</td>\n",
       "      <td>final</td>\n",
       "      <td>2024</td>\n",
       "    </tr>\n",
       "    <tr>\n",
       "      <th>4</th>\n",
       "      <td>FBS</td>\n",
       "      <td>Food Balances (2010-)</td>\n",
       "      <td>2024-07-19</td>\n",
       "      <td></td>\n",
       "      <td>2024-07-19</td>\n",
       "      <td>final</td>\n",
       "      <td>2022</td>\n",
       "      <td>2025-07</td>\n",
       "      <td>final</td>\n",
       "      <td>2023</td>\n",
       "    </tr>\n",
       "    <tr>\n",
       "      <th>...</th>\n",
       "      <td>...</td>\n",
       "      <td>...</td>\n",
       "      <td>...</td>\n",
       "      <td>...</td>\n",
       "      <td>...</td>\n",
       "      <td>...</td>\n",
       "      <td>...</td>\n",
       "      <td>...</td>\n",
       "      <td>...</td>\n",
       "      <td>...</td>\n",
       "    </tr>\n",
       "    <tr>\n",
       "      <th>61</th>\n",
       "      <td>FA</td>\n",
       "      <td>Food Aid Shipments (WFP)</td>\n",
       "      <td>2016-12-22</td>\n",
       "      <td></td>\n",
       "      <td>2016-12-22</td>\n",
       "      <td>preliminary</td>\n",
       "      <td>2016</td>\n",
       "      <td></td>\n",
       "      <td></td>\n",
       "      <td></td>\n",
       "    </tr>\n",
       "    <tr>\n",
       "      <th>62</th>\n",
       "      <td>RM</td>\n",
       "      <td>Machinery</td>\n",
       "      <td>2021-12-03</td>\n",
       "      <td>minor revision</td>\n",
       "      <td>2011-12-22 / 2021-12-03</td>\n",
       "      <td>final</td>\n",
       "      <td>2009</td>\n",
       "      <td></td>\n",
       "      <td></td>\n",
       "      <td></td>\n",
       "    </tr>\n",
       "    <tr>\n",
       "      <th>63</th>\n",
       "      <td>RY</td>\n",
       "      <td>Machinery Archive</td>\n",
       "      <td>2021-12-03</td>\n",
       "      <td>minor revision</td>\n",
       "      <td>2006-12-31 / 2021-12-03</td>\n",
       "      <td>final</td>\n",
       "      <td>2005</td>\n",
       "      <td></td>\n",
       "      <td></td>\n",
       "      <td></td>\n",
       "    </tr>\n",
       "    <tr>\n",
       "      <th>64</th>\n",
       "      <td>RA</td>\n",
       "      <td>Fertilizers archive</td>\n",
       "      <td>2020-09-08</td>\n",
       "      <td>minor revision</td>\n",
       "      <td>2013-12-31 / 2020-09-08</td>\n",
       "      <td>final</td>\n",
       "      <td>2002</td>\n",
       "      <td></td>\n",
       "      <td></td>\n",
       "      <td></td>\n",
       "    </tr>\n",
       "    <tr>\n",
       "      <th>65</th>\n",
       "      <td>PA</td>\n",
       "      <td>Producer Prices (old series)</td>\n",
       "      <td>1991-12-31</td>\n",
       "      <td></td>\n",
       "      <td>1991-12-31</td>\n",
       "      <td>final</td>\n",
       "      <td>1990</td>\n",
       "      <td></td>\n",
       "      <td></td>\n",
       "      <td></td>\n",
       "    </tr>\n",
       "  </tbody>\n",
       "</table>\n",
       "<p>66 rows × 10 columns</p>\n",
       "</div>"
      ],
      "text/plain": [
       "   code                              label date_update     note_update  \\\n",
       "0   QCL       Crops and livestock products  2024-10-07  minor revision   \n",
       "1    QI                 Production Indices  2024-03-13                   \n",
       "2    QV   Value of Agricultural Production  2024-03-13                   \n",
       "3    FS  Suite of Food Security Indicators  2024-07-25  minor revision   \n",
       "4   FBS              Food Balances (2010-)  2024-07-19                   \n",
       "..  ...                                ...         ...             ...   \n",
       "61   FA           Food Aid Shipments (WFP)  2016-12-22                   \n",
       "62   RM                          Machinery  2021-12-03  minor revision   \n",
       "63   RY                  Machinery Archive  2021-12-03  minor revision   \n",
       "64   RA                Fertilizers archive  2020-09-08  minor revision   \n",
       "65   PA       Producer Prices (old series)  1991-12-31                   \n",
       "\n",
       "            release_current state_current year_current release_next  \\\n",
       "0   2023-12-23 / 2024-10-07         final         2022      2024-12   \n",
       "1                2024-03-13         final         2022      2024-12   \n",
       "2                2024-03-13         final         2022      2024-12   \n",
       "3   2024-07-24 / 2024-07-25         final         2023      2025-07   \n",
       "4                2024-07-19         final         2022      2025-07   \n",
       "..                      ...           ...          ...          ...   \n",
       "61               2016-12-22   preliminary         2016                \n",
       "62  2011-12-22 / 2021-12-03         final         2009                \n",
       "63  2006-12-31 / 2021-12-03         final         2005                \n",
       "64  2013-12-31 / 2020-09-08         final         2002                \n",
       "65               1991-12-31         final         1990                \n",
       "\n",
       "   state_next year_next  \n",
       "0       final      2023  \n",
       "1       final      2023  \n",
       "2       final      2023  \n",
       "3       final      2024  \n",
       "4       final      2023  \n",
       "..        ...       ...  \n",
       "61                       \n",
       "62                       \n",
       "63                       \n",
       "64                       \n",
       "65                       \n",
       "\n",
       "[66 rows x 10 columns]"
      ]
     },
     "execution_count": 82,
     "metadata": {},
     "output_type": "execute_result"
    }
   ],
   "source": [
    "df = faostat.list_datasets_df()\n",
    "# df.to_csv('datasets.csv', index=False)\n",
    "df"
   ]
  },
  {
   "cell_type": "code",
   "execution_count": 83,
   "metadata": {},
   "outputs": [
    {
     "data": {
      "text/html": [
       "<div>\n",
       "<style scoped>\n",
       "    .dataframe tbody tr th:only-of-type {\n",
       "        vertical-align: middle;\n",
       "    }\n",
       "\n",
       "    .dataframe tbody tr th {\n",
       "        vertical-align: top;\n",
       "    }\n",
       "\n",
       "    .dataframe thead th {\n",
       "        text-align: right;\n",
       "    }\n",
       "</style>\n",
       "<table border=\"1\" class=\"dataframe\">\n",
       "  <thead>\n",
       "    <tr style=\"text-align: right;\">\n",
       "      <th></th>\n",
       "      <th>label</th>\n",
       "      <th>code</th>\n",
       "      <th>aggregate_type</th>\n",
       "    </tr>\n",
       "  </thead>\n",
       "  <tbody>\n",
       "    <tr>\n",
       "      <th>0</th>\n",
       "      <td>European Union (27) + (Total)</td>\n",
       "      <td>5707</td>\n",
       "      <td>+</td>\n",
       "    </tr>\n",
       "    <tr>\n",
       "      <th>1</th>\n",
       "      <td>European Union (27) &gt; (List)</td>\n",
       "      <td>5707&gt;</td>\n",
       "      <td>&gt;</td>\n",
       "    </tr>\n",
       "    <tr>\n",
       "      <th>2</th>\n",
       "      <td>Least Developed Countries + (Total)</td>\n",
       "      <td>5801</td>\n",
       "      <td>+</td>\n",
       "    </tr>\n",
       "    <tr>\n",
       "      <th>3</th>\n",
       "      <td>Least Developed Countries &gt; (List)</td>\n",
       "      <td>5801&gt;</td>\n",
       "      <td>&gt;</td>\n",
       "    </tr>\n",
       "    <tr>\n",
       "      <th>4</th>\n",
       "      <td>Land Locked Developing Countries + (Total)</td>\n",
       "      <td>5802</td>\n",
       "      <td>+</td>\n",
       "    </tr>\n",
       "    <tr>\n",
       "      <th>5</th>\n",
       "      <td>Land Locked Developing Countries &gt; (List)</td>\n",
       "      <td>5802&gt;</td>\n",
       "      <td>&gt;</td>\n",
       "    </tr>\n",
       "    <tr>\n",
       "      <th>6</th>\n",
       "      <td>Small Island Developing States + (Total)</td>\n",
       "      <td>5803</td>\n",
       "      <td>+</td>\n",
       "    </tr>\n",
       "    <tr>\n",
       "      <th>7</th>\n",
       "      <td>Small Island Developing States &gt; (List)</td>\n",
       "      <td>5803&gt;</td>\n",
       "      <td>&gt;</td>\n",
       "    </tr>\n",
       "    <tr>\n",
       "      <th>8</th>\n",
       "      <td>Low Income Food Deficit Countries + (Total)</td>\n",
       "      <td>5815</td>\n",
       "      <td>+</td>\n",
       "    </tr>\n",
       "    <tr>\n",
       "      <th>9</th>\n",
       "      <td>Low Income Food Deficit Countries &gt; (List)</td>\n",
       "      <td>5815&gt;</td>\n",
       "      <td>&gt;</td>\n",
       "    </tr>\n",
       "    <tr>\n",
       "      <th>10</th>\n",
       "      <td>Net Food Importing Developing Countries + (Total)</td>\n",
       "      <td>5817</td>\n",
       "      <td>+</td>\n",
       "    </tr>\n",
       "    <tr>\n",
       "      <th>11</th>\n",
       "      <td>Net Food Importing Developing Countries &gt; (List)</td>\n",
       "      <td>5817&gt;</td>\n",
       "      <td>&gt;</td>\n",
       "    </tr>\n",
       "  </tbody>\n",
       "</table>\n",
       "</div>"
      ],
      "text/plain": [
       "                                                label   code aggregate_type\n",
       "0                       European Union (27) + (Total)   5707              +\n",
       "1                        European Union (27) > (List)  5707>              >\n",
       "2                 Least Developed Countries + (Total)   5801              +\n",
       "3                  Least Developed Countries > (List)  5801>              >\n",
       "4          Land Locked Developing Countries + (Total)   5802              +\n",
       "5           Land Locked Developing Countries > (List)  5802>              >\n",
       "6            Small Island Developing States + (Total)   5803              +\n",
       "7             Small Island Developing States > (List)  5803>              >\n",
       "8         Low Income Food Deficit Countries + (Total)   5815              +\n",
       "9          Low Income Food Deficit Countries > (List)  5815>              >\n",
       "10  Net Food Importing Developing Countries + (Total)   5817              +\n",
       "11   Net Food Importing Developing Countries > (List)  5817>              >"
      ]
     },
     "execution_count": 83,
     "metadata": {},
     "output_type": "execute_result"
    }
   ],
   "source": [
    "y = faostat.get_par_df('RM', 'specialgroups')\n",
    "y"
   ]
  },
  {
   "cell_type": "code",
   "execution_count": null,
   "metadata": {},
   "outputs": [],
   "source": [
    "mypars = {'element':[2312, 2313],'item':'221'}\n",
    "data = faostat.get_data('QCL', pars=mypars)\n",
    "data[40:44]\n",
    "\n",
    "# get data in a dataframe\n",
    "df = faostat.get_data_df('QCL', pars=mypars)\n",
    "# df.to_csv('crops.csv', index=False)"
   ]
  },
  {
   "cell_type": "code",
   "execution_count": 85,
   "metadata": {},
   "outputs": [
    {
     "data": {
      "text/plain": [
       "Index(['Domain Code', 'Domain', 'Area Code', 'Area', 'Element Code', 'Element',\n",
       "       'Item Code', 'Item', 'Year Code', 'Year', 'Unit', 'Value'],\n",
       "      dtype='object')"
      ]
     },
     "execution_count": 85,
     "metadata": {},
     "output_type": "execute_result"
    }
   ],
   "source": [
    "df.columns"
   ]
  },
  {
   "cell_type": "code",
   "execution_count": 87,
   "metadata": {},
   "outputs": [],
   "source": [
    "df = df[['Domain','Area', 'Element','Item', 'Year', 'Unit', 'Value']]\n",
    "# df.to_csv('crops.csv', index=False)"
   ]
  },
  {
   "cell_type": "markdown",
   "metadata": {},
   "source": [
    "# Import data from Eurostate"
   ]
  },
  {
   "cell_type": "code",
   "execution_count": null,
   "metadata": {},
   "outputs": [],
   "source": [
    "# pip install eurostat"
   ]
  },
  {
   "cell_type": "code",
   "execution_count": 89,
   "metadata": {},
   "outputs": [],
   "source": [
    "import eurostat"
   ]
  },
  {
   "cell_type": "code",
   "execution_count": 105,
   "metadata": {},
   "outputs": [],
   "source": [
    "import os\n",
    "\n",
    "# Create the directory if it does not exist\n",
    "output_dir = r'D:\\Drive D\\One drive folder\\OneDrive - Higher Education Commission\\Drive G\\Data science coding\\Data sets'\n",
    "os.makedirs(output_dir, exist_ok=True)\n",
    "\n",
    "df = eurostat.get_toc_df(agency='all', dataset='all', lang='en')\n",
    "df.to_excel(os.path.join(output_dir, 'codes_eurostat_toc.xlsx'), index=False)\n"
   ]
  },
  {
   "cell_type": "code",
   "execution_count": 106,
   "metadata": {},
   "outputs": [
    {
     "data": {
      "text/html": [
       "<div>\n",
       "<style scoped>\n",
       "    .dataframe tbody tr th:only-of-type {\n",
       "        vertical-align: middle;\n",
       "    }\n",
       "\n",
       "    .dataframe tbody tr th {\n",
       "        vertical-align: top;\n",
       "    }\n",
       "\n",
       "    .dataframe thead th {\n",
       "        text-align: right;\n",
       "    }\n",
       "</style>\n",
       "<table border=\"1\" class=\"dataframe\">\n",
       "  <thead>\n",
       "    <tr style=\"text-align: right;\">\n",
       "      <th></th>\n",
       "      <th>freq</th>\n",
       "      <th>na_item</th>\n",
       "      <th>sector</th>\n",
       "      <th>maturity</th>\n",
       "      <th>unit</th>\n",
       "      <th>geo\\TIME_PERIOD</th>\n",
       "      <th>2020</th>\n",
       "      <th>2021</th>\n",
       "      <th>2022</th>\n",
       "      <th>2023</th>\n",
       "    </tr>\n",
       "  </thead>\n",
       "  <tbody>\n",
       "    <tr>\n",
       "      <th>0</th>\n",
       "      <td>A</td>\n",
       "      <td>F22</td>\n",
       "      <td>S1_S2</td>\n",
       "      <td>TOTAL</td>\n",
       "      <td>MIO_EUR</td>\n",
       "      <td>AT</td>\n",
       "      <td>NaN</td>\n",
       "      <td>NaN</td>\n",
       "      <td>0.0</td>\n",
       "      <td>0.0</td>\n",
       "    </tr>\n",
       "    <tr>\n",
       "      <th>1</th>\n",
       "      <td>A</td>\n",
       "      <td>F22</td>\n",
       "      <td>S1_S2</td>\n",
       "      <td>TOTAL</td>\n",
       "      <td>MIO_EUR</td>\n",
       "      <td>BE</td>\n",
       "      <td>NaN</td>\n",
       "      <td>NaN</td>\n",
       "      <td>0.0</td>\n",
       "      <td>0.0</td>\n",
       "    </tr>\n",
       "    <tr>\n",
       "      <th>2</th>\n",
       "      <td>A</td>\n",
       "      <td>F22</td>\n",
       "      <td>S1_S2</td>\n",
       "      <td>TOTAL</td>\n",
       "      <td>MIO_EUR</td>\n",
       "      <td>DE</td>\n",
       "      <td>0.0</td>\n",
       "      <td>0.0</td>\n",
       "      <td>0.0</td>\n",
       "      <td>0.0</td>\n",
       "    </tr>\n",
       "    <tr>\n",
       "      <th>3</th>\n",
       "      <td>A</td>\n",
       "      <td>F22</td>\n",
       "      <td>S1_S2</td>\n",
       "      <td>TOTAL</td>\n",
       "      <td>MIO_EUR</td>\n",
       "      <td>ES</td>\n",
       "      <td>NaN</td>\n",
       "      <td>NaN</td>\n",
       "      <td>0.0</td>\n",
       "      <td>0.0</td>\n",
       "    </tr>\n",
       "    <tr>\n",
       "      <th>4</th>\n",
       "      <td>A</td>\n",
       "      <td>F22</td>\n",
       "      <td>S1_S2</td>\n",
       "      <td>TOTAL</td>\n",
       "      <td>MIO_NAC</td>\n",
       "      <td>AT</td>\n",
       "      <td>NaN</td>\n",
       "      <td>NaN</td>\n",
       "      <td>0.0</td>\n",
       "      <td>0.0</td>\n",
       "    </tr>\n",
       "    <tr>\n",
       "      <th>...</th>\n",
       "      <td>...</td>\n",
       "      <td>...</td>\n",
       "      <td>...</td>\n",
       "      <td>...</td>\n",
       "      <td>...</td>\n",
       "      <td>...</td>\n",
       "      <td>...</td>\n",
       "      <td>...</td>\n",
       "      <td>...</td>\n",
       "      <td>...</td>\n",
       "    </tr>\n",
       "    <tr>\n",
       "      <th>1606</th>\n",
       "      <td>A</td>\n",
       "      <td>GD</td>\n",
       "      <td>S1_S2</td>\n",
       "      <td>Y_LT1</td>\n",
       "      <td>PC_GDP</td>\n",
       "      <td>ES</td>\n",
       "      <td>NaN</td>\n",
       "      <td>NaN</td>\n",
       "      <td>0.2</td>\n",
       "      <td>0.2</td>\n",
       "    </tr>\n",
       "    <tr>\n",
       "      <th>1607</th>\n",
       "      <td>A</td>\n",
       "      <td>GD</td>\n",
       "      <td>S1_S2</td>\n",
       "      <td>Y_LT1</td>\n",
       "      <td>PC_TOT</td>\n",
       "      <td>AT</td>\n",
       "      <td>NaN</td>\n",
       "      <td>NaN</td>\n",
       "      <td>2.2</td>\n",
       "      <td>1.7</td>\n",
       "    </tr>\n",
       "    <tr>\n",
       "      <th>1608</th>\n",
       "      <td>A</td>\n",
       "      <td>GD</td>\n",
       "      <td>S1_S2</td>\n",
       "      <td>Y_LT1</td>\n",
       "      <td>PC_TOT</td>\n",
       "      <td>BE</td>\n",
       "      <td>NaN</td>\n",
       "      <td>NaN</td>\n",
       "      <td>6.8</td>\n",
       "      <td>5.9</td>\n",
       "    </tr>\n",
       "    <tr>\n",
       "      <th>1609</th>\n",
       "      <td>A</td>\n",
       "      <td>GD</td>\n",
       "      <td>S1_S2</td>\n",
       "      <td>Y_LT1</td>\n",
       "      <td>PC_TOT</td>\n",
       "      <td>DE</td>\n",
       "      <td>5.8</td>\n",
       "      <td>5.0</td>\n",
       "      <td>2.1</td>\n",
       "      <td>2.7</td>\n",
       "    </tr>\n",
       "    <tr>\n",
       "      <th>1610</th>\n",
       "      <td>A</td>\n",
       "      <td>GD</td>\n",
       "      <td>S1_S2</td>\n",
       "      <td>Y_LT1</td>\n",
       "      <td>PC_TOT</td>\n",
       "      <td>ES</td>\n",
       "      <td>NaN</td>\n",
       "      <td>NaN</td>\n",
       "      <td>0.9</td>\n",
       "      <td>0.9</td>\n",
       "    </tr>\n",
       "  </tbody>\n",
       "</table>\n",
       "<p>1611 rows × 10 columns</p>\n",
       "</div>"
      ],
      "text/plain": [
       "     freq na_item sector maturity     unit geo\\TIME_PERIOD  2020  2021  2022  \\\n",
       "0       A     F22  S1_S2    TOTAL  MIO_EUR              AT   NaN   NaN   0.0   \n",
       "1       A     F22  S1_S2    TOTAL  MIO_EUR              BE   NaN   NaN   0.0   \n",
       "2       A     F22  S1_S2    TOTAL  MIO_EUR              DE   0.0   0.0   0.0   \n",
       "3       A     F22  S1_S2    TOTAL  MIO_EUR              ES   NaN   NaN   0.0   \n",
       "4       A     F22  S1_S2    TOTAL  MIO_NAC              AT   NaN   NaN   0.0   \n",
       "...   ...     ...    ...      ...      ...             ...   ...   ...   ...   \n",
       "1606    A      GD  S1_S2    Y_LT1   PC_GDP              ES   NaN   NaN   0.2   \n",
       "1607    A      GD  S1_S2    Y_LT1   PC_TOT              AT   NaN   NaN   2.2   \n",
       "1608    A      GD  S1_S2    Y_LT1   PC_TOT              BE   NaN   NaN   6.8   \n",
       "1609    A      GD  S1_S2    Y_LT1   PC_TOT              DE   5.8   5.0   2.1   \n",
       "1610    A      GD  S1_S2    Y_LT1   PC_TOT              ES   NaN   NaN   0.9   \n",
       "\n",
       "      2023  \n",
       "0      0.0  \n",
       "1      0.0  \n",
       "2      0.0  \n",
       "3      0.0  \n",
       "4      0.0  \n",
       "...    ...  \n",
       "1606   0.2  \n",
       "1607   1.7  \n",
       "1608   5.9  \n",
       "1609   2.7  \n",
       "1610   0.9  \n",
       "\n",
       "[1611 rows x 10 columns]"
      ]
     },
     "execution_count": 106,
     "metadata": {},
     "output_type": "execute_result"
    }
   ],
   "source": [
    "data=eurostat.get_data_df('GOV_10DD_SLGD') # General government debt\n",
    "data"
   ]
  },
  {
   "cell_type": "code",
   "execution_count": 108,
   "metadata": {},
   "outputs": [
    {
     "data": {
      "text/html": [
       "<div>\n",
       "<style scoped>\n",
       "    .dataframe tbody tr th:only-of-type {\n",
       "        vertical-align: middle;\n",
       "    }\n",
       "\n",
       "    .dataframe tbody tr th {\n",
       "        vertical-align: top;\n",
       "    }\n",
       "\n",
       "    .dataframe thead th {\n",
       "        text-align: right;\n",
       "    }\n",
       "</style>\n",
       "<table border=\"1\" class=\"dataframe\">\n",
       "  <thead>\n",
       "    <tr style=\"text-align: right;\">\n",
       "      <th></th>\n",
       "      <th>freq</th>\n",
       "      <th>na_item</th>\n",
       "      <th>sector</th>\n",
       "      <th>maturity</th>\n",
       "      <th>unit</th>\n",
       "      <th>geo\\TIME_PERIOD</th>\n",
       "      <th>2020</th>\n",
       "      <th>2021</th>\n",
       "      <th>2022</th>\n",
       "      <th>2023</th>\n",
       "    </tr>\n",
       "  </thead>\n",
       "  <tbody>\n",
       "    <tr>\n",
       "      <th>0</th>\n",
       "      <td>A</td>\n",
       "      <td>F22</td>\n",
       "      <td>S1_S2</td>\n",
       "      <td>TOTAL</td>\n",
       "      <td>MIO_EUR</td>\n",
       "      <td>AT</td>\n",
       "      <td>NaN</td>\n",
       "      <td>NaN</td>\n",
       "      <td>0.0</td>\n",
       "      <td>0.0</td>\n",
       "    </tr>\n",
       "    <tr>\n",
       "      <th>1</th>\n",
       "      <td>A</td>\n",
       "      <td>F22</td>\n",
       "      <td>S1_S2</td>\n",
       "      <td>TOTAL</td>\n",
       "      <td>MIO_EUR</td>\n",
       "      <td>BE</td>\n",
       "      <td>NaN</td>\n",
       "      <td>NaN</td>\n",
       "      <td>0.0</td>\n",
       "      <td>0.0</td>\n",
       "    </tr>\n",
       "    <tr>\n",
       "      <th>2</th>\n",
       "      <td>A</td>\n",
       "      <td>F22</td>\n",
       "      <td>S1_S2</td>\n",
       "      <td>TOTAL</td>\n",
       "      <td>MIO_EUR</td>\n",
       "      <td>DE</td>\n",
       "      <td>0.0</td>\n",
       "      <td>0.0</td>\n",
       "      <td>0.0</td>\n",
       "      <td>0.0</td>\n",
       "    </tr>\n",
       "    <tr>\n",
       "      <th>3</th>\n",
       "      <td>A</td>\n",
       "      <td>F22</td>\n",
       "      <td>S1_S2</td>\n",
       "      <td>TOTAL</td>\n",
       "      <td>MIO_EUR</td>\n",
       "      <td>ES</td>\n",
       "      <td>NaN</td>\n",
       "      <td>NaN</td>\n",
       "      <td>0.0</td>\n",
       "      <td>0.0</td>\n",
       "    </tr>\n",
       "    <tr>\n",
       "      <th>4</th>\n",
       "      <td>A</td>\n",
       "      <td>F22</td>\n",
       "      <td>S1_S2</td>\n",
       "      <td>TOTAL</td>\n",
       "      <td>MIO_NAC</td>\n",
       "      <td>AT</td>\n",
       "      <td>NaN</td>\n",
       "      <td>NaN</td>\n",
       "      <td>0.0</td>\n",
       "      <td>0.0</td>\n",
       "    </tr>\n",
       "  </tbody>\n",
       "</table>\n",
       "</div>"
      ],
      "text/plain": [
       "  freq na_item sector maturity     unit geo\\TIME_PERIOD  2020  2021  2022  \\\n",
       "0    A     F22  S1_S2    TOTAL  MIO_EUR              AT   NaN   NaN   0.0   \n",
       "1    A     F22  S1_S2    TOTAL  MIO_EUR              BE   NaN   NaN   0.0   \n",
       "2    A     F22  S1_S2    TOTAL  MIO_EUR              DE   0.0   0.0   0.0   \n",
       "3    A     F22  S1_S2    TOTAL  MIO_EUR              ES   NaN   NaN   0.0   \n",
       "4    A     F22  S1_S2    TOTAL  MIO_NAC              AT   NaN   NaN   0.0   \n",
       "\n",
       "   2023  \n",
       "0   0.0  \n",
       "1   0.0  \n",
       "2   0.0  \n",
       "3   0.0  \n",
       "4   0.0  "
      ]
     },
     "execution_count": 108,
     "metadata": {},
     "output_type": "execute_result"
    }
   ],
   "source": [
    "data=pd.DataFrame(data)\n",
    "data.head()"
   ]
  },
  {
   "cell_type": "code",
   "execution_count": 112,
   "metadata": {},
   "outputs": [
    {
     "name": "stdout",
     "output_type": "stream",
     "text": [
      "     freq na_item sector maturity     unit geo\\TIME_PERIOD  Year  Value\n",
      "0       A     F22  S1_S2    TOTAL  MIO_EUR              AT  2020    NaN\n",
      "1       A     F22  S1_S2    TOTAL  MIO_EUR              BE  2020    NaN\n",
      "2       A     F22  S1_S2    TOTAL  MIO_EUR              DE  2020    0.0\n",
      "3       A     F22  S1_S2    TOTAL  MIO_EUR              ES  2020    NaN\n",
      "4       A     F22  S1_S2    TOTAL  MIO_NAC              AT  2020    NaN\n",
      "...   ...     ...    ...      ...      ...             ...   ...    ...\n",
      "6439    A      GD  S1_S2    Y_LT1   PC_GDP              ES  2023    0.2\n",
      "6440    A      GD  S1_S2    Y_LT1   PC_TOT              AT  2023    1.7\n",
      "6441    A      GD  S1_S2    Y_LT1   PC_TOT              BE  2023    5.9\n",
      "6442    A      GD  S1_S2    Y_LT1   PC_TOT              DE  2023    2.7\n",
      "6443    A      GD  S1_S2    Y_LT1   PC_TOT              ES  2023    0.9\n",
      "\n",
      "[6444 rows x 8 columns]\n"
     ]
    }
   ],
   "source": [
    "import pandas as pd\n",
    "\n",
    "\n",
    "# Melt the DataFrame to create a single column for years\n",
    "df_melted = pd.melt(\n",
    "    data,\n",
    "    id_vars=['freq', 'na_item', 'sector', 'maturity', 'unit', 'geo\\TIME_PERIOD'],  # Keep these columns\n",
    "    var_name='Year',  # Name for the new \"Year\" column\n",
    "    value_name='Value'  # Name for the data values column\n",
    ")\n",
    "\n",
    "# Display the transformed DataFrame\n",
    "print(df_melted)\n",
    "\n",
    "# Optionally save the reshaped data to a new Excel file\n",
    "#df_melted.to_excel(\"reshaped_data.xlsx\", index=False)\n",
    "\n"
   ]
  },
  {
   "cell_type": "code",
   "execution_count": 113,
   "metadata": {},
   "outputs": [
    {
     "data": {
      "text/html": [
       "<div>\n",
       "<style scoped>\n",
       "    .dataframe tbody tr th:only-of-type {\n",
       "        vertical-align: middle;\n",
       "    }\n",
       "\n",
       "    .dataframe tbody tr th {\n",
       "        vertical-align: top;\n",
       "    }\n",
       "\n",
       "    .dataframe thead th {\n",
       "        text-align: right;\n",
       "    }\n",
       "</style>\n",
       "<table border=\"1\" class=\"dataframe\">\n",
       "  <thead>\n",
       "    <tr style=\"text-align: right;\">\n",
       "      <th></th>\n",
       "      <th>freq</th>\n",
       "      <th>na_item</th>\n",
       "      <th>sector</th>\n",
       "      <th>maturity</th>\n",
       "      <th>unit</th>\n",
       "      <th>geo\\TIME_PERIOD</th>\n",
       "      <th>Year</th>\n",
       "      <th>Value</th>\n",
       "    </tr>\n",
       "  </thead>\n",
       "  <tbody>\n",
       "    <tr>\n",
       "      <th>0</th>\n",
       "      <td>A</td>\n",
       "      <td>F22</td>\n",
       "      <td>S1_S2</td>\n",
       "      <td>TOTAL</td>\n",
       "      <td>MIO_EUR</td>\n",
       "      <td>AT</td>\n",
       "      <td>2020</td>\n",
       "      <td>NaN</td>\n",
       "    </tr>\n",
       "    <tr>\n",
       "      <th>1</th>\n",
       "      <td>A</td>\n",
       "      <td>F22</td>\n",
       "      <td>S1_S2</td>\n",
       "      <td>TOTAL</td>\n",
       "      <td>MIO_EUR</td>\n",
       "      <td>BE</td>\n",
       "      <td>2020</td>\n",
       "      <td>NaN</td>\n",
       "    </tr>\n",
       "    <tr>\n",
       "      <th>2</th>\n",
       "      <td>A</td>\n",
       "      <td>F22</td>\n",
       "      <td>S1_S2</td>\n",
       "      <td>TOTAL</td>\n",
       "      <td>MIO_EUR</td>\n",
       "      <td>DE</td>\n",
       "      <td>2020</td>\n",
       "      <td>0.0</td>\n",
       "    </tr>\n",
       "    <tr>\n",
       "      <th>3</th>\n",
       "      <td>A</td>\n",
       "      <td>F22</td>\n",
       "      <td>S1_S2</td>\n",
       "      <td>TOTAL</td>\n",
       "      <td>MIO_EUR</td>\n",
       "      <td>ES</td>\n",
       "      <td>2020</td>\n",
       "      <td>NaN</td>\n",
       "    </tr>\n",
       "    <tr>\n",
       "      <th>4</th>\n",
       "      <td>A</td>\n",
       "      <td>F22</td>\n",
       "      <td>S1_S2</td>\n",
       "      <td>TOTAL</td>\n",
       "      <td>MIO_NAC</td>\n",
       "      <td>AT</td>\n",
       "      <td>2020</td>\n",
       "      <td>NaN</td>\n",
       "    </tr>\n",
       "  </tbody>\n",
       "</table>\n",
       "</div>"
      ],
      "text/plain": [
       "  freq na_item sector maturity     unit geo\\TIME_PERIOD  Year  Value\n",
       "0    A     F22  S1_S2    TOTAL  MIO_EUR              AT  2020    NaN\n",
       "1    A     F22  S1_S2    TOTAL  MIO_EUR              BE  2020    NaN\n",
       "2    A     F22  S1_S2    TOTAL  MIO_EUR              DE  2020    0.0\n",
       "3    A     F22  S1_S2    TOTAL  MIO_EUR              ES  2020    NaN\n",
       "4    A     F22  S1_S2    TOTAL  MIO_NAC              AT  2020    NaN"
      ]
     },
     "execution_count": 113,
     "metadata": {},
     "output_type": "execute_result"
    }
   ],
   "source": [
    "df_melted.head()"
   ]
  },
  {
   "cell_type": "code",
   "execution_count": 118,
   "metadata": {},
   "outputs": [
    {
     "data": {
      "text/html": [
       "<div>\n",
       "<style scoped>\n",
       "    .dataframe tbody tr th:only-of-type {\n",
       "        vertical-align: middle;\n",
       "    }\n",
       "\n",
       "    .dataframe tbody tr th {\n",
       "        vertical-align: top;\n",
       "    }\n",
       "\n",
       "    .dataframe thead th {\n",
       "        text-align: right;\n",
       "    }\n",
       "</style>\n",
       "<table border=\"1\" class=\"dataframe\">\n",
       "  <thead>\n",
       "    <tr style=\"text-align: right;\">\n",
       "      <th></th>\n",
       "      <th>freq</th>\n",
       "      <th>na_item</th>\n",
       "      <th>sector</th>\n",
       "      <th>maturity</th>\n",
       "      <th>unit</th>\n",
       "      <th>Geo</th>\n",
       "      <th>Year</th>\n",
       "      <th>Govt_debt</th>\n",
       "    </tr>\n",
       "  </thead>\n",
       "  <tbody>\n",
       "    <tr>\n",
       "      <th>0</th>\n",
       "      <td>A</td>\n",
       "      <td>F22</td>\n",
       "      <td>S1_S2</td>\n",
       "      <td>TOTAL</td>\n",
       "      <td>MIO_EUR</td>\n",
       "      <td>AT</td>\n",
       "      <td>2020</td>\n",
       "      <td>NaN</td>\n",
       "    </tr>\n",
       "    <tr>\n",
       "      <th>1</th>\n",
       "      <td>A</td>\n",
       "      <td>F22</td>\n",
       "      <td>S1_S2</td>\n",
       "      <td>TOTAL</td>\n",
       "      <td>MIO_EUR</td>\n",
       "      <td>BE</td>\n",
       "      <td>2020</td>\n",
       "      <td>NaN</td>\n",
       "    </tr>\n",
       "    <tr>\n",
       "      <th>2</th>\n",
       "      <td>A</td>\n",
       "      <td>F22</td>\n",
       "      <td>S1_S2</td>\n",
       "      <td>TOTAL</td>\n",
       "      <td>MIO_EUR</td>\n",
       "      <td>DE</td>\n",
       "      <td>2020</td>\n",
       "      <td>0.0</td>\n",
       "    </tr>\n",
       "    <tr>\n",
       "      <th>3</th>\n",
       "      <td>A</td>\n",
       "      <td>F22</td>\n",
       "      <td>S1_S2</td>\n",
       "      <td>TOTAL</td>\n",
       "      <td>MIO_EUR</td>\n",
       "      <td>ES</td>\n",
       "      <td>2020</td>\n",
       "      <td>NaN</td>\n",
       "    </tr>\n",
       "    <tr>\n",
       "      <th>4</th>\n",
       "      <td>A</td>\n",
       "      <td>F22</td>\n",
       "      <td>S1_S2</td>\n",
       "      <td>TOTAL</td>\n",
       "      <td>MIO_NAC</td>\n",
       "      <td>AT</td>\n",
       "      <td>2020</td>\n",
       "      <td>NaN</td>\n",
       "    </tr>\n",
       "  </tbody>\n",
       "</table>\n",
       "</div>"
      ],
      "text/plain": [
       "  freq na_item sector maturity     unit Geo  Year  Govt_debt\n",
       "0    A     F22  S1_S2    TOTAL  MIO_EUR  AT  2020        NaN\n",
       "1    A     F22  S1_S2    TOTAL  MIO_EUR  BE  2020        NaN\n",
       "2    A     F22  S1_S2    TOTAL  MIO_EUR  DE  2020        0.0\n",
       "3    A     F22  S1_S2    TOTAL  MIO_EUR  ES  2020        NaN\n",
       "4    A     F22  S1_S2    TOTAL  MIO_NAC  AT  2020        NaN"
      ]
     },
     "execution_count": 118,
     "metadata": {},
     "output_type": "execute_result"
    }
   ],
   "source": [
    "# Change column names\n",
    "df_melted.rename(columns={'geo\\\\TIME_PERIOD': 'Geo', 'Value': 'Govt_debt'}, inplace=True)\n",
    "df_melted.head()"
   ]
  },
  {
   "cell_type": "code",
   "execution_count": 119,
   "metadata": {},
   "outputs": [
    {
     "data": {
      "text/html": [
       "<div>\n",
       "<style scoped>\n",
       "    .dataframe tbody tr th:only-of-type {\n",
       "        vertical-align: middle;\n",
       "    }\n",
       "\n",
       "    .dataframe tbody tr th {\n",
       "        vertical-align: top;\n",
       "    }\n",
       "\n",
       "    .dataframe thead th {\n",
       "        text-align: right;\n",
       "    }\n",
       "</style>\n",
       "<table border=\"1\" class=\"dataframe\">\n",
       "  <thead>\n",
       "    <tr style=\"text-align: right;\">\n",
       "      <th></th>\n",
       "      <th>freq</th>\n",
       "      <th>indic_de</th>\n",
       "      <th>geo\\TIME_PERIOD</th>\n",
       "      <th>1960</th>\n",
       "      <th>1961</th>\n",
       "      <th>1962</th>\n",
       "      <th>1963</th>\n",
       "      <th>1964</th>\n",
       "      <th>1965</th>\n",
       "      <th>1966</th>\n",
       "      <th>...</th>\n",
       "      <th>2015</th>\n",
       "      <th>2016</th>\n",
       "      <th>2017</th>\n",
       "      <th>2018</th>\n",
       "      <th>2019</th>\n",
       "      <th>2020</th>\n",
       "      <th>2021</th>\n",
       "      <th>2022</th>\n",
       "      <th>2023</th>\n",
       "      <th>2024</th>\n",
       "    </tr>\n",
       "  </thead>\n",
       "  <tbody>\n",
       "    <tr>\n",
       "      <th>0</th>\n",
       "      <td>A</td>\n",
       "      <td>AVG</td>\n",
       "      <td>AD</td>\n",
       "      <td>NaN</td>\n",
       "      <td>NaN</td>\n",
       "      <td>NaN</td>\n",
       "      <td>NaN</td>\n",
       "      <td>NaN</td>\n",
       "      <td>NaN</td>\n",
       "      <td>NaN</td>\n",
       "      <td>...</td>\n",
       "      <td>NaN</td>\n",
       "      <td>72419.0</td>\n",
       "      <td>NaN</td>\n",
       "      <td>75486.0</td>\n",
       "      <td>76860.0</td>\n",
       "      <td>NaN</td>\n",
       "      <td>NaN</td>\n",
       "      <td>80562.0</td>\n",
       "      <td>83345.0</td>\n",
       "      <td>NaN</td>\n",
       "    </tr>\n",
       "    <tr>\n",
       "      <th>1</th>\n",
       "      <td>A</td>\n",
       "      <td>AVG</td>\n",
       "      <td>AL</td>\n",
       "      <td>1608800.0</td>\n",
       "      <td>1659800.0</td>\n",
       "      <td>1711319.0</td>\n",
       "      <td>1762621.0</td>\n",
       "      <td>1814135.0</td>\n",
       "      <td>1864791.0</td>\n",
       "      <td>1914573.0</td>\n",
       "      <td>...</td>\n",
       "      <td>2880694.0</td>\n",
       "      <td>2876092.0</td>\n",
       "      <td>2873458.0</td>\n",
       "      <td>2866376.0</td>\n",
       "      <td>2854191.0</td>\n",
       "      <td>2837848.0</td>\n",
       "      <td>2811667.0</td>\n",
       "      <td>2777689.0</td>\n",
       "      <td>NaN</td>\n",
       "      <td>NaN</td>\n",
       "    </tr>\n",
       "    <tr>\n",
       "      <th>2</th>\n",
       "      <td>A</td>\n",
       "      <td>AVG</td>\n",
       "      <td>AM</td>\n",
       "      <td>NaN</td>\n",
       "      <td>NaN</td>\n",
       "      <td>NaN</td>\n",
       "      <td>NaN</td>\n",
       "      <td>NaN</td>\n",
       "      <td>NaN</td>\n",
       "      <td>NaN</td>\n",
       "      <td>...</td>\n",
       "      <td>3004588.0</td>\n",
       "      <td>2992364.0</td>\n",
       "      <td>2979442.0</td>\n",
       "      <td>2969001.0</td>\n",
       "      <td>2962482.0</td>\n",
       "      <td>2961473.0</td>\n",
       "      <td>NaN</td>\n",
       "      <td>NaN</td>\n",
       "      <td>2984166.0</td>\n",
       "      <td>NaN</td>\n",
       "    </tr>\n",
       "    <tr>\n",
       "      <th>3</th>\n",
       "      <td>A</td>\n",
       "      <td>AVG</td>\n",
       "      <td>AT</td>\n",
       "      <td>7047539.0</td>\n",
       "      <td>7086299.0</td>\n",
       "      <td>7129864.0</td>\n",
       "      <td>7175811.0</td>\n",
       "      <td>7223801.0</td>\n",
       "      <td>7270889.0</td>\n",
       "      <td>7322066.0</td>\n",
       "      <td>...</td>\n",
       "      <td>8642699.0</td>\n",
       "      <td>8736668.0</td>\n",
       "      <td>8797566.0</td>\n",
       "      <td>8840521.0</td>\n",
       "      <td>8879920.0</td>\n",
       "      <td>8916864.0</td>\n",
       "      <td>8955797.0</td>\n",
       "      <td>9041851.0</td>\n",
       "      <td>9131761.0</td>\n",
       "      <td>NaN</td>\n",
       "    </tr>\n",
       "    <tr>\n",
       "      <th>4</th>\n",
       "      <td>A</td>\n",
       "      <td>AVG</td>\n",
       "      <td>AZ</td>\n",
       "      <td>NaN</td>\n",
       "      <td>NaN</td>\n",
       "      <td>NaN</td>\n",
       "      <td>NaN</td>\n",
       "      <td>NaN</td>\n",
       "      <td>NaN</td>\n",
       "      <td>NaN</td>\n",
       "      <td>...</td>\n",
       "      <td>9649341.0</td>\n",
       "      <td>9757812.0</td>\n",
       "      <td>9854033.0</td>\n",
       "      <td>9939771.0</td>\n",
       "      <td>10024283.0</td>\n",
       "      <td>10093121.0</td>\n",
       "      <td>10137750.0</td>\n",
       "      <td>10141756.0</td>\n",
       "      <td>10153958.0</td>\n",
       "      <td>NaN</td>\n",
       "    </tr>\n",
       "    <tr>\n",
       "      <th>...</th>\n",
       "      <td>...</td>\n",
       "      <td>...</td>\n",
       "      <td>...</td>\n",
       "      <td>...</td>\n",
       "      <td>...</td>\n",
       "      <td>...</td>\n",
       "      <td>...</td>\n",
       "      <td>...</td>\n",
       "      <td>...</td>\n",
       "      <td>...</td>\n",
       "      <td>...</td>\n",
       "      <td>...</td>\n",
       "      <td>...</td>\n",
       "      <td>...</td>\n",
       "      <td>...</td>\n",
       "      <td>...</td>\n",
       "      <td>...</td>\n",
       "      <td>...</td>\n",
       "      <td>...</td>\n",
       "      <td>...</td>\n",
       "      <td>...</td>\n",
       "    </tr>\n",
       "    <tr>\n",
       "      <th>1556</th>\n",
       "      <td>A</td>\n",
       "      <td>POPTRT</td>\n",
       "      <td>SM</td>\n",
       "      <td>NaN</td>\n",
       "      <td>NaN</td>\n",
       "      <td>NaN</td>\n",
       "      <td>NaN</td>\n",
       "      <td>NaN</td>\n",
       "      <td>NaN</td>\n",
       "      <td>NaN</td>\n",
       "      <td>...</td>\n",
       "      <td>NaN</td>\n",
       "      <td>NaN</td>\n",
       "      <td>NaN</td>\n",
       "      <td>NaN</td>\n",
       "      <td>NaN</td>\n",
       "      <td>NaN</td>\n",
       "      <td>-2.6</td>\n",
       "      <td>29.5</td>\n",
       "      <td>NaN</td>\n",
       "      <td>NaN</td>\n",
       "    </tr>\n",
       "    <tr>\n",
       "      <th>1557</th>\n",
       "      <td>A</td>\n",
       "      <td>POPTRT</td>\n",
       "      <td>TR</td>\n",
       "      <td>NaN</td>\n",
       "      <td>NaN</td>\n",
       "      <td>NaN</td>\n",
       "      <td>NaN</td>\n",
       "      <td>NaN</td>\n",
       "      <td>NaN</td>\n",
       "      <td>NaN</td>\n",
       "      <td>...</td>\n",
       "      <td>NaN</td>\n",
       "      <td>NaN</td>\n",
       "      <td>NaN</td>\n",
       "      <td>33.1</td>\n",
       "      <td>32.5</td>\n",
       "      <td>NaN</td>\n",
       "      <td>NaN</td>\n",
       "      <td>NaN</td>\n",
       "      <td>NaN</td>\n",
       "      <td>NaN</td>\n",
       "    </tr>\n",
       "    <tr>\n",
       "      <th>1558</th>\n",
       "      <td>A</td>\n",
       "      <td>POPTRT</td>\n",
       "      <td>UA</td>\n",
       "      <td>NaN</td>\n",
       "      <td>NaN</td>\n",
       "      <td>NaN</td>\n",
       "      <td>NaN</td>\n",
       "      <td>NaN</td>\n",
       "      <td>NaN</td>\n",
       "      <td>NaN</td>\n",
       "      <td>...</td>\n",
       "      <td>NaN</td>\n",
       "      <td>NaN</td>\n",
       "      <td>NaN</td>\n",
       "      <td>NaN</td>\n",
       "      <td>NaN</td>\n",
       "      <td>42.6</td>\n",
       "      <td>NaN</td>\n",
       "      <td>NaN</td>\n",
       "      <td>NaN</td>\n",
       "      <td>NaN</td>\n",
       "    </tr>\n",
       "    <tr>\n",
       "      <th>1559</th>\n",
       "      <td>A</td>\n",
       "      <td>POPTRT</td>\n",
       "      <td>UK</td>\n",
       "      <td>NaN</td>\n",
       "      <td>NaN</td>\n",
       "      <td>NaN</td>\n",
       "      <td>NaN</td>\n",
       "      <td>NaN</td>\n",
       "      <td>NaN</td>\n",
       "      <td>NaN</td>\n",
       "      <td>...</td>\n",
       "      <td>35.7</td>\n",
       "      <td>35.6</td>\n",
       "      <td>35.7</td>\n",
       "      <td>34.5</td>\n",
       "      <td>34.8</td>\n",
       "      <td>NaN</td>\n",
       "      <td>NaN</td>\n",
       "      <td>NaN</td>\n",
       "      <td>NaN</td>\n",
       "      <td>NaN</td>\n",
       "    </tr>\n",
       "    <tr>\n",
       "      <th>1560</th>\n",
       "      <td>A</td>\n",
       "      <td>POPTRT</td>\n",
       "      <td>XK</td>\n",
       "      <td>NaN</td>\n",
       "      <td>NaN</td>\n",
       "      <td>NaN</td>\n",
       "      <td>NaN</td>\n",
       "      <td>NaN</td>\n",
       "      <td>NaN</td>\n",
       "      <td>NaN</td>\n",
       "      <td>...</td>\n",
       "      <td>NaN</td>\n",
       "      <td>NaN</td>\n",
       "      <td>NaN</td>\n",
       "      <td>NaN</td>\n",
       "      <td>NaN</td>\n",
       "      <td>34.9</td>\n",
       "      <td>NaN</td>\n",
       "      <td>NaN</td>\n",
       "      <td>NaN</td>\n",
       "      <td>NaN</td>\n",
       "    </tr>\n",
       "  </tbody>\n",
       "</table>\n",
       "<p>1561 rows × 68 columns</p>\n",
       "</div>"
      ],
      "text/plain": [
       "     freq indic_de geo\\TIME_PERIOD       1960       1961       1962  \\\n",
       "0       A      AVG              AD        NaN        NaN        NaN   \n",
       "1       A      AVG              AL  1608800.0  1659800.0  1711319.0   \n",
       "2       A      AVG              AM        NaN        NaN        NaN   \n",
       "3       A      AVG              AT  7047539.0  7086299.0  7129864.0   \n",
       "4       A      AVG              AZ        NaN        NaN        NaN   \n",
       "...   ...      ...             ...        ...        ...        ...   \n",
       "1556    A   POPTRT              SM        NaN        NaN        NaN   \n",
       "1557    A   POPTRT              TR        NaN        NaN        NaN   \n",
       "1558    A   POPTRT              UA        NaN        NaN        NaN   \n",
       "1559    A   POPTRT              UK        NaN        NaN        NaN   \n",
       "1560    A   POPTRT              XK        NaN        NaN        NaN   \n",
       "\n",
       "           1963       1964       1965       1966  ...       2015       2016  \\\n",
       "0           NaN        NaN        NaN        NaN  ...        NaN    72419.0   \n",
       "1     1762621.0  1814135.0  1864791.0  1914573.0  ...  2880694.0  2876092.0   \n",
       "2           NaN        NaN        NaN        NaN  ...  3004588.0  2992364.0   \n",
       "3     7175811.0  7223801.0  7270889.0  7322066.0  ...  8642699.0  8736668.0   \n",
       "4           NaN        NaN        NaN        NaN  ...  9649341.0  9757812.0   \n",
       "...         ...        ...        ...        ...  ...        ...        ...   \n",
       "1556        NaN        NaN        NaN        NaN  ...        NaN        NaN   \n",
       "1557        NaN        NaN        NaN        NaN  ...        NaN        NaN   \n",
       "1558        NaN        NaN        NaN        NaN  ...        NaN        NaN   \n",
       "1559        NaN        NaN        NaN        NaN  ...       35.7       35.6   \n",
       "1560        NaN        NaN        NaN        NaN  ...        NaN        NaN   \n",
       "\n",
       "           2017       2018        2019        2020        2021        2022  \\\n",
       "0           NaN    75486.0     76860.0         NaN         NaN     80562.0   \n",
       "1     2873458.0  2866376.0   2854191.0   2837848.0   2811667.0   2777689.0   \n",
       "2     2979442.0  2969001.0   2962482.0   2961473.0         NaN         NaN   \n",
       "3     8797566.0  8840521.0   8879920.0   8916864.0   8955797.0   9041851.0   \n",
       "4     9854033.0  9939771.0  10024283.0  10093121.0  10137750.0  10141756.0   \n",
       "...         ...        ...         ...         ...         ...         ...   \n",
       "1556        NaN        NaN         NaN         NaN        -2.6        29.5   \n",
       "1557        NaN       33.1        32.5         NaN         NaN         NaN   \n",
       "1558        NaN        NaN         NaN        42.6         NaN         NaN   \n",
       "1559       35.7       34.5        34.8         NaN         NaN         NaN   \n",
       "1560        NaN        NaN         NaN        34.9         NaN         NaN   \n",
       "\n",
       "            2023  2024  \n",
       "0        83345.0   NaN  \n",
       "1            NaN   NaN  \n",
       "2      2984166.0   NaN  \n",
       "3      9131761.0   NaN  \n",
       "4     10153958.0   NaN  \n",
       "...          ...   ...  \n",
       "1556         NaN   NaN  \n",
       "1557         NaN   NaN  \n",
       "1558         NaN   NaN  \n",
       "1559         NaN   NaN  \n",
       "1560         NaN   NaN  \n",
       "\n",
       "[1561 rows x 68 columns]"
      ]
     },
     "execution_count": 119,
     "metadata": {},
     "output_type": "execute_result"
    }
   ],
   "source": [
    "eurostat.get_data_df('demo_gind') # "
   ]
  },
  {
   "cell_type": "code",
   "execution_count": 120,
   "metadata": {},
   "outputs": [
    {
     "data": {
      "text/html": [
       "<div>\n",
       "<style scoped>\n",
       "    .dataframe tbody tr th:only-of-type {\n",
       "        vertical-align: middle;\n",
       "    }\n",
       "\n",
       "    .dataframe tbody tr th {\n",
       "        vertical-align: top;\n",
       "    }\n",
       "\n",
       "    .dataframe thead th {\n",
       "        text-align: right;\n",
       "    }\n",
       "</style>\n",
       "<table border=\"1\" class=\"dataframe\">\n",
       "  <thead>\n",
       "    <tr style=\"text-align: right;\">\n",
       "      <th></th>\n",
       "      <th>title</th>\n",
       "      <th>code</th>\n",
       "      <th>type</th>\n",
       "      <th>last update of data</th>\n",
       "      <th>last table structure change</th>\n",
       "      <th>data start</th>\n",
       "      <th>data end</th>\n",
       "    </tr>\n",
       "  </thead>\n",
       "  <tbody>\n",
       "    <tr>\n",
       "      <th>373</th>\n",
       "      <td>Persons subject to immigration law enforcement...</td>\n",
       "      <td>MIGR_EILPOP</td>\n",
       "      <td>dataset</td>\n",
       "      <td>2024-09-30T23:00:00+0200</td>\n",
       "      <td>2024-05-30T23:00:00+0200</td>\n",
       "      <td>2008</td>\n",
       "      <td>2023</td>\n",
       "    </tr>\n",
       "    <tr>\n",
       "      <th>390</th>\n",
       "      <td>Emigration by age group, sex and citizenship</td>\n",
       "      <td>MIGR_EMI1CTZ</td>\n",
       "      <td>dataset</td>\n",
       "      <td>2024-11-13T23:00:00+0100</td>\n",
       "      <td>2024-11-29T11:00:00+0100</td>\n",
       "      <td>1998</td>\n",
       "      <td>2022</td>\n",
       "    </tr>\n",
       "    <tr>\n",
       "      <th>391</th>\n",
       "      <td>Emigration by age and sex</td>\n",
       "      <td>MIGR_EMI2</td>\n",
       "      <td>dataset</td>\n",
       "      <td>2024-11-13T23:00:00+0100</td>\n",
       "      <td>2024-06-07T23:00:00+0200</td>\n",
       "      <td>1990</td>\n",
       "      <td>2022</td>\n",
       "    </tr>\n",
       "    <tr>\n",
       "      <th>392</th>\n",
       "      <td>Emigration by age group, sex and country of ne...</td>\n",
       "      <td>MIGR_EMI3NXT</td>\n",
       "      <td>dataset</td>\n",
       "      <td>2024-11-13T23:00:00+0100</td>\n",
       "      <td>2024-11-28T11:00:00+0100</td>\n",
       "      <td>1998</td>\n",
       "      <td>2022</td>\n",
       "    </tr>\n",
       "    <tr>\n",
       "      <th>393</th>\n",
       "      <td>Emigration by age group, sex and country of birth</td>\n",
       "      <td>MIGR_EMI4CTB</td>\n",
       "      <td>dataset</td>\n",
       "      <td>2024-11-13T23:00:00+0100</td>\n",
       "      <td>2024-11-29T11:00:00+0100</td>\n",
       "      <td>2008</td>\n",
       "      <td>2022</td>\n",
       "    </tr>\n",
       "    <tr>\n",
       "      <th>...</th>\n",
       "      <td>...</td>\n",
       "      <td>...</td>\n",
       "      <td>...</td>\n",
       "      <td>...</td>\n",
       "      <td>...</td>\n",
       "      <td>...</td>\n",
       "      <td>...</td>\n",
       "    </tr>\n",
       "    <tr>\n",
       "      <th>2640</th>\n",
       "      <td>Population by sex, age, migration status, citi...</td>\n",
       "      <td>LFSA_PGANEDM$DV_1806</td>\n",
       "      <td>dataset</td>\n",
       "      <td>2024-09-12T23:00:00+0200</td>\n",
       "      <td>2024-04-24T23:00:00+0200</td>\n",
       "      <td>None</td>\n",
       "      <td>None</td>\n",
       "    </tr>\n",
       "    <tr>\n",
       "      <th>2796</th>\n",
       "      <td>Unemployment rates by sex, age, migration stat...</td>\n",
       "      <td>LFSA_URGANEDM</td>\n",
       "      <td>dataset</td>\n",
       "      <td>2024-09-12T23:00:00+0200</td>\n",
       "      <td>2024-04-24T23:00:00+0200</td>\n",
       "      <td>2021</td>\n",
       "      <td>2023</td>\n",
       "    </tr>\n",
       "    <tr>\n",
       "      <th>2799</th>\n",
       "      <td>Unemployment rates by sex, age, migration stat...</td>\n",
       "      <td>LFSA_URGANEDM$DV_1763</td>\n",
       "      <td>dataset</td>\n",
       "      <td>2024-09-12T23:00:00+0200</td>\n",
       "      <td>2024-04-24T23:00:00+0200</td>\n",
       "      <td>None</td>\n",
       "      <td>None</td>\n",
       "    </tr>\n",
       "    <tr>\n",
       "      <th>4075</th>\n",
       "      <td>Assumptions for net migration by age, sex, typ...</td>\n",
       "      <td>URT_PROJ_19RANMIG</td>\n",
       "      <td>dataset</td>\n",
       "      <td>2022-12-20T23:00:00+0100</td>\n",
       "      <td>2022-12-20T23:00:00+0100</td>\n",
       "      <td>2019</td>\n",
       "      <td>2100</td>\n",
       "    </tr>\n",
       "    <tr>\n",
       "      <th>4298</th>\n",
       "      <td>Assumptions for net migration by age, sex, typ...</td>\n",
       "      <td>MET_PROJ_19RANMIG</td>\n",
       "      <td>dataset</td>\n",
       "      <td>2022-12-20T23:00:00+0100</td>\n",
       "      <td>2022-12-20T23:00:00+0100</td>\n",
       "      <td>2019</td>\n",
       "      <td>2100</td>\n",
       "    </tr>\n",
       "  </tbody>\n",
       "</table>\n",
       "<p>84 rows × 7 columns</p>\n",
       "</div>"
      ],
      "text/plain": [
       "                                                  title  \\\n",
       "373   Persons subject to immigration law enforcement...   \n",
       "390        Emigration by age group, sex and citizenship   \n",
       "391                           Emigration by age and sex   \n",
       "392   Emigration by age group, sex and country of ne...   \n",
       "393   Emigration by age group, sex and country of birth   \n",
       "...                                                 ...   \n",
       "2640  Population by sex, age, migration status, citi...   \n",
       "2796  Unemployment rates by sex, age, migration stat...   \n",
       "2799  Unemployment rates by sex, age, migration stat...   \n",
       "4075  Assumptions for net migration by age, sex, typ...   \n",
       "4298  Assumptions for net migration by age, sex, typ...   \n",
       "\n",
       "                       code     type       last update of data  \\\n",
       "373             MIGR_EILPOP  dataset  2024-09-30T23:00:00+0200   \n",
       "390            MIGR_EMI1CTZ  dataset  2024-11-13T23:00:00+0100   \n",
       "391               MIGR_EMI2  dataset  2024-11-13T23:00:00+0100   \n",
       "392            MIGR_EMI3NXT  dataset  2024-11-13T23:00:00+0100   \n",
       "393            MIGR_EMI4CTB  dataset  2024-11-13T23:00:00+0100   \n",
       "...                     ...      ...                       ...   \n",
       "2640   LFSA_PGANEDM$DV_1806  dataset  2024-09-12T23:00:00+0200   \n",
       "2796          LFSA_URGANEDM  dataset  2024-09-12T23:00:00+0200   \n",
       "2799  LFSA_URGANEDM$DV_1763  dataset  2024-09-12T23:00:00+0200   \n",
       "4075      URT_PROJ_19RANMIG  dataset  2022-12-20T23:00:00+0100   \n",
       "4298      MET_PROJ_19RANMIG  dataset  2022-12-20T23:00:00+0100   \n",
       "\n",
       "     last table structure change data start data end  \n",
       "373     2024-05-30T23:00:00+0200       2008     2023  \n",
       "390     2024-11-29T11:00:00+0100       1998     2022  \n",
       "391     2024-06-07T23:00:00+0200       1990     2022  \n",
       "392     2024-11-28T11:00:00+0100       1998     2022  \n",
       "393     2024-11-29T11:00:00+0100       2008     2022  \n",
       "...                          ...        ...      ...  \n",
       "2640    2024-04-24T23:00:00+0200       None     None  \n",
       "2796    2024-04-24T23:00:00+0200       2021     2023  \n",
       "2799    2024-04-24T23:00:00+0200       None     None  \n",
       "4075    2022-12-20T23:00:00+0100       2019     2100  \n",
       "4298    2022-12-20T23:00:00+0100       2019     2100  \n",
       "\n",
       "[84 rows x 7 columns]"
      ]
     },
     "execution_count": 120,
     "metadata": {},
     "output_type": "execute_result"
    }
   ],
   "source": [
    "toc_df = eurostat.get_toc_df()\n",
    "search_results = eurostat.subset_toc_df(toc_df, 'migration')\n",
    "search_results"
   ]
  },
  {
   "cell_type": "code",
   "execution_count": 121,
   "metadata": {},
   "outputs": [
    {
     "data": {
      "text/html": [
       "<div>\n",
       "<style scoped>\n",
       "    .dataframe tbody tr th:only-of-type {\n",
       "        vertical-align: middle;\n",
       "    }\n",
       "\n",
       "    .dataframe tbody tr th {\n",
       "        vertical-align: top;\n",
       "    }\n",
       "\n",
       "    .dataframe thead th {\n",
       "        text-align: right;\n",
       "    }\n",
       "</style>\n",
       "<table border=\"1\" class=\"dataframe\">\n",
       "  <thead>\n",
       "    <tr style=\"text-align: right;\">\n",
       "      <th></th>\n",
       "      <th>freq</th>\n",
       "      <th>indic_de</th>\n",
       "      <th>geo\\TIME_PERIOD</th>\n",
       "      <th>2011</th>\n",
       "      <th>2012</th>\n",
       "      <th>2013</th>\n",
       "      <th>2014</th>\n",
       "      <th>2015</th>\n",
       "      <th>2016</th>\n",
       "      <th>2017</th>\n",
       "      <th>2018</th>\n",
       "      <th>2019</th>\n",
       "      <th>2020</th>\n",
       "      <th>2021</th>\n",
       "      <th>2022</th>\n",
       "    </tr>\n",
       "  </thead>\n",
       "  <tbody>\n",
       "    <tr>\n",
       "      <th>0</th>\n",
       "      <td>A</td>\n",
       "      <td>CNMIGRATRT</td>\n",
       "      <td>AL01</td>\n",
       "      <td>NaN</td>\n",
       "      <td>NaN</td>\n",
       "      <td>NaN</td>\n",
       "      <td>-15.9</td>\n",
       "      <td>-10.8</td>\n",
       "      <td>-9.3</td>\n",
       "      <td>-12.6</td>\n",
       "      <td>-10.7</td>\n",
       "      <td>-14.4</td>\n",
       "      <td>-9.3</td>\n",
       "      <td>NaN</td>\n",
       "      <td>-17.6</td>\n",
       "    </tr>\n",
       "    <tr>\n",
       "      <th>1</th>\n",
       "      <td>A</td>\n",
       "      <td>CNMIGRATRT</td>\n",
       "      <td>AL02</td>\n",
       "      <td>NaN</td>\n",
       "      <td>NaN</td>\n",
       "      <td>NaN</td>\n",
       "      <td>5.9</td>\n",
       "      <td>0.2</td>\n",
       "      <td>8.8</td>\n",
       "      <td>9.7</td>\n",
       "      <td>2.1</td>\n",
       "      <td>1.2</td>\n",
       "      <td>-0.1</td>\n",
       "      <td>NaN</td>\n",
       "      <td>-3.1</td>\n",
       "    </tr>\n",
       "    <tr>\n",
       "      <th>2</th>\n",
       "      <td>A</td>\n",
       "      <td>CNMIGRATRT</td>\n",
       "      <td>AL03</td>\n",
       "      <td>NaN</td>\n",
       "      <td>NaN</td>\n",
       "      <td>NaN</td>\n",
       "      <td>-15.3</td>\n",
       "      <td>-12.6</td>\n",
       "      <td>-12.7</td>\n",
       "      <td>-17.4</td>\n",
       "      <td>-9.8</td>\n",
       "      <td>-14.6</td>\n",
       "      <td>-10.4</td>\n",
       "      <td>NaN</td>\n",
       "      <td>-18.4</td>\n",
       "    </tr>\n",
       "    <tr>\n",
       "      <th>3</th>\n",
       "      <td>A</td>\n",
       "      <td>CNMIGRATRT</td>\n",
       "      <td>AT11</td>\n",
       "      <td>7.3</td>\n",
       "      <td>7.2</td>\n",
       "      <td>6.4</td>\n",
       "      <td>6.8</td>\n",
       "      <td>12.8</td>\n",
       "      <td>6.3</td>\n",
       "      <td>6.5</td>\n",
       "      <td>6.3</td>\n",
       "      <td>7.4</td>\n",
       "      <td>10.2</td>\n",
       "      <td>9.9</td>\n",
       "      <td>17.4</td>\n",
       "    </tr>\n",
       "    <tr>\n",
       "      <th>4</th>\n",
       "      <td>A</td>\n",
       "      <td>CNMIGRATRT</td>\n",
       "      <td>AT12</td>\n",
       "      <td>4.2</td>\n",
       "      <td>4.2</td>\n",
       "      <td>5.8</td>\n",
       "      <td>8.1</td>\n",
       "      <td>11.9</td>\n",
       "      <td>8.2</td>\n",
       "      <td>4.1</td>\n",
       "      <td>5.7</td>\n",
       "      <td>5.7</td>\n",
       "      <td>6.3</td>\n",
       "      <td>7.3</td>\n",
       "      <td>14.4</td>\n",
       "    </tr>\n",
       "    <tr>\n",
       "      <th>...</th>\n",
       "      <td>...</td>\n",
       "      <td>...</td>\n",
       "      <td>...</td>\n",
       "      <td>...</td>\n",
       "      <td>...</td>\n",
       "      <td>...</td>\n",
       "      <td>...</td>\n",
       "      <td>...</td>\n",
       "      <td>...</td>\n",
       "      <td>...</td>\n",
       "      <td>...</td>\n",
       "      <td>...</td>\n",
       "      <td>...</td>\n",
       "      <td>...</td>\n",
       "      <td>...</td>\n",
       "    </tr>\n",
       "    <tr>\n",
       "      <th>1009</th>\n",
       "      <td>A</td>\n",
       "      <td>NATGROWRT</td>\n",
       "      <td>UKM6</td>\n",
       "      <td>-1.1</td>\n",
       "      <td>-0.8</td>\n",
       "      <td>-0.9</td>\n",
       "      <td>-1.0</td>\n",
       "      <td>-2.3</td>\n",
       "      <td>-1.7</td>\n",
       "      <td>-2.6</td>\n",
       "      <td>-3.2</td>\n",
       "      <td>NaN</td>\n",
       "      <td>NaN</td>\n",
       "      <td>NaN</td>\n",
       "      <td>NaN</td>\n",
       "    </tr>\n",
       "    <tr>\n",
       "      <th>1010</th>\n",
       "      <td>A</td>\n",
       "      <td>NATGROWRT</td>\n",
       "      <td>UKM7</td>\n",
       "      <td>1.7</td>\n",
       "      <td>1.2</td>\n",
       "      <td>NaN</td>\n",
       "      <td>NaN</td>\n",
       "      <td>NaN</td>\n",
       "      <td>NaN</td>\n",
       "      <td>-0.4</td>\n",
       "      <td>-0.7</td>\n",
       "      <td>NaN</td>\n",
       "      <td>NaN</td>\n",
       "      <td>NaN</td>\n",
       "      <td>NaN</td>\n",
       "    </tr>\n",
       "    <tr>\n",
       "      <th>1011</th>\n",
       "      <td>A</td>\n",
       "      <td>NATGROWRT</td>\n",
       "      <td>UKM8</td>\n",
       "      <td>1.1</td>\n",
       "      <td>0.7</td>\n",
       "      <td>NaN</td>\n",
       "      <td>NaN</td>\n",
       "      <td>NaN</td>\n",
       "      <td>NaN</td>\n",
       "      <td>-0.5</td>\n",
       "      <td>-0.9</td>\n",
       "      <td>NaN</td>\n",
       "      <td>NaN</td>\n",
       "      <td>NaN</td>\n",
       "      <td>NaN</td>\n",
       "    </tr>\n",
       "    <tr>\n",
       "      <th>1012</th>\n",
       "      <td>A</td>\n",
       "      <td>NATGROWRT</td>\n",
       "      <td>UKM9</td>\n",
       "      <td>-0.6</td>\n",
       "      <td>-1.2</td>\n",
       "      <td>NaN</td>\n",
       "      <td>NaN</td>\n",
       "      <td>NaN</td>\n",
       "      <td>NaN</td>\n",
       "      <td>-2.8</td>\n",
       "      <td>-3.3</td>\n",
       "      <td>NaN</td>\n",
       "      <td>NaN</td>\n",
       "      <td>NaN</td>\n",
       "      <td>NaN</td>\n",
       "    </tr>\n",
       "    <tr>\n",
       "      <th>1013</th>\n",
       "      <td>A</td>\n",
       "      <td>NATGROWRT</td>\n",
       "      <td>UKN0</td>\n",
       "      <td>6.1</td>\n",
       "      <td>5.8</td>\n",
       "      <td>5.1</td>\n",
       "      <td>5.3</td>\n",
       "      <td>4.7</td>\n",
       "      <td>4.7</td>\n",
       "      <td>3.8</td>\n",
       "      <td>3.7</td>\n",
       "      <td>NaN</td>\n",
       "      <td>NaN</td>\n",
       "      <td>NaN</td>\n",
       "      <td>NaN</td>\n",
       "    </tr>\n",
       "  </tbody>\n",
       "</table>\n",
       "<p>1014 rows × 15 columns</p>\n",
       "</div>"
      ],
      "text/plain": [
       "     freq    indic_de geo\\TIME_PERIOD  2011  2012  2013  2014  2015  2016  \\\n",
       "0       A  CNMIGRATRT            AL01   NaN   NaN   NaN -15.9 -10.8  -9.3   \n",
       "1       A  CNMIGRATRT            AL02   NaN   NaN   NaN   5.9   0.2   8.8   \n",
       "2       A  CNMIGRATRT            AL03   NaN   NaN   NaN -15.3 -12.6 -12.7   \n",
       "3       A  CNMIGRATRT            AT11   7.3   7.2   6.4   6.8  12.8   6.3   \n",
       "4       A  CNMIGRATRT            AT12   4.2   4.2   5.8   8.1  11.9   8.2   \n",
       "...   ...         ...             ...   ...   ...   ...   ...   ...   ...   \n",
       "1009    A   NATGROWRT            UKM6  -1.1  -0.8  -0.9  -1.0  -2.3  -1.7   \n",
       "1010    A   NATGROWRT            UKM7   1.7   1.2   NaN   NaN   NaN   NaN   \n",
       "1011    A   NATGROWRT            UKM8   1.1   0.7   NaN   NaN   NaN   NaN   \n",
       "1012    A   NATGROWRT            UKM9  -0.6  -1.2   NaN   NaN   NaN   NaN   \n",
       "1013    A   NATGROWRT            UKN0   6.1   5.8   5.1   5.3   4.7   4.7   \n",
       "\n",
       "      2017  2018  2019  2020  2021  2022  \n",
       "0    -12.6 -10.7 -14.4  -9.3   NaN -17.6  \n",
       "1      9.7   2.1   1.2  -0.1   NaN  -3.1  \n",
       "2    -17.4  -9.8 -14.6 -10.4   NaN -18.4  \n",
       "3      6.5   6.3   7.4  10.2   9.9  17.4  \n",
       "4      4.1   5.7   5.7   6.3   7.3  14.4  \n",
       "...    ...   ...   ...   ...   ...   ...  \n",
       "1009  -2.6  -3.2   NaN   NaN   NaN   NaN  \n",
       "1010  -0.4  -0.7   NaN   NaN   NaN   NaN  \n",
       "1011  -0.5  -0.9   NaN   NaN   NaN   NaN  \n",
       "1012  -2.8  -3.3   NaN   NaN   NaN   NaN  \n",
       "1013   3.8   3.7   NaN   NaN   NaN   NaN  \n",
       "\n",
       "[1014 rows x 15 columns]"
      ]
     },
     "execution_count": 121,
     "metadata": {},
     "output_type": "execute_result"
    }
   ],
   "source": [
    "eurostat.get_data_df('TGS00099')"
   ]
  },
  {
   "cell_type": "code",
   "execution_count": 122,
   "metadata": {},
   "outputs": [
    {
     "data": {
      "text/html": [
       "<div>\n",
       "<style scoped>\n",
       "    .dataframe tbody tr th:only-of-type {\n",
       "        vertical-align: middle;\n",
       "    }\n",
       "\n",
       "    .dataframe tbody tr th {\n",
       "        vertical-align: top;\n",
       "    }\n",
       "\n",
       "    .dataframe thead th {\n",
       "        text-align: right;\n",
       "    }\n",
       "</style>\n",
       "<table border=\"1\" class=\"dataframe\">\n",
       "  <thead>\n",
       "    <tr style=\"text-align: right;\">\n",
       "      <th></th>\n",
       "      <th>title</th>\n",
       "      <th>code</th>\n",
       "      <th>type</th>\n",
       "      <th>last update of data</th>\n",
       "      <th>last table structure change</th>\n",
       "      <th>data start</th>\n",
       "      <th>data end</th>\n",
       "    </tr>\n",
       "  </thead>\n",
       "  <tbody>\n",
       "    <tr>\n",
       "      <th>0</th>\n",
       "      <td>Unemployment rates by sex, age and degree of u...</td>\n",
       "      <td>LFST_R_URGAU</td>\n",
       "      <td>dataset</td>\n",
       "      <td>2024-09-12T23:00:00+0200</td>\n",
       "      <td>2024-04-24T23:00:00+0200</td>\n",
       "      <td>1992</td>\n",
       "      <td>2023</td>\n",
       "    </tr>\n",
       "    <tr>\n",
       "      <th>1</th>\n",
       "      <td>Gross weight of goods handled in all ports by ...</td>\n",
       "      <td>MAR_GO_AA</td>\n",
       "      <td>dataset</td>\n",
       "      <td>2024-10-21T23:00:00+0200</td>\n",
       "      <td>2024-10-01T23:00:00+0200</td>\n",
       "      <td>1997</td>\n",
       "      <td>2023</td>\n",
       "    </tr>\n",
       "    <tr>\n",
       "      <th>2</th>\n",
       "      <td>Gross weight of goods transported to/from main...</td>\n",
       "      <td>MAR_GO_AM_BE</td>\n",
       "      <td>dataset</td>\n",
       "      <td>2024-07-09T23:00:00+0200</td>\n",
       "      <td>2024-07-09T23:00:00+0200</td>\n",
       "      <td>1997</td>\n",
       "      <td>2023</td>\n",
       "    </tr>\n",
       "    <tr>\n",
       "      <th>3</th>\n",
       "      <td>Gross weight of goods transported to/from main...</td>\n",
       "      <td>MAR_GO_AM_BG</td>\n",
       "      <td>dataset</td>\n",
       "      <td>2024-07-09T23:00:00+0200</td>\n",
       "      <td>2024-07-09T23:00:00+0200</td>\n",
       "      <td>2001</td>\n",
       "      <td>2023</td>\n",
       "    </tr>\n",
       "    <tr>\n",
       "      <th>4</th>\n",
       "      <td>Gross weight of goods transported to/from main...</td>\n",
       "      <td>MAR_GO_AM_CY</td>\n",
       "      <td>dataset</td>\n",
       "      <td>2024-08-26T23:00:00+0200</td>\n",
       "      <td>2024-08-26T23:00:00+0200</td>\n",
       "      <td>2002</td>\n",
       "      <td>2023</td>\n",
       "    </tr>\n",
       "  </tbody>\n",
       "</table>\n",
       "</div>"
      ],
      "text/plain": [
       "                                               title          code     type  \\\n",
       "0  Unemployment rates by sex, age and degree of u...  LFST_R_URGAU  dataset   \n",
       "1  Gross weight of goods handled in all ports by ...     MAR_GO_AA  dataset   \n",
       "2  Gross weight of goods transported to/from main...  MAR_GO_AM_BE  dataset   \n",
       "3  Gross weight of goods transported to/from main...  MAR_GO_AM_BG  dataset   \n",
       "4  Gross weight of goods transported to/from main...  MAR_GO_AM_CY  dataset   \n",
       "\n",
       "        last update of data last table structure change data start data end  \n",
       "0  2024-09-12T23:00:00+0200    2024-04-24T23:00:00+0200       1992     2023  \n",
       "1  2024-10-21T23:00:00+0200    2024-10-01T23:00:00+0200       1997     2023  \n",
       "2  2024-07-09T23:00:00+0200    2024-07-09T23:00:00+0200       1997     2023  \n",
       "3  2024-07-09T23:00:00+0200    2024-07-09T23:00:00+0200       2001     2023  \n",
       "4  2024-08-26T23:00:00+0200    2024-08-26T23:00:00+0200       2002     2023  "
      ]
     },
     "execution_count": 122,
     "metadata": {},
     "output_type": "execute_result"
    }
   ],
   "source": [
    "df.head()"
   ]
  },
  {
   "cell_type": "markdown",
   "metadata": {},
   "source": [
    "# Import data from yfinance"
   ]
  },
  {
   "cell_type": "code",
   "execution_count": null,
   "metadata": {},
   "outputs": [],
   "source": [
    "# pip install yfinance"
   ]
  },
  {
   "cell_type": "code",
   "execution_count": 123,
   "metadata": {},
   "outputs": [],
   "source": [
    "import pandas as pd\n",
    "import yfinance as yf"
   ]
  },
  {
   "cell_type": "markdown",
   "metadata": {},
   "source": [
    "Find the ticker symbols here: https://stockanalysis.com/stocks/"
   ]
  },
  {
   "cell_type": "code",
   "execution_count": 124,
   "metadata": {},
   "outputs": [],
   "source": [
    "# ticker define\n",
    "ticker = 'NVDA'"
   ]
  },
  {
   "cell_type": "code",
   "execution_count": 125,
   "metadata": {},
   "outputs": [],
   "source": [
    "# define the time period\n",
    "start_date = '2015-01-01'\n",
    "end_date = '2024-11-21'"
   ]
  },
  {
   "cell_type": "code",
   "execution_count": 126,
   "metadata": {},
   "outputs": [
    {
     "name": "stderr",
     "output_type": "stream",
     "text": [
      "[*********************100%%**********************]  1 of 1 completed\n"
     ]
    },
    {
     "data": {
      "text/html": [
       "<div>\n",
       "<style scoped>\n",
       "    .dataframe tbody tr th:only-of-type {\n",
       "        vertical-align: middle;\n",
       "    }\n",
       "\n",
       "    .dataframe tbody tr th {\n",
       "        vertical-align: top;\n",
       "    }\n",
       "\n",
       "    .dataframe thead th {\n",
       "        text-align: right;\n",
       "    }\n",
       "</style>\n",
       "<table border=\"1\" class=\"dataframe\">\n",
       "  <thead>\n",
       "    <tr style=\"text-align: right;\">\n",
       "      <th></th>\n",
       "      <th>Open</th>\n",
       "      <th>High</th>\n",
       "      <th>Low</th>\n",
       "      <th>Close</th>\n",
       "      <th>Adj Close</th>\n",
       "      <th>Volume</th>\n",
       "    </tr>\n",
       "    <tr>\n",
       "      <th>Date</th>\n",
       "      <th></th>\n",
       "      <th></th>\n",
       "      <th></th>\n",
       "      <th></th>\n",
       "      <th></th>\n",
       "      <th></th>\n",
       "    </tr>\n",
       "  </thead>\n",
       "  <tbody>\n",
       "    <tr>\n",
       "      <th>2015-01-02</th>\n",
       "      <td>0.50325</td>\n",
       "      <td>0.50700</td>\n",
       "      <td>0.49525</td>\n",
       "      <td>0.50325</td>\n",
       "      <td>0.483143</td>\n",
       "      <td>113680000</td>\n",
       "    </tr>\n",
       "    <tr>\n",
       "      <th>2015-01-05</th>\n",
       "      <td>0.50325</td>\n",
       "      <td>0.50475</td>\n",
       "      <td>0.49250</td>\n",
       "      <td>0.49475</td>\n",
       "      <td>0.474983</td>\n",
       "      <td>197952000</td>\n",
       "    </tr>\n",
       "    <tr>\n",
       "      <th>2015-01-06</th>\n",
       "      <td>0.49550</td>\n",
       "      <td>0.49600</td>\n",
       "      <td>0.47925</td>\n",
       "      <td>0.47975</td>\n",
       "      <td>0.460583</td>\n",
       "      <td>197764000</td>\n",
       "    </tr>\n",
       "    <tr>\n",
       "      <th>2015-01-07</th>\n",
       "      <td>0.48325</td>\n",
       "      <td>0.48750</td>\n",
       "      <td>0.47700</td>\n",
       "      <td>0.47850</td>\n",
       "      <td>0.459382</td>\n",
       "      <td>321808000</td>\n",
       "    </tr>\n",
       "    <tr>\n",
       "      <th>2015-01-08</th>\n",
       "      <td>0.48400</td>\n",
       "      <td>0.49950</td>\n",
       "      <td>0.48375</td>\n",
       "      <td>0.49650</td>\n",
       "      <td>0.476663</td>\n",
       "      <td>283780000</td>\n",
       "    </tr>\n",
       "  </tbody>\n",
       "</table>\n",
       "</div>"
      ],
      "text/plain": [
       "               Open     High      Low    Close  Adj Close     Volume\n",
       "Date                                                                \n",
       "2015-01-02  0.50325  0.50700  0.49525  0.50325   0.483143  113680000\n",
       "2015-01-05  0.50325  0.50475  0.49250  0.49475   0.474983  197952000\n",
       "2015-01-06  0.49550  0.49600  0.47925  0.47975   0.460583  197764000\n",
       "2015-01-07  0.48325  0.48750  0.47700  0.47850   0.459382  321808000\n",
       "2015-01-08  0.48400  0.49950  0.48375  0.49650   0.476663  283780000"
      ]
     },
     "execution_count": 126,
     "metadata": {},
     "output_type": "execute_result"
    }
   ],
   "source": [
    "# download the data\n",
    "df_nvda = yf.download(ticker, start=start_date, end=end_date)\n",
    "df_nvda.head()"
   ]
  },
  {
   "cell_type": "markdown",
   "metadata": {},
   "source": [
    "# Define each column in the dataset\n",
    "\n",
    "Date: The date of the stock market data\\\n",
    "Open: The opening price of the stock\\\n",
    "High: The highest price of the stock\\\n",
    "Low: The lowest price of the stock\\\n",
    "Close: The closing price of the stock\\\n",
    "Adj Close: The adjusted closing price of the stock\\\n",
    "Volume: The volume of the stock\\\n",
    "Ticker: The ticker symbol of the stock\\\n",
    "Name: The name of the stock\\\n",
    "Sector: The sector of the stock\\\n",
    "Industry: The industry of the stock\\\n",
    "Country: The country of the stock"
   ]
  },
  {
   "cell_type": "code",
   "execution_count": 127,
   "metadata": {},
   "outputs": [],
   "source": [
    "# save the data in a csv file\n",
    "df_nvda.to_csv(r'D:\\Drive D\\One drive folder\\OneDrive - Higher Education Commission\\Drive G\\Data science coding\\Data sets\\yfinance.csv')"
   ]
  },
  {
   "cell_type": "code",
   "execution_count": 128,
   "metadata": {},
   "outputs": [
    {
     "name": "stderr",
     "output_type": "stream",
     "text": [
      "[*********************100%%**********************]  5 of 5 completed\n"
     ]
    },
    {
     "data": {
      "text/html": [
       "<div>\n",
       "<style scoped>\n",
       "    .dataframe tbody tr th:only-of-type {\n",
       "        vertical-align: middle;\n",
       "    }\n",
       "\n",
       "    .dataframe tbody tr th {\n",
       "        vertical-align: top;\n",
       "    }\n",
       "\n",
       "    .dataframe thead tr th {\n",
       "        text-align: left;\n",
       "    }\n",
       "\n",
       "    .dataframe thead tr:last-of-type th {\n",
       "        text-align: right;\n",
       "    }\n",
       "</style>\n",
       "<table border=\"1\" class=\"dataframe\">\n",
       "  <thead>\n",
       "    <tr>\n",
       "      <th>Price</th>\n",
       "      <th colspan=\"5\" halign=\"left\">Adj Close</th>\n",
       "      <th colspan=\"5\" halign=\"left\">Close</th>\n",
       "      <th>...</th>\n",
       "      <th colspan=\"5\" halign=\"left\">Open</th>\n",
       "      <th colspan=\"5\" halign=\"left\">Volume</th>\n",
       "    </tr>\n",
       "    <tr>\n",
       "      <th>Ticker</th>\n",
       "      <th>AAPL</th>\n",
       "      <th>AMZN</th>\n",
       "      <th>GOOGL</th>\n",
       "      <th>MSFT</th>\n",
       "      <th>NVDA</th>\n",
       "      <th>AAPL</th>\n",
       "      <th>AMZN</th>\n",
       "      <th>GOOGL</th>\n",
       "      <th>MSFT</th>\n",
       "      <th>NVDA</th>\n",
       "      <th>...</th>\n",
       "      <th>AAPL</th>\n",
       "      <th>AMZN</th>\n",
       "      <th>GOOGL</th>\n",
       "      <th>MSFT</th>\n",
       "      <th>NVDA</th>\n",
       "      <th>AAPL</th>\n",
       "      <th>AMZN</th>\n",
       "      <th>GOOGL</th>\n",
       "      <th>MSFT</th>\n",
       "      <th>NVDA</th>\n",
       "    </tr>\n",
       "    <tr>\n",
       "      <th>Date</th>\n",
       "      <th></th>\n",
       "      <th></th>\n",
       "      <th></th>\n",
       "      <th></th>\n",
       "      <th></th>\n",
       "      <th></th>\n",
       "      <th></th>\n",
       "      <th></th>\n",
       "      <th></th>\n",
       "      <th></th>\n",
       "      <th></th>\n",
       "      <th></th>\n",
       "      <th></th>\n",
       "      <th></th>\n",
       "      <th></th>\n",
       "      <th></th>\n",
       "      <th></th>\n",
       "      <th></th>\n",
       "      <th></th>\n",
       "      <th></th>\n",
       "      <th></th>\n",
       "    </tr>\n",
       "  </thead>\n",
       "  <tbody>\n",
       "    <tr>\n",
       "      <th>2010-01-04</th>\n",
       "      <td>6.447414</td>\n",
       "      <td>6.6950</td>\n",
       "      <td>15.627781</td>\n",
       "      <td>23.300690</td>\n",
       "      <td>0.423923</td>\n",
       "      <td>7.643214</td>\n",
       "      <td>6.6950</td>\n",
       "      <td>15.684434</td>\n",
       "      <td>30.950001</td>\n",
       "      <td>0.46225</td>\n",
       "      <td>...</td>\n",
       "      <td>7.622500</td>\n",
       "      <td>6.8125</td>\n",
       "      <td>15.689439</td>\n",
       "      <td>30.620001</td>\n",
       "      <td>0.46275</td>\n",
       "      <td>493729600</td>\n",
       "      <td>151998000</td>\n",
       "      <td>78169752</td>\n",
       "      <td>38409100</td>\n",
       "      <td>800204000</td>\n",
       "    </tr>\n",
       "    <tr>\n",
       "      <th>2010-01-05</th>\n",
       "      <td>6.458557</td>\n",
       "      <td>6.7345</td>\n",
       "      <td>15.558962</td>\n",
       "      <td>23.308205</td>\n",
       "      <td>0.430113</td>\n",
       "      <td>7.656429</td>\n",
       "      <td>6.7345</td>\n",
       "      <td>15.615365</td>\n",
       "      <td>30.959999</td>\n",
       "      <td>0.46900</td>\n",
       "      <td>...</td>\n",
       "      <td>7.664286</td>\n",
       "      <td>6.6715</td>\n",
       "      <td>15.695195</td>\n",
       "      <td>30.850000</td>\n",
       "      <td>0.46050</td>\n",
       "      <td>601904800</td>\n",
       "      <td>177038000</td>\n",
       "      <td>120067812</td>\n",
       "      <td>49749600</td>\n",
       "      <td>728648000</td>\n",
       "    </tr>\n",
       "    <tr>\n",
       "      <th>2010-01-06</th>\n",
       "      <td>6.355827</td>\n",
       "      <td>6.6125</td>\n",
       "      <td>15.166741</td>\n",
       "      <td>23.165174</td>\n",
       "      <td>0.432864</td>\n",
       "      <td>7.534643</td>\n",
       "      <td>6.6125</td>\n",
       "      <td>15.221722</td>\n",
       "      <td>30.770000</td>\n",
       "      <td>0.47200</td>\n",
       "      <td>...</td>\n",
       "      <td>7.656429</td>\n",
       "      <td>6.7300</td>\n",
       "      <td>15.662162</td>\n",
       "      <td>30.879999</td>\n",
       "      <td>0.46875</td>\n",
       "      <td>552160000</td>\n",
       "      <td>143576000</td>\n",
       "      <td>158988852</td>\n",
       "      <td>58182400</td>\n",
       "      <td>649168000</td>\n",
       "    </tr>\n",
       "    <tr>\n",
       "      <th>2010-01-07</th>\n",
       "      <td>6.344077</td>\n",
       "      <td>6.5000</td>\n",
       "      <td>14.813666</td>\n",
       "      <td>22.924255</td>\n",
       "      <td>0.424381</td>\n",
       "      <td>7.520714</td>\n",
       "      <td>6.5000</td>\n",
       "      <td>14.867367</td>\n",
       "      <td>30.450001</td>\n",
       "      <td>0.46275</td>\n",
       "      <td>...</td>\n",
       "      <td>7.562500</td>\n",
       "      <td>6.6005</td>\n",
       "      <td>15.250250</td>\n",
       "      <td>30.629999</td>\n",
       "      <td>0.46950</td>\n",
       "      <td>477131200</td>\n",
       "      <td>220604000</td>\n",
       "      <td>256315428</td>\n",
       "      <td>50559700</td>\n",
       "      <td>547792000</td>\n",
       "    </tr>\n",
       "    <tr>\n",
       "      <th>2010-01-08</th>\n",
       "      <td>6.386255</td>\n",
       "      <td>6.6760</td>\n",
       "      <td>15.011148</td>\n",
       "      <td>23.082350</td>\n",
       "      <td>0.425298</td>\n",
       "      <td>7.570714</td>\n",
       "      <td>6.6760</td>\n",
       "      <td>15.065566</td>\n",
       "      <td>30.660000</td>\n",
       "      <td>0.46375</td>\n",
       "      <td>...</td>\n",
       "      <td>7.510714</td>\n",
       "      <td>6.5280</td>\n",
       "      <td>14.814815</td>\n",
       "      <td>30.280001</td>\n",
       "      <td>0.45900</td>\n",
       "      <td>447610800</td>\n",
       "      <td>196610000</td>\n",
       "      <td>188783028</td>\n",
       "      <td>51197400</td>\n",
       "      <td>478168000</td>\n",
       "    </tr>\n",
       "  </tbody>\n",
       "</table>\n",
       "<p>5 rows × 30 columns</p>\n",
       "</div>"
      ],
      "text/plain": [
       "Price      Adj Close                                             Close  \\\n",
       "Ticker          AAPL    AMZN      GOOGL       MSFT      NVDA      AAPL   \n",
       "Date                                                                     \n",
       "2010-01-04  6.447414  6.6950  15.627781  23.300690  0.423923  7.643214   \n",
       "2010-01-05  6.458557  6.7345  15.558962  23.308205  0.430113  7.656429   \n",
       "2010-01-06  6.355827  6.6125  15.166741  23.165174  0.432864  7.534643   \n",
       "2010-01-07  6.344077  6.5000  14.813666  22.924255  0.424381  7.520714   \n",
       "2010-01-08  6.386255  6.6760  15.011148  23.082350  0.425298  7.570714   \n",
       "\n",
       "Price                                              ...      Open          \\\n",
       "Ticker        AMZN      GOOGL       MSFT     NVDA  ...      AAPL    AMZN   \n",
       "Date                                               ...                     \n",
       "2010-01-04  6.6950  15.684434  30.950001  0.46225  ...  7.622500  6.8125   \n",
       "2010-01-05  6.7345  15.615365  30.959999  0.46900  ...  7.664286  6.6715   \n",
       "2010-01-06  6.6125  15.221722  30.770000  0.47200  ...  7.656429  6.7300   \n",
       "2010-01-07  6.5000  14.867367  30.450001  0.46275  ...  7.562500  6.6005   \n",
       "2010-01-08  6.6760  15.065566  30.660000  0.46375  ...  7.510714  6.5280   \n",
       "\n",
       "Price                                         Volume                        \\\n",
       "Ticker          GOOGL       MSFT     NVDA       AAPL       AMZN      GOOGL   \n",
       "Date                                                                         \n",
       "2010-01-04  15.689439  30.620001  0.46275  493729600  151998000   78169752   \n",
       "2010-01-05  15.695195  30.850000  0.46050  601904800  177038000  120067812   \n",
       "2010-01-06  15.662162  30.879999  0.46875  552160000  143576000  158988852   \n",
       "2010-01-07  15.250250  30.629999  0.46950  477131200  220604000  256315428   \n",
       "2010-01-08  14.814815  30.280001  0.45900  447610800  196610000  188783028   \n",
       "\n",
       "Price                            \n",
       "Ticker          MSFT       NVDA  \n",
       "Date                             \n",
       "2010-01-04  38409100  800204000  \n",
       "2010-01-05  49749600  728648000  \n",
       "2010-01-06  58182400  649168000  \n",
       "2010-01-07  50559700  547792000  \n",
       "2010-01-08  51197400  478168000  \n",
       "\n",
       "[5 rows x 30 columns]"
      ]
     },
     "execution_count": 128,
     "metadata": {},
     "output_type": "execute_result"
    }
   ],
   "source": [
    "# download the data from multiple tickers\n",
    "tickers = ['AAPL', 'MSFT', 'NVDA', 'GOOGL', 'AMZN']\n",
    "start_date = '2010-01-01'\n",
    "end_date = '2024-11-21'\n",
    "df = yf.download(tickers, start=start_date, end=end_date)\n",
    "df.head()\n"
   ]
  }
 ],
 "metadata": {
  "kernelspec": {
   "display_name": "base",
   "language": "python",
   "name": "python3"
  },
  "language_info": {
   "codemirror_mode": {
    "name": "ipython",
    "version": 3
   },
   "file_extension": ".py",
   "mimetype": "text/x-python",
   "name": "python",
   "nbconvert_exporter": "python",
   "pygments_lexer": "ipython3",
   "version": "3.11.5"
  }
 },
 "nbformat": 4,
 "nbformat_minor": 2
}
