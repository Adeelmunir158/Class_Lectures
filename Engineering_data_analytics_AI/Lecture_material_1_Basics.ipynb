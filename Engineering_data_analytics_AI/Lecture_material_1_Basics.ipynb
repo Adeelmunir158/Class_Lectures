{
 "cells": [
  {
   "cell_type": "code",
   "execution_count": 1,
   "metadata": {},
   "outputs": [
    {
     "name": "stdout",
     "output_type": "stream",
     "text": [
      "5\n"
     ]
    }
   ],
   "source": [
    "print(2+3)\n"
   ]
  },
  {
   "cell_type": "code",
   "execution_count": 2,
   "metadata": {},
   "outputs": [
    {
     "name": "stdout",
     "output_type": "stream",
     "text": [
      "Hello World\n"
     ]
    }
   ],
   "source": [
    "print(\"Hello World\")\n"
   ]
  },
  {
   "cell_type": "code",
   "execution_count": 3,
   "metadata": {},
   "outputs": [
    {
     "name": "stdout",
     "output_type": "stream",
     "text": [
      "We are learning Python with Adeel\n"
     ]
    }
   ],
   "source": [
    "print(\"We are learning Python with Adeel\")\n"
   ]
  },
  {
   "cell_type": "markdown",
   "metadata": {},
   "source": [
    "# Operations in python"
   ]
  },
  {
   "cell_type": "code",
   "execution_count": 4,
   "metadata": {},
   "outputs": [
    {
     "name": "stdout",
     "output_type": "stream",
     "text": [
      "3\n"
     ]
    }
   ],
   "source": [
    "print(2+1)\n"
   ]
  },
  {
   "cell_type": "code",
   "execution_count": 5,
   "metadata": {},
   "outputs": [
    {
     "name": "stdout",
     "output_type": "stream",
     "text": [
      "-1\n"
     ]
    }
   ],
   "source": [
    "print(4-5)\n"
   ]
  },
  {
   "cell_type": "code",
   "execution_count": 6,
   "metadata": {},
   "outputs": [
    {
     "name": "stdout",
     "output_type": "stream",
     "text": [
      "15\n"
     ]
    }
   ],
   "source": [
    "print(5*3)\n"
   ]
  },
  {
   "cell_type": "code",
   "execution_count": 7,
   "metadata": {},
   "outputs": [
    {
     "name": "stdout",
     "output_type": "stream",
     "text": [
      "2.0\n"
     ]
    }
   ],
   "source": [
    "print(4/2)\n"
   ]
  },
  {
   "cell_type": "code",
   "execution_count": 8,
   "metadata": {},
   "outputs": [
    {
     "name": "stdout",
     "output_type": "stream",
     "text": [
      "2\n"
     ]
    }
   ],
   "source": [
    "print(17%3) #(Remainder)\n"
   ]
  },
  {
   "cell_type": "code",
   "execution_count": 9,
   "metadata": {},
   "outputs": [
    {
     "name": "stdout",
     "output_type": "stream",
     "text": [
      "3\n"
     ]
    }
   ],
   "source": [
    "print(7//2) #(No floating value)\n"
   ]
  },
  {
   "cell_type": "code",
   "execution_count": 10,
   "metadata": {},
   "outputs": [
    {
     "name": "stdout",
     "output_type": "stream",
     "text": [
      "81\n"
     ]
    }
   ],
   "source": [
    "print(3**4) #(Power function)\n"
   ]
  },
  {
   "cell_type": "code",
   "execution_count": 11,
   "metadata": {},
   "outputs": [
    {
     "name": "stdout",
     "output_type": "stream",
     "text": [
      "8.0\n"
     ]
    }
   ],
   "source": [
    "print(3**2/2*4/3+5-3) # PEMDAS"
   ]
  },
  {
   "cell_type": "code",
   "execution_count": 12,
   "metadata": {},
   "outputs": [
    {
     "data": {
      "text/plain": [
       "'Hello World'"
      ]
     },
     "execution_count": 12,
     "metadata": {},
     "output_type": "execute_result"
    }
   ],
   "source": [
    "a= \"Hello World\" \n",
    "a"
   ]
  },
  {
   "cell_type": "code",
   "execution_count": 2,
   "metadata": {},
   "outputs": [
    {
     "name": "stdout",
     "output_type": "stream",
     "text": [
      "14\n",
      "8\n",
      "33\n",
      "3.6666666666666665\n",
      "2\n",
      "1331\n",
      "3\n"
     ]
    }
   ],
   "source": [
    "#Arithematic Operation in Python\n",
    "a=11;b=3\n",
    "print(a+b)\n",
    "print(a-b)\n",
    "print(a*b)\n",
    "print(a/b)\n",
    "print(a%b)\n",
    "print(a**b)\n",
    "print(a//b) # No floating function"
   ]
  },
  {
   "cell_type": "code",
   "execution_count": 3,
   "metadata": {},
   "outputs": [
    {
     "name": "stdout",
     "output_type": "stream",
     "text": [
      "False\n",
      "False\n",
      "True\n",
      "True\n",
      "False\n",
      "True\n"
     ]
    }
   ],
   "source": [
    "#Comparision Operation in Python\n",
    "a=11;b=11\n",
    "print(a>b)\n",
    "print(a<b)\n",
    "print(a>=b)\n",
    "print(a<=b)\n",
    "print(a!=b)\n",
    "print(a==b)"
   ]
  },
  {
   "cell_type": "code",
   "execution_count": 10,
   "metadata": {},
   "outputs": [
    {
     "name": "stdout",
     "output_type": "stream",
     "text": [
      "2\n",
      "4\n"
     ]
    }
   ],
   "source": [
    "#Assignment Operators (=, +=, -=, *= .....)\n",
    "a=2\n",
    "print(a)\n",
    "a*=2; # a= a*2\n",
    "print(a)"
   ]
  },
  {
   "cell_type": "code",
   "execution_count": null,
   "metadata": {},
   "outputs": [],
   "source": []
  },
  {
   "cell_type": "code",
   "execution_count": 13,
   "metadata": {},
   "outputs": [
    {
     "data": {
      "text/plain": [
       "'We are learning Python with Adeel'"
      ]
     },
     "execution_count": 13,
     "metadata": {},
     "output_type": "execute_result"
    }
   ],
   "source": [
    "b = \"We are learning Python with Adeel\" \n",
    "b"
   ]
  },
  {
   "cell_type": "code",
   "execution_count": 14,
   "metadata": {},
   "outputs": [],
   "source": [
    "c= 20 #int"
   ]
  },
  {
   "cell_type": "code",
   "execution_count": 15,
   "metadata": {},
   "outputs": [
    {
     "data": {
      "text/plain": [
       "20.5"
      ]
     },
     "execution_count": 15,
     "metadata": {},
     "output_type": "execute_result"
    }
   ],
   "source": [
    "d = 20.5 #float\n",
    "d"
   ]
  },
  {
   "cell_type": "markdown",
   "metadata": {},
   "source": [
    "# Data Types in Python\n",
    "Text: str #String\\\n",
    "Numeric: int, float\\\n",
    "Sequence: list, tuple, range\\\n",
    "Mapping: dictionary\\\n",
    "Set: set\\\n",
    "Boolean: bool #True/ False"
   ]
  },
  {
   "cell_type": "markdown",
   "metadata": {},
   "source": [
    "## String"
   ]
  },
  {
   "cell_type": "code",
   "execution_count": 7,
   "metadata": {},
   "outputs": [
    {
     "name": "stdout",
     "output_type": "stream",
     "text": [
      "My name is {Adeel} and i am from {Lahore}\n"
     ]
    }
   ],
   "source": [
    "string=\"My name is {Adeel} and i am from {Lahore}\"\n",
    "print(string)   \n"
   ]
  },
  {
   "cell_type": "code",
   "execution_count": 11,
   "metadata": {},
   "outputs": [
    {
     "name": "stdout",
     "output_type": "stream",
     "text": [
      "My name is Adeel and i am from Lahore\n"
     ]
    }
   ],
   "source": [
    "string=\"My name is {0} and i am from {1}\"\n",
    "Name=\"Adeel\"\n",
    "City=\"Lahore\"\n",
    "print(string.format(Name,City))"
   ]
  },
  {
   "cell_type": "code",
   "execution_count": 14,
   "metadata": {},
   "outputs": [
    {
     "name": "stdout",
     "output_type": "stream",
     "text": [
      "My name is Adeel and i am from Lahore\n"
     ]
    }
   ],
   "source": [
    "string=(f\"My name is {Name} and i am from {City}\")\n",
    "print(string)"
   ]
  },
  {
   "cell_type": "code",
   "execution_count": 17,
   "metadata": {},
   "outputs": [
    {
     "name": "stdout",
     "output_type": "stream",
     "text": [
      "The price of the product is {price:.2f}\n"
     ]
    }
   ],
   "source": [
    "price=50.5235656\n",
    "print(\"The price of the product is {price:.2f}\")"
   ]
  },
  {
   "cell_type": "code",
   "execution_count": 18,
   "metadata": {},
   "outputs": [
    {
     "name": "stdout",
     "output_type": "stream",
     "text": [
      "The price of the product is 50.52\n"
     ]
    }
   ],
   "source": [
    "price=50.5235656\n",
    "print(f\"The price of the product is {price:.2f}\")"
   ]
  },
  {
   "cell_type": "code",
   "execution_count": 16,
   "metadata": {},
   "outputs": [
    {
     "data": {
      "text/plain": [
       "['apple', 'banana', 'orange', 20.5, True, 15]"
      ]
     },
     "execution_count": 16,
     "metadata": {},
     "output_type": "execute_result"
    }
   ],
   "source": [
    "e = [\"apple\",\"banana\",\"orange\",20.5,True,15] #list\n",
    "e"
   ]
  },
  {
   "cell_type": "code",
   "execution_count": 17,
   "metadata": {},
   "outputs": [
    {
     "data": {
      "text/plain": [
       "('apple', 'banana', 'orange', 20.5, True, 15)"
      ]
     },
     "execution_count": 17,
     "metadata": {},
     "output_type": "execute_result"
    }
   ],
   "source": [
    "f = (\"apple\",\"banana\",\"orange\",20.5,True,15) #tuple\n",
    "f"
   ]
  },
  {
   "cell_type": "code",
   "execution_count": 18,
   "metadata": {},
   "outputs": [
    {
     "data": {
      "text/plain": [
       "{'name': 'Abdul Hannan', 'age': 27, 'weight': 76.5, 'height': 167.5}"
      ]
     },
     "execution_count": 18,
     "metadata": {},
     "output_type": "execute_result"
    }
   ],
   "source": [
    "g = {\"name\":\"Abdul Hannan\",\"age\":27,\"weight\":76.5,\"height\":167.5} #dict\n",
    "g"
   ]
  },
  {
   "cell_type": "code",
   "execution_count": 19,
   "metadata": {},
   "outputs": [
    {
     "name": "stdout",
     "output_type": "stream",
     "text": [
      "P\n",
      "s\n",
      "Pakis\n"
     ]
    }
   ],
   "source": [
    "a=\"Pakistan\"\n",
    "print(a[0])\n",
    "print(a[4])\n",
    "print(a[0:5])"
   ]
  },
  {
   "cell_type": "code",
   "execution_count": 20,
   "metadata": {},
   "outputs": [
    {
     "name": "stdout",
     "output_type": "stream",
     "text": [
      "zeshan\n",
      "ZESHAN\n",
      "zeshen\n"
     ]
    }
   ],
   "source": [
    "x=\"zeshan\"\n",
    "print(x)\n",
    "print(x.upper())\n",
    "print(x.replace(\"a\",\"e\"))"
   ]
  },
  {
   "cell_type": "code",
   "execution_count": 21,
   "metadata": {},
   "outputs": [
    {
     "name": "stdout",
     "output_type": "stream",
     "text": [
      "Pakista\n",
      "akistan\n",
      "stan\n",
      "Pakis\n"
     ]
    }
   ],
   "source": [
    "print(a[:7])\n",
    "print(a[1:])\n",
    "print(a[-4:]) \n",
    "print(a[:-3])                        "
   ]
  },
  {
   "cell_type": "markdown",
   "metadata": {},
   "source": [
    "# Lists[]\n",
    "\n",
    "Ordered collection of elements\\\n",
    "Enclosed in [] brackets\\\n",
    "Mutable\\\n",
    "Lists allow duplicate elements, and the order in which elements are added is preserved."
   ]
  },
  {
   "cell_type": "code",
   "execution_count": 2,
   "metadata": {},
   "outputs": [
    {
     "data": {
      "text/plain": [
       "[2, 5, 63, 25, 21, 33, 65, 9, 89, 8, 25]"
      ]
     },
     "execution_count": 2,
     "metadata": {},
     "output_type": "execute_result"
    }
   ],
   "source": [
    "list1=[2,5,63,25,21,33,65,9,89,8,25]\n",
    "list1"
   ]
  },
  {
   "cell_type": "code",
   "execution_count": 3,
   "metadata": {},
   "outputs": [
    {
     "data": {
      "text/plain": [
       "[2, 5, 8, 9, 21, 25, 25, 33, 63, 65, 89]"
      ]
     },
     "execution_count": 3,
     "metadata": {},
     "output_type": "execute_result"
    }
   ],
   "source": [
    "list1.sort()\n",
    "list1"
   ]
  },
  {
   "cell_type": "code",
   "execution_count": 4,
   "metadata": {},
   "outputs": [
    {
     "data": {
      "text/plain": [
       "[89, 65, 63, 33, 25, 25, 21, 9, 8, 5, 2]"
      ]
     },
     "execution_count": 4,
     "metadata": {},
     "output_type": "execute_result"
    }
   ],
   "source": [
    "list1.sort(reverse=True)\n",
    "list1"
   ]
  },
  {
   "cell_type": "code",
   "execution_count": 5,
   "metadata": {},
   "outputs": [
    {
     "name": "stdout",
     "output_type": "stream",
     "text": [
      "2\n"
     ]
    }
   ],
   "source": [
    "print(list1.count(25))"
   ]
  },
  {
   "cell_type": "code",
   "execution_count": 24,
   "metadata": {},
   "outputs": [
    {
     "data": {
      "text/plain": [
       "11"
      ]
     },
     "execution_count": 24,
     "metadata": {},
     "output_type": "execute_result"
    }
   ],
   "source": [
    "len(list1)"
   ]
  },
  {
   "cell_type": "code",
   "execution_count": 25,
   "metadata": {},
   "outputs": [
    {
     "data": {
      "text/plain": [
       "[2,\n",
       " 5,\n",
       " 8,\n",
       " 9,\n",
       " 21,\n",
       " 25,\n",
       " 25,\n",
       " 33,\n",
       " 63,\n",
       " 65,\n",
       " 89,\n",
       " 2,\n",
       " 5,\n",
       " 8,\n",
       " 9,\n",
       " 21,\n",
       " 25,\n",
       " 25,\n",
       " 33,\n",
       " 63,\n",
       " 65,\n",
       " 89,\n",
       " 2,\n",
       " 5,\n",
       " 8,\n",
       " 9,\n",
       " 21,\n",
       " 25,\n",
       " 25,\n",
       " 33,\n",
       " 63,\n",
       " 65,\n",
       " 89]"
      ]
     },
     "execution_count": 25,
     "metadata": {},
     "output_type": "execute_result"
    }
   ],
   "source": [
    "list1*3"
   ]
  },
  {
   "cell_type": "code",
   "execution_count": 26,
   "metadata": {},
   "outputs": [
    {
     "data": {
      "text/plain": [
       "[2, 5, 8, 9, 21, 25, 25, 33, 63, 65, 89, 'B']"
      ]
     },
     "execution_count": 26,
     "metadata": {},
     "output_type": "execute_result"
    }
   ],
   "source": [
    "list1.append(\"B\")\n",
    "list1\n"
   ]
  },
  {
   "cell_type": "code",
   "execution_count": 27,
   "metadata": {},
   "outputs": [
    {
     "data": {
      "text/plain": [
       "[2, 5, 8, 9, 21, 'B', 25, 25, 33, 63, 65, 89, 'B']"
      ]
     },
     "execution_count": 27,
     "metadata": {},
     "output_type": "execute_result"
    }
   ],
   "source": [
    "# To add the B in the middle of list\n",
    "list1.insert(5,\"B\")\n",
    "list1"
   ]
  },
  {
   "cell_type": "code",
   "execution_count": 28,
   "metadata": {},
   "outputs": [
    {
     "data": {
      "text/plain": [
       "[2, 5, 8, 9, 21, 25, 25, 33, 63, 65, 89, 'B']"
      ]
     },
     "execution_count": 28,
     "metadata": {},
     "output_type": "execute_result"
    }
   ],
   "source": [
    "# To remove the B from middle of the list\n",
    "list1.remove(\"B\")\n",
    "list1"
   ]
  },
  {
   "cell_type": "code",
   "execution_count": 29,
   "metadata": {},
   "outputs": [
    {
     "data": {
      "text/plain": [
       "['abc', 'def', 'ghij', 'klm']"
      ]
     },
     "execution_count": 29,
     "metadata": {},
     "output_type": "execute_result"
    }
   ],
   "source": [
    "myList = ['abc', 'def', 'ghij']\n",
    "myList.append('klm')\n",
    "myList"
   ]
  },
  {
   "cell_type": "code",
   "execution_count": 30,
   "metadata": {},
   "outputs": [
    {
     "data": {
      "text/plain": [
       "[1, 2, 3, 4, 5, 6]"
      ]
     },
     "execution_count": 30,
     "metadata": {},
     "output_type": "execute_result"
    }
   ],
   "source": [
    "myList2 = [1,2,3]\n",
    "myList3 = [4,5,6]\n",
    "myList2 + myList3"
   ]
  },
  {
   "cell_type": "markdown",
   "metadata": {},
   "source": [
    "# Dictionaries{}\n",
    "Unordered collection of elements\\\n",
    "Key and Value\\\n",
    "enclosed in {} brackets\\\n",
    "Mutable\n"
   ]
  },
  {
   "cell_type": "code",
   "execution_count": 5,
   "metadata": {},
   "outputs": [
    {
     "data": {
      "text/plain": [
       "{'a': 25, 'b': 65, 'c': 98, 'd': 87}"
      ]
     },
     "execution_count": 5,
     "metadata": {},
     "output_type": "execute_result"
    }
   ],
   "source": [
    "dic1={\"a\":25,\"b\":65,\"c\":98,\"d\":87}\n",
    "dic1"
   ]
  },
  {
   "cell_type": "code",
   "execution_count": 6,
   "metadata": {},
   "outputs": [
    {
     "data": {
      "text/plain": [
       "25"
      ]
     },
     "execution_count": 6,
     "metadata": {},
     "output_type": "execute_result"
    }
   ],
   "source": [
    "dic1.pop(\"a\") # To remove the key from dictionary, pop \n"
   ]
  },
  {
   "cell_type": "code",
   "execution_count": 7,
   "metadata": {},
   "outputs": [
    {
     "data": {
      "text/plain": [
       "{'b': 65, 'c': 98, 'd': 87}"
      ]
     },
     "execution_count": 7,
     "metadata": {},
     "output_type": "execute_result"
    }
   ],
   "source": [
    "dic1"
   ]
  },
  {
   "cell_type": "code",
   "execution_count": 8,
   "metadata": {},
   "outputs": [
    {
     "data": {
      "text/plain": [
       "dict_values([65, 98, 87])"
      ]
     },
     "execution_count": 8,
     "metadata": {},
     "output_type": "execute_result"
    }
   ],
   "source": [
    "dic1.values()"
   ]
  },
  {
   "cell_type": "code",
   "execution_count": 9,
   "metadata": {},
   "outputs": [
    {
     "data": {
      "text/plain": [
       "dict_keys(['b', 'c', 'd'])"
      ]
     },
     "execution_count": 9,
     "metadata": {},
     "output_type": "execute_result"
    }
   ],
   "source": [
    "dic1.keys()"
   ]
  },
  {
   "cell_type": "code",
   "execution_count": 10,
   "metadata": {},
   "outputs": [
    {
     "name": "stdout",
     "output_type": "stream",
     "text": [
      "{'b': 65, 'c': 98, 'd': 87, 'e': 10}\n",
      "{'f': 120, 'g': 110, 'h': 70}\n",
      "{'f': 120, 'g': 110, 'h': 70, 'b': 65, 'c': 98, 'd': 87, 'e': 10}\n"
     ]
    }
   ],
   "source": [
    "dic1[\"e\"]=10\n",
    "print(dic1)\n",
    "dict_2 = {\"f\": 120, \"g\":110,\"h\":70}\n",
    "print(dict_2)\n",
    "dict_2.update(dic1)\n",
    "print(dict_2)\n"
   ]
  },
  {
   "cell_type": "code",
   "execution_count": 12,
   "metadata": {},
   "outputs": [
    {
     "data": {
      "text/plain": [
       "{'Ali': 50, 'Ahmed': 70, 'Hassan': 90, 'Khalid': 80, 'Nasir': 60}"
      ]
     },
     "execution_count": 12,
     "metadata": {},
     "output_type": "execute_result"
    }
   ],
   "source": [
    "# example of dictionary with students names and marks\n",
    "marks = {\"Ali\": 50, \"Ahmed\": 70, \"Hassan\": 90, \"Khalid\": 80, \"Nasir\": 60}\n",
    "marks"
   ]
  },
  {
   "cell_type": "code",
   "execution_count": 11,
   "metadata": {},
   "outputs": [
    {
     "name": "stdout",
     "output_type": "stream",
     "text": [
      "({'first': {'a': 1}, 'second': {'b': 2}}, {'third': {'c': 3}}, {'fourth': {'d': 4}}, {'fifth': {'e': 5}})\n"
     ]
    }
   ],
   "source": [
    "# Example of nested dictionary\n",
    "nested_dict = {\"first\":{\"a\":1},\"second\":{\"b\":2}}, {\"third\":{\"c\":3}}, {\"fourth\":{\"d\":4}}, {\"fifth\":{\"e\":5}}\n",
    "print(nested_dict)"
   ]
  },
  {
   "cell_type": "markdown",
   "metadata": {},
   "source": [
    "# Tuple()\n",
    "Tuples are ordered, maintaining the order of elements.\\\n",
    "Enclosed in () braces\\\n",
    "Different kind of elements can be stored\\\n",
    "Immutable\\\n",
    "Allow Duplicates\n"
   ]
  },
  {
   "cell_type": "code",
   "execution_count": 35,
   "metadata": {},
   "outputs": [
    {
     "data": {
      "text/plain": [
       "(2, 'Pak', True, 4.3)"
      ]
     },
     "execution_count": 35,
     "metadata": {},
     "output_type": "execute_result"
    }
   ],
   "source": [
    "tup_1=(2,\"Pak\",True,4.3)\n",
    "tup_1"
   ]
  },
  {
   "cell_type": "code",
   "execution_count": 36,
   "metadata": {},
   "outputs": [
    {
     "data": {
      "text/plain": [
       "(4, 'Pakistan', False, 3.6)"
      ]
     },
     "execution_count": 36,
     "metadata": {},
     "output_type": "execute_result"
    }
   ],
   "source": [
    "tup_2=(4,\"Pakistan\",False,3.6)\n",
    "tup_2"
   ]
  },
  {
   "cell_type": "code",
   "execution_count": 37,
   "metadata": {},
   "outputs": [
    {
     "data": {
      "text/plain": [
       "(2, 'Pak', True, 4.3, 4, 'Pakistan', False, 3.6)"
      ]
     },
     "execution_count": 37,
     "metadata": {},
     "output_type": "execute_result"
    }
   ],
   "source": [
    "tup_1+tup_2"
   ]
  },
  {
   "cell_type": "code",
   "execution_count": 38,
   "metadata": {},
   "outputs": [
    {
     "data": {
      "text/plain": [
       "(2, 'Pak', True, 4.3, 2, 'Pak', True, 4.3, 4, 'Pakistan', False, 3.6)"
      ]
     },
     "execution_count": 38,
     "metadata": {},
     "output_type": "execute_result"
    }
   ],
   "source": [
    "tup_1*2+tup_2"
   ]
  },
  {
   "cell_type": "code",
   "execution_count": 39,
   "metadata": {},
   "outputs": [
    {
     "data": {
      "text/plain": [
       "(40, 33, 45, 76, 87, 98, 34, 65, 89)"
      ]
     },
     "execution_count": 39,
     "metadata": {},
     "output_type": "execute_result"
    }
   ],
   "source": [
    "tup_3=(40,33,45,76,87,98,34,65,89)\n",
    "tup_3"
   ]
  },
  {
   "cell_type": "code",
   "execution_count": 40,
   "metadata": {},
   "outputs": [
    {
     "name": "stdout",
     "output_type": "stream",
     "text": [
      "98\n",
      "33\n"
     ]
    }
   ],
   "source": [
    "print(max(tup_3))\n",
    "print(min(tup_3))\n"
   ]
  },
  {
   "cell_type": "code",
   "execution_count": 41,
   "metadata": {},
   "outputs": [
    {
     "data": {
      "text/plain": [
       "2.5"
      ]
     },
     "execution_count": 41,
     "metadata": {},
     "output_type": "execute_result"
    }
   ],
   "source": [
    "import numpy as np\n",
    "myTuple = ('abc', np.arange(0,3,0.2), 2.5)\n",
    "myTuple[2]\n"
   ]
  },
  {
   "cell_type": "markdown",
   "metadata": {},
   "source": [
    "# Sets()\n",
    "Sets are mutable, meaning you can add or remove elements after the set is created.\\\n",
    "Unordered and Unindexed:Sets are unordered, meaning they do not maintain any specific order of elements.\\\n",
    "No Duplicates Allowed\\\n",
    "enclosed in () brackets\n",
    "\n"
   ]
  },
  {
   "cell_type": "code",
   "execution_count": 42,
   "metadata": {},
   "outputs": [
    {
     "name": "stdout",
     "output_type": "stream",
     "text": [
      "{1, 2, 5, 'islamabad', 'lahore', 'karachi'}\n",
      "{1, 2, 5, 'islamabad', 'patoki', 'lahore', 'karachi'}\n"
     ]
    }
   ],
   "source": [
    "s1={1,2,5,\"karachi\", \"lahore\", \"islamabad\"}\n",
    "print(s1)\n",
    "s1.add(\"patoki\")\n",
    "print(s1)\n"
   ]
  },
  {
   "cell_type": "code",
   "execution_count": 37,
   "metadata": {},
   "outputs": [],
   "source": [
    "cities1={\"karachi\",\"lahore\",\"islamabad\",\"patoki\"}\n",
    "cities2={\"lahore\",\"multan\",\"hyderabad\",\"naran\"}"
   ]
  },
  {
   "cell_type": "code",
   "execution_count": 38,
   "metadata": {},
   "outputs": [
    {
     "data": {
      "text/plain": [
       "{'hyderabad', 'islamabad', 'karachi', 'lahore', 'multan', 'naran', 'patoki'}"
      ]
     },
     "execution_count": 38,
     "metadata": {},
     "output_type": "execute_result"
    }
   ],
   "source": [
    "cities1.union(cities2)"
   ]
  },
  {
   "cell_type": "code",
   "execution_count": 39,
   "metadata": {},
   "outputs": [
    {
     "data": {
      "text/plain": [
       "{'lahore'}"
      ]
     },
     "execution_count": 39,
     "metadata": {},
     "output_type": "execute_result"
    }
   ],
   "source": [
    "cities1.intersection(cities2)"
   ]
  },
  {
   "cell_type": "markdown",
   "metadata": {},
   "source": [
    "# Array\n",
    "An array is a data structure that stores a collection of elements, typically of the same type, in connecting memory locations.\n",
    " \n",
    "Arrays are fundamental in computer science and programming because they provide efficient ways to organize and access data. Here are some key characteristics and types of arrays.\n",
    "# Types of Arrays\n",
    "# One-Dimensional Array\n",
    "A simple linear array where elements are arranged in a single row or column.\n",
    "# Two-Dimensional Array\n",
    "An array of arrays, where elements are arranged in rows and columns, forming a grid-like structure.\n",
    "# Multi-Dimensional Array\n",
    "An array with more than two dimensions, extending the concept of two-dimensional arrays to higher dimensions.\n",
    "\n"
   ]
  },
  {
   "cell_type": "code",
   "execution_count": 1,
   "metadata": {},
   "outputs": [
    {
     "data": {
      "text/plain": [
       "array([1, 2, 3, 4, 5])"
      ]
     },
     "execution_count": 1,
     "metadata": {},
     "output_type": "execute_result"
    }
   ],
   "source": [
    "import numpy as np\n",
    "a=np.array([1,2,3,4,5])\n",
    "a"
   ]
  },
  {
   "cell_type": "code",
   "execution_count": 44,
   "metadata": {},
   "outputs": [
    {
     "data": {
      "text/plain": [
       "array([0., 0., 0., 0., 0.])"
      ]
     },
     "execution_count": 44,
     "metadata": {},
     "output_type": "execute_result"
    }
   ],
   "source": [
    "b=np.zeros(5)\n",
    "b"
   ]
  },
  {
   "cell_type": "code",
   "execution_count": 45,
   "metadata": {},
   "outputs": [
    {
     "data": {
      "text/plain": [
       "array([1., 1., 1., 1.])"
      ]
     },
     "execution_count": 45,
     "metadata": {},
     "output_type": "execute_result"
    }
   ],
   "source": [
    "c=np.ones(4)\n",
    "c"
   ]
  },
  {
   "cell_type": "code",
   "execution_count": 46,
   "metadata": {},
   "outputs": [
    {
     "data": {
      "text/plain": [
       "array([0, 1, 2, 3, 4, 5, 6, 7, 8, 9])"
      ]
     },
     "execution_count": 46,
     "metadata": {},
     "output_type": "execute_result"
    }
   ],
   "source": [
    "d=np.arange(10)\n",
    "d"
   ]
  },
  {
   "cell_type": "code",
   "execution_count": 47,
   "metadata": {},
   "outputs": [
    {
     "data": {
      "text/plain": [
       "array([2, 3, 4, 5, 6, 7, 8, 9])"
      ]
     },
     "execution_count": 47,
     "metadata": {},
     "output_type": "execute_result"
    }
   ],
   "source": [
    "e=np.arange(2,10)\n",
    "e"
   ]
  },
  {
   "cell_type": "code",
   "execution_count": 48,
   "metadata": {},
   "outputs": [
    {
     "data": {
      "text/plain": [
       "array([ 1,  6, 11, 16, 21, 26, 31, 36, 41, 46, 51, 56, 61, 66, 71, 76, 81,\n",
       "       86, 91, 96])"
      ]
     },
     "execution_count": 48,
     "metadata": {},
     "output_type": "execute_result"
    }
   ],
   "source": [
    "f=np.arange(1,100,5)\n",
    "f"
   ]
  },
  {
   "cell_type": "markdown",
   "metadata": {},
   "source": [
    "# 2-D array"
   ]
  },
  {
   "cell_type": "code",
   "execution_count": 49,
   "metadata": {},
   "outputs": [
    {
     "data": {
      "text/plain": [
       "array([[1, 2, 3, 5, 6],\n",
       "       [5, 3, 6, 2, 1]])"
      ]
     },
     "execution_count": 49,
     "metadata": {},
     "output_type": "execute_result"
    }
   ],
   "source": [
    "np.array([[1,2,3,5,6],[5,3,6,2,1]])"
   ]
  },
  {
   "cell_type": "code",
   "execution_count": 50,
   "metadata": {},
   "outputs": [
    {
     "name": "stdout",
     "output_type": "stream",
     "text": [
      "[[1. 1. 1. 1. 1.]\n",
      " [1. 1. 1. 1. 1.]\n",
      " [1. 1. 1. 1. 1.]\n",
      " [1. 1. 1. 1. 1.]]\n",
      "[[1. 1. 1. 1. 1. 1. 1.]\n",
      " [1. 1. 1. 1. 1. 1. 1.]\n",
      " [1. 1. 1. 1. 1. 1. 1.]\n",
      " [1. 1. 1. 1. 1. 1. 1.]\n",
      " [1. 1. 1. 1. 1. 1. 1.]\n",
      " [1. 1. 1. 1. 1. 1. 1.]]\n"
     ]
    }
   ],
   "source": [
    "print(np.ones((4,5)))\n",
    "print(np.ones((6,7)))"
   ]
  },
  {
   "cell_type": "markdown",
   "metadata": {},
   "source": [
    "# 3-D array"
   ]
  },
  {
   "cell_type": "code",
   "execution_count": 51,
   "metadata": {},
   "outputs": [
    {
     "data": {
      "text/plain": [
       "array([[[ 0,  1,  2,  3],\n",
       "        [ 4,  5,  6,  7],\n",
       "        [ 8,  9, 10, 11]],\n",
       "\n",
       "       [[12, 13, 14, 15],\n",
       "        [16, 17, 18, 19],\n",
       "        [20, 21, 22, 23]]])"
      ]
     },
     "execution_count": 51,
     "metadata": {},
     "output_type": "execute_result"
    }
   ],
   "source": [
    "c=np.arange(24).reshape(2,3,4)\n",
    "c"
   ]
  },
  {
   "cell_type": "code",
   "execution_count": 52,
   "metadata": {},
   "outputs": [
    {
     "data": {
      "text/plain": [
       "array([[[ 1,  2,  5,  6],\n",
       "        [ 5,  7,  8, 11]],\n",
       "\n",
       "       [[ 9,  5,  2,  3],\n",
       "        [ 8,  7,  4,  5]],\n",
       "\n",
       "       [[ 5,  4,  3,  2],\n",
       "        [ 5,  6,  4,  2]]])"
      ]
     },
     "execution_count": 52,
     "metadata": {},
     "output_type": "execute_result"
    }
   ],
   "source": [
    "a=np.array([[[1,2,5,6],\n",
    "[5,7,8,11]],\n",
    "[[9,5,2,3],\n",
    "[8,7,4,5]],\n",
    "[[5,4,3,2],\n",
    "[5,6,4,2]]])\n",
    "a"
   ]
  },
  {
   "cell_type": "code",
   "execution_count": 53,
   "metadata": {},
   "outputs": [
    {
     "data": {
      "text/plain": [
       "array([[[ 0,  1,  2,  3],\n",
       "        [ 4,  5,  6,  7],\n",
       "        [ 8,  9, 10, 11]],\n",
       "\n",
       "       [[12, 13, 14, 15],\n",
       "        [16, 17, 18, 19],\n",
       "        [20, 21, 22, 23]]])"
      ]
     },
     "execution_count": 53,
     "metadata": {},
     "output_type": "execute_result"
    }
   ],
   "source": [
    "a=np.arange(24).reshape(2,3,4)\n",
    "a"
   ]
  },
  {
   "cell_type": "code",
   "execution_count": 54,
   "metadata": {},
   "outputs": [
    {
     "name": "stdout",
     "output_type": "stream",
     "text": [
      "3\n",
      "24\n",
      "(2, 3, 4)\n"
     ]
    }
   ],
   "source": [
    "print(a.ndim)\n",
    "print(a.size)\n",
    "print(a.shape)\n"
   ]
  },
  {
   "cell_type": "code",
   "execution_count": 55,
   "metadata": {},
   "outputs": [
    {
     "data": {
      "text/plain": [
       "array([0, 1, 2, 3, 4, 5, 6, 7, 8])"
      ]
     },
     "execution_count": 55,
     "metadata": {},
     "output_type": "execute_result"
    }
   ],
   "source": [
    "b=np.arange(9)\n",
    "b"
   ]
  },
  {
   "cell_type": "code",
   "execution_count": 56,
   "metadata": {},
   "outputs": [
    {
     "data": {
      "text/plain": [
       "array([[0, 1, 2],\n",
       "       [3, 4, 5],\n",
       "       [6, 7, 8]])"
      ]
     },
     "execution_count": 56,
     "metadata": {},
     "output_type": "execute_result"
    }
   ],
   "source": [
    "c=b.reshape(3,3)\n",
    "c"
   ]
  },
  {
   "cell_type": "markdown",
   "metadata": {},
   "source": [
    "# Matrices"
   ]
  },
  {
   "cell_type": "code",
   "execution_count": 57,
   "metadata": {},
   "outputs": [],
   "source": [
    "import numpy as np\n",
    "import matplotlib.pyplot as plt\n",
    "import matplotlib.animation as animation\n",
    "import pandas as pd\n",
    "import seaborn as sns "
   ]
  },
  {
   "cell_type": "code",
   "execution_count": 58,
   "metadata": {},
   "outputs": [
    {
     "data": {
      "text/plain": [
       "array([ 1,  6, 11, 16, 21, 26, 31, 36, 41, 46, 51, 56, 61, 66, 71, 76, 81,\n",
       "       86, 91, 96])"
      ]
     },
     "execution_count": 58,
     "metadata": {},
     "output_type": "execute_result"
    }
   ],
   "source": [
    "b=np.arange(1,100,5)\n",
    "b"
   ]
  },
  {
   "cell_type": "code",
   "execution_count": 59,
   "metadata": {},
   "outputs": [
    {
     "data": {
      "text/plain": [
       "array([[ 1,  6, 11, 16, 21],\n",
       "       [26, 31, 36, 41, 46],\n",
       "       [51, 56, 61, 66, 71],\n",
       "       [76, 81, 86, 91, 96]])"
      ]
     },
     "execution_count": 59,
     "metadata": {},
     "output_type": "execute_result"
    }
   ],
   "source": [
    "b=np.arange(1,100,5).reshape(4,5)\n",
    "b"
   ]
  },
  {
   "cell_type": "code",
   "execution_count": 60,
   "metadata": {},
   "outputs": [
    {
     "name": "stdout",
     "output_type": "stream",
     "text": [
      "[[ 6 11 16]\n",
      " [31 36 41]]\n",
      "96\n",
      "970\n",
      "[ 1  6 11 16 21]\n"
     ]
    }
   ],
   "source": [
    "print(b[0:2,1:4])\n",
    "print(b.max())\n",
    "print(b.sum())\n",
    "print(b.min(axis=0))\n"
   ]
  },
  {
   "cell_type": "code",
   "execution_count": 61,
   "metadata": {},
   "outputs": [
    {
     "data": {
      "text/plain": [
       "((5, 2), (5, 4), (7, 8))"
      ]
     },
     "execution_count": 61,
     "metadata": {},
     "output_type": "execute_result"
    }
   ],
   "source": [
    "c=((5,2),(5,4),(7,8))\n",
    "c"
   ]
  },
  {
   "cell_type": "code",
   "execution_count": 62,
   "metadata": {},
   "outputs": [
    {
     "data": {
      "text/plain": [
       "array([[ 1,  3],\n",
       "       [ 5,  7],\n",
       "       [ 9, 11]])"
      ]
     },
     "execution_count": 62,
     "metadata": {},
     "output_type": "execute_result"
    }
   ],
   "source": [
    "d=np.arange(1,12,2).reshape(3,2)\n",
    "d"
   ]
  },
  {
   "cell_type": "code",
   "execution_count": 63,
   "metadata": {},
   "outputs": [
    {
     "name": "stdout",
     "output_type": "stream",
     "text": [
      "[[ 5  6]\n",
      " [25 28]\n",
      " [63 88]]\n",
      "[[ 6  5]\n",
      " [10 11]\n",
      " [16 19]]\n"
     ]
    }
   ],
   "source": [
    "print(c*d)\n",
    "print(c+d)\n"
   ]
  },
  {
   "cell_type": "code",
   "execution_count": 64,
   "metadata": {},
   "outputs": [
    {
     "data": {
      "text/plain": [
       "array([[[ 0,  1,  2,  3],\n",
       "        [ 4,  5,  6,  7],\n",
       "        [ 8,  9, 10, 11]],\n",
       "\n",
       "       [[12, 13, 14, 15],\n",
       "        [16, 17, 18, 19],\n",
       "        [20, 21, 22, 23]]])"
      ]
     },
     "execution_count": 64,
     "metadata": {},
     "output_type": "execute_result"
    }
   ],
   "source": [
    "z=np.arange(24).reshape(2,3,4)\n",
    "z"
   ]
  },
  {
   "cell_type": "markdown",
   "metadata": {},
   "source": [
    "# Conditional formatting"
   ]
  },
  {
   "cell_type": "code",
   "execution_count": 65,
   "metadata": {},
   "outputs": [],
   "source": [
    "a=5\n",
    "b=15\n",
    "c=20.5"
   ]
  },
  {
   "cell_type": "code",
   "execution_count": 66,
   "metadata": {},
   "outputs": [
    {
     "name": "stdout",
     "output_type": "stream",
     "text": [
      "a is less than b\n"
     ]
    }
   ],
   "source": [
    "if a<b: \n",
    "       print(\"a is less than b\")"
   ]
  },
  {
   "cell_type": "code",
   "execution_count": 67,
   "metadata": {},
   "outputs": [
    {
     "name": "stdout",
     "output_type": "stream",
     "text": [
      "c is greater than b\n"
     ]
    }
   ],
   "source": [
    "if c<b:\n",
    "    print(\"c is less than b\")\n",
    "else:\n",
    "    print(\"c is greater than b\")"
   ]
  },
  {
   "cell_type": "code",
   "execution_count": 68,
   "metadata": {},
   "outputs": [],
   "source": [
    "person_a_name=input(\"Enter your name: \")\n",
    "person_a_age=input(\"Enter your age: \")\n",
    "person_b_name=input(\"Enter your name: \")\n",
    "person_b_age=input(\"Enter your age: \")"
   ]
  },
  {
   "cell_type": "code",
   "execution_count": 69,
   "metadata": {},
   "outputs": [
    {
     "name": "stdout",
     "output_type": "stream",
     "text": [
      "adeel is older than yaseen\n"
     ]
    }
   ],
   "source": [
    "if person_a_age > person_b_age:\n",
    "    print(person_a_name,\"is older than\", person_b_name)\n",
    "elif person_a_age < person_b_age:\n",
    "    print(person_a_name,\" is younger than\",person_b_name)\n",
    "else:\n",
    "    print(person_a_name,\"is the same age as\",person_b_name)"
   ]
  },
  {
   "cell_type": "markdown",
   "metadata": {},
   "source": [
    "# BMI"
   ]
  },
  {
   "cell_type": "code",
   "execution_count": 27,
   "metadata": {},
   "outputs": [],
   "source": [
    "Height=input(\"Enter your height in cms: \")\n",
    "Height\n",
    "Height=float(Height)"
   ]
  },
  {
   "cell_type": "code",
   "execution_count": 28,
   "metadata": {},
   "outputs": [
    {
     "data": {
      "text/plain": [
       "10.0"
      ]
     },
     "execution_count": 28,
     "metadata": {},
     "output_type": "execute_result"
    }
   ],
   "source": [
    "weight=float(input(\"Enter your weight in kgs: \"))\n",
    "weight"
   ]
  },
  {
   "cell_type": "code",
   "execution_count": 29,
   "metadata": {},
   "outputs": [
    {
     "data": {
      "text/plain": [
       "0.4"
      ]
     },
     "execution_count": 29,
     "metadata": {},
     "output_type": "execute_result"
    }
   ],
   "source": [
    "BMI=weight/Height**2\n",
    "BMI"
   ]
  },
  {
   "cell_type": "code",
   "execution_count": 14,
   "metadata": {},
   "outputs": [
    {
     "name": "stdout",
     "output_type": "stream",
     "text": [
      "100 x 1 = 100\n",
      "100 x 2 = 200\n",
      "100 x 3 = 300\n",
      "100 x 4 = 400\n",
      "100 x 5 = 500\n",
      "100 x 6 = 600\n",
      "100 x 7 = 700\n",
      "100 x 8 = 800\n",
      "100 x 9 = 900\n",
      "100 x 10 = 1000\n",
      "100 x 11 = 1100\n",
      "100 x 12 = 1200\n",
      "100 x 13 = 1300\n",
      "100 x 14 = 1400\n",
      "100 x 15 = 1500\n",
      "100 x 16 = 1600\n",
      "100 x 17 = 1700\n",
      "100 x 18 = 1800\n",
      "100 x 19 = 1900\n",
      "100 x 20 = 2000\n",
      "100 x 21 = 2100\n",
      "100 x 22 = 2200\n",
      "100 x 23 = 2300\n",
      "100 x 24 = 2400\n",
      "100 x 25 = 2500\n",
      "100 x 26 = 2600\n",
      "100 x 27 = 2700\n",
      "100 x 28 = 2800\n",
      "100 x 29 = 2900\n",
      "100 x 30 = 3000\n",
      "100 x 31 = 3100\n",
      "100 x 32 = 3200\n",
      "100 x 33 = 3300\n",
      "100 x 34 = 3400\n",
      "100 x 35 = 3500\n",
      "100 x 36 = 3600\n",
      "100 x 37 = 3700\n",
      "100 x 38 = 3800\n",
      "100 x 39 = 3900\n",
      "100 x 40 = 4000\n",
      "100 x 41 = 4100\n",
      "100 x 42 = 4200\n",
      "100 x 43 = 4300\n",
      "100 x 44 = 4400\n",
      "100 x 45 = 4500\n",
      "100 x 46 = 4600\n",
      "100 x 47 = 4700\n",
      "100 x 48 = 4800\n",
      "100 x 49 = 4900\n",
      "100 x 50 = 5000\n",
      "100 x 51 = 5100\n",
      "100 x 52 = 5200\n",
      "100 x 53 = 5300\n",
      "100 x 54 = 5400\n",
      "100 x 55 = 5500\n",
      "100 x 56 = 5600\n",
      "100 x 57 = 5700\n",
      "100 x 58 = 5800\n",
      "100 x 59 = 5900\n",
      "100 x 60 = 6000\n",
      "100 x 61 = 6100\n",
      "100 x 62 = 6200\n",
      "100 x 63 = 6300\n",
      "100 x 64 = 6400\n",
      "100 x 65 = 6500\n",
      "100 x 66 = 6600\n",
      "100 x 67 = 6700\n",
      "100 x 68 = 6800\n",
      "100 x 69 = 6900\n",
      "100 x 70 = 7000\n",
      "100 x 71 = 7100\n",
      "100 x 72 = 7200\n",
      "100 x 73 = 7300\n",
      "100 x 74 = 7400\n",
      "100 x 75 = 7500\n",
      "100 x 76 = 7600\n",
      "100 x 77 = 7700\n",
      "100 x 78 = 7800\n",
      "100 x 79 = 7900\n",
      "100 x 80 = 8000\n",
      "100 x 81 = 8100\n",
      "100 x 82 = 8200\n",
      "100 x 83 = 8300\n",
      "100 x 84 = 8400\n",
      "100 x 85 = 8500\n",
      "100 x 86 = 8600\n",
      "100 x 87 = 8700\n",
      "100 x 88 = 8800\n",
      "100 x 89 = 8900\n",
      "100 x 90 = 9000\n",
      "100 x 91 = 9100\n",
      "100 x 92 = 9200\n",
      "100 x 93 = 9300\n",
      "100 x 94 = 9400\n",
      "100 x 95 = 9500\n",
      "100 x 96 = 9600\n",
      "100 x 97 = 9700\n",
      "100 x 98 = 9800\n",
      "100 x 99 = 9900\n"
     ]
    }
   ],
   "source": [
    "a=input(\"Enter the number: \")\n",
    "for i in range (1,100):\n",
    "    print(a,\"x\",i,\"=\",int(a)*i)"
   ]
  },
  {
   "cell_type": "code",
   "execution_count": 16,
   "metadata": {},
   "outputs": [],
   "source": [
    "# Value errors\n",
    "a=int(input(\"Enter the number between 1 and 10: \"))\n",
    "if a>10 or a<1:\n",
    "    raise ValueError(\"The number is not between 1 and 10\")\n",
    "   \n"
   ]
  },
  {
   "cell_type": "markdown",
   "metadata": {},
   "source": [
    "# Loops\n",
    "Both for and while are control flow statements in programming languages that allow you to create loops, which are used for repeating a block of code multiple times.\\\n",
    "The for loop is typically used when you know in advance how many times you want to iterate, and you have a sequence (list, tuple, string, etc.) to iterate over.\\\n",
    "\n",
    "The while loop is used when you don't know in advance how many times the loop needs to run. It continues iterating as long as the specified condition is True.\\\n",
    "\n",
    "Use a for loop when you know the number of iterations in advance and have a sequence to iterate over. Use a while loop when the number of iterations is not known in advance and is determined by a condition\n"
   ]
  },
  {
   "cell_type": "code",
   "execution_count": 73,
   "metadata": {},
   "outputs": [
    {
     "name": "stdout",
     "output_type": "stream",
     "text": [
      "bacon\n",
      "tuna\n",
      "ham\n",
      "sausages\n",
      "beef\n",
      "eggs\n",
      "chicken\n"
     ]
    }
   ],
   "source": [
    "# For loop\n",
    "foods=['bacon','tuna','ham','sausages','beef','eggs','chicken']\n",
    "for food in foods:\n",
    "\tprint(food)\n"
   ]
  },
  {
   "cell_type": "code",
   "execution_count": 74,
   "metadata": {},
   "outputs": [
    {
     "name": "stdout",
     "output_type": "stream",
     "text": [
      "1\n",
      "2\n",
      "3\n",
      "4\n",
      "5\n",
      "6\n",
      "7\n",
      "8\n",
      "9\n",
      "10\n"
     ]
    }
   ],
   "source": [
    "# write good example of for loop\n",
    "for x in range(1,11):\n",
    "    print(x) "
   ]
  },
  {
   "cell_type": "code",
   "execution_count": 75,
   "metadata": {},
   "outputs": [
    {
     "name": "stdout",
     "output_type": "stream",
     "text": [
      "1\n",
      "3\n",
      "5\n",
      "7\n",
      "9\n"
     ]
    }
   ],
   "source": [
    "for x in range(1,11,2):\n",
    "    print(x)"
   ]
  },
  {
   "cell_type": "code",
   "execution_count": 76,
   "metadata": {},
   "outputs": [
    {
     "name": "stdout",
     "output_type": "stream",
     "text": [
      "1\n",
      "3\n",
      "5\n",
      "7\n",
      "9\n",
      "11\n",
      "13\n",
      "15\n",
      "17\n",
      "19\n"
     ]
    }
   ],
   "source": [
    "# While loop\n",
    "i=1\n",
    "while i<=20:\n",
    "    print(i)\n",
    "    i+=2"
   ]
  },
  {
   "cell_type": "code",
   "execution_count": 77,
   "metadata": {},
   "outputs": [
    {
     "name": "stdout",
     "output_type": "stream",
     "text": [
      "1 is odd\n",
      "2 is even\n",
      "3 is odd\n",
      "4 is even\n",
      "5 is odd\n",
      "6 is even\n",
      "7 is odd\n",
      "8 is even\n",
      "9 is odd\n",
      "10 is even\n"
     ]
    }
   ],
   "source": [
    "# for loop with if else\n",
    "for x in range(1,11):\n",
    "    if x%2==0:\n",
    "        print(x,\"is even\")\n",
    "    else:\n",
    "        print(x,\"is odd\")"
   ]
  },
  {
   "cell_type": "code",
   "execution_count": 78,
   "metadata": {},
   "outputs": [
    {
     "name": "stdout",
     "output_type": "stream",
     "text": [
      "red shirt\n",
      "red hat\n",
      "red socks\n",
      "red pants\n",
      "red jacket\n",
      "red shorts\n",
      "green shirt\n",
      "green hat\n",
      "green socks\n",
      "green pants\n",
      "green jacket\n",
      "green shorts\n",
      "blue shirt\n",
      "blue hat\n",
      "blue socks\n",
      "blue pants\n",
      "blue jacket\n",
      "blue shorts\n",
      "yellow shirt\n",
      "yellow hat\n",
      "yellow socks\n",
      "yellow pants\n",
      "yellow jacket\n",
      "yellow shorts\n",
      "orange shirt\n",
      "orange hat\n",
      "orange socks\n",
      "orange pants\n",
      "orange jacket\n",
      "orange shorts\n",
      "purple shirt\n",
      "purple hat\n",
      "purple socks\n",
      "purple pants\n",
      "purple jacket\n",
      "purple shorts\n"
     ]
    }
   ],
   "source": [
    "# for nested loops\n",
    "colors=[\"red\",\"green\",\"blue\",\"yellow\",\"orange\",\"purple\"]\n",
    "items=[\"shirt\",\"hat\",\"socks\",\"pants\",\"jacket\",\"shorts\"]\n",
    "for color in colors:\n",
    "    for item in items:\n",
    "        print(color,item)"
   ]
  },
  {
   "cell_type": "code",
   "execution_count": 79,
   "metadata": {},
   "outputs": [
    {
     "name": "stdout",
     "output_type": "stream",
     "text": [
      "200\n",
      "220\n",
      "240\n",
      "260\n",
      "280\n",
      "6200\n",
      "6820\n",
      "7440\n",
      "8060\n",
      "8680\n",
      "12200\n",
      "13420\n",
      "14640\n",
      "15860\n",
      "17080\n",
      "18200\n",
      "20020\n",
      "21840\n",
      "23660\n",
      "25480\n"
     ]
    }
   ],
   "source": [
    "for i in range(1,100,30):\n",
    "    for j in range (200,300,20):\n",
    "        print(i*j)"
   ]
  },
  {
   "cell_type": "code",
   "execution_count": 80,
   "metadata": {},
   "outputs": [
    {
     "name": "stdout",
     "output_type": "stream",
     "text": [
      "1 1\n",
      "1 2\n",
      "1 3\n",
      "1 4\n",
      "1 5\n",
      "1 6\n",
      "1 7\n",
      "1 8\n",
      "1 9\n",
      "2 1\n",
      "2 2\n",
      "2 3\n",
      "2 4\n",
      "2 5\n",
      "2 6\n",
      "2 7\n",
      "2 8\n",
      "2 9\n",
      "3 1\n",
      "3 2\n",
      "3 3\n",
      "3 4\n",
      "3 5\n",
      "3 6\n",
      "3 7\n",
      "3 8\n",
      "3 9\n",
      "4 1\n",
      "4 2\n",
      "4 3\n",
      "4 4\n",
      "4 5\n",
      "4 6\n",
      "4 7\n",
      "4 8\n",
      "4 9\n",
      "5 1\n",
      "5 2\n",
      "5 3\n",
      "5 4\n",
      "5 5\n",
      "5 6\n",
      "5 7\n",
      "5 8\n",
      "5 9\n",
      "6 1\n",
      "6 2\n",
      "6 3\n",
      "6 4\n",
      "6 5\n",
      "6 6\n",
      "6 7\n",
      "6 8\n",
      "6 9\n",
      "7 1\n",
      "7 2\n",
      "7 3\n",
      "7 4\n",
      "7 5\n",
      "7 6\n",
      "7 7\n",
      "7 8\n",
      "7 9\n",
      "8 1\n",
      "8 2\n",
      "8 3\n",
      "8 4\n",
      "8 5\n",
      "8 6\n",
      "8 7\n",
      "8 8\n",
      "8 9\n",
      "9 1\n",
      "9 2\n",
      "9 3\n",
      "9 4\n",
      "9 5\n",
      "9 6\n",
      "9 7\n",
      "9 8\n",
      "9 9\n"
     ]
    }
   ],
   "source": [
    "# for loop inside while loop\n",
    "i = 1\n",
    "while i < 10:\n",
    "    for j in range(1,10):\n",
    "        print(i, j)\n",
    "    i+=1"
   ]
  },
  {
   "cell_type": "code",
   "execution_count": 81,
   "metadata": {},
   "outputs": [
    {
     "name": "stdout",
     "output_type": "stream",
     "text": [
      "1 1\n",
      "1 2\n",
      "1 3\n",
      "1 4\n",
      "1 5\n",
      "1 6\n",
      "1 7\n",
      "1 8\n",
      "1 9\n",
      "2 1\n",
      "2 2\n",
      "2 3\n",
      "2 4\n",
      "2 5\n",
      "2 6\n",
      "2 7\n",
      "2 8\n",
      "2 9\n",
      "3 1\n",
      "3 2\n",
      "3 3\n",
      "3 4\n",
      "3 5\n",
      "3 6\n",
      "3 7\n",
      "3 8\n",
      "3 9\n",
      "4 1\n",
      "4 2\n",
      "4 3\n",
      "4 4\n",
      "4 5\n",
      "4 6\n",
      "4 7\n",
      "4 8\n",
      "4 9\n",
      "5 1\n",
      "5 2\n",
      "5 3\n",
      "5 4\n",
      "5 5\n",
      "5 6\n",
      "5 7\n",
      "5 8\n",
      "5 9\n",
      "6 1\n",
      "6 2\n",
      "6 3\n",
      "6 4\n",
      "6 5\n",
      "6 6\n",
      "6 7\n",
      "6 8\n",
      "6 9\n",
      "7 1\n",
      "7 2\n",
      "7 3\n",
      "7 4\n",
      "7 5\n",
      "7 6\n",
      "7 7\n",
      "7 8\n",
      "7 9\n",
      "8 1\n",
      "8 2\n",
      "8 3\n",
      "8 4\n",
      "8 5\n",
      "8 6\n",
      "8 7\n",
      "8 8\n",
      "8 9\n",
      "9 1\n",
      "9 2\n",
      "9 3\n",
      "9 4\n",
      "9 5\n",
      "9 6\n",
      "9 7\n",
      "9 8\n",
      "9 9\n"
     ]
    }
   ],
   "source": [
    "# while loop inside for loop\n",
    "for i in range(1,10):\n",
    "    j = 1\n",
    "    while j < 10:\n",
    "        print(i, j)\n",
    "        j+=1"
   ]
  },
  {
   "cell_type": "code",
   "execution_count": 82,
   "metadata": {},
   "outputs": [
    {
     "name": "stdout",
     "output_type": "stream",
     "text": [
      "0\n",
      "1\n",
      "2\n"
     ]
    }
   ],
   "source": [
    "i = 0\n",
    "while i < 5:\n",
    "    print(i)\n",
    "    i += 1\n",
    "    if i == 3:\n",
    "        break\n",
    "else:\n",
    "    print(0)"
   ]
  },
  {
   "cell_type": "code",
   "execution_count": 1,
   "metadata": {},
   "outputs": [
    {
     "name": "stdout",
     "output_type": "stream",
     "text": [
      "This is iteration no.  1\n",
      "This is iteration no.  2\n",
      "This is iteration no.  3\n",
      "This is iteration no.  4\n",
      "This is iteration no.  6\n",
      "This is iteration no.  7\n"
     ]
    }
   ],
   "source": [
    "#continue, break, pass\n",
    "for i in range(1,11):\n",
    "\n",
    "  if i==1:\n",
    "    pass\n",
    "  if i==5:\n",
    "    continue\n",
    "  if i==8:\n",
    "    break\n",
    "  print (\"This is iteration no. \", i)"
   ]
  },
  {
   "cell_type": "markdown",
   "metadata": {},
   "source": [
    "# enumerate function"
   ]
  },
  {
   "cell_type": "code",
   "execution_count": 19,
   "metadata": {},
   "outputs": [
    {
     "name": "stdout",
     "output_type": "stream",
     "text": [
      "5\n",
      "56\n",
      "71\n",
      "89\n",
      "45\n",
      "We are learning pythin \n",
      "67\n",
      "90\n",
      "34\n",
      "78\n",
      "98\n"
     ]
    }
   ],
   "source": [
    "marks=[5,56,71,89,45,67,90,34,78,98]\n",
    "index=0\n",
    "for mark in marks:\n",
    "    if (index==5):\n",
    "        print(\"We are learning pythin \")\n",
    "    print(mark)\n",
    "    index +=1"
   ]
  },
  {
   "cell_type": "code",
   "execution_count": 21,
   "metadata": {},
   "outputs": [
    {
     "name": "stdout",
     "output_type": "stream",
     "text": [
      "5\n",
      "56\n",
      "71\n",
      "89\n",
      "45\n",
      "We are learning pythin \n",
      "67\n",
      "90\n",
      "34\n",
      "78\n",
      "98\n"
     ]
    }
   ],
   "source": [
    "# but we can do it with enumerate function more easily\n",
    "marks=[5,56,71,89,45,67,90,34,78,98]\n",
    "for index, mark in enumerate (marks):\n",
    "    if (index==5):\n",
    "        print(\"We are learning pythin \")\n",
    "    print(mark)\n"
   ]
  },
  {
   "cell_type": "code",
   "execution_count": 22,
   "metadata": {},
   "outputs": [
    {
     "name": "stdout",
     "output_type": "stream",
     "text": [
      "5\n",
      "56\n",
      "71\n",
      "89\n",
      "We are learning pythin \n",
      "45\n",
      "67\n",
      "90\n",
      "34\n",
      "78\n",
      "98\n"
     ]
    }
   ],
   "source": [
    "# but we can do it with enumerate function more easily\n",
    "marks=[5,56,71,89,45,67,90,34,78,98]\n",
    "for index, mark in enumerate (marks, start=1):\n",
    "    if (index==5):\n",
    "        print(\"We are learning pythin \")\n",
    "    print(mark)"
   ]
  },
  {
   "cell_type": "markdown",
   "metadata": {},
   "source": [
    "# Functions"
   ]
  },
  {
   "cell_type": "markdown",
   "metadata": {},
   "source": [
    "# def function\n",
    "In most programming languages, including Python, the def keyword is used to define a function. A function is a block of reusable code that performs a specific task or a set of tasks. Functions are a fundamental concept in programming as they allow you to organize code into modular and reusable units.\n"
   ]
  },
  {
   "cell_type": "markdown",
   "metadata": {},
   "source": [
    "# lambda function\n",
    "In Python, a lambda function is a concise way to create anonymous (unnamed) functions. Lambda functions are also known as anonymous functions or lambda expressions. They are defined using the lambda keyword and can take any number of parameters.\\\n",
    "It's important to note that while lambda functions are useful for certain situations, they are limited compared to named functions. Lambda functions are best suited for simple operations, and for more complex functionality, it is often more readable and maintainable to use a regular named function.\n"
   ]
  },
  {
   "cell_type": "code",
   "execution_count": 22,
   "metadata": {},
   "outputs": [
    {
     "name": "stdout",
     "output_type": "stream",
     "text": [
      "25\n"
     ]
    }
   ],
   "source": [
    "def square(number):\n",
    "    return number*number\n",
    "print(square(5))"
   ]
  },
  {
   "cell_type": "code",
   "execution_count": 23,
   "metadata": {},
   "outputs": [
    {
     "name": "stdout",
     "output_type": "stream",
     "text": [
      "5\n"
     ]
    }
   ],
   "source": [
    "def add(a,b):\n",
    "    return a+b\n",
    "print(add(2,3))"
   ]
  },
  {
   "cell_type": "code",
   "execution_count": 31,
   "metadata": {},
   "outputs": [
    {
     "name": "stdout",
     "output_type": "stream",
     "text": [
      "5040\n",
      "720\n",
      "120\n",
      "24\n"
     ]
    }
   ],
   "source": [
    "# Factorial\n",
    "print(7*6*5*4*3*2*1)\n",
    "print(6*5*4*3*2*1)\n",
    "print(5*4*3*2*1)\n",
    "# factorial of 0 is 1 by definition\n",
    "print(4*3*2*1)\n",
    "# so we can write that\n",
    "# factorial (n)=n*factorial(n-1)"
   ]
  },
  {
   "cell_type": "code",
   "execution_count": 32,
   "metadata": {},
   "outputs": [],
   "source": [
    "# Now we can make a function for factorial\n",
    "def factorial (n):\n",
    "    if n==0 or n==1:\n",
    "        return 1\n",
    "    else:\n",
    "        return n*factorial(n-1)"
   ]
  },
  {
   "cell_type": "code",
   "execution_count": 34,
   "metadata": {},
   "outputs": [
    {
     "data": {
      "text/plain": [
       "6"
      ]
     },
     "execution_count": 34,
     "metadata": {},
     "output_type": "execute_result"
    }
   ],
   "source": [
    "factorial(3)"
   ]
  },
  {
   "cell_type": "code",
   "execution_count": 20,
   "metadata": {},
   "outputs": [
    {
     "name": "stdout",
     "output_type": "stream",
     "text": [
      "125\n"
     ]
    }
   ],
   "source": [
    "\n",
    "# pass a function into a function\n",
    "def cube (number):\n",
    "    return number**3\n",
    "print(cube(5))\n",
    "# use this function in another function is given below"
   ]
  },
  {
   "cell_type": "code",
   "execution_count": 21,
   "metadata": {},
   "outputs": [
    {
     "name": "stdout",
     "output_type": "stream",
     "text": [
      "70\n"
     ]
    }
   ],
   "source": [
    "\n",
    "def apply(fx, value):\n",
    "    return 6+ fx(value)\n",
    "print (apply(cube, 4))"
   ]
  },
  {
   "cell_type": "markdown",
   "metadata": {},
   "source": [
    "# Lambda function"
   ]
  },
  {
   "cell_type": "code",
   "execution_count": 3,
   "metadata": {},
   "outputs": [
    {
     "name": "stdout",
     "output_type": "stream",
     "text": [
      "10\n",
      "14\n"
     ]
    }
   ],
   "source": [
    "def double(x):\n",
    "    return x*2\n",
    "print(double(5))\n",
    "print(double(7))"
   ]
  },
  {
   "cell_type": "code",
   "execution_count": 4,
   "metadata": {},
   "outputs": [
    {
     "name": "stdout",
     "output_type": "stream",
     "text": [
      "10\n"
     ]
    }
   ],
   "source": [
    "# We can write this function as\n",
    "double=lambda x: x*2\n",
    "print(double(5))"
   ]
  },
  {
   "cell_type": "code",
   "execution_count": 16,
   "metadata": {},
   "outputs": [
    {
     "name": "stdout",
     "output_type": "stream",
     "text": [
      "64\n"
     ]
    }
   ],
   "source": [
    "cube=lambda x: x**3\n",
    "print(cube(4))"
   ]
  },
  {
   "cell_type": "code",
   "execution_count": 85,
   "metadata": {},
   "outputs": [
    {
     "name": "stdout",
     "output_type": "stream",
     "text": [
      "5\n"
     ]
    }
   ],
   "source": [
    "# Lambda function\n",
    "x = lambda a,b:a+b\n",
    "print(x(2,3))"
   ]
  },
  {
   "cell_type": "code",
   "execution_count": 86,
   "metadata": {},
   "outputs": [
    {
     "name": "stdout",
     "output_type": "stream",
     "text": [
      "10\n"
     ]
    }
   ],
   "source": [
    "x=lambda a: a*5\n",
    "print(x(2))"
   ]
  },
  {
   "cell_type": "code",
   "execution_count": 87,
   "metadata": {},
   "outputs": [
    {
     "name": "stdout",
     "output_type": "stream",
     "text": [
      "9\n"
     ]
    }
   ],
   "source": [
    "x=lambda a,b,c: a+b+c\n",
    "print(x(2,3,4))"
   ]
  },
  {
   "cell_type": "code",
   "execution_count": 88,
   "metadata": {},
   "outputs": [],
   "source": [
    "# pip install openpyxl"
   ]
  },
  {
   "cell_type": "markdown",
   "metadata": {},
   "source": [
    "# Map function"
   ]
  },
  {
   "cell_type": "code",
   "execution_count": null,
   "metadata": {},
   "outputs": [],
   "source": [
    "def cube (x):\n",
    "    return x**3\n",
    "# Now we can use this function in map function\n",
    "l=[1,3,4,5,8,15]\n",
    "for i in l:\n",
    "    print(cube(i))"
   ]
  },
  {
   "cell_type": "code",
   "execution_count": 4,
   "metadata": {},
   "outputs": [
    {
     "name": "stdout",
     "output_type": "stream",
     "text": [
      "125\n",
      "[1]\n",
      "[1, 27]\n",
      "[1, 27, 64]\n",
      "[1, 27, 64, 125]\n",
      "[1, 27, 64, 125, 512]\n",
      "[1, 27, 64, 125, 512, 3375]\n"
     ]
    }
   ],
   "source": [
    "def cube (x):\n",
    "    return x**3\n",
    "print(cube(5))\n",
    "# Now we can use this function in map function\n",
    "l=[1,3,4,5,8,15]\n",
    "list=[]\n",
    "for i in l:\n",
    "    list.append(cube(i))\n",
    "    print(list)"
   ]
  },
  {
   "cell_type": "code",
   "execution_count": 2,
   "metadata": {},
   "outputs": [
    {
     "name": "stdout",
     "output_type": "stream",
     "text": [
      "[1, 27, 64, 125, 512, 3375]\n"
     ]
    }
   ],
   "source": [
    "def cube (x):\n",
    "    return x**3\n",
    "my_list = [1, 3, 4, 5, 8, 15]\n",
    "new_list = list(map(cube, my_list))\n",
    "print(new_list)\n"
   ]
  },
  {
   "cell_type": "markdown",
   "metadata": {},
   "source": [
    "# Filter function"
   ]
  },
  {
   "cell_type": "code",
   "execution_count": 6,
   "metadata": {},
   "outputs": [
    {
     "data": {
      "text/plain": [
       "[4, 5, 8, 15]"
      ]
     },
     "execution_count": 6,
     "metadata": {},
     "output_type": "execute_result"
    }
   ],
   "source": [
    "# Filter function\n",
    "def filter_function (a):\n",
    "    return a>3\n",
    "list(filter(filter_function,my_list))\n"
   ]
  },
  {
   "cell_type": "markdown",
   "metadata": {},
   "source": [
    "# Classes and objects"
   ]
  },
  {
   "cell_type": "code",
   "execution_count": 16,
   "metadata": {},
   "outputs": [],
   "source": [
    "# Class is a blueprint for creating objects. An object has properties and methods(functions) associated with it. Almost everything in Python is an object, with its properties and methods. A Class is like an object constructor, or a \"blueprint\" for creating objects."
   ]
  },
  {
   "cell_type": "code",
   "execution_count": 6,
   "metadata": {},
   "outputs": [],
   "source": [
    "class person:\n",
    "    name=\"Adeel\"\n",
    "    Occupation=\"Lecturer\"\n",
    "    networth=\"1M PKR\"\n",
    "    "
   ]
  },
  {
   "cell_type": "code",
   "execution_count": 11,
   "metadata": {},
   "outputs": [
    {
     "name": "stdout",
     "output_type": "stream",
     "text": [
      "Adeel munir Data Scientist\n"
     ]
    }
   ],
   "source": [
    "a= person()\n",
    "a.name=\"Adeel munir\"\n",
    "a.Occupation=\"Data Scientist\"\n",
    "print (a.name, a.Occupation)"
   ]
  },
  {
   "cell_type": "code",
   "execution_count": 13,
   "metadata": {},
   "outputs": [],
   "source": [
    "class person:\n",
    "    name=\"Adeel\"\n",
    "    Occupation=\"Lecturer\"\n",
    "    networth=\"1M PKR\"\n",
    "    def info(self):\n",
    "        return f\"{self.name} is a {self.Occupation} and his networth is {self.networth}\""
   ]
  },
  {
   "cell_type": "code",
   "execution_count": 15,
   "metadata": {},
   "outputs": [
    {
     "data": {
      "text/plain": [
       "'Adeel is a Lecturer and his networth is 1M PKR'"
      ]
     },
     "execution_count": 15,
     "metadata": {},
     "output_type": "execute_result"
    }
   ],
   "source": [
    "a= person()\n",
    "a.info()"
   ]
  },
  {
   "cell_type": "code",
   "execution_count": 17,
   "metadata": {},
   "outputs": [
    {
     "data": {
      "text/plain": [
       "'Ali is a HR and his networth is 2M PKR'"
      ]
     },
     "execution_count": 17,
     "metadata": {},
     "output_type": "execute_result"
    }
   ],
   "source": [
    "a= person()\n",
    "b= person()\n",
    "b.name=\"Ali\"\n",
    "b.Occupation=\"HR\"\n",
    "b.networth=\"2M PKR\"\n",
    "b.info()"
   ]
  },
  {
   "cell_type": "markdown",
   "metadata": {},
   "source": [
    "# Constructor\n",
    "In summary, constructors make object creation more structured, clear, and error-free. They allow you to set up objects with the necessary initial values and provide consistency across your code"
   ]
  },
  {
   "cell_type": "code",
   "execution_count": 1,
   "metadata": {},
   "outputs": [
    {
     "name": "stdout",
     "output_type": "stream",
     "text": [
      "Car: 2021 Toyota Corolla\n"
     ]
    }
   ],
   "source": [
    "class Car:\n",
    "    # Constructor method to initialize attributes\n",
    "    def __init__(self, brand, model, year):\n",
    "        self.brand = brand  # 'self' refers to the instance of the object\n",
    "        self.model = model\n",
    "        self.year = year\n",
    "\n",
    "    # Method to display car details\n",
    "    def car_details(self):\n",
    "        print(f\"Car: {self.year} {self.brand} {self.model}\")\n",
    "\n",
    "# Creating an object of Car class\n",
    "my_car = Car(\"Toyota\", \"Corolla\", 2021)\n",
    "\n",
    "# Accessing the car's details\n",
    "my_car.car_details()\n",
    "\n"
   ]
  }
 ],
 "metadata": {
  "kernelspec": {
   "display_name": "base",
   "language": "python",
   "name": "python3"
  },
  "language_info": {
   "codemirror_mode": {
    "name": "ipython",
    "version": 3
   },
   "file_extension": ".py",
   "mimetype": "text/x-python",
   "name": "python",
   "nbconvert_exporter": "python",
   "pygments_lexer": "ipython3",
   "version": "3.11.5"
  }
 },
 "nbformat": 4,
 "nbformat_minor": 2
}
