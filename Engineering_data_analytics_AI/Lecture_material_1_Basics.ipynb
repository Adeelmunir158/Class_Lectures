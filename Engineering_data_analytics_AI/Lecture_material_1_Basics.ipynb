{
 "cells": [
  {
   "cell_type": "code",
   "execution_count": 551,
   "metadata": {},
   "outputs": [
    {
     "name": "stdout",
     "output_type": "stream",
     "text": [
      "Hello World\n"
     ]
    }
   ],
   "source": [
    "print(\"Hello World\")"
   ]
  },
  {
   "cell_type": "code",
   "execution_count": 552,
   "metadata": {},
   "outputs": [
    {
     "name": "stdout",
     "output_type": "stream",
     "text": [
      "5\n"
     ]
    }
   ],
   "source": [
    "print(2+3)\n"
   ]
  },
  {
   "cell_type": "code",
   "execution_count": 553,
   "metadata": {},
   "outputs": [
    {
     "name": "stdout",
     "output_type": "stream",
     "text": [
      "We are learning Python with Adeel\n"
     ]
    }
   ],
   "source": [
    "print(\"We are learning Python with Adeel\")\n"
   ]
  },
  {
   "cell_type": "markdown",
   "metadata": {},
   "source": [
    "# Operations in python"
   ]
  },
  {
   "cell_type": "code",
   "execution_count": 554,
   "metadata": {},
   "outputs": [
    {
     "name": "stdout",
     "output_type": "stream",
     "text": [
      "3\n"
     ]
    }
   ],
   "source": [
    "print(2+1)\n"
   ]
  },
  {
   "cell_type": "code",
   "execution_count": 555,
   "metadata": {},
   "outputs": [
    {
     "name": "stdout",
     "output_type": "stream",
     "text": [
      "-1\n"
     ]
    }
   ],
   "source": [
    "print(4-5)\n"
   ]
  },
  {
   "cell_type": "code",
   "execution_count": 556,
   "metadata": {},
   "outputs": [
    {
     "name": "stdout",
     "output_type": "stream",
     "text": [
      "15\n"
     ]
    }
   ],
   "source": [
    "print(5*3)\n"
   ]
  },
  {
   "cell_type": "code",
   "execution_count": 557,
   "metadata": {},
   "outputs": [
    {
     "name": "stdout",
     "output_type": "stream",
     "text": [
      "2.0\n"
     ]
    }
   ],
   "source": [
    "print(4/2)\n"
   ]
  },
  {
   "cell_type": "code",
   "execution_count": 558,
   "metadata": {},
   "outputs": [
    {
     "name": "stdout",
     "output_type": "stream",
     "text": [
      "2\n"
     ]
    }
   ],
   "source": [
    "print(17%3) #(Remainder)\n"
   ]
  },
  {
   "cell_type": "code",
   "execution_count": 559,
   "metadata": {},
   "outputs": [
    {
     "name": "stdout",
     "output_type": "stream",
     "text": [
      "3\n"
     ]
    }
   ],
   "source": [
    "print(7//2) #(No floating value)\n"
   ]
  },
  {
   "cell_type": "code",
   "execution_count": 560,
   "metadata": {},
   "outputs": [
    {
     "name": "stdout",
     "output_type": "stream",
     "text": [
      "81\n"
     ]
    }
   ],
   "source": [
    "print(3**4) #(Power function)\n"
   ]
  },
  {
   "cell_type": "code",
   "execution_count": 561,
   "metadata": {},
   "outputs": [
    {
     "name": "stdout",
     "output_type": "stream",
     "text": [
      "8.0\n"
     ]
    }
   ],
   "source": [
    "print(3**2/2*4/3+5-3) # PEMDAS"
   ]
  },
  {
   "cell_type": "markdown",
   "metadata": {},
   "source": [
    "# Variables\n",
    "Variable is a name that refers to a value. The value can be changed, hence the name variable. In Python, variables can be declared and values can be assigned to it as follows: These are the types of variables in Python:\n",
    "\n",
    "Numbers\\\n",
    "String\\\n",
    "List\\\n",
    "Tuple\\\n",
    "Dictionary\\\n",
    "Set\\\n",
    "Boolean\\"
   ]
  },
  {
   "cell_type": "code",
   "execution_count": 562,
   "metadata": {},
   "outputs": [
    {
     "data": {
      "text/plain": [
       "'Hello World'"
      ]
     },
     "execution_count": 562,
     "metadata": {},
     "output_type": "execute_result"
    }
   ],
   "source": [
    "a= \"Hello World\" \n",
    "a"
   ]
  },
  {
   "cell_type": "code",
   "execution_count": 563,
   "metadata": {},
   "outputs": [
    {
     "name": "stdout",
     "output_type": "stream",
     "text": [
      "21\n"
     ]
    }
   ],
   "source": [
    "age = 20\n",
    "age = age + 1\n",
    "print(age)"
   ]
  },
  {
   "cell_type": "code",
   "execution_count": 564,
   "metadata": {},
   "outputs": [
    {
     "name": "stdout",
     "output_type": "stream",
     "text": [
      "14\n",
      "8\n",
      "33\n",
      "3.6666666666666665\n",
      "2\n",
      "1331\n",
      "3\n"
     ]
    }
   ],
   "source": [
    "#Arithematic Operation in Python\n",
    "a=11;b=3\n",
    "print(a+b)\n",
    "print(a-b)\n",
    "print(a*b)\n",
    "print(a/b)\n",
    "print(a%b)\n",
    "print(a**b)\n",
    "print(a//b) # No floating function"
   ]
  },
  {
   "cell_type": "code",
   "execution_count": 565,
   "metadata": {},
   "outputs": [
    {
     "name": "stdout",
     "output_type": "stream",
     "text": [
      "False\n",
      "False\n",
      "True\n",
      "True\n",
      "False\n",
      "True\n"
     ]
    }
   ],
   "source": [
    "#Comparision Operation in Python\n",
    "a=11;b=11\n",
    "print(a>b)\n",
    "print(a<b)\n",
    "print(a>=b)\n",
    "print(a<=b)\n",
    "print(a!=b)\n",
    "print(a==b)"
   ]
  },
  {
   "cell_type": "code",
   "execution_count": 566,
   "metadata": {},
   "outputs": [
    {
     "name": "stdout",
     "output_type": "stream",
     "text": [
      "2\n",
      "4\n"
     ]
    }
   ],
   "source": [
    "#Assignment Operators (=, +=, -=, *= .....)\n",
    "a=2\n",
    "print(a)\n",
    "a*=2; # a= a*2\n",
    "print(a)"
   ]
  },
  {
   "cell_type": "code",
   "execution_count": 567,
   "metadata": {},
   "outputs": [
    {
     "data": {
      "text/plain": [
       "'We are learning Python with Adeel'"
      ]
     },
     "execution_count": 567,
     "metadata": {},
     "output_type": "execute_result"
    }
   ],
   "source": [
    "b = \"We are learning Python with Adeel\" \n",
    "b"
   ]
  },
  {
   "cell_type": "code",
   "execution_count": 568,
   "metadata": {},
   "outputs": [],
   "source": [
    "c= 20 #int"
   ]
  },
  {
   "cell_type": "code",
   "execution_count": 569,
   "metadata": {},
   "outputs": [
    {
     "data": {
      "text/plain": [
       "20.5"
      ]
     },
     "execution_count": 569,
     "metadata": {},
     "output_type": "execute_result"
    }
   ],
   "source": [
    "d = 20.5 #float\n",
    "d"
   ]
  },
  {
   "cell_type": "markdown",
   "metadata": {},
   "source": [
    "# Data Types in Python\n",
    "Text: str #String\\\n",
    "Numeric: int, float\\\n",
    "Sequence: list, tuple, range\\\n",
    "Mapping: dictionary\\\n",
    "Set: set\\\n",
    "Boolean: bool #True/ False"
   ]
  },
  {
   "cell_type": "markdown",
   "metadata": {},
   "source": [
    "## String"
   ]
  },
  {
   "cell_type": "code",
   "execution_count": 570,
   "metadata": {},
   "outputs": [
    {
     "name": "stdout",
     "output_type": "stream",
     "text": [
      "My name is {Adeel} and i am from {Lahore}\n"
     ]
    }
   ],
   "source": [
    "string=\"My name is {Adeel} and i am from {Lahore}\"\n",
    "print(string)   \n"
   ]
  },
  {
   "cell_type": "markdown",
   "metadata": {},
   "source": [
    "# What is an f-string in Python?\n",
    "An f-string (formatted string literal) is a way to embed expressions inside string literals, introduced in Python 3.6. By prefixing a string with f or F, you can include variables, expressions, or function calls directly within the string, enclosed in curly braces {}."
   ]
  },
  {
   "cell_type": "code",
   "execution_count": 571,
   "metadata": {},
   "outputs": [
    {
     "name": "stdout",
     "output_type": "stream",
     "text": [
      "My name is Adeel and I am from Lahore\n"
     ]
    }
   ],
   "source": [
    "string=\"My name is {0} and I am from {1}\"\n",
    "Name=\"Adeel\"\n",
    "City=\"Lahore\"\n",
    "print(string.format(Name,City))"
   ]
  },
  {
   "cell_type": "code",
   "execution_count": 572,
   "metadata": {},
   "outputs": [
    {
     "name": "stdout",
     "output_type": "stream",
     "text": [
      "My name is Adeel and i am from Lahore\n"
     ]
    }
   ],
   "source": [
    "string=(f\"My name is {Name} and i am from {City}\")\n",
    "print(string)"
   ]
  },
  {
   "cell_type": "code",
   "execution_count": 573,
   "metadata": {},
   "outputs": [
    {
     "name": "stdout",
     "output_type": "stream",
     "text": [
      "The price of the product is {price:.2f}\n"
     ]
    }
   ],
   "source": [
    "price=50.5235656\n",
    "print(\"The price of the product is {price:.2f}\")"
   ]
  },
  {
   "cell_type": "code",
   "execution_count": 574,
   "metadata": {},
   "outputs": [
    {
     "name": "stdout",
     "output_type": "stream",
     "text": [
      "The price of the product is 50.524\n"
     ]
    }
   ],
   "source": [
    "price=50.5235656\n",
    "print(f\"The price of the product is {price:.3f}\")"
   ]
  },
  {
   "cell_type": "code",
   "execution_count": 575,
   "metadata": {},
   "outputs": [
    {
     "data": {
      "text/plain": [
       "['apple', 'banana', 'orange', 20.5, True, 15]"
      ]
     },
     "execution_count": 575,
     "metadata": {},
     "output_type": "execute_result"
    }
   ],
   "source": [
    "e = [\"apple\",\"banana\",\"orange\",20.5,True,15] #list\n",
    "e"
   ]
  },
  {
   "cell_type": "code",
   "execution_count": 576,
   "metadata": {},
   "outputs": [
    {
     "data": {
      "text/plain": [
       "('apple', 'banana', 'orange', 20.5, True, 15)"
      ]
     },
     "execution_count": 576,
     "metadata": {},
     "output_type": "execute_result"
    }
   ],
   "source": [
    "f = (\"apple\",\"banana\",\"orange\",20.5,True,15) #tuple\n",
    "f"
   ]
  },
  {
   "cell_type": "code",
   "execution_count": 577,
   "metadata": {},
   "outputs": [
    {
     "data": {
      "text/plain": [
       "{'name': 'Abdul Hannan', 'age': 27, 'weight': 76.5, 'height': 167.5}"
      ]
     },
     "execution_count": 577,
     "metadata": {},
     "output_type": "execute_result"
    }
   ],
   "source": [
    "g = {\"name\":\"Abdul Hannan\",\"age\":27,\"weight\":76.5,\"height\":167.5} #dict\n",
    "g"
   ]
  },
  {
   "cell_type": "code",
   "execution_count": 578,
   "metadata": {},
   "outputs": [
    {
     "name": "stdout",
     "output_type": "stream",
     "text": [
      "P\n",
      "s\n",
      "Pakis\n"
     ]
    }
   ],
   "source": [
    "a=\"Pakistan\"\n",
    "print(a[0])\n",
    "print(a[4])\n",
    "print(a[0:5])"
   ]
  },
  {
   "cell_type": "code",
   "execution_count": 579,
   "metadata": {},
   "outputs": [
    {
     "name": "stdout",
     "output_type": "stream",
     "text": [
      "zeshan\n",
      "ZESHAN\n",
      "zeshen\n"
     ]
    }
   ],
   "source": [
    "x=\"zeshan\"\n",
    "print(x)\n",
    "print(x.upper())\n",
    "print(x.replace(\"a\",\"e\"))"
   ]
  },
  {
   "cell_type": "code",
   "execution_count": 580,
   "metadata": {},
   "outputs": [
    {
     "name": "stdout",
     "output_type": "stream",
     "text": [
      "Pakista\n",
      "akistan\n",
      "stan\n",
      "Pakis\n"
     ]
    }
   ],
   "source": [
    "print(a[:7])\n",
    "print(a[1:])\n",
    "print(a[-4:]) \n",
    "print(a[:-3])                        "
   ]
  },
  {
   "cell_type": "markdown",
   "metadata": {},
   "source": [
    "# Lists[]\n",
    "\n",
    "Ordered collection of elements\\\n",
    "Enclosed in [] brackets\\\n",
    "Mutable\\\n",
    "Lists allow duplicate elements, and the order in which elements are added is preserved."
   ]
  },
  {
   "cell_type": "code",
   "execution_count": 581,
   "metadata": {},
   "outputs": [
    {
     "data": {
      "text/plain": [
       "[2, 5, 63, 25, 21, 33, 65, 9, 89, 8, 25]"
      ]
     },
     "execution_count": 581,
     "metadata": {},
     "output_type": "execute_result"
    }
   ],
   "source": [
    "list1=[2,5,63,25,21,33,65,9,89,8,25]\n",
    "list1"
   ]
  },
  {
   "cell_type": "code",
   "execution_count": 582,
   "metadata": {},
   "outputs": [
    {
     "data": {
      "text/plain": [
       "[2, 5, 8, 9, 21, 25, 25, 33, 63, 65, 89]"
      ]
     },
     "execution_count": 582,
     "metadata": {},
     "output_type": "execute_result"
    }
   ],
   "source": [
    "list1.sort()\n",
    "list1"
   ]
  },
  {
   "cell_type": "code",
   "execution_count": 583,
   "metadata": {},
   "outputs": [
    {
     "data": {
      "text/plain": [
       "[89, 65, 63, 33, 25, 25, 21, 9, 8, 5, 2]"
      ]
     },
     "execution_count": 583,
     "metadata": {},
     "output_type": "execute_result"
    }
   ],
   "source": [
    "list1.sort(reverse=True)\n",
    "list1"
   ]
  },
  {
   "cell_type": "code",
   "execution_count": 584,
   "metadata": {},
   "outputs": [
    {
     "name": "stdout",
     "output_type": "stream",
     "text": [
      "2\n"
     ]
    }
   ],
   "source": [
    "print(list1.count(25))"
   ]
  },
  {
   "cell_type": "code",
   "execution_count": 585,
   "metadata": {},
   "outputs": [
    {
     "data": {
      "text/plain": [
       "11"
      ]
     },
     "execution_count": 585,
     "metadata": {},
     "output_type": "execute_result"
    }
   ],
   "source": [
    "len(list1)"
   ]
  },
  {
   "cell_type": "code",
   "execution_count": 586,
   "metadata": {},
   "outputs": [
    {
     "data": {
      "text/plain": [
       "[89,\n",
       " 65,\n",
       " 63,\n",
       " 33,\n",
       " 25,\n",
       " 25,\n",
       " 21,\n",
       " 9,\n",
       " 8,\n",
       " 5,\n",
       " 2,\n",
       " 89,\n",
       " 65,\n",
       " 63,\n",
       " 33,\n",
       " 25,\n",
       " 25,\n",
       " 21,\n",
       " 9,\n",
       " 8,\n",
       " 5,\n",
       " 2,\n",
       " 89,\n",
       " 65,\n",
       " 63,\n",
       " 33,\n",
       " 25,\n",
       " 25,\n",
       " 21,\n",
       " 9,\n",
       " 8,\n",
       " 5,\n",
       " 2]"
      ]
     },
     "execution_count": 586,
     "metadata": {},
     "output_type": "execute_result"
    }
   ],
   "source": [
    "list1*3"
   ]
  },
  {
   "cell_type": "code",
   "execution_count": 587,
   "metadata": {},
   "outputs": [
    {
     "data": {
      "text/plain": [
       "[89, 65, 63, 33, 25, 25, 21, 9, 8, 5, 2, 'B']"
      ]
     },
     "execution_count": 587,
     "metadata": {},
     "output_type": "execute_result"
    }
   ],
   "source": [
    "list1.append(\"B\")\n",
    "list1\n"
   ]
  },
  {
   "cell_type": "code",
   "execution_count": 588,
   "metadata": {},
   "outputs": [
    {
     "data": {
      "text/plain": [
       "[89, 65, 63, 33, 25, 'B', 25, 21, 9, 8, 5, 2, 'B']"
      ]
     },
     "execution_count": 588,
     "metadata": {},
     "output_type": "execute_result"
    }
   ],
   "source": [
    "# To add the B in the middle of list\n",
    "list1.insert(5,\"B\")\n",
    "list1"
   ]
  },
  {
   "cell_type": "code",
   "execution_count": 589,
   "metadata": {},
   "outputs": [
    {
     "data": {
      "text/plain": [
       "[89, 65, 63, 33, 25, 25, 21, 9, 8, 5, 2, 'B']"
      ]
     },
     "execution_count": 589,
     "metadata": {},
     "output_type": "execute_result"
    }
   ],
   "source": [
    "# To remove the B from middle of the list\n",
    "list1.remove(\"B\")\n",
    "list1"
   ]
  },
  {
   "cell_type": "code",
   "execution_count": 590,
   "metadata": {},
   "outputs": [
    {
     "data": {
      "text/plain": [
       "['abc', 'def', 'ghij', 'klm']"
      ]
     },
     "execution_count": 590,
     "metadata": {},
     "output_type": "execute_result"
    }
   ],
   "source": [
    "myList = ['abc', 'def', 'ghij']\n",
    "myList.append('klm')\n",
    "myList"
   ]
  },
  {
   "cell_type": "code",
   "execution_count": 591,
   "metadata": {},
   "outputs": [
    {
     "data": {
      "text/plain": [
       "[1, 2, 3, 4, 5, 6]"
      ]
     },
     "execution_count": 591,
     "metadata": {},
     "output_type": "execute_result"
    }
   ],
   "source": [
    "myList2 = [1,2,3]\n",
    "myList3 = [4,5,6]\n",
    "myList2 + myList3"
   ]
  },
  {
   "cell_type": "markdown",
   "metadata": {},
   "source": [
    "# Dictionaries{}\n",
    "Unordered collection of elements\\\n",
    "Key and Value\\\n",
    "enclosed in {} brackets\\\n",
    "Mutable\n"
   ]
  },
  {
   "cell_type": "code",
   "execution_count": 592,
   "metadata": {},
   "outputs": [
    {
     "data": {
      "text/plain": [
       "{'a': 25, 'b': 65, 'c': 98, 'd': 87}"
      ]
     },
     "execution_count": 592,
     "metadata": {},
     "output_type": "execute_result"
    }
   ],
   "source": [
    "dic1={\"a\":25,\"b\":65,\"c\":98,\"d\":87}\n",
    "dic1"
   ]
  },
  {
   "cell_type": "code",
   "execution_count": 593,
   "metadata": {},
   "outputs": [
    {
     "data": {
      "text/plain": [
       "25"
      ]
     },
     "execution_count": 593,
     "metadata": {},
     "output_type": "execute_result"
    }
   ],
   "source": [
    "dic1.pop(\"a\") # To remove the key from dictionary, pop \n"
   ]
  },
  {
   "cell_type": "code",
   "execution_count": 594,
   "metadata": {},
   "outputs": [
    {
     "data": {
      "text/plain": [
       "{'b': 65, 'c': 98, 'd': 87}"
      ]
     },
     "execution_count": 594,
     "metadata": {},
     "output_type": "execute_result"
    }
   ],
   "source": [
    "dic1"
   ]
  },
  {
   "cell_type": "code",
   "execution_count": 595,
   "metadata": {},
   "outputs": [
    {
     "data": {
      "text/plain": [
       "dict_values([65, 98, 87])"
      ]
     },
     "execution_count": 595,
     "metadata": {},
     "output_type": "execute_result"
    }
   ],
   "source": [
    "dic1.values()"
   ]
  },
  {
   "cell_type": "code",
   "execution_count": 596,
   "metadata": {},
   "outputs": [
    {
     "data": {
      "text/plain": [
       "dict_keys(['b', 'c', 'd'])"
      ]
     },
     "execution_count": 596,
     "metadata": {},
     "output_type": "execute_result"
    }
   ],
   "source": [
    "dic1.keys()"
   ]
  },
  {
   "cell_type": "code",
   "execution_count": 597,
   "metadata": {},
   "outputs": [
    {
     "name": "stdout",
     "output_type": "stream",
     "text": [
      "{'b': 65, 'c': 98, 'd': 87, 'e': 10}\n",
      "{'f': 120, 'g': 110, 'h': 70}\n",
      "{'f': 120, 'g': 110, 'h': 70, 'b': 65, 'c': 98, 'd': 87, 'e': 10}\n"
     ]
    }
   ],
   "source": [
    "dic1[\"e\"]=10\n",
    "print(dic1)\n",
    "dict_2 = {\"f\": 120, \"g\":110,\"h\":70}\n",
    "print(dict_2)\n",
    "dict_2.update(dic1)\n",
    "print(dict_2)\n"
   ]
  },
  {
   "cell_type": "code",
   "execution_count": 598,
   "metadata": {},
   "outputs": [
    {
     "data": {
      "text/plain": [
       "{'Ali': 50, 'Ahmed': 70, 'Hassan': 90, 'Khalid': 80, 'Nasir': 60}"
      ]
     },
     "execution_count": 598,
     "metadata": {},
     "output_type": "execute_result"
    }
   ],
   "source": [
    "# example of dictionary with students names and marks\n",
    "marks = {\"Ali\": 50, \"Ahmed\": 70, \"Hassan\": 90, \"Khalid\": 80, \"Nasir\": 60}\n",
    "marks"
   ]
  },
  {
   "cell_type": "code",
   "execution_count": 599,
   "metadata": {},
   "outputs": [
    {
     "name": "stdout",
     "output_type": "stream",
     "text": [
      "({'first': {'a': 1}, 'second': {'b': 2}}, {'third': {'c': 3}}, {'fourth': {'d': 4}}, {'fifth': {'e': 5}})\n"
     ]
    }
   ],
   "source": [
    "# Example of nested dictionary\n",
    "nested_dict = {\"first\":{\"a\":1},\"second\":{\"b\":2}}, {\"third\":{\"c\":3}}, {\"fourth\":{\"d\":4}}, {\"fifth\":{\"e\":5}}\n",
    "print(nested_dict)"
   ]
  },
  {
   "cell_type": "markdown",
   "metadata": {},
   "source": [
    "# Tuple()\n",
    "Tuples are ordered, maintaining the order of elements.\\\n",
    "Enclosed in () braces\\\n",
    "Different kind of elements can be stored\\\n",
    "Immutable\\\n",
    "Allow Duplicates\n"
   ]
  },
  {
   "cell_type": "code",
   "execution_count": 600,
   "metadata": {},
   "outputs": [
    {
     "data": {
      "text/plain": [
       "(2, 'Pak', True, 4.3)"
      ]
     },
     "execution_count": 600,
     "metadata": {},
     "output_type": "execute_result"
    }
   ],
   "source": [
    "tup_1=(2,\"Pak\",True,4.3)\n",
    "tup_1"
   ]
  },
  {
   "cell_type": "code",
   "execution_count": 601,
   "metadata": {},
   "outputs": [
    {
     "data": {
      "text/plain": [
       "(4, 'Pakistan', False, 3.6)"
      ]
     },
     "execution_count": 601,
     "metadata": {},
     "output_type": "execute_result"
    }
   ],
   "source": [
    "tup_2=(4,\"Pakistan\",False,3.6)\n",
    "tup_2"
   ]
  },
  {
   "cell_type": "code",
   "execution_count": 602,
   "metadata": {},
   "outputs": [
    {
     "data": {
      "text/plain": [
       "(2, 'Pak', True, 4.3, 4, 'Pakistan', False, 3.6)"
      ]
     },
     "execution_count": 602,
     "metadata": {},
     "output_type": "execute_result"
    }
   ],
   "source": [
    "tup_1+tup_2"
   ]
  },
  {
   "cell_type": "code",
   "execution_count": 603,
   "metadata": {},
   "outputs": [
    {
     "data": {
      "text/plain": [
       "(2, 'Pak', True, 4.3, 2, 'Pak', True, 4.3, 4, 'Pakistan', False, 3.6)"
      ]
     },
     "execution_count": 603,
     "metadata": {},
     "output_type": "execute_result"
    }
   ],
   "source": [
    "tup_1*2+tup_2"
   ]
  },
  {
   "cell_type": "code",
   "execution_count": 604,
   "metadata": {},
   "outputs": [
    {
     "data": {
      "text/plain": [
       "(40, 33, 45, 76, 87, 98, 34, 65, 89)"
      ]
     },
     "execution_count": 604,
     "metadata": {},
     "output_type": "execute_result"
    }
   ],
   "source": [
    "tup_3=(40,33,45,76,87,98,34,65,89)\n",
    "tup_3"
   ]
  },
  {
   "cell_type": "code",
   "execution_count": 605,
   "metadata": {},
   "outputs": [
    {
     "name": "stdout",
     "output_type": "stream",
     "text": [
      "98\n",
      "33\n"
     ]
    }
   ],
   "source": [
    "print(max(tup_3))\n",
    "print(min(tup_3))\n"
   ]
  },
  {
   "cell_type": "code",
   "execution_count": 606,
   "metadata": {},
   "outputs": [
    {
     "data": {
      "text/plain": [
       "2.5"
      ]
     },
     "execution_count": 606,
     "metadata": {},
     "output_type": "execute_result"
    }
   ],
   "source": [
    "import numpy as np\n",
    "myTuple = ('abc', np.arange(0,3,0.2), 2.5)\n",
    "myTuple[2]\n"
   ]
  },
  {
   "cell_type": "markdown",
   "metadata": {},
   "source": [
    "# Sets()\n",
    "Sets are mutable, meaning you can add or remove elements after the set is created.\\\n",
    "Unordered and Unindexed:Sets are unordered, meaning they do not maintain any specific order of elements.\\\n",
    "No Duplicates Allowed\\\n",
    "enclosed in () brackets\n",
    "\n"
   ]
  },
  {
   "cell_type": "code",
   "execution_count": 607,
   "metadata": {},
   "outputs": [
    {
     "name": "stdout",
     "output_type": "stream",
     "text": [
      "{1, 2, 'lahore', 'islamabad', 5, 'karachi'}\n",
      "{1, 2, 'lahore', 'islamabad', 5, 'patoki', 'karachi'}\n"
     ]
    }
   ],
   "source": [
    "s1={1,2,5,\"karachi\", \"lahore\", \"islamabad\"}\n",
    "print(s1)\n",
    "s1.add(\"patoki\")\n",
    "print(s1)\n"
   ]
  },
  {
   "cell_type": "code",
   "execution_count": 608,
   "metadata": {},
   "outputs": [],
   "source": [
    "cities1={\"karachi\",\"lahore\",\"islamabad\",\"patoki\"}\n",
    "cities2={\"lahore\",\"multan\",\"hyderabad\",\"naran\"}"
   ]
  },
  {
   "cell_type": "code",
   "execution_count": 609,
   "metadata": {},
   "outputs": [
    {
     "data": {
      "text/plain": [
       "{'hyderabad', 'islamabad', 'karachi', 'lahore', 'multan', 'naran', 'patoki'}"
      ]
     },
     "execution_count": 609,
     "metadata": {},
     "output_type": "execute_result"
    }
   ],
   "source": [
    "cities1.union(cities2)"
   ]
  },
  {
   "cell_type": "code",
   "execution_count": 610,
   "metadata": {},
   "outputs": [
    {
     "data": {
      "text/plain": [
       "{'lahore'}"
      ]
     },
     "execution_count": 610,
     "metadata": {},
     "output_type": "execute_result"
    }
   ],
   "source": [
    "cities1.intersection(cities2)"
   ]
  },
  {
   "cell_type": "markdown",
   "metadata": {},
   "source": [
    "# Conditional formatting"
   ]
  },
  {
   "cell_type": "code",
   "execution_count": 611,
   "metadata": {},
   "outputs": [],
   "source": [
    "a=5\n",
    "b=15\n",
    "c=20.5"
   ]
  },
  {
   "cell_type": "code",
   "execution_count": 612,
   "metadata": {},
   "outputs": [
    {
     "name": "stdout",
     "output_type": "stream",
     "text": [
      "a is less than b\n"
     ]
    }
   ],
   "source": [
    "if a<b: \n",
    "       print(\"a is less than b\")"
   ]
  },
  {
   "cell_type": "code",
   "execution_count": 613,
   "metadata": {},
   "outputs": [
    {
     "name": "stdout",
     "output_type": "stream",
     "text": [
      "c is greater than b\n"
     ]
    }
   ],
   "source": [
    "if c<b:\n",
    "    print(\"c is less than b\")\n",
    "else:\n",
    "    print(\"c is greater than b\")"
   ]
  },
  {
   "cell_type": "code",
   "execution_count": 614,
   "metadata": {},
   "outputs": [
    {
     "name": "stdout",
     "output_type": "stream",
     "text": [
      "You should enrol in a school with Form-B.\n"
     ]
    }
   ],
   "source": [
    "age = 6\n",
    "if age >= 18:\n",
    "    print(\"You are eligible to vote.\")\n",
    "elif age <= 5:\n",
    "    print(\"You are still a toddler.\")\n",
    "elif age >=6 and age <= 10:\n",
    "    print(\"You should enrol in a school with Form-B.\")\n",
    "else:\n",
    "    print(\"Abhi chotay ho ap.\")"
   ]
  },
  {
   "cell_type": "code",
   "execution_count": 615,
   "metadata": {},
   "outputs": [
    {
     "name": "stdout",
     "output_type": "stream",
     "text": [
      "Let's prepare some Sheer Khurma.\n"
     ]
    }
   ],
   "source": [
    "occassion = \"Eid-ul_Fitr\"\n",
    "\n",
    "if occassion == \"Eid-ul_Fitr\":\n",
    "    print(\"Let's prepare some Sheer Khurma.\")\n",
    "elif occassion == \"Eid-ul_Adha\":\n",
    "    print(\"Let's prepare some Kebab.\")\n",
    "else:\n",
    "    print(\"It's a normal day. let's have Aalo Gobhi.\")"
   ]
  },
  {
   "cell_type": "markdown",
   "metadata": {},
   "source": [
    "# Nested If statements"
   ]
  },
  {
   "cell_type": "code",
   "execution_count": 616,
   "metadata": {},
   "outputs": [
    {
     "name": "stdout",
     "output_type": "stream",
     "text": [
      "You are not eligible to drive, you need a license.\n"
     ]
    }
   ],
   "source": [
    "age = 18\n",
    "license = False\n",
    "\n",
    "if age >= 18:\n",
    "    if license:\n",
    "        print(\"You are eligible to drive.\")\n",
    "    else:\n",
    "        print(\"You are not eligible to drive, you need a license.\")\n",
    "else:\n",
    "    print(\"You are not eligible to drive.\")"
   ]
  },
  {
   "cell_type": "markdown",
   "metadata": {},
   "source": [
    "# User Input"
   ]
  },
  {
   "cell_type": "code",
   "execution_count": 617,
   "metadata": {},
   "outputs": [],
   "source": [
    "person_a_name=input(\"Enter your name: \")\n",
    "person_a_age=input(\"Enter your age: \")\n",
    "person_b_name=input(\"Enter your name: \")\n",
    "person_b_age=input(\"Enter your age: \")"
   ]
  },
  {
   "cell_type": "code",
   "execution_count": 618,
   "metadata": {},
   "outputs": [
    {
     "name": "stdout",
     "output_type": "stream",
     "text": [
      "asim  is younger than ali\n"
     ]
    }
   ],
   "source": [
    "if person_a_age > person_b_age:\n",
    "    print(person_a_name,\"is older than\", person_b_name)\n",
    "elif person_a_age < person_b_age:\n",
    "    print(person_a_name,\" is younger than\",person_b_name)\n",
    "else:\n",
    "    print(person_a_name,\"is the same age as\",person_b_name)"
   ]
  },
  {
   "cell_type": "markdown",
   "metadata": {},
   "source": [
    "# BMI"
   ]
  },
  {
   "cell_type": "code",
   "execution_count": 619,
   "metadata": {},
   "outputs": [],
   "source": [
    "Height=input(\"Enter your height in cms: \")\n",
    "Height\n",
    "Height=float(Height)"
   ]
  },
  {
   "cell_type": "code",
   "execution_count": 620,
   "metadata": {},
   "outputs": [
    {
     "data": {
      "text/plain": [
       "98.0"
      ]
     },
     "execution_count": 620,
     "metadata": {},
     "output_type": "execute_result"
    }
   ],
   "source": [
    "weight=float(input(\"Enter your weight in kgs: \"))\n",
    "weight"
   ]
  },
  {
   "cell_type": "code",
   "execution_count": 621,
   "metadata": {},
   "outputs": [
    {
     "data": {
      "text/plain": [
       "0.003780718336483932"
      ]
     },
     "execution_count": 621,
     "metadata": {},
     "output_type": "execute_result"
    }
   ],
   "source": [
    "BMI=weight/Height**2\n",
    "BMI"
   ]
  },
  {
   "cell_type": "code",
   "execution_count": 622,
   "metadata": {},
   "outputs": [
    {
     "name": "stdout",
     "output_type": "stream",
     "text": [
      "4 x 1 = 4\n",
      "4 x 2 = 8\n",
      "4 x 3 = 12\n",
      "4 x 4 = 16\n",
      "4 x 5 = 20\n",
      "4 x 6 = 24\n",
      "4 x 7 = 28\n",
      "4 x 8 = 32\n",
      "4 x 9 = 36\n",
      "4 x 10 = 40\n",
      "4 x 11 = 44\n",
      "4 x 12 = 48\n",
      "4 x 13 = 52\n",
      "4 x 14 = 56\n",
      "4 x 15 = 60\n",
      "4 x 16 = 64\n",
      "4 x 17 = 68\n",
      "4 x 18 = 72\n",
      "4 x 19 = 76\n",
      "4 x 20 = 80\n",
      "4 x 21 = 84\n",
      "4 x 22 = 88\n",
      "4 x 23 = 92\n",
      "4 x 24 = 96\n",
      "4 x 25 = 100\n",
      "4 x 26 = 104\n",
      "4 x 27 = 108\n",
      "4 x 28 = 112\n",
      "4 x 29 = 116\n",
      "4 x 30 = 120\n",
      "4 x 31 = 124\n",
      "4 x 32 = 128\n",
      "4 x 33 = 132\n",
      "4 x 34 = 136\n",
      "4 x 35 = 140\n",
      "4 x 36 = 144\n",
      "4 x 37 = 148\n",
      "4 x 38 = 152\n",
      "4 x 39 = 156\n",
      "4 x 40 = 160\n",
      "4 x 41 = 164\n",
      "4 x 42 = 168\n",
      "4 x 43 = 172\n",
      "4 x 44 = 176\n",
      "4 x 45 = 180\n",
      "4 x 46 = 184\n",
      "4 x 47 = 188\n",
      "4 x 48 = 192\n",
      "4 x 49 = 196\n",
      "4 x 50 = 200\n",
      "4 x 51 = 204\n",
      "4 x 52 = 208\n",
      "4 x 53 = 212\n",
      "4 x 54 = 216\n",
      "4 x 55 = 220\n",
      "4 x 56 = 224\n",
      "4 x 57 = 228\n",
      "4 x 58 = 232\n",
      "4 x 59 = 236\n",
      "4 x 60 = 240\n",
      "4 x 61 = 244\n",
      "4 x 62 = 248\n",
      "4 x 63 = 252\n",
      "4 x 64 = 256\n",
      "4 x 65 = 260\n",
      "4 x 66 = 264\n",
      "4 x 67 = 268\n",
      "4 x 68 = 272\n",
      "4 x 69 = 276\n",
      "4 x 70 = 280\n",
      "4 x 71 = 284\n",
      "4 x 72 = 288\n",
      "4 x 73 = 292\n",
      "4 x 74 = 296\n",
      "4 x 75 = 300\n",
      "4 x 76 = 304\n",
      "4 x 77 = 308\n",
      "4 x 78 = 312\n",
      "4 x 79 = 316\n",
      "4 x 80 = 320\n",
      "4 x 81 = 324\n",
      "4 x 82 = 328\n",
      "4 x 83 = 332\n",
      "4 x 84 = 336\n",
      "4 x 85 = 340\n",
      "4 x 86 = 344\n",
      "4 x 87 = 348\n",
      "4 x 88 = 352\n",
      "4 x 89 = 356\n",
      "4 x 90 = 360\n",
      "4 x 91 = 364\n",
      "4 x 92 = 368\n",
      "4 x 93 = 372\n",
      "4 x 94 = 376\n",
      "4 x 95 = 380\n",
      "4 x 96 = 384\n",
      "4 x 97 = 388\n",
      "4 x 98 = 392\n",
      "4 x 99 = 396\n"
     ]
    }
   ],
   "source": [
    "a=input(\"Enter the number: \")\n",
    "for i in range (1,100):\n",
    "    print(a,\"x\",i,\"=\",int(a)*i)"
   ]
  },
  {
   "cell_type": "code",
   "execution_count": 623,
   "metadata": {},
   "outputs": [],
   "source": [
    "# Value errors\n",
    "a=int(input(\"Enter the number between 1 and 10: \"))\n",
    "if a>10 or a<1:\n",
    "    raise ValueError(\"The number is not between 1 and 10\")\n",
    "   \n"
   ]
  },
  {
   "cell_type": "markdown",
   "metadata": {},
   "source": [
    "# Loops\n",
    "Both for and while are control flow statements in programming languages that allow you to create loops, which are used for repeating a block of code multiple times.\\\n",
    "The for loop is typically used when you know in advance how many times you want to iterate, and you have a sequence (list, tuple, string, etc.) to iterate over.\\\n",
    "\n",
    "The while loop is used when you don't know in advance how many times the loop needs to run. It continues iterating as long as the specified condition is True.\\\n",
    "\n",
    "Use a for loop when you know the number of iterations in advance and have a sequence to iterate over. Use a while loop when the number of iterations is not known in advance and is determined by a condition\n"
   ]
  },
  {
   "cell_type": "code",
   "execution_count": 624,
   "metadata": {},
   "outputs": [
    {
     "name": "stdout",
     "output_type": "stream",
     "text": [
      "bacon\n",
      "tuna\n",
      "ham\n",
      "sausages\n",
      "beef\n",
      "eggs\n",
      "chicken\n"
     ]
    }
   ],
   "source": [
    "# For loop\n",
    "foods=['bacon','tuna','ham','sausages','beef','eggs','chicken']\n",
    "for food in foods:\n",
    "\tprint(food)\n"
   ]
  },
  {
   "cell_type": "code",
   "execution_count": 625,
   "metadata": {},
   "outputs": [
    {
     "name": "stdout",
     "output_type": "stream",
     "text": [
      "1\n",
      "2\n",
      "3\n",
      "4\n",
      "5\n",
      "6\n",
      "7\n",
      "8\n",
      "9\n",
      "10\n"
     ]
    }
   ],
   "source": [
    "# write good example of for loop\n",
    "for x in range(1,11):\n",
    "    print(x) "
   ]
  },
  {
   "cell_type": "code",
   "execution_count": 626,
   "metadata": {},
   "outputs": [
    {
     "name": "stdout",
     "output_type": "stream",
     "text": [
      "1\n",
      "3\n",
      "5\n",
      "7\n",
      "9\n"
     ]
    }
   ],
   "source": [
    "for x in range(1,11,2):\n",
    "    print(x)"
   ]
  },
  {
   "cell_type": "code",
   "execution_count": 627,
   "metadata": {},
   "outputs": [
    {
     "name": "stdout",
     "output_type": "stream",
     "text": [
      "1\n",
      "3\n",
      "5\n",
      "7\n",
      "9\n",
      "11\n",
      "13\n",
      "15\n",
      "17\n",
      "19\n"
     ]
    }
   ],
   "source": [
    "# While loop\n",
    "i=1\n",
    "while i<=20:\n",
    "    print(i)\n",
    "    i+=2"
   ]
  },
  {
   "cell_type": "code",
   "execution_count": 628,
   "metadata": {},
   "outputs": [
    {
     "name": "stdout",
     "output_type": "stream",
     "text": [
      "1 is odd\n",
      "2 is even\n",
      "3 is odd\n",
      "4 is even\n",
      "5 is odd\n",
      "6 is even\n",
      "7 is odd\n",
      "8 is even\n",
      "9 is odd\n",
      "10 is even\n"
     ]
    }
   ],
   "source": [
    "# for loop with if else\n",
    "for x in range(1,11):\n",
    "    if x%2==0:\n",
    "        print(x,\"is even\")\n",
    "    else:\n",
    "        print(x,\"is odd\")"
   ]
  },
  {
   "cell_type": "code",
   "execution_count": 629,
   "metadata": {},
   "outputs": [
    {
     "name": "stdout",
     "output_type": "stream",
     "text": [
      "red shirt\n",
      "red hat\n",
      "red socks\n",
      "red pants\n",
      "red jacket\n",
      "red shorts\n",
      "green shirt\n",
      "green hat\n",
      "green socks\n",
      "green pants\n",
      "green jacket\n",
      "green shorts\n",
      "blue shirt\n",
      "blue hat\n",
      "blue socks\n",
      "blue pants\n",
      "blue jacket\n",
      "blue shorts\n",
      "yellow shirt\n",
      "yellow hat\n",
      "yellow socks\n",
      "yellow pants\n",
      "yellow jacket\n",
      "yellow shorts\n",
      "orange shirt\n",
      "orange hat\n",
      "orange socks\n",
      "orange pants\n",
      "orange jacket\n",
      "orange shorts\n",
      "purple shirt\n",
      "purple hat\n",
      "purple socks\n",
      "purple pants\n",
      "purple jacket\n",
      "purple shorts\n"
     ]
    }
   ],
   "source": [
    "# for nested loops\n",
    "colors=[\"red\",\"green\",\"blue\",\"yellow\",\"orange\",\"purple\"]\n",
    "items=[\"shirt\",\"hat\",\"socks\",\"pants\",\"jacket\",\"shorts\"]\n",
    "for color in colors:\n",
    "    for item in items:\n",
    "        print(color,item)"
   ]
  },
  {
   "cell_type": "code",
   "execution_count": 630,
   "metadata": {},
   "outputs": [
    {
     "name": "stdout",
     "output_type": "stream",
     "text": [
      "200\n",
      "220\n",
      "240\n",
      "260\n",
      "280\n",
      "6200\n",
      "6820\n",
      "7440\n",
      "8060\n",
      "8680\n",
      "12200\n",
      "13420\n",
      "14640\n",
      "15860\n",
      "17080\n",
      "18200\n",
      "20020\n",
      "21840\n",
      "23660\n",
      "25480\n"
     ]
    }
   ],
   "source": [
    "for i in range(1,100,30):\n",
    "    for j in range (200,300,20):\n",
    "        print(i*j)"
   ]
  },
  {
   "cell_type": "code",
   "execution_count": 631,
   "metadata": {},
   "outputs": [
    {
     "name": "stdout",
     "output_type": "stream",
     "text": [
      "1 1\n",
      "1 2\n",
      "1 3\n",
      "1 4\n",
      "1 5\n",
      "1 6\n",
      "1 7\n",
      "1 8\n",
      "1 9\n",
      "2 1\n",
      "2 2\n",
      "2 3\n",
      "2 4\n",
      "2 5\n",
      "2 6\n",
      "2 7\n",
      "2 8\n",
      "2 9\n",
      "3 1\n",
      "3 2\n",
      "3 3\n",
      "3 4\n",
      "3 5\n",
      "3 6\n",
      "3 7\n",
      "3 8\n",
      "3 9\n",
      "4 1\n",
      "4 2\n",
      "4 3\n",
      "4 4\n",
      "4 5\n",
      "4 6\n",
      "4 7\n",
      "4 8\n",
      "4 9\n",
      "5 1\n",
      "5 2\n",
      "5 3\n",
      "5 4\n",
      "5 5\n",
      "5 6\n",
      "5 7\n",
      "5 8\n",
      "5 9\n",
      "6 1\n",
      "6 2\n",
      "6 3\n",
      "6 4\n",
      "6 5\n",
      "6 6\n",
      "6 7\n",
      "6 8\n",
      "6 9\n",
      "7 1\n",
      "7 2\n",
      "7 3\n",
      "7 4\n",
      "7 5\n",
      "7 6\n",
      "7 7\n",
      "7 8\n",
      "7 9\n",
      "8 1\n",
      "8 2\n",
      "8 3\n",
      "8 4\n",
      "8 5\n",
      "8 6\n",
      "8 7\n",
      "8 8\n",
      "8 9\n",
      "9 1\n",
      "9 2\n",
      "9 3\n",
      "9 4\n",
      "9 5\n",
      "9 6\n",
      "9 7\n",
      "9 8\n",
      "9 9\n"
     ]
    }
   ],
   "source": [
    "# for loop inside while loop\n",
    "i = 1\n",
    "while i < 10:\n",
    "    for j in range(1,10):\n",
    "        print(i, j)\n",
    "    i+=1"
   ]
  },
  {
   "cell_type": "code",
   "execution_count": 632,
   "metadata": {},
   "outputs": [
    {
     "name": "stdout",
     "output_type": "stream",
     "text": [
      "1 1\n",
      "1 2\n",
      "1 3\n",
      "1 4\n",
      "1 5\n",
      "1 6\n",
      "1 7\n",
      "1 8\n",
      "1 9\n",
      "2 1\n",
      "2 2\n",
      "2 3\n",
      "2 4\n",
      "2 5\n",
      "2 6\n",
      "2 7\n",
      "2 8\n",
      "2 9\n",
      "3 1\n",
      "3 2\n",
      "3 3\n",
      "3 4\n",
      "3 5\n",
      "3 6\n",
      "3 7\n",
      "3 8\n",
      "3 9\n",
      "4 1\n",
      "4 2\n",
      "4 3\n",
      "4 4\n",
      "4 5\n",
      "4 6\n",
      "4 7\n",
      "4 8\n",
      "4 9\n",
      "5 1\n",
      "5 2\n",
      "5 3\n",
      "5 4\n",
      "5 5\n",
      "5 6\n",
      "5 7\n",
      "5 8\n",
      "5 9\n",
      "6 1\n",
      "6 2\n",
      "6 3\n",
      "6 4\n",
      "6 5\n",
      "6 6\n",
      "6 7\n",
      "6 8\n",
      "6 9\n",
      "7 1\n",
      "7 2\n",
      "7 3\n",
      "7 4\n",
      "7 5\n",
      "7 6\n",
      "7 7\n",
      "7 8\n",
      "7 9\n",
      "8 1\n",
      "8 2\n",
      "8 3\n",
      "8 4\n",
      "8 5\n",
      "8 6\n",
      "8 7\n",
      "8 8\n",
      "8 9\n",
      "9 1\n",
      "9 2\n",
      "9 3\n",
      "9 4\n",
      "9 5\n",
      "9 6\n",
      "9 7\n",
      "9 8\n",
      "9 9\n"
     ]
    }
   ],
   "source": [
    "# while loop inside for loop\n",
    "for i in range(1,10):\n",
    "    j = 1\n",
    "    while j < 10:\n",
    "        print(i, j)\n",
    "        j+=1"
   ]
  },
  {
   "cell_type": "code",
   "execution_count": 633,
   "metadata": {},
   "outputs": [
    {
     "name": "stdout",
     "output_type": "stream",
     "text": [
      "0\n",
      "1\n",
      "2\n"
     ]
    }
   ],
   "source": [
    "i = 0\n",
    "while i < 5:\n",
    "    print(i)\n",
    "    i += 1\n",
    "    if i == 3:\n",
    "        break\n",
    "else:\n",
    "    print(0)"
   ]
  },
  {
   "cell_type": "code",
   "execution_count": 634,
   "metadata": {},
   "outputs": [
    {
     "name": "stdout",
     "output_type": "stream",
     "text": [
      "This is iteration no.  1\n",
      "This is iteration no.  2\n",
      "This is iteration no.  3\n",
      "This is iteration no.  4\n",
      "This is iteration no.  6\n",
      "This is iteration no.  7\n"
     ]
    }
   ],
   "source": [
    "#continue, break, pass\n",
    "for i in range(1,11):\n",
    "\n",
    "  if i==1:\n",
    "    pass\n",
    "  if i==5:\n",
    "    continue\n",
    "  if i==8:\n",
    "    break\n",
    "  print (\"This is iteration no. \", i)"
   ]
  },
  {
   "cell_type": "markdown",
   "metadata": {},
   "source": [
    "# enumerate function"
   ]
  },
  {
   "cell_type": "code",
   "execution_count": 635,
   "metadata": {},
   "outputs": [
    {
     "name": "stdout",
     "output_type": "stream",
     "text": [
      "5\n",
      "56\n",
      "71\n",
      "89\n",
      "45\n",
      "We are learning pythin \n",
      "67\n",
      "90\n",
      "34\n",
      "78\n",
      "98\n"
     ]
    }
   ],
   "source": [
    "marks=[5,56,71,89,45,67,90,34,78,98]\n",
    "index=0\n",
    "for mark in marks:\n",
    "    if (index==5):\n",
    "        print(\"We are learning pythin \")\n",
    "    print(mark)\n",
    "    index +=1"
   ]
  },
  {
   "cell_type": "code",
   "execution_count": 636,
   "metadata": {},
   "outputs": [
    {
     "name": "stdout",
     "output_type": "stream",
     "text": [
      "5\n",
      "56\n",
      "71\n",
      "89\n",
      "45\n",
      "We are learning pythin \n",
      "67\n",
      "90\n",
      "34\n",
      "78\n",
      "98\n"
     ]
    }
   ],
   "source": [
    "# but we can do it with enumerate function more easily\n",
    "marks=[5,56,71,89,45,67,90,34,78,98]\n",
    "for index, mark in enumerate (marks):\n",
    "    if (index==5):\n",
    "        print(\"We are learning pythin \")\n",
    "    print(mark)\n"
   ]
  },
  {
   "cell_type": "code",
   "execution_count": 637,
   "metadata": {},
   "outputs": [
    {
     "name": "stdout",
     "output_type": "stream",
     "text": [
      "5\n",
      "56\n",
      "71\n",
      "89\n",
      "We are learning pythin \n",
      "45\n",
      "67\n",
      "90\n",
      "34\n",
      "78\n",
      "98\n"
     ]
    }
   ],
   "source": [
    "# but we can do it with enumerate function more easily\n",
    "marks=[5,56,71,89,45,67,90,34,78,98]\n",
    "for index, mark in enumerate (marks, start=1):\n",
    "    if (index==5):\n",
    "        print(\"We are learning pythin \")\n",
    "    print(mark)"
   ]
  },
  {
   "cell_type": "markdown",
   "metadata": {},
   "source": [
    "# Functions"
   ]
  },
  {
   "cell_type": "markdown",
   "metadata": {},
   "source": [
    "# def function\n",
    "In most programming languages, including Python, the def keyword is used to define a function. A function is a block of reusable code that performs a specific task or a set of tasks. Functions are a fundamental concept in programming as they allow you to organize code into modular and reusable units.\n"
   ]
  },
  {
   "cell_type": "markdown",
   "metadata": {},
   "source": [
    "# lambda function\n",
    "In Python, a lambda function is a concise way to create anonymous (unnamed) functions. Lambda functions are also known as anonymous functions or lambda expressions. They are defined using the lambda keyword and can take any number of parameters.\\\n",
    "It's important to note that while lambda functions are useful for certain situations, they are limited compared to named functions. Lambda functions are best suited for simple operations, and for more complex functionality, it is often more readable and maintainable to use a regular named function.\n"
   ]
  },
  {
   "cell_type": "code",
   "execution_count": 638,
   "metadata": {},
   "outputs": [
    {
     "name": "stdout",
     "output_type": "stream",
     "text": [
      "25\n"
     ]
    }
   ],
   "source": [
    "def square(number):\n",
    "    return number*number\n",
    "print(square(5))"
   ]
  },
  {
   "cell_type": "code",
   "execution_count": 639,
   "metadata": {},
   "outputs": [
    {
     "name": "stdout",
     "output_type": "stream",
     "text": [
      "5\n"
     ]
    }
   ],
   "source": [
    "def add(a,b):\n",
    "    return a+b\n",
    "print(add(2,3))"
   ]
  },
  {
   "cell_type": "code",
   "execution_count": 640,
   "metadata": {},
   "outputs": [
    {
     "name": "stdout",
     "output_type": "stream",
     "text": [
      "5040\n",
      "720\n",
      "120\n",
      "24\n"
     ]
    }
   ],
   "source": [
    "# Factorial\n",
    "print(7*6*5*4*3*2*1)\n",
    "print(6*5*4*3*2*1)\n",
    "print(5*4*3*2*1)\n",
    "# factorial of 0 is 1 by definition\n",
    "print(4*3*2*1)\n",
    "# so we can write that\n",
    "# factorial (n)=n*factorial(n-1)"
   ]
  },
  {
   "cell_type": "code",
   "execution_count": 641,
   "metadata": {},
   "outputs": [],
   "source": [
    "# Now we can make a function for factorial\n",
    "def factorial (n):\n",
    "    if n==0 or n==1:\n",
    "        return 1\n",
    "    else:\n",
    "        return n*factorial(n-1)"
   ]
  },
  {
   "cell_type": "code",
   "execution_count": 642,
   "metadata": {},
   "outputs": [
    {
     "data": {
      "text/plain": [
       "6"
      ]
     },
     "execution_count": 642,
     "metadata": {},
     "output_type": "execute_result"
    }
   ],
   "source": [
    "factorial(3)"
   ]
  },
  {
   "cell_type": "code",
   "execution_count": 643,
   "metadata": {},
   "outputs": [
    {
     "name": "stdout",
     "output_type": "stream",
     "text": [
      "125\n"
     ]
    }
   ],
   "source": [
    "\n",
    "# pass a function into a function\n",
    "def cube (number):\n",
    "    return number**3\n",
    "print(cube(5))\n",
    "# use this function in another function is given below"
   ]
  },
  {
   "cell_type": "code",
   "execution_count": 644,
   "metadata": {},
   "outputs": [
    {
     "name": "stdout",
     "output_type": "stream",
     "text": [
      "70\n"
     ]
    }
   ],
   "source": [
    "\n",
    "def apply(fx, value):\n",
    "    return 6+ fx(value)\n",
    "print (apply(cube, 4))"
   ]
  },
  {
   "cell_type": "markdown",
   "metadata": {},
   "source": [
    "# Lambda function"
   ]
  },
  {
   "cell_type": "code",
   "execution_count": 645,
   "metadata": {},
   "outputs": [
    {
     "name": "stdout",
     "output_type": "stream",
     "text": [
      "10\n",
      "14\n"
     ]
    }
   ],
   "source": [
    "def double(x):\n",
    "    return x*2\n",
    "print(double(5))\n",
    "print(double(7))"
   ]
  },
  {
   "cell_type": "code",
   "execution_count": 646,
   "metadata": {},
   "outputs": [
    {
     "name": "stdout",
     "output_type": "stream",
     "text": [
      "10\n"
     ]
    }
   ],
   "source": [
    "# We can write this function as\n",
    "double=lambda x: x*2\n",
    "print(double(5))"
   ]
  },
  {
   "cell_type": "code",
   "execution_count": 647,
   "metadata": {},
   "outputs": [
    {
     "name": "stdout",
     "output_type": "stream",
     "text": [
      "64\n"
     ]
    }
   ],
   "source": [
    "cube=lambda x: x**3\n",
    "print(cube(4))"
   ]
  },
  {
   "cell_type": "code",
   "execution_count": 648,
   "metadata": {},
   "outputs": [
    {
     "name": "stdout",
     "output_type": "stream",
     "text": [
      "5\n"
     ]
    }
   ],
   "source": [
    "# Lambda function\n",
    "x = lambda a,b:a+b\n",
    "print(x(2,3))"
   ]
  },
  {
   "cell_type": "code",
   "execution_count": 649,
   "metadata": {},
   "outputs": [
    {
     "name": "stdout",
     "output_type": "stream",
     "text": [
      "10\n"
     ]
    }
   ],
   "source": [
    "x=lambda a: a*5\n",
    "print(x(2))"
   ]
  },
  {
   "cell_type": "code",
   "execution_count": 650,
   "metadata": {},
   "outputs": [
    {
     "name": "stdout",
     "output_type": "stream",
     "text": [
      "9\n"
     ]
    }
   ],
   "source": [
    "x=lambda a,b,c: a+b+c\n",
    "print(x(2,3,4))"
   ]
  },
  {
   "cell_type": "code",
   "execution_count": 651,
   "metadata": {},
   "outputs": [],
   "source": [
    "# pip install openpyxl"
   ]
  },
  {
   "cell_type": "markdown",
   "metadata": {},
   "source": [
    "# Map function"
   ]
  },
  {
   "cell_type": "code",
   "execution_count": 652,
   "metadata": {},
   "outputs": [
    {
     "name": "stdout",
     "output_type": "stream",
     "text": [
      "1\n",
      "27\n",
      "64\n",
      "125\n",
      "512\n",
      "3375\n"
     ]
    }
   ],
   "source": [
    "def cube (x):\n",
    "    return x**3\n",
    "# Now we can use this function in map function\n",
    "l=[1,3,4,5,8,15]\n",
    "for i in l:\n",
    "    print(cube(i))"
   ]
  },
  {
   "cell_type": "code",
   "execution_count": null,
   "metadata": {},
   "outputs": [],
   "source": [
    "def square(x):\n",
    "    return x**2\n",
    "\n",
    "# A list of numbers\n",
    "numbers = [2, 4, 6, 8, 10]\n",
    "\n",
    "# Using map to apply the square function to each element\n",
    "squared_numbers = map(square, numbers)\n",
    "\n",
    "# Converting the map object to a list (avoiding the variable name 'list')\n",
    "squared_list = list(squared_numbers)\n",
    "\n",
    "print(squared_list)\n"
   ]
  },
  {
   "cell_type": "code",
   "execution_count": 655,
   "metadata": {},
   "outputs": [
    {
     "name": "stdout",
     "output_type": "stream",
     "text": [
      "125\n",
      "[1, 27, 64, 125, 512, 3375]\n",
      "[1, 27, 64, 125, 512, 3375]\n",
      "[1, 27, 64, 125, 512, 3375]\n",
      "[1, 27, 64, 125, 512, 3375]\n",
      "[1, 27, 64, 125, 512, 3375]\n",
      "[1, 27, 64, 125, 512, 3375]\n"
     ]
    }
   ],
   "source": [
    "def cube (x):\n",
    "    return x**3\n",
    "print(cube(5))\n",
    "# Now we can use this function in map function\n",
    "l=[1,3,4,5,8,15]\n",
    "list_empty=[]\n",
    "for i in l:\n",
    "    list_empty.append(cube(i))\n",
    "    print(list)"
   ]
  },
  {
   "cell_type": "markdown",
   "metadata": {},
   "source": [
    "# Classes and objects"
   ]
  },
  {
   "cell_type": "code",
   "execution_count": 656,
   "metadata": {},
   "outputs": [],
   "source": [
    "# Class is a blueprint for creating objects. An object has properties and methods(functions) associated with it. Almost everything in Python is an object, with its properties and methods. A Class is like an object constructor, or a \"blueprint\" for creating objects."
   ]
  },
  {
   "cell_type": "code",
   "execution_count": 657,
   "metadata": {},
   "outputs": [],
   "source": [
    "class person:\n",
    "    name=\"Adeel\"\n",
    "    Occupation=\"Lecturer\"\n",
    "    networth=\"1M PKR\"\n",
    "    "
   ]
  },
  {
   "cell_type": "code",
   "execution_count": 658,
   "metadata": {},
   "outputs": [
    {
     "name": "stdout",
     "output_type": "stream",
     "text": [
      "Adeel munir Data Scientist\n"
     ]
    }
   ],
   "source": [
    "a= person()\n",
    "a.name=\"Adeel munir\"\n",
    "a.Occupation=\"Data Scientist\"\n",
    "print (a.name, a.Occupation)"
   ]
  },
  {
   "cell_type": "code",
   "execution_count": 659,
   "metadata": {},
   "outputs": [],
   "source": [
    "class person:\n",
    "    name=\"Adeel\"\n",
    "    Occupation=\"Lecturer\"\n",
    "    networth=\"1M PKR\"\n",
    "    def info(self):\n",
    "        return f\"{self.name} is a {self.Occupation} and his networth is {self.networth}\""
   ]
  },
  {
   "cell_type": "code",
   "execution_count": 660,
   "metadata": {},
   "outputs": [
    {
     "data": {
      "text/plain": [
       "'Adeel is a Lecturer and his networth is 1M PKR'"
      ]
     },
     "execution_count": 660,
     "metadata": {},
     "output_type": "execute_result"
    }
   ],
   "source": [
    "a= person()\n",
    "a.info()"
   ]
  },
  {
   "cell_type": "code",
   "execution_count": 661,
   "metadata": {},
   "outputs": [
    {
     "data": {
      "text/plain": [
       "'Ali is a HR and his networth is 2M PKR'"
      ]
     },
     "execution_count": 661,
     "metadata": {},
     "output_type": "execute_result"
    }
   ],
   "source": [
    "a= person()\n",
    "b= person()\n",
    "b.name=\"Ali\"\n",
    "b.Occupation=\"HR\"\n",
    "b.networth=\"2M PKR\"\n",
    "b.info()"
   ]
  },
  {
   "cell_type": "markdown",
   "metadata": {},
   "source": [
    "# Constructor\n",
    "In summary, constructors make object creation more structured, clear, and error-free. They allow you to set up objects with the necessary initial values and provide consistency across your code"
   ]
  },
  {
   "cell_type": "code",
   "execution_count": 662,
   "metadata": {},
   "outputs": [
    {
     "name": "stdout",
     "output_type": "stream",
     "text": [
      "Car: 2021 Toyota Corolla\n"
     ]
    }
   ],
   "source": [
    "class Car:\n",
    "    # Constructor method to initialize attributes\n",
    "    def __init__(self, brand, model, year):\n",
    "        self.brand = brand  # 'self' refers to the instance of the object\n",
    "        self.model = model\n",
    "        self.year = year\n",
    "\n",
    "    # Method to display car details\n",
    "    def car_details(self):\n",
    "        print(f\"Car: {self.year} {self.brand} {self.model}\")\n",
    "\n",
    "# Creating an object of Car class\n",
    "my_car = Car(\"Toyota\", \"Corolla\", 2021)\n",
    "\n",
    "# Accessing the car's details\n",
    "my_car.car_details()\n",
    "\n"
   ]
  }
 ],
 "metadata": {
  "kernelspec": {
   "display_name": "base",
   "language": "python",
   "name": "python3"
  },
  "language_info": {
   "codemirror_mode": {
    "name": "ipython",
    "version": 3
   },
   "file_extension": ".py",
   "mimetype": "text/x-python",
   "name": "python",
   "nbconvert_exporter": "python",
   "pygments_lexer": "ipython3",
   "version": "3.11.5"
  }
 },
 "nbformat": 4,
 "nbformat_minor": 2
}
