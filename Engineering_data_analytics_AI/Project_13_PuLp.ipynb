{
 "cells": [
  {
   "cell_type": "code",
   "execution_count": null,
   "metadata": {},
   "outputs": [],
   "source": [
    "# pip install pulp"
   ]
  },
  {
   "cell_type": "code",
   "execution_count": 38,
   "metadata": {},
   "outputs": [
    {
     "data": {
      "text/plain": [
       "1"
      ]
     },
     "execution_count": 38,
     "metadata": {},
     "output_type": "execute_result"
    }
   ],
   "source": [
    "import pulp\n",
    "problem = pulp.LpProblem(\"Maximize Function\", pulp.LpMaximize)\n",
    "x = pulp.LpVariable('x', lowBound=0)\n",
    "y = pulp.LpVariable('y', lowBound=0)\n",
    "problem += 7 * x + 5 * y, \"Objective Function\"\n",
    "problem += 4 * x + 3*y <= 240, \"Constraint 1\"\n",
    "problem += 2 * x + y <= 100, \"Constraint 2\"\n",
    "problem.solve()"
   ]
  },
  {
   "cell_type": "code",
   "execution_count": 39,
   "metadata": {},
   "outputs": [
    {
     "name": "stdout",
     "output_type": "stream",
     "text": [
      "Status: Optimal\n",
      "Optimal value of x: 30.0\n",
      "Optimal value of y: 40.0\n",
      "Objective value: 410.0\n"
     ]
    }
   ],
   "source": [
    "print(\"Status:\", pulp.LpStatus[problem.status])\n",
    "print(\"Optimal value of x:\", x.varValue)\n",
    "print(\"Optimal value of y:\", y.varValue)\n",
    "print(\"Objective value:\", pulp.value(problem.objective))"
   ]
  },
  {
   "cell_type": "markdown",
   "metadata": {},
   "source": [
    "# A Product Mix Example"
   ]
  },
  {
   "cell_type": "code",
   "execution_count": 37,
   "metadata": {},
   "outputs": [
    {
     "name": "stdout",
     "output_type": "stream",
     "text": [
      "Status: Optimal\n",
      "Optimal value of x1: 175.55556\n",
      "Optimal value of x2: 57.777778\n",
      "Optimal value of x3: 500.0\n",
      "Optimal value of x4: 0.0\n",
      "Objective value: 45522.222649999996\n"
     ]
    },
    {
     "name": "stderr",
     "output_type": "stream",
     "text": [
      "c:\\Users\\adeel\\miniconda3\\Lib\\site-packages\\pulp\\pulp.py:1298: UserWarning: Spaces are not permitted in the name. Converted to '_'\n",
      "  warnings.warn(\"Spaces are not permitted in the name. Converted to '_'\")\n"
     ]
    }
   ],
   "source": [
    "problem = pulp.LpProblem(\"Maximize Function\", pulp.LpMaximize)\n",
    "x1 = pulp.LpVariable('x1', lowBound=0)  #\n",
    "x2 = pulp.LpVariable('x2', lowBound=0)\n",
    "x3 = pulp.LpVariable('x3', lowBound=0)\n",
    "x4 = pulp.LpVariable('x4', lowBound=0)\n",
    "\n",
    "\n",
    "problem += 90 * x1 + 125*x2+45*x3+65*x4, \"Objective Function\"\n",
    "\n",
    "problem += 0.10*x1 + 0.25*x2 + 0.08*x3 + 0.21*x4 <= 72, \"Constraint 1\"\n",
    "problem += 3*x1 + 3*x2 + x3 + x4 <= 1200, \"Constraint 2\"\n",
    "problem += 36*x1 + 48*x2 + 25*x3 + 35*x4 <= 25000, \"Constraint 3\"\n",
    "problem += x1 + x2  <= 500, \"Constraint 4\"\n",
    "problem += x3 + x4  <= 500, \"Constraint 5\"\n",
    "problem += x1 >= 0, \"Constraint 6\"\n",
    "problem += x2 >= 0, \"Constraint 7\"\n",
    "problem += x3 >= 0, \"Constraint 8\"\n",
    "problem += x4  >= 0, \"Constraint 9\"\n",
    "problem.solve()\n",
    "print(\"Status:\", pulp.LpStatus[problem.status])\n",
    "print(\"Optimal value of x1:\", x1.varValue)\n",
    "print(\"Optimal value of x2:\", x2.varValue)\n",
    "print(\"Optimal value of x3:\", x3.varValue)\n",
    "print(\"Optimal value of x4:\", x4.varValue)\n",
    "print(\"Objective value:\", pulp.value(problem.objective))"
   ]
  },
  {
   "cell_type": "markdown",
   "metadata": {},
   "source": [
    "# Diet example "
   ]
  },
  {
   "cell_type": "code",
   "execution_count": 64,
   "metadata": {},
   "outputs": [],
   "source": [
    "\n",
    "\n",
    "problem = pulp.LpProblem(\"Minimize Function\", pulp.LpMinimize)\n",
    "x1 = pulp.LpVariable('x1', lowBound=0)  #\n",
    "x2 = pulp.LpVariable('x2', lowBound=0)\n",
    "x3 = pulp.LpVariable('x3', lowBound=0)\n",
    "x4 = pulp.LpVariable('x4', lowBound=0)\n",
    "x5 = pulp.LpVariable('x5', lowBound=0)\n",
    "x6 = pulp.LpVariable('x6', lowBound=0)\n",
    "x7 = pulp.LpVariable('x7', lowBound=0)\n",
    "x8 = pulp.LpVariable('x8', lowBound=0)\n",
    "x9 = pulp.LpVariable('x9', lowBound=0)\n",
    "x10 = pulp.LpVariable('x10', lowBound=0)\n",
    "\n",
    "problem += 0.18*x1 + 0.22*x2 + 0.10*x3 + 0.12*x4 + 0.10*x5 + 0.09*x6 + 0.40*x7+ 0.16*x8 + 0.50*x9 + 0.07*x10, \"Objective Function\"\n",
    "\n",
    "\n",
    "\n",
    "\n"
   ]
  },
  {
   "cell_type": "code",
   "execution_count": 65,
   "metadata": {},
   "outputs": [],
   "source": [
    "problem += 90*x1+110*x2+100*x3+90*x4+75*x5+35*x6+65*x7+100*x8+120*x9+65*x10 >= 420, \"Constraint 1\"\n",
    "problem += 2*x2+2*x3+2*x4+5*x5+3*x6+4*x8+ x10 <= 20, \"Constraint 2\"\n",
    "problem += 270*x5+8*x6+12*x8 <= 30, \"Constraint 3\"\n",
    "problem += 6*x1+4*x2+2*x3+3*x4+x5+x7+x10 >= 5, \"Constraint 4\"\n",
    "\n",
    "problem += 20*x1+48*x2 +12*x3 + 8*x4 +30*x5 + 52*x7 + 250*x8 + 3*x9 +26*x10 >= 400, \"Constraint 5\"\n",
    "problem += 3*x1 +4*x2 +5*x3 + 6*x4 +7*x5 +2*x6 + x7 + 9*x8 + x9 + 3*x10 >=20, \"Constraint 6\"\n",
    "problem += 5*x1 +2*x2 +3*x3 +4*x4 +x7 +3*x10 >= 12, \"Constraint 7\""
   ]
  },
  {
   "cell_type": "code",
   "execution_count": 69,
   "metadata": {},
   "outputs": [],
   "source": [
    "\n",
    "    problem += x1 >= 0, f\"Constraint 8\"\n",
    "    problem += x2 >= 0, f\"Constraint 9\"\n",
    "    problem += x3 >= 0, f\"Constraint 10\"\n",
    "    problem += x4 >= 0, f\"Constraint 11\"\n",
    "    problem += x5 >= 0, f\"Constraint 12\"\n",
    "    problem += x6 >= 0, f\"Constraint 13\"\n",
    "    problem += x7 >= 0, f\"Constraint 14\"\n",
    "    problem += x8 >= 0, f\"Constraint 15\"\n",
    "    problem += x9 >= 0, f\"Constraint 16\"\n",
    "    problem += x10 >= 0, f\"Constraint 17\""
   ]
  },
  {
   "cell_type": "code",
   "execution_count": 70,
   "metadata": {},
   "outputs": [
    {
     "data": {
      "text/plain": [
       "1"
      ]
     },
     "execution_count": 70,
     "metadata": {},
     "output_type": "execute_result"
    }
   ],
   "source": [
    "problem.solve()"
   ]
  },
  {
   "cell_type": "code",
   "execution_count": 71,
   "metadata": {},
   "outputs": [
    {
     "name": "stdout",
     "output_type": "stream",
     "text": [
      "Status: Optimal\n",
      "Optimal value of x1: 0.0\n",
      "Optimal value of x2: 0.0\n",
      "Optimal value of x3: 1.0246305\n",
      "Optimal value of x4: 0.0\n",
      "Optimal value of x5: 0.0\n",
      "Optimal value of x6: 0.0\n",
      "Optimal value of x7: 0.0\n",
      "Optimal value of x8: 1.2413793\n",
      "Optimal value of x9: 0.0\n",
      "Optimal value of x10: 2.9753695\n",
      "Objective value: 0.509359603\n"
     ]
    }
   ],
   "source": [
    "print(\"Status:\", pulp.LpStatus[problem.status])\n",
    "print(\"Optimal value of x1:\", x1.varValue)\n",
    "print(\"Optimal value of x2:\", x2.varValue)\n",
    "print(\"Optimal value of x3:\", x3.varValue)\n",
    "print(\"Optimal value of x4:\", x4.varValue)\n",
    "print(\"Optimal value of x5:\", x5.varValue)\n",
    "print(\"Optimal value of x6:\", x6.varValue)\n",
    "print(\"Optimal value of x7:\", x7.varValue)\n",
    "print(\"Optimal value of x8:\", x8.varValue)\n",
    "print(\"Optimal value of x9:\", x9.varValue)\n",
    "print(\"Optimal value of x10:\", x10.varValue)\n",
    "print(\"Objective value:\", pulp.value(problem.objective))"
   ]
  },
  {
   "cell_type": "markdown",
   "metadata": {},
   "source": [
    "# Transporation example"
   ]
  },
  {
   "cell_type": "code",
   "execution_count": 2,
   "metadata": {},
   "outputs": [
    {
     "name": "stdout",
     "output_type": "stream",
     "text": [
      "Status: Optimal\n",
      "Ship 200 units from Cincinnati to Detroit\n",
      "Objective value: 7300.0\n",
      "Ship 200 units from Atlanta to Dallas\n",
      "Objective value: 7300.0\n",
      "Ship 150 units from Pittsburgh to New York\n",
      "Objective value: 7300.0\n",
      "Ship 50 units from Pittsburgh to Dallas\n",
      "Objective value: 7300.0\n"
     ]
    }
   ],
   "source": [
    "import pulp\n",
    "\n",
    "# Define problem and set objective to minimize cost\n",
    "prob = pulp.LpProblem(\"Minimize_Transportation_Cost\", pulp.LpMinimize)\n",
    "\n",
    "# Define data\n",
    "warehouses = [\"Cincinnati\", \"Atlanta\", \"Pittsburgh\"]\n",
    "stores = [\"New York\", \"Dallas\", \"Detroit\"]\n",
    "supply = [300, 200, 200]\n",
    "demand = [150, 250, 200]\n",
    "costs = [[16, 18, 11],\n",
    "         [14, 12, 13],\n",
    "         [13, 15, 17]]\n",
    "\n",
    "# Create decision variables\n",
    "x = {}\n",
    "for i in range(len(warehouses)):\n",
    "    for j in range(len(stores)):\n",
    "        x[i, j] = pulp.LpVariable(f\"x{i}{j}\", lowBound=0, cat='Integer')\n",
    "\n",
    "# Define objective function\n",
    "prob += pulp.lpSum([costs[i][j] * x[i, j] for i in range(len(warehouses)) for j in range(len(stores))])\n",
    "\n",
    "# Define supply constraints\n",
    "for i in range(len(warehouses)):\n",
    "    prob += pulp.lpSum([x[i, j] for j in range(len(stores))]) <= supply[i]\n",
    "\n",
    "# Define demand constraints\n",
    "for j in range(len(stores)):\n",
    "    prob += pulp.lpSum([x[i, j] for i in range(len(warehouses))]) == demand[j]\n",
    "\n",
    "# Solve the problem\n",
    "prob.solve()\n",
    "\n",
    "# Print the solution\n",
    "print(\"Status:\", pulp.LpStatus[prob.status])\n",
    "for i in range(len(warehouses)):\n",
    "    for j in range(len(stores)):\n",
    "        if x[i, j].varValue > 0:\n",
    "            print(f\"Ship {int(x[i, j].varValue)} units from {warehouses[i]} to {stores[j]}\")\n",
    "            print(\"Objective value:\", pulp.value(prob.objective))"
   ]
  },
  {
   "cell_type": "markdown",
   "metadata": {},
   "source": [
    "# Capacitated Plant (Facility) Location Problem"
   ]
  },
  {
   "cell_type": "code",
   "execution_count": 10,
   "metadata": {},
   "outputs": [],
   "source": [
    "import pulp\n",
    "from pulp import *"
   ]
  },
  {
   "cell_type": "code",
   "execution_count": 11,
   "metadata": {},
   "outputs": [],
   "source": [
    "# Lists (sets / Array) of Customers and Facilities\n",
    "Customer = [1,2,3,4,5]\n",
    "Facility = ['Fac-1', 'Fac-2', 'Fac-3']\n",
    "# Dictionaries of the demands and facilities as well as fixed cost at each facility\n",
    "Demand = {1 : 80, 2 : 270, 3 : 250, 4 : 160, 5 : 180}\n",
    "Max_Supply = {'Fac-1' : 500, 'Fac-2' : 500, 'Fac-3' : 500} \n",
    "fixed_cost = {'Fac-1' : 1000, 'Fac-2' : 1000, 'Fac-3' : 1000 }\n",
    "\n",
    "# Dictionary of the transportation cost from each facility to all the customers \n",
    "transportation_cost = {'Fac-1' : {1 : 4, 2 : 5, 3 : 6, 4 : 8, 5 : 10},\n",
    "                       'Fac-2' : {1 : 6, 2 : 4, 3 : 3, 4 : 5, 5 : 8},\n",
    "                       'Fac-3' : {1 : 9, 2 : 7, 3 : 4, 4 : 3, 5 : 4}\n",
    "                      }"
   ]
  },
  {
   "cell_type": "code",
   "execution_count": 13,
   "metadata": {},
   "outputs": [],
   "source": [
    "# Setting the Problem\n",
    "cflp = LpProblem(\"Capacitated_Facility_Location_Problem\", LpMinimize)"
   ]
  },
  {
   "cell_type": "code",
   "execution_count": 14,
   "metadata": {},
   "outputs": [],
   "source": [
    "# Defining our Desicion Variables\n",
    "use_facility = LpVariable.dicts(\"Use Facility\", Facility, 0, 1, LpBinary)\n",
    "ser_customer = LpVariable.dicts(\"Service\", [(i,j) for i in Customer for j in Facility], 0)"
   ]
  },
  {
   "cell_type": "code",
   "execution_count": 15,
   "metadata": {},
   "outputs": [],
   "source": [
    "# Setting the Objective Function\n",
    "cflp += (lpSum(fixed_cost[j]*use_facility[j] for j in Facility) + \n",
    "         lpSum(transportation_cost[j][i]*ser_customer[(i,j)] for j in Facility for i in Customer))"
   ]
  },
  {
   "cell_type": "code",
   "execution_count": 16,
   "metadata": {},
   "outputs": [],
   "source": [
    "# Costraints\n",
    "for i in Customer:\n",
    "    cflp += lpSum(ser_customer[(i,j)] for j in Facility) == Demand[i]\n",
    "\n",
    "for j in Facility:\n",
    "    cflp += lpSum(ser_customer[(i,j)] for i in Customer) <= Max_Supply[j]*use_facility[j]\n",
    "\n",
    "for i in Customer:\n",
    "    for j in Facility:\n",
    "        cflp += ser_customer[(i,j)] <= Demand[i]*use_facility[j]"
   ]
  },
  {
   "cell_type": "code",
   "execution_count": 17,
   "metadata": {},
   "outputs": [
    {
     "data": {
      "text/plain": [
       "1"
      ]
     },
     "execution_count": 17,
     "metadata": {},
     "output_type": "execute_result"
    }
   ],
   "source": [
    "cflp.solve()"
   ]
  },
  {
   "cell_type": "code",
   "execution_count": 18,
   "metadata": {},
   "outputs": [
    {
     "name": "stdout",
     "output_type": "stream",
     "text": [
      "Solution Status =  Optimal\n"
     ]
    }
   ],
   "source": [
    "print(\"Solution Status = \", LpStatus[cflp.status])"
   ]
  },
  {
   "cell_type": "code",
   "execution_count": 19,
   "metadata": {},
   "outputs": [
    {
     "name": "stdout",
     "output_type": "stream",
     "text": [
      "Estalish Facility at site =  Fac-2\n",
      "Estalish Facility at site =  Fac-3\n"
     ]
    }
   ],
   "source": [
    "# Print the solution of Binary Decision Variables\n",
    "Tolerance = 0.0001\n",
    "for j in Facility:\n",
    "    if use_facility[j].varValue > Tolerance:\n",
    "        print(\"Estalish Facility at site = \", j)"
   ]
  },
  {
   "cell_type": "code",
   "execution_count": 20,
   "metadata": {},
   "outputs": [
    {
     "name": "stdout",
     "output_type": "stream",
     "text": [
      "Service_(1,_'Fac_1') = 0.0\n",
      "Service_(1,_'Fac_2') = 80.0\n",
      "Service_(1,_'Fac_3') = 0.0\n",
      "Service_(2,_'Fac_1') = 0.0\n",
      "Service_(2,_'Fac_2') = 270.0\n",
      "Service_(2,_'Fac_3') = 0.0\n",
      "Service_(3,_'Fac_1') = 0.0\n",
      "Service_(3,_'Fac_2') = 150.0\n",
      "Service_(3,_'Fac_3') = 100.0\n",
      "Service_(4,_'Fac_1') = 0.0\n",
      "Service_(4,_'Fac_2') = 0.0\n",
      "Service_(4,_'Fac_3') = 160.0\n",
      "Service_(5,_'Fac_1') = 0.0\n",
      "Service_(5,_'Fac_2') = 0.0\n",
      "Service_(5,_'Fac_3') = 180.0\n",
      "Use_Facility_Fac_1 = 0.0\n",
      "Use_Facility_Fac_2 = 1.0\n",
      "Use_Facility_Fac_3 = 1.0\n"
     ]
    }
   ],
   "source": [
    "# Print the solution of the Decision Variables\n",
    "for v in cflp.variables():\n",
    "    print(v.name, \"=\", v.varValue)"
   ]
  },
  {
   "cell_type": "code",
   "execution_count": 21,
   "metadata": {},
   "outputs": [
    {
     "name": "stdout",
     "output_type": "stream",
     "text": [
      "Total Cost =  5610.0\n"
     ]
    }
   ],
   "source": [
    "# Print Optimal\n",
    "print(\"Total Cost = \", value(cflp.objective))"
   ]
  }
 ],
 "metadata": {
  "kernelspec": {
   "display_name": "base",
   "language": "python",
   "name": "python3"
  },
  "language_info": {
   "codemirror_mode": {
    "name": "ipython",
    "version": 3
   },
   "file_extension": ".py",
   "mimetype": "text/x-python",
   "name": "python",
   "nbconvert_exporter": "python",
   "pygments_lexer": "ipython3",
   "version": "3.11.5"
  }
 },
 "nbformat": 4,
 "nbformat_minor": 2
}
