{
 "cells": [
  {
   "cell_type": "code",
   "execution_count": null,
   "metadata": {},
   "outputs": [],
   "source": [
    "# pip install pulp"
   ]
  },
  {
   "cell_type": "code",
   "execution_count": 38,
   "metadata": {},
   "outputs": [
    {
     "data": {
      "text/plain": [
       "1"
      ]
     },
     "execution_count": 38,
     "metadata": {},
     "output_type": "execute_result"
    }
   ],
   "source": [
    "import pulp\n",
    "problem = pulp.LpProblem(\"Maximize Function\", pulp.LpMaximize)\n",
    "x = pulp.LpVariable('x', lowBound=0)\n",
    "y = pulp.LpVariable('y', lowBound=0)\n",
    "problem += 7 * x + 5 * y, \"Objective Function\"\n",
    "problem += 4 * x + 3*y <= 240, \"Constraint 1\"\n",
    "problem += 2 * x + y <= 100, \"Constraint 2\"\n",
    "problem.solve()"
   ]
  },
  {
   "cell_type": "code",
   "execution_count": 39,
   "metadata": {},
   "outputs": [
    {
     "name": "stdout",
     "output_type": "stream",
     "text": [
      "Status: Optimal\n",
      "Optimal value of x: 30.0\n",
      "Optimal value of y: 40.0\n",
      "Objective value: 410.0\n"
     ]
    }
   ],
   "source": [
    "print(\"Status:\", pulp.LpStatus[problem.status])\n",
    "print(\"Optimal value of x:\", x.varValue)\n",
    "print(\"Optimal value of y:\", y.varValue)\n",
    "print(\"Objective value:\", pulp.value(problem.objective))"
   ]
  },
  {
   "cell_type": "markdown",
   "metadata": {},
   "source": [
    "# A Product Mix Example"
   ]
  },
  {
   "cell_type": "code",
   "execution_count": 37,
   "metadata": {},
   "outputs": [
    {
     "name": "stdout",
     "output_type": "stream",
     "text": [
      "Status: Optimal\n",
      "Optimal value of x1: 175.55556\n",
      "Optimal value of x2: 57.777778\n",
      "Optimal value of x3: 500.0\n",
      "Optimal value of x4: 0.0\n",
      "Objective value: 45522.222649999996\n"
     ]
    },
    {
     "name": "stderr",
     "output_type": "stream",
     "text": [
      "c:\\Users\\adeel\\miniconda3\\Lib\\site-packages\\pulp\\pulp.py:1298: UserWarning: Spaces are not permitted in the name. Converted to '_'\n",
      "  warnings.warn(\"Spaces are not permitted in the name. Converted to '_'\")\n"
     ]
    }
   ],
   "source": [
    "problem = pulp.LpProblem(\"Maximize Function\", pulp.LpMaximize)\n",
    "x1 = pulp.LpVariable('x1', lowBound=0)  #\n",
    "x2 = pulp.LpVariable('x2', lowBound=0)\n",
    "x3 = pulp.LpVariable('x3', lowBound=0)\n",
    "x4 = pulp.LpVariable('x4', lowBound=0)\n",
    "\n",
    "\n",
    "problem += 90 * x1 + 125*x2+45*x3+65*x4, \"Objective Function\"\n",
    "\n",
    "problem += 0.10*x1 + 0.25*x2 + 0.08*x3 + 0.21*x4 <= 72, \"Constraint 1\"\n",
    "problem += 3*x1 + 3*x2 + x3 + x4 <= 1200, \"Constraint 2\"\n",
    "problem += 36*x1 + 48*x2 + 25*x3 + 35*x4 <= 25000, \"Constraint 3\"\n",
    "problem += x1 + x2  <= 500, \"Constraint 4\"\n",
    "problem += x3 + x4  <= 500, \"Constraint 5\"\n",
    "problem += x1 >= 0, \"Constraint 6\"\n",
    "problem += x2 >= 0, \"Constraint 7\"\n",
    "problem += x3 >= 0, \"Constraint 8\"\n",
    "problem += x4  >= 0, \"Constraint 9\"\n",
    "problem.solve()\n",
    "print(\"Status:\", pulp.LpStatus[problem.status])\n",
    "print(\"Optimal value of x1:\", x1.varValue)\n",
    "print(\"Optimal value of x2:\", x2.varValue)\n",
    "print(\"Optimal value of x3:\", x3.varValue)\n",
    "print(\"Optimal value of x4:\", x4.varValue)\n",
    "print(\"Objective value:\", pulp.value(problem.objective))"
   ]
  }
 ],
 "metadata": {
  "kernelspec": {
   "display_name": "base",
   "language": "python",
   "name": "python3"
  },
  "language_info": {
   "codemirror_mode": {
    "name": "ipython",
    "version": 3
   },
   "file_extension": ".py",
   "mimetype": "text/x-python",
   "name": "python",
   "nbconvert_exporter": "python",
   "pygments_lexer": "ipython3",
   "version": "3.11.5"
  }
 },
 "nbformat": 4,
 "nbformat_minor": 2
}
