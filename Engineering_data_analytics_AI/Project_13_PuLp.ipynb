{
 "cells": [
  {
   "cell_type": "code",
   "execution_count": null,
   "metadata": {},
   "outputs": [],
   "source": [
    "# pip install pulp"
   ]
  },
  {
   "cell_type": "code",
   "execution_count": 38,
   "metadata": {},
   "outputs": [
    {
     "data": {
      "text/plain": [
       "1"
      ]
     },
     "execution_count": 38,
     "metadata": {},
     "output_type": "execute_result"
    }
   ],
   "source": [
    "import pulp\n",
    "problem = pulp.LpProblem(\"Maximize Function\", pulp.LpMaximize)\n",
    "x = pulp.LpVariable('x', lowBound=0)\n",
    "y = pulp.LpVariable('y', lowBound=0)\n",
    "problem += 7 * x + 5 * y, \"Objective Function\"\n",
    "problem += 4 * x + 3*y <= 240, \"Constraint 1\"\n",
    "problem += 2 * x + y <= 100, \"Constraint 2\"\n",
    "problem.solve()"
   ]
  },
  {
   "cell_type": "code",
   "execution_count": 39,
   "metadata": {},
   "outputs": [
    {
     "name": "stdout",
     "output_type": "stream",
     "text": [
      "Status: Optimal\n",
      "Optimal value of x: 30.0\n",
      "Optimal value of y: 40.0\n",
      "Objective value: 410.0\n"
     ]
    }
   ],
   "source": [
    "print(\"Status:\", pulp.LpStatus[problem.status])\n",
    "print(\"Optimal value of x:\", x.varValue)\n",
    "print(\"Optimal value of y:\", y.varValue)\n",
    "print(\"Objective value:\", pulp.value(problem.objective))"
   ]
  },
  {
   "cell_type": "markdown",
   "metadata": {},
   "source": [
    "# A Product Mix Example"
   ]
  },
  {
   "cell_type": "code",
   "execution_count": 37,
   "metadata": {},
   "outputs": [
    {
     "name": "stdout",
     "output_type": "stream",
     "text": [
      "Status: Optimal\n",
      "Optimal value of x1: 175.55556\n",
      "Optimal value of x2: 57.777778\n",
      "Optimal value of x3: 500.0\n",
      "Optimal value of x4: 0.0\n",
      "Objective value: 45522.222649999996\n"
     ]
    },
    {
     "name": "stderr",
     "output_type": "stream",
     "text": [
      "c:\\Users\\adeel\\miniconda3\\Lib\\site-packages\\pulp\\pulp.py:1298: UserWarning: Spaces are not permitted in the name. Converted to '_'\n",
      "  warnings.warn(\"Spaces are not permitted in the name. Converted to '_'\")\n"
     ]
    }
   ],
   "source": [
    "problem = pulp.LpProblem(\"Maximize Function\", pulp.LpMaximize)\n",
    "x1 = pulp.LpVariable('x1', lowBound=0)  #\n",
    "x2 = pulp.LpVariable('x2', lowBound=0)\n",
    "x3 = pulp.LpVariable('x3', lowBound=0)\n",
    "x4 = pulp.LpVariable('x4', lowBound=0)\n",
    "\n",
    "\n",
    "problem += 90 * x1 + 125*x2+45*x3+65*x4, \"Objective Function\"\n",
    "\n",
    "problem += 0.10*x1 + 0.25*x2 + 0.08*x3 + 0.21*x4 <= 72, \"Constraint 1\"\n",
    "problem += 3*x1 + 3*x2 + x3 + x4 <= 1200, \"Constraint 2\"\n",
    "problem += 36*x1 + 48*x2 + 25*x3 + 35*x4 <= 25000, \"Constraint 3\"\n",
    "problem += x1 + x2  <= 500, \"Constraint 4\"\n",
    "problem += x3 + x4  <= 500, \"Constraint 5\"\n",
    "problem += x1 >= 0, \"Constraint 6\"\n",
    "problem += x2 >= 0, \"Constraint 7\"\n",
    "problem += x3 >= 0, \"Constraint 8\"\n",
    "problem += x4  >= 0, \"Constraint 9\"\n",
    "problem.solve()\n",
    "print(\"Status:\", pulp.LpStatus[problem.status])\n",
    "print(\"Optimal value of x1:\", x1.varValue)\n",
    "print(\"Optimal value of x2:\", x2.varValue)\n",
    "print(\"Optimal value of x3:\", x3.varValue)\n",
    "print(\"Optimal value of x4:\", x4.varValue)\n",
    "print(\"Objective value:\", pulp.value(problem.objective))"
   ]
  },
  {
   "cell_type": "markdown",
   "metadata": {},
   "source": [
    "# Diet example "
   ]
  },
  {
   "cell_type": "code",
   "execution_count": 64,
   "metadata": {},
   "outputs": [],
   "source": [
    "\n",
    "\n",
    "problem = pulp.LpProblem(\"Minimize Function\", pulp.LpMinimize)\n",
    "x1 = pulp.LpVariable('x1', lowBound=0)  #\n",
    "x2 = pulp.LpVariable('x2', lowBound=0)\n",
    "x3 = pulp.LpVariable('x3', lowBound=0)\n",
    "x4 = pulp.LpVariable('x4', lowBound=0)\n",
    "x5 = pulp.LpVariable('x5', lowBound=0)\n",
    "x6 = pulp.LpVariable('x6', lowBound=0)\n",
    "x7 = pulp.LpVariable('x7', lowBound=0)\n",
    "x8 = pulp.LpVariable('x8', lowBound=0)\n",
    "x9 = pulp.LpVariable('x9', lowBound=0)\n",
    "x10 = pulp.LpVariable('x10', lowBound=0)\n",
    "\n",
    "problem += 0.18*x1 + 0.22*x2 + 0.10*x3 + 0.12*x4 + 0.10*x5 + 0.09*x6 + 0.40*x7+ 0.16*x8 + 0.50*x9 + 0.07*x10, \"Objective Function\"\n",
    "\n",
    "\n",
    "\n",
    "\n"
   ]
  },
  {
   "cell_type": "code",
   "execution_count": 65,
   "metadata": {},
   "outputs": [],
   "source": [
    "problem += 90*x1+110*x2+100*x3+90*x4+75*x5+35*x6+65*x7+100*x8+120*x9+65*x10 >= 420, \"Constraint 1\"\n",
    "problem += 2*x2+2*x3+2*x4+5*x5+3*x6+4*x8+ x10 <= 20, \"Constraint 2\"\n",
    "problem += 270*x5+8*x6+12*x8 <= 30, \"Constraint 3\"\n",
    "problem += 6*x1+4*x2+2*x3+3*x4+x5+x7+x10 >= 5, \"Constraint 4\"\n",
    "\n",
    "problem += 20*x1+48*x2 +12*x3 + 8*x4 +30*x5 + 52*x7 + 250*x8 + 3*x9 +26*x10 >= 400, \"Constraint 5\"\n",
    "problem += 3*x1 +4*x2 +5*x3 + 6*x4 +7*x5 +2*x6 + x7 + 9*x8 + x9 + 3*x10 >=20, \"Constraint 6\"\n",
    "problem += 5*x1 +2*x2 +3*x3 +4*x4 +x7 +3*x10 >= 12, \"Constraint 7\""
   ]
  },
  {
   "cell_type": "code",
   "execution_count": 69,
   "metadata": {},
   "outputs": [],
   "source": [
    "\n",
    "    problem += x1 >= 0, f\"Constraint 8\"\n",
    "    problem += x2 >= 0, f\"Constraint 9\"\n",
    "    problem += x3 >= 0, f\"Constraint 10\"\n",
    "    problem += x4 >= 0, f\"Constraint 11\"\n",
    "    problem += x5 >= 0, f\"Constraint 12\"\n",
    "    problem += x6 >= 0, f\"Constraint 13\"\n",
    "    problem += x7 >= 0, f\"Constraint 14\"\n",
    "    problem += x8 >= 0, f\"Constraint 15\"\n",
    "    problem += x9 >= 0, f\"Constraint 16\"\n",
    "    problem += x10 >= 0, f\"Constraint 17\""
   ]
  },
  {
   "cell_type": "code",
   "execution_count": 70,
   "metadata": {},
   "outputs": [
    {
     "data": {
      "text/plain": [
       "1"
      ]
     },
     "execution_count": 70,
     "metadata": {},
     "output_type": "execute_result"
    }
   ],
   "source": [
    "problem.solve()"
   ]
  },
  {
   "cell_type": "code",
   "execution_count": 71,
   "metadata": {},
   "outputs": [
    {
     "name": "stdout",
     "output_type": "stream",
     "text": [
      "Status: Optimal\n",
      "Optimal value of x1: 0.0\n",
      "Optimal value of x2: 0.0\n",
      "Optimal value of x3: 1.0246305\n",
      "Optimal value of x4: 0.0\n",
      "Optimal value of x5: 0.0\n",
      "Optimal value of x6: 0.0\n",
      "Optimal value of x7: 0.0\n",
      "Optimal value of x8: 1.2413793\n",
      "Optimal value of x9: 0.0\n",
      "Optimal value of x10: 2.9753695\n",
      "Objective value: 0.509359603\n"
     ]
    }
   ],
   "source": [
    "print(\"Status:\", pulp.LpStatus[problem.status])\n",
    "print(\"Optimal value of x1:\", x1.varValue)\n",
    "print(\"Optimal value of x2:\", x2.varValue)\n",
    "print(\"Optimal value of x3:\", x3.varValue)\n",
    "print(\"Optimal value of x4:\", x4.varValue)\n",
    "print(\"Optimal value of x5:\", x5.varValue)\n",
    "print(\"Optimal value of x6:\", x6.varValue)\n",
    "print(\"Optimal value of x7:\", x7.varValue)\n",
    "print(\"Optimal value of x8:\", x8.varValue)\n",
    "print(\"Optimal value of x9:\", x9.varValue)\n",
    "print(\"Optimal value of x10:\", x10.varValue)\n",
    "print(\"Objective value:\", pulp.value(problem.objective))"
   ]
  }
 ],
 "metadata": {
  "kernelspec": {
   "display_name": "base",
   "language": "python",
   "name": "python3"
  },
  "language_info": {
   "codemirror_mode": {
    "name": "ipython",
    "version": 3
   },
   "file_extension": ".py",
   "mimetype": "text/x-python",
   "name": "python",
   "nbconvert_exporter": "python",
   "pygments_lexer": "ipython3",
   "version": "3.11.5"
  }
 },
 "nbformat": 4,
 "nbformat_minor": 2
}
