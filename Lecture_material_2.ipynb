{
 "cells": [
  {
   "cell_type": "code",
   "execution_count": null,
   "metadata": {},
   "outputs": [],
   "source": [
    "# import libraries\n",
    "import pandas as pd\n",
    "import numpy as np\n",
    "import matplotlib.pyplot as plt\n",
    "import seaborn as sns\n",
    "import plotly.express as px"
   ]
  },
  {
   "cell_type": "code",
   "execution_count": null,
   "metadata": {},
   "outputs": [],
   "source": [
    "# import dataset\n",
    "df1 = sns.load_dataset('titanic')\n",
    "# check the head of the dataset\n",
    "df1.head()"
   ]
  },
  {
   "cell_type": "code",
   "execution_count": null,
   "metadata": {},
   "outputs": [],
   "source": [
    "df1.rename(columns={'sex': 'gender'}, inplace=True)"
   ]
  },
  {
   "cell_type": "code",
   "execution_count": null,
   "metadata": {},
   "outputs": [],
   "source": [
    "df1.head()"
   ]
  },
  {
   "cell_type": "code",
   "execution_count": null,
   "metadata": {},
   "outputs": [],
   "source": [
    "#%pip install nbformat"
   ]
  },
  {
   "cell_type": "code",
   "execution_count": null,
   "metadata": {},
   "outputs": [],
   "source": [
    "# scatter plot\n",
    "df1.dropna(inplace=True)\n",
    "%pip install nbformat\n",
    "fig = px.scatter(df, x=\"age\", y= \"fare\")\n",
    "fig.show()\n",
    "# Save the plot as a PNG image with 300 DPI resolution\n",
    "\n",
    "#fig.write_image('scatterplot.png', format='png', width=800, height=600, scale=3)"
   ]
  },
  {
   "cell_type": "code",
   "execution_count": null,
   "metadata": {},
   "outputs": [],
   "source": [
    "# scatter plot\n",
    "df1.dropna(inplace=True)\n",
    "fig = px.scatter(df, x=\"age\", y=\"fare\", color=\"gender\", size='fare', title=\"Plot of Titanic Dataset\")\n",
    "fig.show()\n"
   ]
  },
  {
   "cell_type": "code",
   "execution_count": null,
   "metadata": {},
   "outputs": [],
   "source": [
    "# customize the plot\n",
    "\n",
    "fig.update_layout(\n",
    "    title = \"Line Plot of dummy data\",\n",
    "    xaxis = dict(title=\"Numbers\"),\n",
    "    yaxis = dict(title=\"Values\"),\n",
    "    showlegend = True,\n",
    ")\n",
    "fig.show()"
   ]
  },
  {
   "cell_type": "code",
   "execution_count": null,
   "metadata": {},
   "outputs": [],
   "source": [
    "# Import dataset\n",
    "df = sns.load_dataset('iris')\n",
    "df.head()"
   ]
  },
  {
   "cell_type": "code",
   "execution_count": null,
   "metadata": {},
   "outputs": [],
   "source": [
    "# Line plot\n",
    "df_line = df.sort_values(by=['sepal_length'])\n",
    "\n",
    "fig2 = px.line(df_line, x='sepal_length' , y='sepal_width', color=\"species\")\n",
    "fig2.show()"
   ]
  },
  {
   "cell_type": "code",
   "execution_count": null,
   "metadata": {},
   "outputs": [],
   "source": [
    "#Scatter plot\n",
    "fig1 = px.scatter(df, x='sepal_length' , y='sepal_width', color=\"species\")\n",
    "fig1.show()"
   ]
  },
  {
   "cell_type": "code",
   "execution_count": null,
   "metadata": {},
   "outputs": [],
   "source": [
    "# group values based on means\n",
    "df_bar = df.groupby(['species']).mean().reset_index()\n",
    "df_bar.head()\n",
    "fig3 = px.bar(df_bar, x='species' , y='sepal_width')\n",
    "fig3.show()"
   ]
  },
  {
   "cell_type": "code",
   "execution_count": null,
   "metadata": {},
   "outputs": [],
   "source": [
    "# Box plot\n",
    "\n",
    "fig4 = px.box(df, x='species' , y='sepal_width', color = 'species')\n",
    "fig4.show()"
   ]
  },
  {
   "cell_type": "code",
   "execution_count": null,
   "metadata": {},
   "outputs": [],
   "source": [
    "# violon plot\n",
    "\n",
    "fig5 = px.violin(df, x='species' , y='sepal_width', color = 'species', box=True)\n",
    "fig5.show()"
   ]
  },
  {
   "cell_type": "code",
   "execution_count": null,
   "metadata": {},
   "outputs": [],
   "source": [
    "#6 histogram\n",
    "\n",
    "fig6 = px.histogram(df, x='sepal_width',color = 'species')\n",
    "fig6.show()"
   ]
  },
  {
   "cell_type": "code",
   "execution_count": null,
   "metadata": {},
   "outputs": [],
   "source": [
    "# Pie chart\n",
    "#first we have to check the dataset\n",
    "df['species'].value_counts()\n",
    "# piechart\n",
    "df_pie = df['species'].value_counts().reset_index()\n",
    "df_pie.columns = ['species', 'count']\n",
    "fig7 = px.pie(df_pie, values='count', names='species')\n",
    "fig7.show()"
   ]
  },
  {
   "cell_type": "code",
   "execution_count": null,
   "metadata": {},
   "outputs": [],
   "source": [
    "# scatter 3d plot\n",
    "fig8 = px.scatter_3d(df, x='sepal_length', y='sepal_width', z='petal_width', color='species')\n",
    "fig8.show()"
   ]
  },
  {
   "cell_type": "code",
   "execution_count": null,
   "metadata": {},
   "outputs": [],
   "source": [
    "# area chart\n",
    "df_area = df.sort_values(by=['sepal_length'])\n",
    "\n",
    "fig9 = px.area(df_area, x='sepal_width', y='sepal_length', color='species')\n",
    "fig9.show()"
   ]
  },
  {
   "cell_type": "code",
   "execution_count": null,
   "metadata": {},
   "outputs": [],
   "source": [
    "# bubble chart\n",
    "\n",
    "fig10 = px.scatter(df, x='sepal_length', y='sepal_width', size='petal_length', color='species')\n",
    "fig10.show()"
   ]
  },
  {
   "cell_type": "code",
   "execution_count": null,
   "metadata": {},
   "outputs": [],
   "source": [
    "df1.head()"
   ]
  },
  {
   "cell_type": "code",
   "execution_count": null,
   "metadata": {},
   "outputs": [],
   "source": [
    "# create sunburst plot on titanic dataset\n",
    "import plotly.express as px\n",
    "import seaborn as sns\n",
    "# Load Titanic dataset\n",
    "\n",
    "# Create a sunburst plot\n",
    "fig = px.sunburst(df1, \n",
    "                  path=['gender','class', 'who', 'alive', 'alone'], \n",
    "                  values='survived' , color='gender')\n",
    "# Show the plot\n",
    "fig.show()"
   ]
  },
  {
   "cell_type": "code",
   "execution_count": null,
   "metadata": {},
   "outputs": [],
   "source": [
    "tips = sns.load_dataset('tips')\n",
    "tips.head()\n",
    "import plotly.express as px\n",
    "import seaborn as sns\n",
    "fig = px.sunburst(tips, \n",
    "                  path=['sex','smoker', 'day', 'time'], \n",
    "                  values='tip' , color='sex',\n",
    "                  hover_data=['tip', 'day', 'time'])\n",
    "# how can we add more values when we hover the pointer on the plot?\n",
    "# Show the plot\n",
    "fig.show()"
   ]
  },
  {
   "cell_type": "markdown",
   "metadata": {},
   "source": [
    "# Animated graphs"
   ]
  },
  {
   "cell_type": "code",
   "execution_count": null,
   "metadata": {},
   "outputs": [],
   "source": [
    "# 2 import Dataset\n",
    "gap = px.data.gapminder()\n",
    "\n",
    "# explore the data\n",
    "gap.head()"
   ]
  },
  {
   "cell_type": "code",
   "execution_count": null,
   "metadata": {},
   "outputs": [],
   "source": [
    "fig = px.sunburst(gap, \n",
    "                  path=['continent','country', 'year'], \n",
    "                  values='pop' , color='continent')\n",
    "# how can we add more values when we hover the pointer on the plot?\n",
    "# Show the plot\n",
    "fig.show()"
   ]
  },
  {
   "cell_type": "code",
   "execution_count": null,
   "metadata": {},
   "outputs": [],
   "source": [
    "# animated plot\n",
    "px.scatter(gap, x= \"gdpPercap\",\n",
    "            y = \"lifeExp\",\n",
    "            size= \"pop\", color= \"continent\",\n",
    "            animation_frame='year', animation_group=\"country\",\n",
    "            log_x=True, size_max=50, range_x=[100,100000], range_y=[5,100])"
   ]
  },
  {
   "cell_type": "code",
   "execution_count": null,
   "metadata": {},
   "outputs": [],
   "source": [
    "# animated plot\n",
    "px.scatter(gap, x= \"gdpPercap\",\n",
    "            y = \"lifeExp\",\n",
    "            size= \"pop\", color= \"country\",\n",
    "            animation_frame='year', animation_group=\"continent\",\n",
    "            log_x=True, size_max=55, range_x=[100,100000], range_y=[5,100])"
   ]
  }
 ],
 "metadata": {
  "kernelspec": {
   "display_name": "Python 3",
   "language": "python",
   "name": "python3"
  },
  "language_info": {
   "codemirror_mode": {
    "name": "ipython",
    "version": 3
   },
   "file_extension": ".py",
   "mimetype": "text/x-python",
   "name": "python",
   "nbconvert_exporter": "python",
   "pygments_lexer": "ipython3",
   "version": "3.12.1"
  }
 },
 "nbformat": 4,
 "nbformat_minor": 2
}
