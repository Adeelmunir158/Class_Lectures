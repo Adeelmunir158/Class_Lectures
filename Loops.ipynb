{
 "cells": [
  {
   "cell_type": "code",
   "execution_count": 1,
   "metadata": {},
   "outputs": [
    {
     "name": "stdout",
     "output_type": "stream",
     "text": [
      "bacon\n",
      "tuna\n",
      "ham\n",
      "sausages\n",
      "beef\n",
      "eggs\n",
      "chicken\n"
     ]
    }
   ],
   "source": [
    "# for loops\n",
    "foods=['bacon','tuna','ham','sausages','beef','eggs','chicken']\n",
    "for food in foods:\n",
    "    print(food)\n",
    "    "
   ]
  },
  {
   "cell_type": "code",
   "execution_count": 2,
   "metadata": {},
   "outputs": [
    {
     "name": "stdout",
     "output_type": "stream",
     "text": [
      "1\n",
      "2\n",
      "3\n",
      "4\n",
      "5\n",
      "6\n",
      "7\n",
      "8\n",
      "9\n",
      "10\n",
      "11\n",
      "12\n",
      "13\n",
      "14\n",
      "15\n",
      "16\n",
      "17\n",
      "18\n",
      "19\n",
      "20\n"
     ]
    }
   ],
   "source": [
    "# While loop\n",
    "i=1\n",
    "while i<=20:\n",
    "    print(i)\n",
    "    i+=1"
   ]
  },
  {
   "cell_type": "code",
   "execution_count": 5,
   "metadata": {},
   "outputs": [],
   "source": [
    "for letters in \"python\":\n",
    "    break \n",
    "    if letters==\"h\":\n",
    "        print(letters)"
   ]
  },
  {
   "cell_type": "code",
   "execution_count": 2,
   "metadata": {},
   "outputs": [
    {
     "name": "stdout",
     "output_type": "stream",
     "text": [
      "red shirt\n",
      "red hat\n",
      "red socks\n",
      "red pants\n",
      "red jacket\n",
      "red shorts\n",
      "green shirt\n",
      "green hat\n",
      "green socks\n",
      "green pants\n",
      "green jacket\n",
      "green shorts\n",
      "blue shirt\n",
      "blue hat\n",
      "blue socks\n",
      "blue pants\n",
      "blue jacket\n",
      "blue shorts\n",
      "yellow shirt\n",
      "yellow hat\n",
      "yellow socks\n",
      "yellow pants\n",
      "yellow jacket\n",
      "yellow shorts\n",
      "orange shirt\n",
      "orange hat\n",
      "orange socks\n",
      "orange pants\n",
      "orange jacket\n",
      "orange shorts\n",
      "purple shirt\n",
      "purple hat\n",
      "purple socks\n",
      "purple pants\n",
      "purple jacket\n",
      "purple shorts\n"
     ]
    }
   ],
   "source": [
    "# for nested loops\n",
    "colors=[\"red\",\"green\",\"blue\",\"yellow\",\"orange\",\"purple\"]\n",
    "items=[\"shirt\",\"hat\",\"socks\",\"pants\",\"jacket\",\"shorts\"]\n",
    "for color in colors:\n",
    "    for item in items:\n",
    "        print(color,item)"
   ]
  },
  {
   "cell_type": "code",
   "execution_count": 18,
   "metadata": {},
   "outputs": [
    {
     "name": "stdout",
     "output_type": "stream",
     "text": [
      "20\n",
      "30\n",
      "40\n",
      "50\n",
      "60\n",
      "70\n",
      "80\n",
      "90\n",
      "100\n"
     ]
    }
   ],
   "source": [
    "i = 0\n",
    "while i < 10:\n",
    "    i+=1\n",
    "j = 1\n",
    "while j < 10:\n",
    "    j+=1\n",
    "    print(i*j)"
   ]
  },
  {
   "cell_type": "code",
   "execution_count": 19,
   "metadata": {},
   "outputs": [
    {
     "name": "stdout",
     "output_type": "stream",
     "text": [
      "1 1\n",
      "1 2\n",
      "1 3\n",
      "1 4\n",
      "1 5\n",
      "1 6\n",
      "1 7\n",
      "1 8\n",
      "1 9\n",
      "2 1\n",
      "2 2\n",
      "2 3\n",
      "2 4\n",
      "2 5\n",
      "2 6\n",
      "2 7\n",
      "2 8\n",
      "2 9\n",
      "3 1\n",
      "3 2\n",
      "3 3\n",
      "3 4\n",
      "3 5\n",
      "3 6\n",
      "3 7\n",
      "3 8\n",
      "3 9\n",
      "4 1\n",
      "4 2\n",
      "4 3\n",
      "4 4\n",
      "4 5\n",
      "4 6\n",
      "4 7\n",
      "4 8\n",
      "4 9\n",
      "5 1\n",
      "5 2\n",
      "5 3\n",
      "5 4\n",
      "5 5\n",
      "5 6\n",
      "5 7\n",
      "5 8\n",
      "5 9\n",
      "6 1\n",
      "6 2\n",
      "6 3\n",
      "6 4\n",
      "6 5\n",
      "6 6\n",
      "6 7\n",
      "6 8\n",
      "6 9\n",
      "7 1\n",
      "7 2\n",
      "7 3\n",
      "7 4\n",
      "7 5\n",
      "7 6\n",
      "7 7\n",
      "7 8\n",
      "7 9\n",
      "8 1\n",
      "8 2\n",
      "8 3\n",
      "8 4\n",
      "8 5\n",
      "8 6\n",
      "8 7\n",
      "8 8\n",
      "8 9\n",
      "9 1\n",
      "9 2\n",
      "9 3\n",
      "9 4\n",
      "9 5\n",
      "9 6\n",
      "9 7\n",
      "9 8\n",
      "9 9\n"
     ]
    }
   ],
   "source": [
    "# for loop inside while loop\n",
    "i = 1\n",
    "while i < 10:\n",
    "    for j in range(1,10):\n",
    "        print(i, j)\n",
    "    i+=1"
   ]
  },
  {
   "cell_type": "code",
   "execution_count": 20,
   "metadata": {},
   "outputs": [
    {
     "name": "stdout",
     "output_type": "stream",
     "text": [
      "1 1\n",
      "1 2\n",
      "1 3\n",
      "1 4\n",
      "1 5\n",
      "1 6\n",
      "1 7\n",
      "1 8\n",
      "1 9\n",
      "2 1\n",
      "2 2\n",
      "2 3\n",
      "2 4\n",
      "2 5\n",
      "2 6\n",
      "2 7\n",
      "2 8\n",
      "2 9\n",
      "3 1\n",
      "3 2\n",
      "3 3\n",
      "3 4\n",
      "3 5\n",
      "3 6\n",
      "3 7\n",
      "3 8\n",
      "3 9\n",
      "4 1\n",
      "4 2\n",
      "4 3\n",
      "4 4\n",
      "4 5\n",
      "4 6\n",
      "4 7\n",
      "4 8\n",
      "4 9\n",
      "5 1\n",
      "5 2\n",
      "5 3\n",
      "5 4\n",
      "5 5\n",
      "5 6\n",
      "5 7\n",
      "5 8\n",
      "5 9\n",
      "6 1\n",
      "6 2\n",
      "6 3\n",
      "6 4\n",
      "6 5\n",
      "6 6\n",
      "6 7\n",
      "6 8\n",
      "6 9\n",
      "7 1\n",
      "7 2\n",
      "7 3\n",
      "7 4\n",
      "7 5\n",
      "7 6\n",
      "7 7\n",
      "7 8\n",
      "7 9\n",
      "8 1\n",
      "8 2\n",
      "8 3\n",
      "8 4\n",
      "8 5\n",
      "8 6\n",
      "8 7\n",
      "8 8\n",
      "8 9\n",
      "9 1\n",
      "9 2\n",
      "9 3\n",
      "9 4\n",
      "9 5\n",
      "9 6\n",
      "9 7\n",
      "9 8\n",
      "9 9\n"
     ]
    }
   ],
   "source": [
    "# while loop inside for loop\n",
    "for i in range(1,10):\n",
    "    j = 1\n",
    "    while j < 10:\n",
    "        print(i, j)\n",
    "        j+=1"
   ]
  },
  {
   "cell_type": "code",
   "execution_count": 21,
   "metadata": {},
   "outputs": [
    {
     "name": "stdout",
     "output_type": "stream",
     "text": [
      "Hello World\n"
     ]
    }
   ],
   "source": [
    "# Functions\n",
    "def aoa():\n",
    "    print(\"Hello World\")\n",
    "aoa()"
   ]
  },
  {
   "cell_type": "code",
   "execution_count": 24,
   "metadata": {},
   "outputs": [
    {
     "name": "stdout",
     "output_type": "stream",
     "text": [
      "Hello Adeel\n"
     ]
    }
   ],
   "source": [
    "def aoa(name):\n",
    "    print(\"Hello \" + name)  \n",
    "aoa(\"Adeel\")"
   ]
  },
  {
   "cell_type": "code",
   "execution_count": 25,
   "metadata": {},
   "outputs": [
    {
     "name": "stdout",
     "output_type": "stream",
     "text": [
      "25\n"
     ]
    }
   ],
   "source": [
    "def square(number):\n",
    "    return number*number\n",
    "print(square(5))"
   ]
  },
  {
   "cell_type": "code",
   "execution_count": 23,
   "metadata": {},
   "outputs": [
    {
     "name": "stdout",
     "output_type": "stream",
     "text": [
      "5\n"
     ]
    }
   ],
   "source": [
    "def add(a,b):\n",
    "    return a+b\n",
    "print(add(2,3))"
   ]
  },
  {
   "cell_type": "code",
   "execution_count": 26,
   "metadata": {},
   "outputs": [
    {
     "name": "stdout",
     "output_type": "stream",
     "text": [
      "5\n"
     ]
    }
   ],
   "source": [
    "# Lambda function\n",
    "x = lambda a,b:a+b\n",
    "print(x(2,3))"
   ]
  },
  {
   "cell_type": "code",
   "execution_count": 27,
   "metadata": {},
   "outputs": [
    {
     "name": "stdout",
     "output_type": "stream",
     "text": [
      "10\n"
     ]
    }
   ],
   "source": [
    "x=lambda a: a*5\n",
    "print(x(2))"
   ]
  },
  {
   "cell_type": "code",
   "execution_count": 28,
   "metadata": {},
   "outputs": [
    {
     "name": "stdout",
     "output_type": "stream",
     "text": [
      "9\n"
     ]
    }
   ],
   "source": [
    "x=lambda a,b,c: a+b+c\n",
    "print(x(2,3,4))"
   ]
  },
  {
   "cell_type": "code",
   "execution_count": 29,
   "metadata": {},
   "outputs": [
    {
     "name": "stdout",
     "output_type": "stream",
     "text": [
      "Collecting openpyxl\n",
      "  Downloading openpyxl-3.1.2-py2.py3-none-any.whl (249 kB)\n",
      "     ---------------------------------------- 0.0/250.0 kB ? eta -:--:--\n",
      "     ---------------------------------------- 0.0/250.0 kB ? eta -:--:--\n",
      "     - -------------------------------------- 10.2/250.0 kB ? eta -:--:--\n",
      "     ---- -------------------------------- 30.7/250.0 kB 187.9 kB/s eta 0:00:02\n",
      "     ---- -------------------------------- 30.7/250.0 kB 187.9 kB/s eta 0:00:02\n",
      "     ------ ------------------------------ 41.0/250.0 kB 140.3 kB/s eta 0:00:02\n",
      "     ------------ ------------------------ 81.9/250.0 kB 270.5 kB/s eta 0:00:01\n",
      "     ------------- ----------------------- 92.2/250.0 kB 291.5 kB/s eta 0:00:01\n",
      "     ------------- ----------------------- 92.2/250.0 kB 291.5 kB/s eta 0:00:01\n",
      "     ------------- ----------------------- 92.2/250.0 kB 291.5 kB/s eta 0:00:01\n",
      "     ------------- ----------------------- 92.2/250.0 kB 291.5 kB/s eta 0:00:01\n",
      "     ------------- ----------------------- 92.2/250.0 kB 291.5 kB/s eta 0:00:01\n",
      "     ---------------- ------------------- 112.6/250.0 kB 192.8 kB/s eta 0:00:01\n",
      "     ---------------- ------------------- 112.6/250.0 kB 192.8 kB/s eta 0:00:01\n",
      "     ---------------- ------------------- 112.6/250.0 kB 192.8 kB/s eta 0:00:01\n",
      "     ----------------- ------------------ 122.9/250.0 kB 160.2 kB/s eta 0:00:01\n",
      "     -------------------- --------------- 143.4/250.0 kB 177.5 kB/s eta 0:00:01\n",
      "     ------------------------- ---------- 174.1/250.0 kB 201.8 kB/s eta 0:00:01\n",
      "     ---------------------------- ------- 194.6/250.0 kB 214.6 kB/s eta 0:00:01\n",
      "     ----------------------------- ------ 204.8/250.0 kB 218.6 kB/s eta 0:00:01\n",
      "     -----------------------------------  245.8/250.0 kB 247.1 kB/s eta 0:00:01\n",
      "     ------------------------------------ 250.0/250.0 kB 243.6 kB/s eta 0:00:00\n",
      "Collecting et-xmlfile (from openpyxl)\n",
      "  Downloading et_xmlfile-1.1.0-py3-none-any.whl (4.7 kB)\n",
      "Installing collected packages: et-xmlfile, openpyxl\n",
      "Successfully installed et-xmlfile-1.1.0 openpyxl-3.1.2\n",
      "Note: you may need to restart the kernel to use updated packages.\n"
     ]
    },
    {
     "name": "stderr",
     "output_type": "stream",
     "text": [
      "\n",
      "[notice] A new release of pip is available: 23.2.1 -> 23.3.1\n",
      "[notice] To update, run: python.exe -m pip install --upgrade pip\n"
     ]
    }
   ],
   "source": [
    "pip install openpyxl"
   ]
  }
 ],
 "metadata": {
  "kernelspec": {
   "display_name": "Python 3",
   "language": "python",
   "name": "python3"
  },
  "language_info": {
   "codemirror_mode": {
    "name": "ipython",
    "version": 3
   },
   "file_extension": ".py",
   "mimetype": "text/x-python",
   "name": "python",
   "nbconvert_exporter": "python",
   "pygments_lexer": "ipython3",
   "version": "3.11.5"
  }
 },
 "nbformat": 4,
 "nbformat_minor": 2
}
